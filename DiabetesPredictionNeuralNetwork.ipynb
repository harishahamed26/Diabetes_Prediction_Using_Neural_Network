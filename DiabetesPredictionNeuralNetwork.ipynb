{
  "nbformat": 4,
  "nbformat_minor": 0,
  "metadata": {
    "colab": {
      "provenance": [],
      "collapsed_sections": [
        "2mHwdSx1gWAF",
        "MTQ2fUoKMcIJ",
        "HFiQphljMl1f",
        "rTl_vnBwM4Qq"
      ],
      "toc_visible": true,
      "authorship_tag": "ABX9TyM+5I6H2dC7ERxvjL346bsu",
      "include_colab_link": true
    },
    "kernelspec": {
      "name": "python3",
      "display_name": "Python 3"
    },
    "language_info": {
      "name": "python"
    }
  },
  "cells": [
    {
      "cell_type": "markdown",
      "metadata": {
        "id": "view-in-github",
        "colab_type": "text"
      },
      "source": [
        "<a href=\"https://colab.research.google.com/github/harishahamed26/Diabetes_Prediction_Using_Neural_Network/blob/main/DiabetesPredictionNeuralNetwork.ipynb\" target=\"_parent\"><img src=\"https://colab.research.google.com/assets/colab-badge.svg\" alt=\"Open In Colab\"/></a>"
      ]
    },
    {
      "cell_type": "markdown",
      "source": [
        "# DiabetesPredictionNeuralNetwork"
      ],
      "metadata": {
        "id": "paPVZ0lqgSyV"
      }
    },
    {
      "cell_type": "markdown",
      "source": [
        "***Data Set Attribute Description***\n",
        "\n",
        "• A1 - Number of times pregnant\n",
        "--\n",
        "• A2 - Plasma glucose concentration a 2 hours in an oral glucose tolerance test\n",
        "--\n",
        "• A3 - Diastolic blood pressure (mm Hg)\n",
        "--\n",
        "• A4 - Triceps skin fold thickness (mm)\n",
        "--\n",
        "• A5 - 2-Hour serum insulin (mu U/ml)\n",
        "--\n",
        "• A6 - Body mass index (weight in kg/(height in m)^2)\n",
        "--\n",
        "• A7 - Diabetes pedigree function\n",
        "--\n",
        "• A8 - Age (years)\n",
        "--\n"
      ],
      "metadata": {
        "id": "9w7-8ghlluFQ"
      }
    },
    {
      "cell_type": "code",
      "source": [
        "! pip install SMOTE\n"
      ],
      "metadata": {
        "colab": {
          "base_uri": "https://localhost:8080/"
        },
        "id": "Az2zPwrS36TL",
        "outputId": "39a4a7eb-651d-4e15-8af1-b52d40f857dc"
      },
      "execution_count": 203,
      "outputs": [
        {
          "output_type": "stream",
          "name": "stdout",
          "text": [
            "Looking in indexes: https://pypi.org/simple, https://us-python.pkg.dev/colab-wheels/public/simple/\n",
            "Requirement already satisfied: SMOTE in /usr/local/lib/python3.8/dist-packages (0.1)\n",
            "Requirement already satisfied: numpy>=1.14.3 in /usr/local/lib/python3.8/dist-packages (from SMOTE) (1.22.4)\n",
            "Requirement already satisfied: scikit-learn>=0.19.1 in /usr/local/lib/python3.8/dist-packages (from SMOTE) (1.0.2)\n",
            "Requirement already satisfied: scipy>=1.1.0 in /usr/local/lib/python3.8/dist-packages (from scikit-learn>=0.19.1->SMOTE) (1.7.3)\n",
            "Requirement already satisfied: joblib>=0.11 in /usr/local/lib/python3.8/dist-packages (from scikit-learn>=0.19.1->SMOTE) (1.2.0)\n",
            "Requirement already satisfied: threadpoolctl>=2.0.0 in /usr/local/lib/python3.8/dist-packages (from scikit-learn>=0.19.1->SMOTE) (3.1.0)\n"
          ]
        }
      ]
    },
    {
      "cell_type": "code",
      "source": [
        "! pip install tensorflow # Necessary package"
      ],
      "metadata": {
        "colab": {
          "base_uri": "https://localhost:8080/"
        },
        "id": "xqi77rw5mQtI",
        "outputId": "ede2b9a8-1107-4d48-f5dd-cb2b98393c7e"
      },
      "execution_count": 204,
      "outputs": [
        {
          "output_type": "stream",
          "name": "stdout",
          "text": [
            "Looking in indexes: https://pypi.org/simple, https://us-python.pkg.dev/colab-wheels/public/simple/\n",
            "Requirement already satisfied: tensorflow in /usr/local/lib/python3.8/dist-packages (2.11.0)\n",
            "Requirement already satisfied: tensorflow-estimator<2.12,>=2.11.0 in /usr/local/lib/python3.8/dist-packages (from tensorflow) (2.11.0)\n",
            "Requirement already satisfied: wrapt>=1.11.0 in /usr/local/lib/python3.8/dist-packages (from tensorflow) (1.14.1)\n",
            "Requirement already satisfied: gast<=0.4.0,>=0.2.1 in /usr/local/lib/python3.8/dist-packages (from tensorflow) (0.4.0)\n",
            "Requirement already satisfied: numpy>=1.20 in /usr/local/lib/python3.8/dist-packages (from tensorflow) (1.22.4)\n",
            "Requirement already satisfied: keras<2.12,>=2.11.0 in /usr/local/lib/python3.8/dist-packages (from tensorflow) (2.11.0)\n",
            "Requirement already satisfied: grpcio<2.0,>=1.24.3 in /usr/local/lib/python3.8/dist-packages (from tensorflow) (1.51.1)\n",
            "Requirement already satisfied: protobuf<3.20,>=3.9.2 in /usr/local/lib/python3.8/dist-packages (from tensorflow) (3.19.6)\n",
            "Requirement already satisfied: astunparse>=1.6.0 in /usr/local/lib/python3.8/dist-packages (from tensorflow) (1.6.3)\n",
            "Requirement already satisfied: typing-extensions>=3.6.6 in /usr/local/lib/python3.8/dist-packages (from tensorflow) (4.5.0)\n",
            "Requirement already satisfied: six>=1.12.0 in /usr/local/lib/python3.8/dist-packages (from tensorflow) (1.15.0)\n",
            "Requirement already satisfied: termcolor>=1.1.0 in /usr/local/lib/python3.8/dist-packages (from tensorflow) (2.2.0)\n",
            "Requirement already satisfied: setuptools in /usr/local/lib/python3.8/dist-packages (from tensorflow) (57.4.0)\n",
            "Requirement already satisfied: opt-einsum>=2.3.2 in /usr/local/lib/python3.8/dist-packages (from tensorflow) (3.3.0)\n",
            "Requirement already satisfied: packaging in /usr/local/lib/python3.8/dist-packages (from tensorflow) (23.0)\n",
            "Requirement already satisfied: flatbuffers>=2.0 in /usr/local/lib/python3.8/dist-packages (from tensorflow) (23.1.21)\n",
            "Requirement already satisfied: libclang>=13.0.0 in /usr/local/lib/python3.8/dist-packages (from tensorflow) (15.0.6.1)\n",
            "Requirement already satisfied: h5py>=2.9.0 in /usr/local/lib/python3.8/dist-packages (from tensorflow) (3.1.0)\n",
            "Requirement already satisfied: tensorboard<2.12,>=2.11 in /usr/local/lib/python3.8/dist-packages (from tensorflow) (2.11.2)\n",
            "Requirement already satisfied: tensorflow-io-gcs-filesystem>=0.23.1 in /usr/local/lib/python3.8/dist-packages (from tensorflow) (0.30.0)\n",
            "Requirement already satisfied: google-pasta>=0.1.1 in /usr/local/lib/python3.8/dist-packages (from tensorflow) (0.2.0)\n",
            "Requirement already satisfied: absl-py>=1.0.0 in /usr/local/lib/python3.8/dist-packages (from tensorflow) (1.4.0)\n",
            "Requirement already satisfied: wheel<1.0,>=0.23.0 in /usr/local/lib/python3.8/dist-packages (from astunparse>=1.6.0->tensorflow) (0.38.4)\n",
            "Requirement already satisfied: tensorboard-plugin-wit>=1.6.0 in /usr/local/lib/python3.8/dist-packages (from tensorboard<2.12,>=2.11->tensorflow) (1.8.1)\n",
            "Requirement already satisfied: markdown>=2.6.8 in /usr/local/lib/python3.8/dist-packages (from tensorboard<2.12,>=2.11->tensorflow) (3.4.1)\n",
            "Requirement already satisfied: google-auth-oauthlib<0.5,>=0.4.1 in /usr/local/lib/python3.8/dist-packages (from tensorboard<2.12,>=2.11->tensorflow) (0.4.6)\n",
            "Requirement already satisfied: werkzeug>=1.0.1 in /usr/local/lib/python3.8/dist-packages (from tensorboard<2.12,>=2.11->tensorflow) (1.0.1)\n",
            "Requirement already satisfied: requests<3,>=2.21.0 in /usr/local/lib/python3.8/dist-packages (from tensorboard<2.12,>=2.11->tensorflow) (2.25.1)\n",
            "Requirement already satisfied: tensorboard-data-server<0.7.0,>=0.6.0 in /usr/local/lib/python3.8/dist-packages (from tensorboard<2.12,>=2.11->tensorflow) (0.6.1)\n",
            "Requirement already satisfied: google-auth<3,>=1.6.3 in /usr/local/lib/python3.8/dist-packages (from tensorboard<2.12,>=2.11->tensorflow) (2.16.0)\n",
            "Requirement already satisfied: cachetools<6.0,>=2.0.0 in /usr/local/lib/python3.8/dist-packages (from google-auth<3,>=1.6.3->tensorboard<2.12,>=2.11->tensorflow) (5.3.0)\n",
            "Requirement already satisfied: pyasn1-modules>=0.2.1 in /usr/local/lib/python3.8/dist-packages (from google-auth<3,>=1.6.3->tensorboard<2.12,>=2.11->tensorflow) (0.2.8)\n",
            "Requirement already satisfied: rsa<5,>=3.1.4 in /usr/local/lib/python3.8/dist-packages (from google-auth<3,>=1.6.3->tensorboard<2.12,>=2.11->tensorflow) (4.9)\n",
            "Requirement already satisfied: requests-oauthlib>=0.7.0 in /usr/local/lib/python3.8/dist-packages (from google-auth-oauthlib<0.5,>=0.4.1->tensorboard<2.12,>=2.11->tensorflow) (1.3.1)\n",
            "Requirement already satisfied: importlib-metadata>=4.4 in /usr/local/lib/python3.8/dist-packages (from markdown>=2.6.8->tensorboard<2.12,>=2.11->tensorflow) (6.0.0)\n",
            "Requirement already satisfied: idna<3,>=2.5 in /usr/local/lib/python3.8/dist-packages (from requests<3,>=2.21.0->tensorboard<2.12,>=2.11->tensorflow) (2.10)\n",
            "Requirement already satisfied: chardet<5,>=3.0.2 in /usr/local/lib/python3.8/dist-packages (from requests<3,>=2.21.0->tensorboard<2.12,>=2.11->tensorflow) (4.0.0)\n",
            "Requirement already satisfied: certifi>=2017.4.17 in /usr/local/lib/python3.8/dist-packages (from requests<3,>=2.21.0->tensorboard<2.12,>=2.11->tensorflow) (2022.12.7)\n",
            "Requirement already satisfied: urllib3<1.27,>=1.21.1 in /usr/local/lib/python3.8/dist-packages (from requests<3,>=2.21.0->tensorboard<2.12,>=2.11->tensorflow) (1.24.3)\n",
            "Requirement already satisfied: zipp>=0.5 in /usr/local/lib/python3.8/dist-packages (from importlib-metadata>=4.4->markdown>=2.6.8->tensorboard<2.12,>=2.11->tensorflow) (3.13.0)\n",
            "Requirement already satisfied: pyasn1<0.5.0,>=0.4.6 in /usr/local/lib/python3.8/dist-packages (from pyasn1-modules>=0.2.1->google-auth<3,>=1.6.3->tensorboard<2.12,>=2.11->tensorflow) (0.4.8)\n",
            "Requirement already satisfied: oauthlib>=3.0.0 in /usr/local/lib/python3.8/dist-packages (from requests-oauthlib>=0.7.0->google-auth-oauthlib<0.5,>=0.4.1->tensorboard<2.12,>=2.11->tensorflow) (3.2.2)\n"
          ]
        }
      ]
    },
    {
      "cell_type": "code",
      "source": [
        "! pip install keras-tuner # Installing keras tuner to tune the hyperparameter"
      ],
      "metadata": {
        "colab": {
          "base_uri": "https://localhost:8080/"
        },
        "id": "W65ddcc_ERnm",
        "outputId": "e620e18c-79ab-4649-af41-3185d1dd427c"
      },
      "execution_count": 205,
      "outputs": [
        {
          "output_type": "stream",
          "name": "stdout",
          "text": [
            "Looking in indexes: https://pypi.org/simple, https://us-python.pkg.dev/colab-wheels/public/simple/\n",
            "Requirement already satisfied: keras-tuner in /usr/local/lib/python3.8/dist-packages (1.3.0)\n",
            "Requirement already satisfied: packaging in /usr/local/lib/python3.8/dist-packages (from keras-tuner) (23.0)\n",
            "Requirement already satisfied: kt-legacy in /usr/local/lib/python3.8/dist-packages (from keras-tuner) (1.0.4)\n",
            "Requirement already satisfied: tensorflow>=2.0 in /usr/local/lib/python3.8/dist-packages (from keras-tuner) (2.11.0)\n",
            "Requirement already satisfied: requests in /usr/local/lib/python3.8/dist-packages (from keras-tuner) (2.25.1)\n",
            "Requirement already satisfied: ipython in /usr/local/lib/python3.8/dist-packages (from keras-tuner) (7.9.0)\n",
            "Requirement already satisfied: tensorflow-estimator<2.12,>=2.11.0 in /usr/local/lib/python3.8/dist-packages (from tensorflow>=2.0->keras-tuner) (2.11.0)\n",
            "Requirement already satisfied: wrapt>=1.11.0 in /usr/local/lib/python3.8/dist-packages (from tensorflow>=2.0->keras-tuner) (1.14.1)\n",
            "Requirement already satisfied: gast<=0.4.0,>=0.2.1 in /usr/local/lib/python3.8/dist-packages (from tensorflow>=2.0->keras-tuner) (0.4.0)\n",
            "Requirement already satisfied: numpy>=1.20 in /usr/local/lib/python3.8/dist-packages (from tensorflow>=2.0->keras-tuner) (1.22.4)\n",
            "Requirement already satisfied: keras<2.12,>=2.11.0 in /usr/local/lib/python3.8/dist-packages (from tensorflow>=2.0->keras-tuner) (2.11.0)\n",
            "Requirement already satisfied: grpcio<2.0,>=1.24.3 in /usr/local/lib/python3.8/dist-packages (from tensorflow>=2.0->keras-tuner) (1.51.1)\n",
            "Requirement already satisfied: protobuf<3.20,>=3.9.2 in /usr/local/lib/python3.8/dist-packages (from tensorflow>=2.0->keras-tuner) (3.19.6)\n",
            "Requirement already satisfied: astunparse>=1.6.0 in /usr/local/lib/python3.8/dist-packages (from tensorflow>=2.0->keras-tuner) (1.6.3)\n",
            "Requirement already satisfied: typing-extensions>=3.6.6 in /usr/local/lib/python3.8/dist-packages (from tensorflow>=2.0->keras-tuner) (4.5.0)\n",
            "Requirement already satisfied: six>=1.12.0 in /usr/local/lib/python3.8/dist-packages (from tensorflow>=2.0->keras-tuner) (1.15.0)\n",
            "Requirement already satisfied: termcolor>=1.1.0 in /usr/local/lib/python3.8/dist-packages (from tensorflow>=2.0->keras-tuner) (2.2.0)\n",
            "Requirement already satisfied: setuptools in /usr/local/lib/python3.8/dist-packages (from tensorflow>=2.0->keras-tuner) (57.4.0)\n",
            "Requirement already satisfied: opt-einsum>=2.3.2 in /usr/local/lib/python3.8/dist-packages (from tensorflow>=2.0->keras-tuner) (3.3.0)\n",
            "Requirement already satisfied: flatbuffers>=2.0 in /usr/local/lib/python3.8/dist-packages (from tensorflow>=2.0->keras-tuner) (23.1.21)\n",
            "Requirement already satisfied: libclang>=13.0.0 in /usr/local/lib/python3.8/dist-packages (from tensorflow>=2.0->keras-tuner) (15.0.6.1)\n",
            "Requirement already satisfied: h5py>=2.9.0 in /usr/local/lib/python3.8/dist-packages (from tensorflow>=2.0->keras-tuner) (3.1.0)\n",
            "Requirement already satisfied: tensorboard<2.12,>=2.11 in /usr/local/lib/python3.8/dist-packages (from tensorflow>=2.0->keras-tuner) (2.11.2)\n",
            "Requirement already satisfied: tensorflow-io-gcs-filesystem>=0.23.1 in /usr/local/lib/python3.8/dist-packages (from tensorflow>=2.0->keras-tuner) (0.30.0)\n",
            "Requirement already satisfied: google-pasta>=0.1.1 in /usr/local/lib/python3.8/dist-packages (from tensorflow>=2.0->keras-tuner) (0.2.0)\n",
            "Requirement already satisfied: absl-py>=1.0.0 in /usr/local/lib/python3.8/dist-packages (from tensorflow>=2.0->keras-tuner) (1.4.0)\n",
            "Requirement already satisfied: jedi>=0.10 in /usr/local/lib/python3.8/dist-packages (from ipython->keras-tuner) (0.18.2)\n",
            "Requirement already satisfied: traitlets>=4.2 in /usr/local/lib/python3.8/dist-packages (from ipython->keras-tuner) (5.7.1)\n",
            "Requirement already satisfied: decorator in /usr/local/lib/python3.8/dist-packages (from ipython->keras-tuner) (4.4.2)\n",
            "Requirement already satisfied: backcall in /usr/local/lib/python3.8/dist-packages (from ipython->keras-tuner) (0.2.0)\n",
            "Requirement already satisfied: prompt-toolkit<2.1.0,>=2.0.0 in /usr/local/lib/python3.8/dist-packages (from ipython->keras-tuner) (2.0.10)\n",
            "Requirement already satisfied: pygments in /usr/local/lib/python3.8/dist-packages (from ipython->keras-tuner) (2.6.1)\n",
            "Requirement already satisfied: pickleshare in /usr/local/lib/python3.8/dist-packages (from ipython->keras-tuner) (0.7.5)\n",
            "Requirement already satisfied: pexpect in /usr/local/lib/python3.8/dist-packages (from ipython->keras-tuner) (4.8.0)\n",
            "Requirement already satisfied: idna<3,>=2.5 in /usr/local/lib/python3.8/dist-packages (from requests->keras-tuner) (2.10)\n",
            "Requirement already satisfied: chardet<5,>=3.0.2 in /usr/local/lib/python3.8/dist-packages (from requests->keras-tuner) (4.0.0)\n",
            "Requirement already satisfied: certifi>=2017.4.17 in /usr/local/lib/python3.8/dist-packages (from requests->keras-tuner) (2022.12.7)\n",
            "Requirement already satisfied: urllib3<1.27,>=1.21.1 in /usr/local/lib/python3.8/dist-packages (from requests->keras-tuner) (1.24.3)\n",
            "Requirement already satisfied: wheel<1.0,>=0.23.0 in /usr/local/lib/python3.8/dist-packages (from astunparse>=1.6.0->tensorflow>=2.0->keras-tuner) (0.38.4)\n",
            "Requirement already satisfied: parso<0.9.0,>=0.8.0 in /usr/local/lib/python3.8/dist-packages (from jedi>=0.10->ipython->keras-tuner) (0.8.3)\n",
            "Requirement already satisfied: wcwidth in /usr/local/lib/python3.8/dist-packages (from prompt-toolkit<2.1.0,>=2.0.0->ipython->keras-tuner) (0.2.6)\n",
            "Requirement already satisfied: tensorboard-plugin-wit>=1.6.0 in /usr/local/lib/python3.8/dist-packages (from tensorboard<2.12,>=2.11->tensorflow>=2.0->keras-tuner) (1.8.1)\n",
            "Requirement already satisfied: markdown>=2.6.8 in /usr/local/lib/python3.8/dist-packages (from tensorboard<2.12,>=2.11->tensorflow>=2.0->keras-tuner) (3.4.1)\n",
            "Requirement already satisfied: google-auth-oauthlib<0.5,>=0.4.1 in /usr/local/lib/python3.8/dist-packages (from tensorboard<2.12,>=2.11->tensorflow>=2.0->keras-tuner) (0.4.6)\n",
            "Requirement already satisfied: werkzeug>=1.0.1 in /usr/local/lib/python3.8/dist-packages (from tensorboard<2.12,>=2.11->tensorflow>=2.0->keras-tuner) (1.0.1)\n",
            "Requirement already satisfied: tensorboard-data-server<0.7.0,>=0.6.0 in /usr/local/lib/python3.8/dist-packages (from tensorboard<2.12,>=2.11->tensorflow>=2.0->keras-tuner) (0.6.1)\n",
            "Requirement already satisfied: google-auth<3,>=1.6.3 in /usr/local/lib/python3.8/dist-packages (from tensorboard<2.12,>=2.11->tensorflow>=2.0->keras-tuner) (2.16.0)\n",
            "Requirement already satisfied: ptyprocess>=0.5 in /usr/local/lib/python3.8/dist-packages (from pexpect->ipython->keras-tuner) (0.7.0)\n",
            "Requirement already satisfied: cachetools<6.0,>=2.0.0 in /usr/local/lib/python3.8/dist-packages (from google-auth<3,>=1.6.3->tensorboard<2.12,>=2.11->tensorflow>=2.0->keras-tuner) (5.3.0)\n",
            "Requirement already satisfied: pyasn1-modules>=0.2.1 in /usr/local/lib/python3.8/dist-packages (from google-auth<3,>=1.6.3->tensorboard<2.12,>=2.11->tensorflow>=2.0->keras-tuner) (0.2.8)\n",
            "Requirement already satisfied: rsa<5,>=3.1.4 in /usr/local/lib/python3.8/dist-packages (from google-auth<3,>=1.6.3->tensorboard<2.12,>=2.11->tensorflow>=2.0->keras-tuner) (4.9)\n",
            "Requirement already satisfied: requests-oauthlib>=0.7.0 in /usr/local/lib/python3.8/dist-packages (from google-auth-oauthlib<0.5,>=0.4.1->tensorboard<2.12,>=2.11->tensorflow>=2.0->keras-tuner) (1.3.1)\n",
            "Requirement already satisfied: importlib-metadata>=4.4 in /usr/local/lib/python3.8/dist-packages (from markdown>=2.6.8->tensorboard<2.12,>=2.11->tensorflow>=2.0->keras-tuner) (6.0.0)\n",
            "Requirement already satisfied: zipp>=0.5 in /usr/local/lib/python3.8/dist-packages (from importlib-metadata>=4.4->markdown>=2.6.8->tensorboard<2.12,>=2.11->tensorflow>=2.0->keras-tuner) (3.13.0)\n",
            "Requirement already satisfied: pyasn1<0.5.0,>=0.4.6 in /usr/local/lib/python3.8/dist-packages (from pyasn1-modules>=0.2.1->google-auth<3,>=1.6.3->tensorboard<2.12,>=2.11->tensorflow>=2.0->keras-tuner) (0.4.8)\n",
            "Requirement already satisfied: oauthlib>=3.0.0 in /usr/local/lib/python3.8/dist-packages (from requests-oauthlib>=0.7.0->google-auth-oauthlib<0.5,>=0.4.1->tensorboard<2.12,>=2.11->tensorflow>=2.0->keras-tuner) (3.2.2)\n"
          ]
        }
      ]
    },
    {
      "cell_type": "markdown",
      "source": [
        "## Data loading & EDA\n"
      ],
      "metadata": {
        "id": "2mHwdSx1gWAF"
      }
    },
    {
      "cell_type": "code",
      "execution_count": 206,
      "metadata": {
        "id": "yvSLV8O5f9gi"
      },
      "outputs": [],
      "source": [
        "# Importing of necessary libraries \n",
        "\n",
        "import numpy  as np\n",
        "import pandas as pd\n",
        "import matplotlib.pyplot as plt\n",
        "import seaborn as sns\n",
        "\n",
        "from sklearn.preprocessing import LabelEncoder\n",
        "from sklearn.model_selection import train_test_split\n",
        "from sklearn import metrics\n",
        "\n",
        "import tensorflow as tf\n",
        "from tensorflow import keras\n",
        "from tensorflow.keras import layers\n",
        "\n",
        "import json\n",
        "from sklearn.preprocessing import normalize\n",
        "# install the Keras-tuner library\n",
        "\n",
        "import kerastuner as kt\n",
        "\n",
        "# set random seeds to get reproducible results\n",
        "import os\n",
        "seed = 100\n",
        "os.environ['PYTHONHASHSEED']=str(seed) \n",
        "keras.utils.set_random_seed(seed) # set all random seeds for the program (Python, NumPy, and TensorFlow) \n",
        "\n",
        "RANDOM_SEED = 100"
      ]
    },
    {
      "cell_type": "code",
      "source": [
        "# Loading of Train Dataset and displaying the first 5 rows\n",
        "\n",
        "df_Train = pd.read_csv('https://raw.githubusercontent.com/harishahamed26/Diabetes_Prediction_Using_Neural_Network/main/data/train.csv')\n",
        "df_Train.head(5)"
      ],
      "metadata": {
        "colab": {
          "base_uri": "https://localhost:8080/",
          "height": 206
        },
        "id": "_L8ImF57gz16",
        "outputId": "ef5b10cb-ada4-47cf-9041-57b3e4028521"
      },
      "execution_count": 207,
      "outputs": [
        {
          "output_type": "execute_result",
          "data": {
            "text/plain": [
              "   id  A1   A2  A3  A4   A5    A6     A7  A8  class\n",
              "0   1   6  148  72  35    0  33.6  0.627  50      1\n",
              "1   2   1   85  66  29    0  26.6  0.351  31      0\n",
              "2   3   8  183  64   0    0  23.3  0.672  32      1\n",
              "3   4   1   89  66  23   94  28.1  0.167  21      0\n",
              "4   5   0  137  40  35  168  43.1  2.288  33      1"
            ],
            "text/html": [
              "\n",
              "  <div id=\"df-5876f9b3-988e-4c87-b7e1-390ae65fd988\">\n",
              "    <div class=\"colab-df-container\">\n",
              "      <div>\n",
              "<style scoped>\n",
              "    .dataframe tbody tr th:only-of-type {\n",
              "        vertical-align: middle;\n",
              "    }\n",
              "\n",
              "    .dataframe tbody tr th {\n",
              "        vertical-align: top;\n",
              "    }\n",
              "\n",
              "    .dataframe thead th {\n",
              "        text-align: right;\n",
              "    }\n",
              "</style>\n",
              "<table border=\"1\" class=\"dataframe\">\n",
              "  <thead>\n",
              "    <tr style=\"text-align: right;\">\n",
              "      <th></th>\n",
              "      <th>id</th>\n",
              "      <th>A1</th>\n",
              "      <th>A2</th>\n",
              "      <th>A3</th>\n",
              "      <th>A4</th>\n",
              "      <th>A5</th>\n",
              "      <th>A6</th>\n",
              "      <th>A7</th>\n",
              "      <th>A8</th>\n",
              "      <th>class</th>\n",
              "    </tr>\n",
              "  </thead>\n",
              "  <tbody>\n",
              "    <tr>\n",
              "      <th>0</th>\n",
              "      <td>1</td>\n",
              "      <td>6</td>\n",
              "      <td>148</td>\n",
              "      <td>72</td>\n",
              "      <td>35</td>\n",
              "      <td>0</td>\n",
              "      <td>33.6</td>\n",
              "      <td>0.627</td>\n",
              "      <td>50</td>\n",
              "      <td>1</td>\n",
              "    </tr>\n",
              "    <tr>\n",
              "      <th>1</th>\n",
              "      <td>2</td>\n",
              "      <td>1</td>\n",
              "      <td>85</td>\n",
              "      <td>66</td>\n",
              "      <td>29</td>\n",
              "      <td>0</td>\n",
              "      <td>26.6</td>\n",
              "      <td>0.351</td>\n",
              "      <td>31</td>\n",
              "      <td>0</td>\n",
              "    </tr>\n",
              "    <tr>\n",
              "      <th>2</th>\n",
              "      <td>3</td>\n",
              "      <td>8</td>\n",
              "      <td>183</td>\n",
              "      <td>64</td>\n",
              "      <td>0</td>\n",
              "      <td>0</td>\n",
              "      <td>23.3</td>\n",
              "      <td>0.672</td>\n",
              "      <td>32</td>\n",
              "      <td>1</td>\n",
              "    </tr>\n",
              "    <tr>\n",
              "      <th>3</th>\n",
              "      <td>4</td>\n",
              "      <td>1</td>\n",
              "      <td>89</td>\n",
              "      <td>66</td>\n",
              "      <td>23</td>\n",
              "      <td>94</td>\n",
              "      <td>28.1</td>\n",
              "      <td>0.167</td>\n",
              "      <td>21</td>\n",
              "      <td>0</td>\n",
              "    </tr>\n",
              "    <tr>\n",
              "      <th>4</th>\n",
              "      <td>5</td>\n",
              "      <td>0</td>\n",
              "      <td>137</td>\n",
              "      <td>40</td>\n",
              "      <td>35</td>\n",
              "      <td>168</td>\n",
              "      <td>43.1</td>\n",
              "      <td>2.288</td>\n",
              "      <td>33</td>\n",
              "      <td>1</td>\n",
              "    </tr>\n",
              "  </tbody>\n",
              "</table>\n",
              "</div>\n",
              "      <button class=\"colab-df-convert\" onclick=\"convertToInteractive('df-5876f9b3-988e-4c87-b7e1-390ae65fd988')\"\n",
              "              title=\"Convert this dataframe to an interactive table.\"\n",
              "              style=\"display:none;\">\n",
              "        \n",
              "  <svg xmlns=\"http://www.w3.org/2000/svg\" height=\"24px\"viewBox=\"0 0 24 24\"\n",
              "       width=\"24px\">\n",
              "    <path d=\"M0 0h24v24H0V0z\" fill=\"none\"/>\n",
              "    <path d=\"M18.56 5.44l.94 2.06.94-2.06 2.06-.94-2.06-.94-.94-2.06-.94 2.06-2.06.94zm-11 1L8.5 8.5l.94-2.06 2.06-.94-2.06-.94L8.5 2.5l-.94 2.06-2.06.94zm10 10l.94 2.06.94-2.06 2.06-.94-2.06-.94-.94-2.06-.94 2.06-2.06.94z\"/><path d=\"M17.41 7.96l-1.37-1.37c-.4-.4-.92-.59-1.43-.59-.52 0-1.04.2-1.43.59L10.3 9.45l-7.72 7.72c-.78.78-.78 2.05 0 2.83L4 21.41c.39.39.9.59 1.41.59.51 0 1.02-.2 1.41-.59l7.78-7.78 2.81-2.81c.8-.78.8-2.07 0-2.86zM5.41 20L4 18.59l7.72-7.72 1.47 1.35L5.41 20z\"/>\n",
              "  </svg>\n",
              "      </button>\n",
              "      \n",
              "  <style>\n",
              "    .colab-df-container {\n",
              "      display:flex;\n",
              "      flex-wrap:wrap;\n",
              "      gap: 12px;\n",
              "    }\n",
              "\n",
              "    .colab-df-convert {\n",
              "      background-color: #E8F0FE;\n",
              "      border: none;\n",
              "      border-radius: 50%;\n",
              "      cursor: pointer;\n",
              "      display: none;\n",
              "      fill: #1967D2;\n",
              "      height: 32px;\n",
              "      padding: 0 0 0 0;\n",
              "      width: 32px;\n",
              "    }\n",
              "\n",
              "    .colab-df-convert:hover {\n",
              "      background-color: #E2EBFA;\n",
              "      box-shadow: 0px 1px 2px rgba(60, 64, 67, 0.3), 0px 1px 3px 1px rgba(60, 64, 67, 0.15);\n",
              "      fill: #174EA6;\n",
              "    }\n",
              "\n",
              "    [theme=dark] .colab-df-convert {\n",
              "      background-color: #3B4455;\n",
              "      fill: #D2E3FC;\n",
              "    }\n",
              "\n",
              "    [theme=dark] .colab-df-convert:hover {\n",
              "      background-color: #434B5C;\n",
              "      box-shadow: 0px 1px 3px 1px rgba(0, 0, 0, 0.15);\n",
              "      filter: drop-shadow(0px 1px 2px rgba(0, 0, 0, 0.3));\n",
              "      fill: #FFFFFF;\n",
              "    }\n",
              "  </style>\n",
              "\n",
              "      <script>\n",
              "        const buttonEl =\n",
              "          document.querySelector('#df-5876f9b3-988e-4c87-b7e1-390ae65fd988 button.colab-df-convert');\n",
              "        buttonEl.style.display =\n",
              "          google.colab.kernel.accessAllowed ? 'block' : 'none';\n",
              "\n",
              "        async function convertToInteractive(key) {\n",
              "          const element = document.querySelector('#df-5876f9b3-988e-4c87-b7e1-390ae65fd988');\n",
              "          const dataTable =\n",
              "            await google.colab.kernel.invokeFunction('convertToInteractive',\n",
              "                                                     [key], {});\n",
              "          if (!dataTable) return;\n",
              "\n",
              "          const docLinkHtml = 'Like what you see? Visit the ' +\n",
              "            '<a target=\"_blank\" href=https://colab.research.google.com/notebooks/data_table.ipynb>data table notebook</a>'\n",
              "            + ' to learn more about interactive tables.';\n",
              "          element.innerHTML = '';\n",
              "          dataTable['output_type'] = 'display_data';\n",
              "          await google.colab.output.renderOutput(dataTable, element);\n",
              "          const docLink = document.createElement('div');\n",
              "          docLink.innerHTML = docLinkHtml;\n",
              "          element.appendChild(docLink);\n",
              "        }\n",
              "      </script>\n",
              "    </div>\n",
              "  </div>\n",
              "  "
            ]
          },
          "metadata": {},
          "execution_count": 207
        }
      ]
    },
    {
      "cell_type": "code",
      "source": [
        "df_Train.info() # Information about Train Dataset"
      ],
      "metadata": {
        "colab": {
          "base_uri": "https://localhost:8080/"
        },
        "id": "Lt6k5WC2hpcp",
        "outputId": "ba87234f-2a32-4b04-e7a2-38d35f1d23ba"
      },
      "execution_count": 208,
      "outputs": [
        {
          "output_type": "stream",
          "name": "stdout",
          "text": [
            "<class 'pandas.core.frame.DataFrame'>\n",
            "RangeIndex: 668 entries, 0 to 667\n",
            "Data columns (total 10 columns):\n",
            " #   Column  Non-Null Count  Dtype  \n",
            "---  ------  --------------  -----  \n",
            " 0   id      668 non-null    int64  \n",
            " 1   A1      668 non-null    int64  \n",
            " 2   A2      668 non-null    int64  \n",
            " 3   A3      668 non-null    int64  \n",
            " 4   A4      668 non-null    int64  \n",
            " 5   A5      668 non-null    int64  \n",
            " 6   A6      668 non-null    float64\n",
            " 7   A7      668 non-null    float64\n",
            " 8   A8      668 non-null    int64  \n",
            " 9   class   668 non-null    int64  \n",
            "dtypes: float64(2), int64(8)\n",
            "memory usage: 52.3 KB\n"
          ]
        }
      ]
    },
    {
      "cell_type": "code",
      "source": [
        "df_Train.isna().sum() # Checking the null values"
      ],
      "metadata": {
        "colab": {
          "base_uri": "https://localhost:8080/"
        },
        "id": "CTafJkVqlCWl",
        "outputId": "fbb0a25a-9646-4bd7-88cd-bcc829ca1dd9"
      },
      "execution_count": 209,
      "outputs": [
        {
          "output_type": "execute_result",
          "data": {
            "text/plain": [
              "id       0\n",
              "A1       0\n",
              "A2       0\n",
              "A3       0\n",
              "A4       0\n",
              "A5       0\n",
              "A6       0\n",
              "A7       0\n",
              "A8       0\n",
              "class    0\n",
              "dtype: int64"
            ]
          },
          "metadata": {},
          "execution_count": 209
        }
      ]
    },
    {
      "cell_type": "code",
      "source": [
        "df_Train.describe() # Description Statistical Analysis"
      ],
      "metadata": {
        "colab": {
          "base_uri": "https://localhost:8080/",
          "height": 344
        },
        "id": "8JH1ODI8iBsw",
        "outputId": "da0a0ade-53ec-415e-b82f-8dc6fc8747db"
      },
      "execution_count": 210,
      "outputs": [
        {
          "output_type": "execute_result",
          "data": {
            "text/plain": [
              "               id          A1          A2          A3          A4          A5  \\\n",
              "count  668.000000  668.000000  668.000000  668.000000  668.000000  668.000000   \n",
              "mean   334.500000    3.812874  120.405689   68.748503   20.567365   79.654192   \n",
              "std    192.979273    3.365672   32.291473   19.526392   16.020600  115.827750   \n",
              "min      1.000000    0.000000    0.000000    0.000000    0.000000    0.000000   \n",
              "25%    167.750000    1.000000   99.000000   64.000000    0.000000    0.000000   \n",
              "50%    334.500000    3.000000  116.000000   72.000000   23.000000   36.500000   \n",
              "75%    501.250000    6.000000  140.000000   80.000000   32.000000  126.000000   \n",
              "max    668.000000   17.000000  199.000000  122.000000   99.000000  846.000000   \n",
              "\n",
              "               A6          A7          A8       class  \n",
              "count  668.000000  668.000000  668.000000  668.000000  \n",
              "mean    31.860180    0.477329   33.091317    0.345808  \n",
              "std      7.827111    0.341398   11.711386    0.475988  \n",
              "min      0.000000    0.078000   21.000000    0.000000  \n",
              "25%     27.100000    0.238750   24.000000    0.000000  \n",
              "50%     32.000000    0.377000   29.000000    0.000000  \n",
              "75%     36.500000    0.641250   40.000000    1.000000  \n",
              "max     67.100000    2.420000   81.000000    1.000000  "
            ],
            "text/html": [
              "\n",
              "  <div id=\"df-f9981e13-866e-4cbe-92f4-00b7eed6a7a9\">\n",
              "    <div class=\"colab-df-container\">\n",
              "      <div>\n",
              "<style scoped>\n",
              "    .dataframe tbody tr th:only-of-type {\n",
              "        vertical-align: middle;\n",
              "    }\n",
              "\n",
              "    .dataframe tbody tr th {\n",
              "        vertical-align: top;\n",
              "    }\n",
              "\n",
              "    .dataframe thead th {\n",
              "        text-align: right;\n",
              "    }\n",
              "</style>\n",
              "<table border=\"1\" class=\"dataframe\">\n",
              "  <thead>\n",
              "    <tr style=\"text-align: right;\">\n",
              "      <th></th>\n",
              "      <th>id</th>\n",
              "      <th>A1</th>\n",
              "      <th>A2</th>\n",
              "      <th>A3</th>\n",
              "      <th>A4</th>\n",
              "      <th>A5</th>\n",
              "      <th>A6</th>\n",
              "      <th>A7</th>\n",
              "      <th>A8</th>\n",
              "      <th>class</th>\n",
              "    </tr>\n",
              "  </thead>\n",
              "  <tbody>\n",
              "    <tr>\n",
              "      <th>count</th>\n",
              "      <td>668.000000</td>\n",
              "      <td>668.000000</td>\n",
              "      <td>668.000000</td>\n",
              "      <td>668.000000</td>\n",
              "      <td>668.000000</td>\n",
              "      <td>668.000000</td>\n",
              "      <td>668.000000</td>\n",
              "      <td>668.000000</td>\n",
              "      <td>668.000000</td>\n",
              "      <td>668.000000</td>\n",
              "    </tr>\n",
              "    <tr>\n",
              "      <th>mean</th>\n",
              "      <td>334.500000</td>\n",
              "      <td>3.812874</td>\n",
              "      <td>120.405689</td>\n",
              "      <td>68.748503</td>\n",
              "      <td>20.567365</td>\n",
              "      <td>79.654192</td>\n",
              "      <td>31.860180</td>\n",
              "      <td>0.477329</td>\n",
              "      <td>33.091317</td>\n",
              "      <td>0.345808</td>\n",
              "    </tr>\n",
              "    <tr>\n",
              "      <th>std</th>\n",
              "      <td>192.979273</td>\n",
              "      <td>3.365672</td>\n",
              "      <td>32.291473</td>\n",
              "      <td>19.526392</td>\n",
              "      <td>16.020600</td>\n",
              "      <td>115.827750</td>\n",
              "      <td>7.827111</td>\n",
              "      <td>0.341398</td>\n",
              "      <td>11.711386</td>\n",
              "      <td>0.475988</td>\n",
              "    </tr>\n",
              "    <tr>\n",
              "      <th>min</th>\n",
              "      <td>1.000000</td>\n",
              "      <td>0.000000</td>\n",
              "      <td>0.000000</td>\n",
              "      <td>0.000000</td>\n",
              "      <td>0.000000</td>\n",
              "      <td>0.000000</td>\n",
              "      <td>0.000000</td>\n",
              "      <td>0.078000</td>\n",
              "      <td>21.000000</td>\n",
              "      <td>0.000000</td>\n",
              "    </tr>\n",
              "    <tr>\n",
              "      <th>25%</th>\n",
              "      <td>167.750000</td>\n",
              "      <td>1.000000</td>\n",
              "      <td>99.000000</td>\n",
              "      <td>64.000000</td>\n",
              "      <td>0.000000</td>\n",
              "      <td>0.000000</td>\n",
              "      <td>27.100000</td>\n",
              "      <td>0.238750</td>\n",
              "      <td>24.000000</td>\n",
              "      <td>0.000000</td>\n",
              "    </tr>\n",
              "    <tr>\n",
              "      <th>50%</th>\n",
              "      <td>334.500000</td>\n",
              "      <td>3.000000</td>\n",
              "      <td>116.000000</td>\n",
              "      <td>72.000000</td>\n",
              "      <td>23.000000</td>\n",
              "      <td>36.500000</td>\n",
              "      <td>32.000000</td>\n",
              "      <td>0.377000</td>\n",
              "      <td>29.000000</td>\n",
              "      <td>0.000000</td>\n",
              "    </tr>\n",
              "    <tr>\n",
              "      <th>75%</th>\n",
              "      <td>501.250000</td>\n",
              "      <td>6.000000</td>\n",
              "      <td>140.000000</td>\n",
              "      <td>80.000000</td>\n",
              "      <td>32.000000</td>\n",
              "      <td>126.000000</td>\n",
              "      <td>36.500000</td>\n",
              "      <td>0.641250</td>\n",
              "      <td>40.000000</td>\n",
              "      <td>1.000000</td>\n",
              "    </tr>\n",
              "    <tr>\n",
              "      <th>max</th>\n",
              "      <td>668.000000</td>\n",
              "      <td>17.000000</td>\n",
              "      <td>199.000000</td>\n",
              "      <td>122.000000</td>\n",
              "      <td>99.000000</td>\n",
              "      <td>846.000000</td>\n",
              "      <td>67.100000</td>\n",
              "      <td>2.420000</td>\n",
              "      <td>81.000000</td>\n",
              "      <td>1.000000</td>\n",
              "    </tr>\n",
              "  </tbody>\n",
              "</table>\n",
              "</div>\n",
              "      <button class=\"colab-df-convert\" onclick=\"convertToInteractive('df-f9981e13-866e-4cbe-92f4-00b7eed6a7a9')\"\n",
              "              title=\"Convert this dataframe to an interactive table.\"\n",
              "              style=\"display:none;\">\n",
              "        \n",
              "  <svg xmlns=\"http://www.w3.org/2000/svg\" height=\"24px\"viewBox=\"0 0 24 24\"\n",
              "       width=\"24px\">\n",
              "    <path d=\"M0 0h24v24H0V0z\" fill=\"none\"/>\n",
              "    <path d=\"M18.56 5.44l.94 2.06.94-2.06 2.06-.94-2.06-.94-.94-2.06-.94 2.06-2.06.94zm-11 1L8.5 8.5l.94-2.06 2.06-.94-2.06-.94L8.5 2.5l-.94 2.06-2.06.94zm10 10l.94 2.06.94-2.06 2.06-.94-2.06-.94-.94-2.06-.94 2.06-2.06.94z\"/><path d=\"M17.41 7.96l-1.37-1.37c-.4-.4-.92-.59-1.43-.59-.52 0-1.04.2-1.43.59L10.3 9.45l-7.72 7.72c-.78.78-.78 2.05 0 2.83L4 21.41c.39.39.9.59 1.41.59.51 0 1.02-.2 1.41-.59l7.78-7.78 2.81-2.81c.8-.78.8-2.07 0-2.86zM5.41 20L4 18.59l7.72-7.72 1.47 1.35L5.41 20z\"/>\n",
              "  </svg>\n",
              "      </button>\n",
              "      \n",
              "  <style>\n",
              "    .colab-df-container {\n",
              "      display:flex;\n",
              "      flex-wrap:wrap;\n",
              "      gap: 12px;\n",
              "    }\n",
              "\n",
              "    .colab-df-convert {\n",
              "      background-color: #E8F0FE;\n",
              "      border: none;\n",
              "      border-radius: 50%;\n",
              "      cursor: pointer;\n",
              "      display: none;\n",
              "      fill: #1967D2;\n",
              "      height: 32px;\n",
              "      padding: 0 0 0 0;\n",
              "      width: 32px;\n",
              "    }\n",
              "\n",
              "    .colab-df-convert:hover {\n",
              "      background-color: #E2EBFA;\n",
              "      box-shadow: 0px 1px 2px rgba(60, 64, 67, 0.3), 0px 1px 3px 1px rgba(60, 64, 67, 0.15);\n",
              "      fill: #174EA6;\n",
              "    }\n",
              "\n",
              "    [theme=dark] .colab-df-convert {\n",
              "      background-color: #3B4455;\n",
              "      fill: #D2E3FC;\n",
              "    }\n",
              "\n",
              "    [theme=dark] .colab-df-convert:hover {\n",
              "      background-color: #434B5C;\n",
              "      box-shadow: 0px 1px 3px 1px rgba(0, 0, 0, 0.15);\n",
              "      filter: drop-shadow(0px 1px 2px rgba(0, 0, 0, 0.3));\n",
              "      fill: #FFFFFF;\n",
              "    }\n",
              "  </style>\n",
              "\n",
              "      <script>\n",
              "        const buttonEl =\n",
              "          document.querySelector('#df-f9981e13-866e-4cbe-92f4-00b7eed6a7a9 button.colab-df-convert');\n",
              "        buttonEl.style.display =\n",
              "          google.colab.kernel.accessAllowed ? 'block' : 'none';\n",
              "\n",
              "        async function convertToInteractive(key) {\n",
              "          const element = document.querySelector('#df-f9981e13-866e-4cbe-92f4-00b7eed6a7a9');\n",
              "          const dataTable =\n",
              "            await google.colab.kernel.invokeFunction('convertToInteractive',\n",
              "                                                     [key], {});\n",
              "          if (!dataTable) return;\n",
              "\n",
              "          const docLinkHtml = 'Like what you see? Visit the ' +\n",
              "            '<a target=\"_blank\" href=https://colab.research.google.com/notebooks/data_table.ipynb>data table notebook</a>'\n",
              "            + ' to learn more about interactive tables.';\n",
              "          element.innerHTML = '';\n",
              "          dataTable['output_type'] = 'display_data';\n",
              "          await google.colab.output.renderOutput(dataTable, element);\n",
              "          const docLink = document.createElement('div');\n",
              "          docLink.innerHTML = docLinkHtml;\n",
              "          element.appendChild(docLink);\n",
              "        }\n",
              "      </script>\n",
              "    </div>\n",
              "  </div>\n",
              "  "
            ]
          },
          "metadata": {},
          "execution_count": 210
        }
      ]
    },
    {
      "cell_type": "code",
      "source": [
        "plt.figure(figsize=(8,8))\n",
        "sns.heatmap(df_Train.corr(), annot = True, cmap = 'YlOrBr', fmt='.1g')\n",
        "plt.title('Data Correlation')\n",
        "plt.show()"
      ],
      "metadata": {
        "colab": {
          "base_uri": "https://localhost:8080/",
          "height": 499
        },
        "id": "DMI4BjR-iKw7",
        "outputId": "096f0367-982b-4012-a48a-9f4611cb71d8"
      },
      "execution_count": 211,
      "outputs": [
        {
          "output_type": "display_data",
          "data": {
            "text/plain": [
              "<Figure size 576x576 with 2 Axes>"
            ],
            "image/png": "[encoded data removed]"
          },
          "metadata": {
            "needs_background": "light"
          }
        }
      ]
    },
    {
      "cell_type": "code",
      "source": [
        "import warnings\n",
        "warnings.filterwarnings('ignore')\n",
        "CountPlot = []\n",
        "CountPlot = df_Train['class']\n",
        "CountPlot = CountPlot.replace(0,'Negative')\n",
        "CountPlot = CountPlot.replace(1,'Postivie')\n",
        "\n",
        "plt.figure(figsize=(6,6))\n",
        "sns.countplot(CountPlot)\n",
        "plt.title('Count plot')\n",
        "plt.show()"
      ],
      "metadata": {
        "colab": {
          "base_uri": "https://localhost:8080/",
          "height": 404
        },
        "id": "d3BNGdRDlNC8",
        "outputId": "72e36026-cb91-4ac7-c2c9-e4a3e0345162"
      },
      "execution_count": 212,
      "outputs": [
        {
          "output_type": "display_data",
          "data": {
            "text/plain": [
              "<Figure size 432x432 with 1 Axes>"
            ],
            "image/png": "[encoded data removed]"
          },
          "metadata": {
            "needs_background": "light"
          }
        }
      ]
    },
    {
      "cell_type": "code",
      "source": [
        "# Removing of noise \n",
        "\n",
        "df_Train['A2'] = df_Train['A2'].replace(0, 140)\n",
        "df_Train['A3'] = df_Train['A3'].replace(0, 60)\n",
        "df_Train['A4'] = df_Train['A4'].replace(0, 8.5)\n",
        "df_Train['A5'] = df_Train['A5'].replace(0, 9)\n",
        "df_Train['A6'] = df_Train['A6'].replace(0, 18.5)"
      ],
      "metadata": {
        "id": "HcEK_mPNgg3W"
      },
      "execution_count": 213,
      "outputs": []
    },
    {
      "cell_type": "markdown",
      "source": [
        "# Data Splitting and Model Building"
      ],
      "metadata": {
        "id": "IKMPSLRNoduA"
      }
    },
    {
      "cell_type": "code",
      "source": [
        "'''\n",
        "\n",
        "from imblearn.over_sampling import SMOTE\n",
        "\n",
        "smote = SMOTE()\n",
        "df_Train.iloc[:,0:8], df_Train['class'] =smote.fit_resample(df_Train.iloc[:,0:8], df_Train['class'])\n",
        "\n",
        "'''"
      ],
      "metadata": {
        "colab": {
          "base_uri": "https://localhost:8080/",
          "height": 53
        },
        "id": "SDgV0Xk43eR9",
        "outputId": "76f2a7ec-b9bc-42cf-845d-a6007ea2ee4c"
      },
      "execution_count": 122,
      "outputs": [
        {
          "output_type": "execute_result",
          "data": {
            "text/plain": [
              "\"\\n\\nfrom imblearn.over_sampling import SMOTE\\n\\nsmote = SMOTE()\\ndf_Train.iloc[:,0:8], df_Train['class'] =smote.fit_resample(df_Train.iloc[:,0:8], df_Train['class'])\\n\\n\""
            ],
            "application/vnd.google.colaboratory.intrinsic+json": {
              "type": "string"
            }
          },
          "metadata": {},
          "execution_count": 122
        }
      ]
    },
    {
      "cell_type": "code",
      "source": [
        "# Splitting of data\n",
        "df_Train.drop('id', axis= 1, inplace = True)\n",
        "x = df_Train.iloc[:,0:8]\n",
        "y = df_Train['class']\n"
      ],
      "metadata": {
        "id": "2JrUGvArojM1"
      },
      "execution_count": 214,
      "outputs": []
    },
    {
      "cell_type": "code",
      "source": [
        "# Feature selection using ExtraTreesClassifier\n",
        "\n",
        "X=df_Train.iloc[:,0:8]\n",
        "Y=df_Train['class']\n",
        "from sklearn.ensemble import ExtraTreesClassifier\n",
        "model = ExtraTreesClassifier()\n",
        "model.fit(X, Y)\n",
        "print(model.feature_importances_)\n",
        "feat_importances = pd.Series(model.feature_importances_, index=X.columns)\n",
        "feat_importances.nlargest(13).plot.bar()\n",
        "plt.show()\n",
        "list1=feat_importances.keys().to_list()"
      ],
      "metadata": {
        "colab": {
          "base_uri": "https://localhost:8080/",
          "height": 305
        },
        "id": "OTxg7__rq_V1",
        "outputId": "5e7efeea-40b7-4c6a-a6f0-2d4f4a6f8aa1"
      },
      "execution_count": 215,
      "outputs": [
        {
          "output_type": "stream",
          "name": "stdout",
          "text": [
            "[0.10722367 0.23183386 0.09905266 0.0782581  0.07739863 0.15591316\n",
            " 0.11523323 0.13508668]\n"
          ]
        },
        {
          "output_type": "display_data",
          "data": {
            "text/plain": [
              "<Figure size 432x288 with 1 Axes>"
            ],
            "image/png": "[encoded data removed]"
          },
          "metadata": {
            "needs_background": "light"
          }
        }
      ]
    },
    {
      "cell_type": "code",
      "source": [
        "# Defining Early Stop method\n",
        "\n",
        "EarlyStop = keras.callbacks.EarlyStopping(monitor='val_accuracy', patience=5, restore_best_weights=True)\n"
      ],
      "metadata": {
        "id": "fGH_8BZKNU5M"
      },
      "execution_count": 216,
      "outputs": []
    },
    {
      "cell_type": "markdown",
      "source": [
        "## Model 1 \n",
        "   starting with 2 nodes\n",
        "   "
      ],
      "metadata": {
        "id": "MTQ2fUoKMcIJ"
      }
    },
    {
      "cell_type": "code",
      "source": [
        "# Data split for train and validation \n",
        "\n",
        "from sklearn.preprocessing import StandardScaler\n",
        "\n",
        "x = df_Train.iloc[:, [1,5]]\n",
        "\n",
        "\n",
        "scaler = StandardScaler()\n",
        "x =  scaler.fit_transform(x)\n",
        "\n",
        "X_train, X_test, Y_train, Y_test = train_test_split(x, y, test_size=0.3,\n",
        "                                                    random_state=RANDOM_SEED)\n",
        "\n",
        "\n",
        "# define the keras model\n",
        "model1 = keras.Sequential()\n",
        "model1.add(layers.Dense(4, input_dim=2, activation='relu'))\n",
        "model1.add(layers.Dense(6, activation='relu'))\n",
        "model1.add(layers.Dense(1, activation='sigmoid'))\n",
        "\n",
        "model1.summary()"
      ],
      "metadata": {
        "colab": {
          "base_uri": "https://localhost:8080/"
        },
        "id": "2e1Zhdz3Oham",
        "outputId": "c5a7fad4-8e44-43b2-8fb7-ea474b31d600"
      },
      "execution_count": 217,
      "outputs": [
        {
          "output_type": "stream",
          "name": "stdout",
          "text": [
            "Model: \"sequential_1\"\n",
            "_________________________________________________________________\n",
            " Layer (type)                Output Shape              Param #   \n",
            "=================================================================\n",
            " dense_3 (Dense)             (None, 4)                 12        \n",
            "                                                                 \n",
            " dense_4 (Dense)             (None, 6)                 30        \n",
            "                                                                 \n",
            " dense_5 (Dense)             (None, 1)                 7         \n",
            "                                                                 \n",
            "=================================================================\n",
            "Total params: 49\n",
            "Trainable params: 49\n",
            "Non-trainable params: 0\n",
            "_________________________________________________________________\n"
          ]
        }
      ]
    },
    {
      "cell_type": "code",
      "source": [
        "\n",
        "# Compiling the keras model\n",
        "model1.compile(loss='binary_crossentropy', optimizer='adam', metrics=['accuracy'])\n",
        "\n",
        "# Fitting the model\n",
        "m1 = model1.fit(X_train, Y_train, batch_size=20, epochs=120, \n",
        "           validation_data=(X_test, Y_test) ,  callbacks = [EarlyStop])\n",
        "     \n",
        "Model1_scores = model1.evaluate(X_test, Y_test, verbose=0)\n",
        "\n",
        "print('\\n')\n",
        "print(\"Model Score: %.2f%%\" % (Model1_scores[1]*100))\n",
        "\n",
        "m1_val_accuracy = m1.history['val_accuracy'][-1] * 100\n",
        "print('\\n')\n",
        "print(\"Validation Score: %.2f%%\" % (m1_val_accuracy))\n",
        "\n",
        "\n"
      ],
      "metadata": {
        "colab": {
          "base_uri": "https://localhost:8080/"
        },
        "id": "Ps0cXoDoO3aK",
        "outputId": "9599b1f3-882a-4952-cdbf-f416bab70b6f"
      },
      "execution_count": 218,
      "outputs": [
        {
          "output_type": "stream",
          "name": "stdout",
          "text": [
            "Epoch 1/120\n",
            "24/24 [==============================] - 3s 26ms/step - loss: 0.5918 - accuracy: 0.6938 - val_loss: 0.5808 - val_accuracy: 0.6866\n",
            "Epoch 2/120\n",
            "24/24 [==============================] - 0s 11ms/step - loss: 0.5734 - accuracy: 0.7002 - val_loss: 0.5638 - val_accuracy: 0.7015\n",
            "Epoch 3/120\n",
            "24/24 [==============================] - 0s 15ms/step - loss: 0.5592 - accuracy: 0.6938 - val_loss: 0.5512 - val_accuracy: 0.7164\n",
            "Epoch 4/120\n",
            "24/24 [==============================] - 0s 10ms/step - loss: 0.5495 - accuracy: 0.6959 - val_loss: 0.5414 - val_accuracy: 0.7164\n",
            "Epoch 5/120\n",
            "24/24 [==============================] - 0s 13ms/step - loss: 0.5420 - accuracy: 0.7066 - val_loss: 0.5340 - val_accuracy: 0.7363\n",
            "Epoch 6/120\n",
            "24/24 [==============================] - 0s 12ms/step - loss: 0.5365 - accuracy: 0.7109 - val_loss: 0.5291 - val_accuracy: 0.7463\n",
            "Epoch 7/120\n",
            "24/24 [==============================] - 0s 15ms/step - loss: 0.5318 - accuracy: 0.7238 - val_loss: 0.5246 - val_accuracy: 0.7711\n",
            "Epoch 8/120\n",
            "24/24 [==============================] - 0s 13ms/step - loss: 0.5279 - accuracy: 0.7409 - val_loss: 0.5202 - val_accuracy: 0.7761\n",
            "Epoch 9/120\n",
            "24/24 [==============================] - 0s 17ms/step - loss: 0.5246 - accuracy: 0.7409 - val_loss: 0.5164 - val_accuracy: 0.7811\n",
            "Epoch 10/120\n",
            "24/24 [==============================] - 0s 14ms/step - loss: 0.5217 - accuracy: 0.7452 - val_loss: 0.5141 - val_accuracy: 0.7811\n",
            "Epoch 11/120\n",
            "24/24 [==============================] - 0s 13ms/step - loss: 0.5193 - accuracy: 0.7452 - val_loss: 0.5111 - val_accuracy: 0.7910\n",
            "Epoch 12/120\n",
            "24/24 [==============================] - 0s 8ms/step - loss: 0.5169 - accuracy: 0.7580 - val_loss: 0.5091 - val_accuracy: 0.7910\n",
            "Epoch 13/120\n",
            "24/24 [==============================] - 0s 9ms/step - loss: 0.5147 - accuracy: 0.7559 - val_loss: 0.5070 - val_accuracy: 0.7861\n",
            "Epoch 14/120\n",
            "24/24 [==============================] - 0s 12ms/step - loss: 0.5128 - accuracy: 0.7602 - val_loss: 0.5044 - val_accuracy: 0.7662\n",
            "Epoch 15/120\n",
            "24/24 [==============================] - 0s 10ms/step - loss: 0.5108 - accuracy: 0.7559 - val_loss: 0.5023 - val_accuracy: 0.7711\n",
            "Epoch 16/120\n",
            "24/24 [==============================] - 0s 13ms/step - loss: 0.5088 - accuracy: 0.7537 - val_loss: 0.5001 - val_accuracy: 0.7711\n",
            "\n",
            "\n",
            "Model Score: 79.10%\n",
            "\n",
            "\n",
            "Validation Score: 77.11%\n"
          ]
        }
      ]
    },
    {
      "cell_type": "code",
      "source": [
        "\n",
        "# summarize the history for accuracy\n",
        "plt.plot(m1.history['accuracy'])\n",
        "plt.plot(m1.history['val_accuracy'])\n",
        "plt.title('model accuracy')\n",
        "plt.ylabel('accuracy')\n",
        "plt.xlabel('epoch')\n",
        "plt.legend(['train','test'], loc='upper left')\n",
        "plt.show()\n",
        "\n",
        "# summarize the history for loss\n",
        "plt.plot(m1.history['loss'])\n",
        "plt.plot(m1.history['val_loss'])\n",
        "plt.title('model loss')\n",
        "plt.ylabel('loss')\n",
        "plt.xlabel('epoch')\n",
        "plt.legend(['train','test'], loc='upper left')\n",
        "plt.show()\n",
        "     "
      ],
      "metadata": {
        "colab": {
          "base_uri": "https://localhost:8080/",
          "height": 573
        },
        "id": "atyLJZQR9iNy",
        "outputId": "82cdb2a6-81fa-47a0-f920-1bfe587fdf65"
      },
      "execution_count": 219,
      "outputs": [
        {
          "output_type": "display_data",
          "data": {
            "text/plain": [
              "<Figure size 432x288 with 1 Axes>"
            ],
            "image/png": "[encoded data removed]"
          },
          "metadata": {
            "needs_background": "light"
          }
        },
        {
          "output_type": "display_data",
          "data": {
            "text/plain": [
              "<Figure size 432x288 with 1 Axes>"
            ],
            "image/png": "[encoded data removed]"
          },
          "metadata": {
            "needs_background": "light"
          }
        }
      ]
    },
    {
      "cell_type": "code",
      "source": [
        "# clear session\n",
        "keras.backend.clear_session()\n",
        "keras.utils.set_random_seed(seed)"
      ],
      "metadata": {
        "id": "xqoOtMtbRTsd"
      },
      "execution_count": 220,
      "outputs": []
    },
    {
      "cell_type": "markdown",
      "source": [
        "## Model 2\n",
        "    starting with 4 nodes\n",
        "    \n"
      ],
      "metadata": {
        "id": "HFiQphljMl1f"
      }
    },
    {
      "cell_type": "code",
      "source": [
        "# Data split for train and validation \n",
        "x = df_Train.iloc[:, [1,5,7,6]]\n",
        "\n",
        "\n",
        "\n",
        "scaler = StandardScaler()\n",
        "x =  scaler.fit_transform(x)\n",
        "\n",
        "X_train, X_test, Y_train, Y_test = train_test_split(x, y, test_size=0.3,\n",
        "                                                    random_state=RANDOM_SEED)\n",
        "\n",
        "\n",
        "# define the keras model\n",
        "model2 = keras.Sequential()\n",
        "model2.add(layers.Dense(8, input_dim=4, activation='relu'))\n",
        "model2.add(layers.Dense(16, activation='relu'))\n",
        "model2.add(layers.Dense(1, activation='sigmoid'))\n",
        "\n",
        "model2.summary()"
      ],
      "metadata": {
        "colab": {
          "base_uri": "https://localhost:8080/"
        },
        "id": "c6EyZ-2NOftv",
        "outputId": "78a1700b-cfd9-42f2-fbc3-54d1a38f7999"
      },
      "execution_count": 221,
      "outputs": [
        {
          "output_type": "stream",
          "name": "stdout",
          "text": [
            "Model: \"sequential\"\n",
            "_________________________________________________________________\n",
            " Layer (type)                Output Shape              Param #   \n",
            "=================================================================\n",
            " dense (Dense)               (None, 8)                 40        \n",
            "                                                                 \n",
            " dense_1 (Dense)             (None, 16)                144       \n",
            "                                                                 \n",
            " dense_2 (Dense)             (None, 1)                 17        \n",
            "                                                                 \n",
            "=================================================================\n",
            "Total params: 201\n",
            "Trainable params: 201\n",
            "Non-trainable params: 0\n",
            "_________________________________________________________________\n"
          ]
        }
      ]
    },
    {
      "cell_type": "code",
      "source": [
        "\n",
        "# Compiling the keras model\n",
        "model2.compile(loss='binary_crossentropy', optimizer='adam', metrics=['accuracy'])\n",
        "\n",
        "# Fitting the model\n",
        "m2 = model2.fit(X_train, Y_train, batch_size=20, epochs=120, \n",
        "           validation_data=(X_test, Y_test) ,  callbacks = [EarlyStop])\n",
        "     \n",
        "Model2_scores = model2.evaluate(X_test, Y_test, verbose=0)\n",
        "print('\\n')\n",
        "print(\"Accuracy: %.2f%%\" % (Model2_scores[1]*100))\n",
        "\n",
        "\n",
        "m2_val_accuracy = m2.history['val_accuracy'][-1] * 100\n",
        "print('\\n')\n",
        "print(\"Validation Score: %.2f%%\" % (m2_val_accuracy))\n"
      ],
      "metadata": {
        "colab": {
          "base_uri": "https://localhost:8080/"
        },
        "id": "8vcwXhQvOyyU",
        "outputId": "ba3fb0af-85b4-4299-d4a1-95685a94fcd3"
      },
      "execution_count": 222,
      "outputs": [
        {
          "output_type": "stream",
          "name": "stdout",
          "text": [
            "Epoch 1/120\n",
            "24/24 [==============================] - 3s 36ms/step - loss: 0.5576 - accuracy: 0.6981 - val_loss: 0.5242 - val_accuracy: 0.8060\n",
            "Epoch 2/120\n",
            "24/24 [==============================] - 0s 20ms/step - loss: 0.5350 - accuracy: 0.7088 - val_loss: 0.5027 - val_accuracy: 0.8060\n",
            "Epoch 3/120\n",
            "24/24 [==============================] - 0s 19ms/step - loss: 0.5177 - accuracy: 0.7281 - val_loss: 0.4875 - val_accuracy: 0.8159\n",
            "Epoch 4/120\n",
            "24/24 [==============================] - 0s 19ms/step - loss: 0.5064 - accuracy: 0.7409 - val_loss: 0.4753 - val_accuracy: 0.8209\n",
            "Epoch 5/120\n",
            "24/24 [==============================] - 0s 16ms/step - loss: 0.4981 - accuracy: 0.7409 - val_loss: 0.4673 - val_accuracy: 0.8159\n",
            "Epoch 6/120\n",
            "24/24 [==============================] - 1s 27ms/step - loss: 0.4924 - accuracy: 0.7516 - val_loss: 0.4610 - val_accuracy: 0.8209\n",
            "Epoch 7/120\n",
            "24/24 [==============================] - 1s 23ms/step - loss: 0.4876 - accuracy: 0.7516 - val_loss: 0.4570 - val_accuracy: 0.8010\n",
            "Epoch 8/120\n",
            "24/24 [==============================] - 0s 15ms/step - loss: 0.4840 - accuracy: 0.7537 - val_loss: 0.4543 - val_accuracy: 0.7960\n",
            "Epoch 9/120\n",
            "24/24 [==============================] - 0s 14ms/step - loss: 0.4817 - accuracy: 0.7537 - val_loss: 0.4521 - val_accuracy: 0.7910\n",
            "\n",
            "\n",
            "Accuracy: 82.09%\n",
            "\n",
            "\n",
            "Validation Score: 79.10%\n"
          ]
        }
      ]
    },
    {
      "cell_type": "code",
      "source": [
        "\n",
        "# summarize the history for accuracy\n",
        "plt.plot(m2.history['accuracy'])\n",
        "plt.plot(m2.history['val_accuracy'])\n",
        "plt.title('model accuracy')\n",
        "plt.ylabel('accuracy')\n",
        "plt.xlabel('epoch')\n",
        "plt.legend(['train','test'], loc='upper left')\n",
        "plt.show()\n",
        "\n",
        "# summarize the history for loss\n",
        "plt.plot(m2.history['loss'])\n",
        "plt.plot(m2.history['val_loss'])\n",
        "plt.title('model loss')\n",
        "plt.ylabel('loss')\n",
        "plt.xlabel('epoch')\n",
        "plt.legend(['train','test'], loc='upper left')\n",
        "plt.show()\n",
        "     "
      ],
      "metadata": {
        "colab": {
          "base_uri": "https://localhost:8080/",
          "height": 573
        },
        "id": "UFxnclus-cfd",
        "outputId": "5da618d5-e5e9-4008-e5bd-a2f3db854ce2"
      },
      "execution_count": 223,
      "outputs": [
        {
          "output_type": "display_data",
          "data": {
            "text/plain": [
              "<Figure size 432x288 with 1 Axes>"
            ],
            "image/png": "[encoded data removed]"
          },
          "metadata": {
            "needs_background": "light"
          }
        },
        {
          "output_type": "display_data",
          "data": {
            "text/plain": [
              "<Figure size 432x288 with 1 Axes>"
            ],
            "image/png": "[encoded data removed]"
          },
          "metadata": {
            "needs_background": "light"
          }
        }
      ]
    },
    {
      "cell_type": "code",
      "source": [
        "\n",
        "# clear session\n",
        "keras.backend.clear_session()\n",
        "keras.utils.set_random_seed(seed)"
      ],
      "metadata": {
        "id": "gvUdmTOARXiz"
      },
      "execution_count": 224,
      "outputs": []
    },
    {
      "cell_type": "markdown",
      "source": [
        "## Model 3\n",
        "   starting with 6 nodes"
      ],
      "metadata": {
        "id": "JZ-mdmAhMx8w"
      }
    },
    {
      "cell_type": "code",
      "source": [
        "# Data split for train and validation \n",
        "x = df_Train.iloc[:, [1,5,7,6,0,2]]\n",
        "\n",
        "scaler = StandardScaler()\n",
        "x =  scaler.fit_transform(x)\n",
        "\n",
        "X_train, X_test, Y_train, Y_test = train_test_split(x, y, test_size=0.3,\n",
        "                                                    random_state=RANDOM_SEED)\n",
        "\n",
        "\n",
        "# define the keras model\n",
        "model3 = keras.Sequential()\n",
        "model3.add(layers.Dense(12, input_dim=6, activation='relu'))\n",
        "model3.add(layers.Dense(24, activation='relu'))\n",
        "model3.add(layers.Dense(1, activation='sigmoid'))\n",
        "\n",
        "model3.summary()"
      ],
      "metadata": {
        "colab": {
          "base_uri": "https://localhost:8080/"
        },
        "id": "cyuVBV8vOUEa",
        "outputId": "b429f666-d699-472c-ac92-1d256f2f20d7"
      },
      "execution_count": 225,
      "outputs": [
        {
          "output_type": "stream",
          "name": "stdout",
          "text": [
            "Model: \"sequential\"\n",
            "_________________________________________________________________\n",
            " Layer (type)                Output Shape              Param #   \n",
            "=================================================================\n",
            " dense (Dense)               (None, 12)                84        \n",
            "                                                                 \n",
            " dense_1 (Dense)             (None, 24)                312       \n",
            "                                                                 \n",
            " dense_2 (Dense)             (None, 1)                 25        \n",
            "                                                                 \n",
            "=================================================================\n",
            "Total params: 421\n",
            "Trainable params: 421\n",
            "Non-trainable params: 0\n",
            "_________________________________________________________________\n"
          ]
        }
      ]
    },
    {
      "cell_type": "code",
      "source": [
        "\n",
        "# Compiling the keras model\n",
        "model3.compile(loss='binary_crossentropy', optimizer='adam', metrics=['accuracy'])\n",
        "\n",
        "# Fitting the model\n",
        "m3 = model3.fit(X_train, Y_train, batch_size=20, epochs=120, \n",
        "           validation_data=(X_test, Y_test) ,  callbacks = [EarlyStop])\n",
        "     \n",
        "Model3_scores = model3.evaluate(X_test, Y_test, verbose=0)\n",
        "print('\\n')\n",
        "print(\"Accuracy: %.2f%%\" % (Model3_scores[1]*100))\n",
        "\n",
        "\n",
        "m3_val_accuracy = m3.history['val_accuracy'][-1] * 100\n",
        "print('\\n')\n",
        "print(\"Validation Score: %.2f%%\" % (m3_val_accuracy))\n"
      ],
      "metadata": {
        "colab": {
          "base_uri": "https://localhost:8080/"
        },
        "id": "bhUbA-5sOsOz",
        "outputId": "dbb5df05-e698-486c-fb23-3222e586d4db"
      },
      "execution_count": 226,
      "outputs": [
        {
          "output_type": "stream",
          "name": "stdout",
          "text": [
            "Epoch 1/120\n",
            "24/24 [==============================] - 3s 32ms/step - loss: 0.6938 - accuracy: 0.6296 - val_loss: 0.6611 - val_accuracy: 0.6766\n",
            "Epoch 2/120\n",
            "24/24 [==============================] - 0s 11ms/step - loss: 0.6427 - accuracy: 0.6831 - val_loss: 0.5994 - val_accuracy: 0.7164\n",
            "Epoch 3/120\n",
            "24/24 [==============================] - 0s 20ms/step - loss: 0.6023 - accuracy: 0.7045 - val_loss: 0.5489 - val_accuracy: 0.7861\n",
            "Epoch 4/120\n",
            "24/24 [==============================] - 0s 17ms/step - loss: 0.5704 - accuracy: 0.7281 - val_loss: 0.5051 - val_accuracy: 0.8010\n",
            "Epoch 5/120\n",
            "24/24 [==============================] - 0s 13ms/step - loss: 0.5422 - accuracy: 0.7302 - val_loss: 0.4731 - val_accuracy: 0.8109\n",
            "Epoch 6/120\n",
            "24/24 [==============================] - 0s 12ms/step - loss: 0.5199 - accuracy: 0.7430 - val_loss: 0.4505 - val_accuracy: 0.8060\n",
            "Epoch 7/120\n",
            "24/24 [==============================] - 0s 11ms/step - loss: 0.5027 - accuracy: 0.7516 - val_loss: 0.4365 - val_accuracy: 0.8109\n",
            "Epoch 8/120\n",
            "24/24 [==============================] - 0s 9ms/step - loss: 0.4906 - accuracy: 0.7537 - val_loss: 0.4275 - val_accuracy: 0.8109\n",
            "Epoch 9/120\n",
            "24/24 [==============================] - 1s 22ms/step - loss: 0.4819 - accuracy: 0.7580 - val_loss: 0.4217 - val_accuracy: 0.8109\n",
            "Epoch 10/120\n",
            "24/24 [==============================] - 1s 22ms/step - loss: 0.4758 - accuracy: 0.7645 - val_loss: 0.4186 - val_accuracy: 0.8109\n",
            "\n",
            "\n",
            "Accuracy: 81.09%\n",
            "\n",
            "\n",
            "Validation Score: 81.09%\n"
          ]
        }
      ]
    },
    {
      "cell_type": "code",
      "source": [
        "\n",
        "# summarize the history for accuracy\n",
        "plt.plot(m3.history['accuracy'])\n",
        "plt.plot(m3.history['val_accuracy'])\n",
        "plt.title('model accuracy')\n",
        "plt.ylabel('accuracy')\n",
        "plt.xlabel('epoch')\n",
        "plt.legend(['train','test'], loc='upper left')\n",
        "plt.show()\n",
        "\n",
        "# summarize the history for loss\n",
        "plt.plot(m3.history['loss'])\n",
        "plt.plot(m3.history['val_loss'])\n",
        "plt.title('model loss')\n",
        "plt.ylabel('loss')\n",
        "plt.xlabel('epoch')\n",
        "plt.legend(['train','test'], loc='upper left')\n",
        "plt.show()\n",
        "     "
      ],
      "metadata": {
        "colab": {
          "base_uri": "https://localhost:8080/",
          "height": 573
        },
        "id": "W2Kwb-uv-liJ",
        "outputId": "61ccf8c8-2a2f-4da0-870d-6fcbf704d43f"
      },
      "execution_count": 227,
      "outputs": [
        {
          "output_type": "display_data",
          "data": {
            "text/plain": [
              "<Figure size 432x288 with 1 Axes>"
            ],
            "image/png": "[encoded data removed]"
          },
          "metadata": {
            "needs_background": "light"
          }
        },
        {
          "output_type": "display_data",
          "data": {
            "text/plain": [
              "<Figure size 432x288 with 1 Axes>"
            ],
            "image/png": "[encoded data removed]"
          },
          "metadata": {
            "needs_background": "light"
          }
        }
      ]
    },
    {
      "cell_type": "code",
      "source": [
        "\n",
        "# clear session\n",
        "keras.backend.clear_session()\n",
        "keras.utils.set_random_seed(seed)"
      ],
      "metadata": {
        "id": "dDBZh3UWRmpN"
      },
      "execution_count": 228,
      "outputs": []
    },
    {
      "cell_type": "markdown",
      "source": [
        "## Model 4\n",
        "   starting with 8 nodes"
      ],
      "metadata": {
        "id": "rTl_vnBwM4Qq"
      }
    },
    {
      "cell_type": "code",
      "source": [
        "# Data split for train and validation \n",
        "\n",
        "\n",
        "x = df_Train.iloc[:, 0:8]\n",
        "\n",
        "scaler = StandardScaler()\n",
        "x =  scaler.fit_transform(x)\n",
        "\n",
        "X_train, X_test, Y_train, Y_test = train_test_split(x, y, test_size=0.3,\n",
        "                                                    random_state=RANDOM_SEED)\n",
        "\n",
        "\n",
        "# define the keras model\n",
        "model4 = keras.Sequential()\n",
        "model4.add(layers.Dense(16, input_dim=8, activation='relu'))\n",
        "model4.add(layers.Dense(32, activation='relu'))\n",
        "model4.add(layers.Dense(1, activation='sigmoid'))\n",
        "\n",
        "model4.summary()"
      ],
      "metadata": {
        "colab": {
          "base_uri": "https://localhost:8080/"
        },
        "id": "3nbmmfWepZ5V",
        "outputId": "47200dd7-cc53-4cca-f03e-dc6bfe5f6d95"
      },
      "execution_count": 229,
      "outputs": [
        {
          "output_type": "stream",
          "name": "stdout",
          "text": [
            "Model: \"sequential\"\n",
            "_________________________________________________________________\n",
            " Layer (type)                Output Shape              Param #   \n",
            "=================================================================\n",
            " dense (Dense)               (None, 16)                144       \n",
            "                                                                 \n",
            " dense_1 (Dense)             (None, 32)                544       \n",
            "                                                                 \n",
            " dense_2 (Dense)             (None, 1)                 33        \n",
            "                                                                 \n",
            "=================================================================\n",
            "Total params: 721\n",
            "Trainable params: 721\n",
            "Non-trainable params: 0\n",
            "_________________________________________________________________\n"
          ]
        }
      ]
    },
    {
      "cell_type": "code",
      "source": [
        "\n",
        "# Compiling the keras model\n",
        "model4.compile(loss='binary_crossentropy', optimizer='adam', metrics=['accuracy'])\n",
        "\n",
        "# Fitting the model\n",
        "m4 = model4.fit(X_train, Y_train, batch_size=20, epochs=120, \n",
        "           validation_data=(X_test, Y_test) ,  callbacks = [EarlyStop])\n",
        "     \n",
        "Model4_scores = model4.evaluate(X_test, Y_test, verbose=0)\n",
        "print('\\n')\n",
        "print(\"Accuracy: %.2f%%\" % (Model4_scores[1]*100))\n",
        "\n",
        "\n",
        "m4_val_accuracy = m1.history['val_accuracy'][-1] * 100\n",
        "print('\\n')\n",
        "print(\"Validation Score: %.2f%%\" % (m4_val_accuracy))\n"
      ],
      "metadata": {
        "colab": {
          "base_uri": "https://localhost:8080/"
        },
        "id": "LP_7pslxv2ZL",
        "outputId": "549bf247-40f0-47b3-d4ce-af9b506d4741"
      },
      "execution_count": 230,
      "outputs": [
        {
          "output_type": "stream",
          "name": "stdout",
          "text": [
            "Epoch 1/120\n",
            "24/24 [==============================] - 4s 47ms/step - loss: 0.5986 - accuracy: 0.6916 - val_loss: 0.5571 - val_accuracy: 0.7214\n",
            "Epoch 2/120\n",
            "24/24 [==============================] - 0s 14ms/step - loss: 0.5416 - accuracy: 0.7366 - val_loss: 0.5139 - val_accuracy: 0.7662\n",
            "Epoch 3/120\n",
            "24/24 [==============================] - 0s 11ms/step - loss: 0.5091 - accuracy: 0.7602 - val_loss: 0.4888 - val_accuracy: 0.7761\n",
            "Epoch 4/120\n",
            "24/24 [==============================] - 0s 15ms/step - loss: 0.4904 - accuracy: 0.7687 - val_loss: 0.4734 - val_accuracy: 0.7861\n",
            "Epoch 5/120\n",
            "24/24 [==============================] - 0s 16ms/step - loss: 0.4784 - accuracy: 0.7687 - val_loss: 0.4647 - val_accuracy: 0.7861\n",
            "Epoch 6/120\n",
            "24/24 [==============================] - 0s 17ms/step - loss: 0.4688 - accuracy: 0.7752 - val_loss: 0.4602 - val_accuracy: 0.7761\n",
            "Epoch 7/120\n",
            "24/24 [==============================] - 0s 10ms/step - loss: 0.4602 - accuracy: 0.7837 - val_loss: 0.4595 - val_accuracy: 0.7811\n",
            "Epoch 8/120\n",
            "24/24 [==============================] - 0s 9ms/step - loss: 0.4541 - accuracy: 0.7859 - val_loss: 0.4561 - val_accuracy: 0.7711\n",
            "Epoch 9/120\n",
            "24/24 [==============================] - 0s 16ms/step - loss: 0.4490 - accuracy: 0.7816 - val_loss: 0.4533 - val_accuracy: 0.7711\n",
            "\n",
            "\n",
            "Accuracy: 78.61%\n",
            "\n",
            "\n",
            "Validation Score: 77.11%\n"
          ]
        }
      ]
    },
    {
      "cell_type": "code",
      "source": [
        "\n",
        "# summarize the history for accuracy\n",
        "plt.plot(m4.history['accuracy'])\n",
        "plt.plot(m4.history['val_accuracy'])\n",
        "plt.title('model accuracy')\n",
        "plt.ylabel('accuracy')\n",
        "plt.xlabel('epoch')\n",
        "plt.legend(['train','test'], loc='upper left')\n",
        "plt.show()\n",
        "\n",
        "# summarize the history for loss\n",
        "plt.plot(m4.history['loss'])\n",
        "plt.plot(m4.history['val_loss'])\n",
        "plt.title('model loss')\n",
        "plt.ylabel('loss')\n",
        "plt.xlabel('epoch')\n",
        "plt.legend(['train','test'], loc='upper left')\n",
        "plt.show()\n",
        "     "
      ],
      "metadata": {
        "colab": {
          "base_uri": "https://localhost:8080/",
          "height": 573
        },
        "id": "Y9MSlisl-r_p",
        "outputId": "34d6d19b-7463-4f7f-b58f-97d2335bb36a"
      },
      "execution_count": 231,
      "outputs": [
        {
          "output_type": "display_data",
          "data": {
            "text/plain": [
              "<Figure size 432x288 with 1 Axes>"
            ],
            "image/png": "[encoded data removed]"
          },
          "metadata": {
            "needs_background": "light"
          }
        },
        {
          "output_type": "display_data",
          "data": {
            "text/plain": [
              "<Figure size 432x288 with 1 Axes>"
            ],
            "image/png": "[encoded data removed]"
          },
          "metadata": {
            "needs_background": "light"
          }
        }
      ]
    },
    {
      "cell_type": "code",
      "source": [
        "\n",
        "# clear session\n",
        "keras.backend.clear_session()\n",
        "keras.utils.set_random_seed(seed)"
      ],
      "metadata": {
        "id": "Dnx6zEdTRpwr"
      },
      "execution_count": 232,
      "outputs": []
    },
    {
      "cell_type": "markdown",
      "source": [
        "##  Model Score & Accuracy"
      ],
      "metadata": {
        "id": "XoBcXKZ7Smhg"
      }
    },
    {
      "cell_type": "code",
      "source": [
        "# Checking all the model accuracy\n",
        "\n",
        "print('All Model Score')\n",
        "print('\\n')\n",
        "\n",
        "print('|-----------------|')\n",
        "print(f'|Model  |Score    |')\n",
        "print('|-----------------|')\n",
        "print(f'| M1    |{Model1_scores[1] * 100 :.2f}    |')\n",
        "print(f'| M2    |{Model2_scores[1] * 100 :.2f}    |')\n",
        "print(f'| M3    |{Model3_scores[1] * 100 :.2f}    |')\n",
        "print(f'| M4    |{Model4_scores[1] * 100 :.2f}    |')\n",
        "print('|-----------------|')\n",
        "\n",
        "print('\\n')\n",
        "\n",
        "# Checking all the model accuracy\n",
        "\n",
        "print('All Model Accuracy')\n",
        "print('\\n')\n",
        "\n",
        "print('|-----------------|')\n",
        "print(f'|Model  |Accuracy |')\n",
        "print('|-----------------|')\n",
        "print(f'| M1    |{m1_val_accuracy:.2f}    |')\n",
        "print(f'| M2    |{m2_val_accuracy:.2f}    |')\n",
        "print(f'| M3    |{m3_val_accuracy:.2f}    |')\n",
        "print(f'| M4    |{m4_val_accuracy:.2f}    |')\n",
        "print('|-----------------|')"
      ],
      "metadata": {
        "colab": {
          "base_uri": "https://localhost:8080/"
        },
        "id": "B51NhYBueteQ",
        "outputId": "a365dbe6-6989-4acc-9bd3-4a507a480911"
      },
      "execution_count": 233,
      "outputs": [
        {
          "output_type": "stream",
          "name": "stdout",
          "text": [
            "All Model Score\n",
            "\n",
            "\n",
            "|-----------------|\n",
            "|Model  |Score    |\n",
            "|-----------------|\n",
            "| M1    |79.10    |\n",
            "| M2    |82.09    |\n",
            "| M3    |81.09    |\n",
            "| M4    |78.61    |\n",
            "|-----------------|\n",
            "\n",
            "\n",
            "All Model Accuracy\n",
            "\n",
            "\n",
            "|-----------------|\n",
            "|Model  |Accuracy |\n",
            "|-----------------|\n",
            "| M1    |77.11    |\n",
            "| M2    |79.10    |\n",
            "| M3    |81.09    |\n",
            "| M4    |77.11    |\n",
            "|-----------------|\n"
          ]
        }
      ]
    },
    {
      "cell_type": "markdown",
      "source": [
        "## Hyper Tuning using Keras tuner"
      ],
      "metadata": {
        "id": "_AiUkdKGu_x6"
      }
    },
    {
      "cell_type": "code",
      "source": [
        "from IPython.display import display\n",
        "# define a callback to clear the training outputs at the end of every training step\n",
        "class ClearTrainingOutput(tf.keras.callbacks.Callback):\n",
        "  def on_train_end(*args, **kwargs):\n",
        "    IPython.display.clear_output(wait = True)"
      ],
      "metadata": {
        "id": "odW6J4clxWU3"
      },
      "execution_count": 295,
      "outputs": []
    },
    {
      "cell_type": "code",
      "source": [
        "# build the model within a function\n",
        "# Apply hyperparmeter tuning to the number of units in the second hidden layer in the model\n",
        "def model_builder1(hp):\n",
        "  Hyper_model = keras.Sequential()\n",
        "  Hyper_model.add(layers.Dense(input_dim=8, units=10, activation='relu'))\n",
        "  hp_units = hp.Int('units', min_value = 8, max_value = 60, step = 10)\n",
        "  Hyper_model.add(layers.Dense(units=hp_units, activation='relu'))\n",
        "  Hyper_model.add(layers.Dense(units=1, activation='sigmoid'))\n",
        "  Hyper_model.compile(loss = 'binary_crossentropy', optimizer = \"adam\", metrics = ['accuracy'])\n",
        "  return Hyper_model\n",
        "     "
      ],
      "metadata": {
        "id": "QfxhGofdvXkB"
      },
      "execution_count": 304,
      "outputs": []
    },
    {
      "cell_type": "code",
      "source": [
        "# instatiate the tuner and perform hypertuning\n",
        "tuner = kt.Hyperband(model_builder1,\n",
        "                     objective = 'val_accuracy', \n",
        "                     max_epochs = 150,\n",
        "                     factor = 3,        # factor is a number that determines how many models are created to run in parallel whaen testing the hyperparameters\n",
        "                     directory = 'my_dir',  # directory that the tuned hyperparameter results are stored in (change the name of this directory if you get the message INFO:tensorflow:Oracle triggered exit)\n",
        "                     project_name = 'intro_to_kt1') "
      ],
      "metadata": {
        "id": "gEVOMVBRxJdL"
      },
      "execution_count": 305,
      "outputs": []
    },
    {
      "cell_type": "code",
      "source": [
        "import IPython\n",
        "\n",
        "x = df_Train.iloc[:, 0:8]\n",
        "\n",
        "\n",
        "\n",
        "X_train, X_test, Y_train, Y_test = train_test_split(x, y, test_size=0.3,\n",
        "                                                    random_state=RANDOM_SEED)\n"
      ],
      "metadata": {
        "id": "GmXaQeUNxdPU"
      },
      "execution_count": 306,
      "outputs": []
    },
    {
      "cell_type": "code",
      "source": [
        "t = tuner.search(X_train, Y_train, epochs = 100, validation_data = (X_test, Y_test),\n",
        "             callbacks = [ClearTrainingOutput()])"
      ],
      "metadata": {
        "colab": {
          "base_uri": "https://localhost:8080/"
        },
        "id": "2xo2no99HGD6",
        "outputId": "f9008d53-19e9-4b77-e15b-0989a5393f55"
      },
      "execution_count": 307,
      "outputs": [
        {
          "output_type": "stream",
          "name": "stdout",
          "text": [
            "Trial 254 Complete [00h 00m 43s]\n",
            "val_accuracy: 0.7512437701225281\n",
            "\n",
            "Best val_accuracy So Far: 0.7810945510864258\n",
            "Total elapsed time: 00h 23m 56s\n"
          ]
        }
      ]
    },
    {
      "cell_type": "code",
      "source": [
        "\n",
        "# Get the optimal hyperparameters\n",
        "best_hps = tuner.get_best_hyperparameters()[0]\n",
        "print(best_hps.values)\n",
        "     "
      ],
      "metadata": {
        "colab": {
          "base_uri": "https://localhost:8080/"
        },
        "id": "xT3QzkwgzpxJ",
        "outputId": "6d358334-a236-4176-e6da-7f581c1bb410"
      },
      "execution_count": 308,
      "outputs": [
        {
          "output_type": "stream",
          "name": "stdout",
          "text": [
            "{'units': 38, 'tuner/epochs': 150, 'tuner/initial_epoch': 50, 'tuner/bracket': 1, 'tuner/round': 1, 'tuner/trial_id': '0240'}\n"
          ]
        }
      ]
    },
    {
      "cell_type": "code",
      "source": [
        "\n",
        "# apply the optimal hyperparameters to the model and print the summary\n",
        "Hyper_model = tuner.hypermodel.build(best_hps)\n",
        "Hyper_model.summary()"
      ],
      "metadata": {
        "colab": {
          "base_uri": "https://localhost:8080/"
        },
        "id": "3C87olQ2zrZ2",
        "outputId": "7e466867-d27c-4a54-f34f-707afbd6c097"
      },
      "execution_count": 309,
      "outputs": [
        {
          "output_type": "stream",
          "name": "stdout",
          "text": [
            "Model: \"sequential_1\"\n",
            "_________________________________________________________________\n",
            " Layer (type)                Output Shape              Param #   \n",
            "=================================================================\n",
            " dense_3 (Dense)             (None, 10)                90        \n",
            "                                                                 \n",
            " dense_4 (Dense)             (None, 38)                418       \n",
            "                                                                 \n",
            " dense_5 (Dense)             (None, 1)                 39        \n",
            "                                                                 \n",
            "=================================================================\n",
            "Total params: 547\n",
            "Trainable params: 547\n",
            "Non-trainable params: 0\n",
            "_________________________________________________________________\n"
          ]
        }
      ]
    },
    {
      "cell_type": "code",
      "source": [
        "\n",
        "# retrain the model with the optimum hyperparameters and train it on the data\n",
        "HyperTune = Hyper_model.fit(X_train, Y_train, epochs = 200, \n",
        "                            validation_data = (X_test, Y_test))\n",
        "HyperTune_scores = Hyper_model.evaluate(X_test, Y_test, verbose=0)\n",
        "print('\\n')\n",
        "print(\"Accuracy: %.2f%%\" % (HyperTune_scores[1]*100))\n",
        "\n",
        "\n",
        "HyperTune_val_accuracy = HyperTune.history['val_accuracy'][-1] * 100\n",
        "print('\\n')\n",
        "print(\"Validation Score: %.2f%%\" % (HyperTune_val_accuracy))"
      ],
      "metadata": {
        "colab": {
          "base_uri": "https://localhost:8080/"
        },
        "id": "3AIQZTxDztQ2",
        "outputId": "16ee0e11-5c9f-4ea2-cd36-a3963f5df70b"
      },
      "execution_count": 312,
      "outputs": [
        {
          "output_type": "stream",
          "name": "stdout",
          "text": [
            "Epoch 1/200\n",
            "15/15 [==============================] - 1s 37ms/step - loss: 0.6159 - accuracy: 0.7045 - val_loss: 0.7497 - val_accuracy: 0.6169\n",
            "Epoch 2/200\n",
            "15/15 [==============================] - 0s 17ms/step - loss: 0.5382 - accuracy: 0.7409 - val_loss: 0.6023 - val_accuracy: 0.6567\n",
            "Epoch 3/200\n",
            "15/15 [==============================] - 0s 15ms/step - loss: 0.5089 - accuracy: 0.7345 - val_loss: 0.5584 - val_accuracy: 0.7264\n",
            "Epoch 4/200\n",
            "15/15 [==============================] - 0s 13ms/step - loss: 0.4912 - accuracy: 0.7687 - val_loss: 0.5627 - val_accuracy: 0.6816\n",
            "Epoch 5/200\n",
            "15/15 [==============================] - 0s 18ms/step - loss: 0.5157 - accuracy: 0.7302 - val_loss: 0.5553 - val_accuracy: 0.7164\n",
            "Epoch 6/200\n",
            "15/15 [==============================] - 0s 15ms/step - loss: 0.5670 - accuracy: 0.7216 - val_loss: 0.6229 - val_accuracy: 0.6567\n",
            "Epoch 7/200\n",
            "15/15 [==============================] - 0s 16ms/step - loss: 0.5275 - accuracy: 0.7430 - val_loss: 0.5582 - val_accuracy: 0.7015\n",
            "Epoch 8/200\n",
            "15/15 [==============================] - 0s 12ms/step - loss: 0.5034 - accuracy: 0.7281 - val_loss: 0.5597 - val_accuracy: 0.7363\n",
            "Epoch 9/200\n",
            "15/15 [==============================] - 0s 14ms/step - loss: 0.5188 - accuracy: 0.7323 - val_loss: 0.5859 - val_accuracy: 0.7214\n",
            "Epoch 10/200\n",
            "15/15 [==============================] - 0s 13ms/step - loss: 0.5338 - accuracy: 0.7345 - val_loss: 0.5792 - val_accuracy: 0.7413\n",
            "Epoch 11/200\n",
            "15/15 [==============================] - 0s 13ms/step - loss: 0.5087 - accuracy: 0.7516 - val_loss: 0.5666 - val_accuracy: 0.7065\n",
            "Epoch 12/200\n",
            "15/15 [==============================] - 0s 13ms/step - loss: 0.5116 - accuracy: 0.7345 - val_loss: 0.5930 - val_accuracy: 0.7164\n",
            "Epoch 13/200\n",
            "15/15 [==============================] - 0s 10ms/step - loss: 0.5266 - accuracy: 0.7388 - val_loss: 0.5504 - val_accuracy: 0.7114\n",
            "Epoch 14/200\n",
            "15/15 [==============================] - 0s 8ms/step - loss: 0.4961 - accuracy: 0.7602 - val_loss: 0.5666 - val_accuracy: 0.6866\n",
            "Epoch 15/200\n",
            "15/15 [==============================] - 0s 7ms/step - loss: 0.5131 - accuracy: 0.7323 - val_loss: 0.5982 - val_accuracy: 0.6667\n",
            "Epoch 16/200\n",
            "15/15 [==============================] - 0s 7ms/step - loss: 0.5103 - accuracy: 0.7473 - val_loss: 0.6312 - val_accuracy: 0.6517\n",
            "Epoch 17/200\n",
            "15/15 [==============================] - 0s 6ms/step - loss: 0.4960 - accuracy: 0.7430 - val_loss: 0.5588 - val_accuracy: 0.7164\n",
            "Epoch 18/200\n",
            "15/15 [==============================] - 0s 7ms/step - loss: 0.5027 - accuracy: 0.7430 - val_loss: 0.5470 - val_accuracy: 0.7114\n",
            "Epoch 19/200\n",
            "15/15 [==============================] - 0s 7ms/step - loss: 0.5139 - accuracy: 0.7452 - val_loss: 0.5454 - val_accuracy: 0.7015\n",
            "Epoch 20/200\n",
            "15/15 [==============================] - 0s 7ms/step - loss: 0.4886 - accuracy: 0.7452 - val_loss: 0.5557 - val_accuracy: 0.7164\n",
            "Epoch 21/200\n",
            "15/15 [==============================] - 0s 6ms/step - loss: 0.4903 - accuracy: 0.7687 - val_loss: 0.5761 - val_accuracy: 0.6866\n",
            "Epoch 22/200\n",
            "15/15 [==============================] - 0s 6ms/step - loss: 0.4861 - accuracy: 0.7473 - val_loss: 0.5466 - val_accuracy: 0.7363\n",
            "Epoch 23/200\n",
            "15/15 [==============================] - 0s 6ms/step - loss: 0.5218 - accuracy: 0.7323 - val_loss: 0.5781 - val_accuracy: 0.7114\n",
            "Epoch 24/200\n",
            "15/15 [==============================] - 0s 6ms/step - loss: 0.5176 - accuracy: 0.7345 - val_loss: 0.5667 - val_accuracy: 0.6965\n",
            "Epoch 25/200\n",
            "15/15 [==============================] - 0s 6ms/step - loss: 0.5085 - accuracy: 0.7602 - val_loss: 0.5690 - val_accuracy: 0.6965\n",
            "Epoch 26/200\n",
            "15/15 [==============================] - 0s 7ms/step - loss: 0.5083 - accuracy: 0.7473 - val_loss: 0.5611 - val_accuracy: 0.7114\n",
            "Epoch 27/200\n",
            "15/15 [==============================] - 0s 6ms/step - loss: 0.4840 - accuracy: 0.7580 - val_loss: 0.5565 - val_accuracy: 0.7214\n",
            "Epoch 28/200\n",
            "15/15 [==============================] - 0s 7ms/step - loss: 0.4872 - accuracy: 0.7495 - val_loss: 0.5550 - val_accuracy: 0.7214\n",
            "Epoch 29/200\n",
            "15/15 [==============================] - 0s 7ms/step - loss: 0.4968 - accuracy: 0.7516 - val_loss: 0.5567 - val_accuracy: 0.7065\n",
            "Epoch 30/200\n",
            "15/15 [==============================] - 0s 7ms/step - loss: 0.4940 - accuracy: 0.7409 - val_loss: 0.5745 - val_accuracy: 0.6915\n",
            "Epoch 31/200\n",
            "15/15 [==============================] - 0s 6ms/step - loss: 0.5129 - accuracy: 0.7580 - val_loss: 0.5718 - val_accuracy: 0.7015\n",
            "Epoch 32/200\n",
            "15/15 [==============================] - 0s 7ms/step - loss: 0.5199 - accuracy: 0.7366 - val_loss: 0.5883 - val_accuracy: 0.6617\n",
            "Epoch 33/200\n",
            "15/15 [==============================] - 0s 6ms/step - loss: 0.5089 - accuracy: 0.7473 - val_loss: 0.5556 - val_accuracy: 0.7114\n",
            "Epoch 34/200\n",
            "15/15 [==============================] - 0s 7ms/step - loss: 0.4889 - accuracy: 0.7473 - val_loss: 0.5500 - val_accuracy: 0.7214\n",
            "Epoch 35/200\n",
            "15/15 [==============================] - 0s 7ms/step - loss: 0.4889 - accuracy: 0.7559 - val_loss: 0.5690 - val_accuracy: 0.6766\n",
            "Epoch 36/200\n",
            "15/15 [==============================] - 0s 8ms/step - loss: 0.4932 - accuracy: 0.7537 - val_loss: 0.6175 - val_accuracy: 0.6816\n",
            "Epoch 37/200\n",
            "15/15 [==============================] - 0s 7ms/step - loss: 0.5211 - accuracy: 0.7152 - val_loss: 0.5687 - val_accuracy: 0.6965\n",
            "Epoch 38/200\n",
            "15/15 [==============================] - 0s 7ms/step - loss: 0.4827 - accuracy: 0.7623 - val_loss: 0.5724 - val_accuracy: 0.6915\n",
            "Epoch 39/200\n",
            "15/15 [==============================] - 0s 8ms/step - loss: 0.4940 - accuracy: 0.7452 - val_loss: 0.5515 - val_accuracy: 0.7512\n",
            "Epoch 40/200\n",
            "15/15 [==============================] - 0s 7ms/step - loss: 0.4817 - accuracy: 0.7623 - val_loss: 0.5448 - val_accuracy: 0.7214\n",
            "Epoch 41/200\n",
            "15/15 [==============================] - 0s 6ms/step - loss: 0.4911 - accuracy: 0.7302 - val_loss: 0.5727 - val_accuracy: 0.7114\n",
            "Epoch 42/200\n",
            "15/15 [==============================] - 0s 7ms/step - loss: 0.4824 - accuracy: 0.7645 - val_loss: 0.5444 - val_accuracy: 0.7214\n",
            "Epoch 43/200\n",
            "15/15 [==============================] - 0s 6ms/step - loss: 0.5032 - accuracy: 0.7495 - val_loss: 0.5476 - val_accuracy: 0.7264\n",
            "Epoch 44/200\n",
            "15/15 [==============================] - 0s 6ms/step - loss: 0.5422 - accuracy: 0.7216 - val_loss: 0.5411 - val_accuracy: 0.7413\n",
            "Epoch 45/200\n",
            "15/15 [==============================] - 0s 7ms/step - loss: 0.4916 - accuracy: 0.7388 - val_loss: 0.5378 - val_accuracy: 0.7413\n",
            "Epoch 46/200\n",
            "15/15 [==============================] - 0s 6ms/step - loss: 0.4745 - accuracy: 0.7730 - val_loss: 0.5653 - val_accuracy: 0.6816\n",
            "Epoch 47/200\n",
            "15/15 [==============================] - 0s 6ms/step - loss: 0.4943 - accuracy: 0.7430 - val_loss: 0.5468 - val_accuracy: 0.7164\n",
            "Epoch 48/200\n",
            "15/15 [==============================] - 0s 6ms/step - loss: 0.4878 - accuracy: 0.7537 - val_loss: 0.5734 - val_accuracy: 0.7065\n",
            "Epoch 49/200\n",
            "15/15 [==============================] - 0s 6ms/step - loss: 0.4877 - accuracy: 0.7495 - val_loss: 0.5416 - val_accuracy: 0.7363\n",
            "Epoch 50/200\n",
            "15/15 [==============================] - 0s 7ms/step - loss: 0.4918 - accuracy: 0.7473 - val_loss: 0.5551 - val_accuracy: 0.7214\n",
            "Epoch 51/200\n",
            "15/15 [==============================] - 0s 7ms/step - loss: 0.4853 - accuracy: 0.7580 - val_loss: 0.5344 - val_accuracy: 0.7313\n",
            "Epoch 52/200\n",
            "15/15 [==============================] - 0s 7ms/step - loss: 0.4850 - accuracy: 0.7623 - val_loss: 0.5508 - val_accuracy: 0.7264\n",
            "Epoch 53/200\n",
            "15/15 [==============================] - 0s 6ms/step - loss: 0.4908 - accuracy: 0.7452 - val_loss: 0.5453 - val_accuracy: 0.7114\n",
            "Epoch 54/200\n",
            "15/15 [==============================] - 0s 6ms/step - loss: 0.4894 - accuracy: 0.7516 - val_loss: 0.5628 - val_accuracy: 0.6965\n",
            "Epoch 55/200\n",
            "15/15 [==============================] - 0s 6ms/step - loss: 0.4886 - accuracy: 0.7452 - val_loss: 0.5468 - val_accuracy: 0.7015\n",
            "Epoch 56/200\n",
            "15/15 [==============================] - 0s 7ms/step - loss: 0.5040 - accuracy: 0.7516 - val_loss: 0.5417 - val_accuracy: 0.7512\n",
            "Epoch 57/200\n",
            "15/15 [==============================] - 0s 6ms/step - loss: 0.4798 - accuracy: 0.7430 - val_loss: 0.5326 - val_accuracy: 0.7363\n",
            "Epoch 58/200\n",
            "15/15 [==============================] - 0s 6ms/step - loss: 0.5064 - accuracy: 0.7302 - val_loss: 0.5531 - val_accuracy: 0.6915\n",
            "Epoch 59/200\n",
            "15/15 [==============================] - 0s 6ms/step - loss: 0.4862 - accuracy: 0.7516 - val_loss: 0.5416 - val_accuracy: 0.7413\n",
            "Epoch 60/200\n",
            "15/15 [==============================] - 0s 7ms/step - loss: 0.4769 - accuracy: 0.7645 - val_loss: 0.5280 - val_accuracy: 0.7313\n",
            "Epoch 61/200\n",
            "15/15 [==============================] - 0s 6ms/step - loss: 0.4896 - accuracy: 0.7559 - val_loss: 0.6146 - val_accuracy: 0.6617\n",
            "Epoch 62/200\n",
            "15/15 [==============================] - 0s 6ms/step - loss: 0.5170 - accuracy: 0.7366 - val_loss: 0.6864 - val_accuracy: 0.6318\n",
            "Epoch 63/200\n",
            "15/15 [==============================] - 0s 6ms/step - loss: 0.6323 - accuracy: 0.6874 - val_loss: 0.7852 - val_accuracy: 0.6219\n",
            "Epoch 64/200\n",
            "15/15 [==============================] - 0s 6ms/step - loss: 0.5246 - accuracy: 0.7388 - val_loss: 0.5600 - val_accuracy: 0.7114\n",
            "Epoch 65/200\n",
            "15/15 [==============================] - 0s 6ms/step - loss: 0.4841 - accuracy: 0.7495 - val_loss: 0.5454 - val_accuracy: 0.7114\n",
            "Epoch 66/200\n",
            "15/15 [==============================] - 0s 7ms/step - loss: 0.4957 - accuracy: 0.7430 - val_loss: 0.5762 - val_accuracy: 0.6915\n",
            "Epoch 67/200\n",
            "15/15 [==============================] - 0s 6ms/step - loss: 0.4833 - accuracy: 0.7516 - val_loss: 0.5532 - val_accuracy: 0.7214\n",
            "Epoch 68/200\n",
            "15/15 [==============================] - 0s 7ms/step - loss: 0.4710 - accuracy: 0.7645 - val_loss: 0.5336 - val_accuracy: 0.7363\n",
            "Epoch 69/200\n",
            "15/15 [==============================] - 0s 6ms/step - loss: 0.4778 - accuracy: 0.7559 - val_loss: 0.6073 - val_accuracy: 0.6617\n",
            "Epoch 70/200\n",
            "15/15 [==============================] - 0s 6ms/step - loss: 0.4814 - accuracy: 0.7645 - val_loss: 0.5518 - val_accuracy: 0.7214\n",
            "Epoch 71/200\n",
            "15/15 [==============================] - 0s 7ms/step - loss: 0.4977 - accuracy: 0.7495 - val_loss: 0.5897 - val_accuracy: 0.6915\n",
            "Epoch 72/200\n",
            "15/15 [==============================] - 0s 6ms/step - loss: 0.4966 - accuracy: 0.7559 - val_loss: 0.5371 - val_accuracy: 0.7463\n",
            "Epoch 73/200\n",
            "15/15 [==============================] - 0s 6ms/step - loss: 0.5212 - accuracy: 0.7323 - val_loss: 0.5370 - val_accuracy: 0.7313\n",
            "Epoch 74/200\n",
            "15/15 [==============================] - 0s 7ms/step - loss: 0.4873 - accuracy: 0.7516 - val_loss: 0.5716 - val_accuracy: 0.7065\n",
            "Epoch 75/200\n",
            "15/15 [==============================] - 0s 6ms/step - loss: 0.4914 - accuracy: 0.7430 - val_loss: 0.5312 - val_accuracy: 0.7313\n",
            "Epoch 76/200\n",
            "15/15 [==============================] - 0s 6ms/step - loss: 0.4921 - accuracy: 0.7687 - val_loss: 0.5490 - val_accuracy: 0.7313\n",
            "Epoch 77/200\n",
            "15/15 [==============================] - 0s 6ms/step - loss: 0.5014 - accuracy: 0.7388 - val_loss: 0.5934 - val_accuracy: 0.7264\n",
            "Epoch 78/200\n",
            "15/15 [==============================] - 0s 6ms/step - loss: 0.5305 - accuracy: 0.7409 - val_loss: 0.6304 - val_accuracy: 0.7164\n",
            "Epoch 79/200\n",
            "15/15 [==============================] - 0s 6ms/step - loss: 0.5345 - accuracy: 0.7195 - val_loss: 0.5825 - val_accuracy: 0.7413\n",
            "Epoch 80/200\n",
            "15/15 [==============================] - 0s 6ms/step - loss: 0.4901 - accuracy: 0.7730 - val_loss: 0.5276 - val_accuracy: 0.7363\n",
            "Epoch 81/200\n",
            "15/15 [==============================] - 0s 6ms/step - loss: 0.4730 - accuracy: 0.7602 - val_loss: 0.5624 - val_accuracy: 0.7264\n",
            "Epoch 82/200\n",
            "15/15 [==============================] - 0s 6ms/step - loss: 0.4921 - accuracy: 0.7580 - val_loss: 0.5335 - val_accuracy: 0.7313\n",
            "Epoch 83/200\n",
            "15/15 [==============================] - 0s 5ms/step - loss: 0.4703 - accuracy: 0.7559 - val_loss: 0.5373 - val_accuracy: 0.7264\n",
            "Epoch 84/200\n",
            "15/15 [==============================] - 0s 7ms/step - loss: 0.4822 - accuracy: 0.7687 - val_loss: 0.6271 - val_accuracy: 0.6716\n",
            "Epoch 85/200\n",
            "15/15 [==============================] - 0s 12ms/step - loss: 0.4984 - accuracy: 0.7430 - val_loss: 0.5658 - val_accuracy: 0.7214\n",
            "Epoch 86/200\n",
            "15/15 [==============================] - 0s 13ms/step - loss: 0.4837 - accuracy: 0.7602 - val_loss: 0.5683 - val_accuracy: 0.6915\n",
            "Epoch 87/200\n",
            "15/15 [==============================] - 0s 9ms/step - loss: 0.4961 - accuracy: 0.7580 - val_loss: 0.5419 - val_accuracy: 0.7562\n",
            "Epoch 88/200\n",
            "15/15 [==============================] - 0s 10ms/step - loss: 0.4625 - accuracy: 0.7773 - val_loss: 0.5866 - val_accuracy: 0.6766\n",
            "Epoch 89/200\n",
            "15/15 [==============================] - 0s 11ms/step - loss: 0.4800 - accuracy: 0.7623 - val_loss: 0.5427 - val_accuracy: 0.7214\n",
            "Epoch 90/200\n",
            "15/15 [==============================] - 0s 9ms/step - loss: 0.4853 - accuracy: 0.7687 - val_loss: 0.5330 - val_accuracy: 0.7463\n",
            "Epoch 91/200\n",
            "15/15 [==============================] - 0s 13ms/step - loss: 0.4665 - accuracy: 0.7537 - val_loss: 0.5237 - val_accuracy: 0.7612\n",
            "Epoch 92/200\n",
            "15/15 [==============================] - 0s 11ms/step - loss: 0.4758 - accuracy: 0.7687 - val_loss: 0.5427 - val_accuracy: 0.7313\n",
            "Epoch 93/200\n",
            "15/15 [==============================] - 0s 9ms/step - loss: 0.4770 - accuracy: 0.7730 - val_loss: 0.5358 - val_accuracy: 0.7313\n",
            "Epoch 94/200\n",
            "15/15 [==============================] - 0s 9ms/step - loss: 0.4730 - accuracy: 0.7752 - val_loss: 0.5290 - val_accuracy: 0.7562\n",
            "Epoch 95/200\n",
            "15/15 [==============================] - 0s 10ms/step - loss: 0.4712 - accuracy: 0.7602 - val_loss: 0.5281 - val_accuracy: 0.7562\n",
            "Epoch 96/200\n",
            "15/15 [==============================] - 0s 10ms/step - loss: 0.4755 - accuracy: 0.7687 - val_loss: 0.5700 - val_accuracy: 0.7463\n",
            "Epoch 97/200\n",
            "15/15 [==============================] - 0s 8ms/step - loss: 0.5152 - accuracy: 0.7281 - val_loss: 0.5588 - val_accuracy: 0.7413\n",
            "Epoch 98/200\n",
            "15/15 [==============================] - 0s 12ms/step - loss: 0.5235 - accuracy: 0.7302 - val_loss: 0.6177 - val_accuracy: 0.6915\n",
            "Epoch 99/200\n",
            "15/15 [==============================] - 0s 9ms/step - loss: 0.4965 - accuracy: 0.7495 - val_loss: 0.5693 - val_accuracy: 0.7114\n",
            "Epoch 100/200\n",
            "15/15 [==============================] - 0s 9ms/step - loss: 0.4817 - accuracy: 0.7516 - val_loss: 0.5695 - val_accuracy: 0.6965\n",
            "Epoch 101/200\n",
            "15/15 [==============================] - 0s 10ms/step - loss: 0.4770 - accuracy: 0.7794 - val_loss: 0.5383 - val_accuracy: 0.7264\n",
            "Epoch 102/200\n",
            "15/15 [==============================] - 0s 10ms/step - loss: 0.4827 - accuracy: 0.7452 - val_loss: 0.5709 - val_accuracy: 0.7015\n",
            "Epoch 103/200\n",
            "15/15 [==============================] - 0s 9ms/step - loss: 0.4713 - accuracy: 0.7580 - val_loss: 0.5281 - val_accuracy: 0.7413\n",
            "Epoch 104/200\n",
            "15/15 [==============================] - 0s 8ms/step - loss: 0.5229 - accuracy: 0.7345 - val_loss: 0.5355 - val_accuracy: 0.7512\n",
            "Epoch 105/200\n",
            "15/15 [==============================] - 0s 6ms/step - loss: 0.5014 - accuracy: 0.7495 - val_loss: 0.5381 - val_accuracy: 0.7164\n",
            "Epoch 106/200\n",
            "15/15 [==============================] - 0s 6ms/step - loss: 0.4705 - accuracy: 0.7473 - val_loss: 0.5451 - val_accuracy: 0.7313\n",
            "Epoch 107/200\n",
            "15/15 [==============================] - 0s 5ms/step - loss: 0.4892 - accuracy: 0.7516 - val_loss: 0.5472 - val_accuracy: 0.7313\n",
            "Epoch 108/200\n",
            "15/15 [==============================] - 0s 6ms/step - loss: 0.4712 - accuracy: 0.7645 - val_loss: 0.5714 - val_accuracy: 0.6866\n",
            "Epoch 109/200\n",
            "15/15 [==============================] - 0s 7ms/step - loss: 0.4671 - accuracy: 0.7773 - val_loss: 0.5388 - val_accuracy: 0.7313\n",
            "Epoch 110/200\n",
            "15/15 [==============================] - 0s 6ms/step - loss: 0.4847 - accuracy: 0.7559 - val_loss: 0.5376 - val_accuracy: 0.7313\n",
            "Epoch 111/200\n",
            "15/15 [==============================] - 0s 6ms/step - loss: 0.4759 - accuracy: 0.7709 - val_loss: 0.5463 - val_accuracy: 0.7164\n",
            "Epoch 112/200\n",
            "15/15 [==============================] - 0s 5ms/step - loss: 0.4741 - accuracy: 0.7730 - val_loss: 0.5992 - val_accuracy: 0.6965\n",
            "Epoch 113/200\n",
            "15/15 [==============================] - 0s 7ms/step - loss: 0.4763 - accuracy: 0.7559 - val_loss: 0.5447 - val_accuracy: 0.7214\n",
            "Epoch 114/200\n",
            "15/15 [==============================] - 0s 8ms/step - loss: 0.4835 - accuracy: 0.7645 - val_loss: 0.5806 - val_accuracy: 0.6667\n",
            "Epoch 115/200\n",
            "15/15 [==============================] - 0s 9ms/step - loss: 0.4813 - accuracy: 0.7516 - val_loss: 0.5474 - val_accuracy: 0.7363\n",
            "Epoch 116/200\n",
            "15/15 [==============================] - 0s 7ms/step - loss: 0.4671 - accuracy: 0.7623 - val_loss: 0.6045 - val_accuracy: 0.6866\n",
            "Epoch 117/200\n",
            "15/15 [==============================] - 0s 7ms/step - loss: 0.4866 - accuracy: 0.7409 - val_loss: 0.5521 - val_accuracy: 0.6965\n",
            "Epoch 118/200\n",
            "15/15 [==============================] - 0s 7ms/step - loss: 0.4751 - accuracy: 0.7495 - val_loss: 0.5804 - val_accuracy: 0.7114\n",
            "Epoch 119/200\n",
            "15/15 [==============================] - 0s 7ms/step - loss: 0.4891 - accuracy: 0.7495 - val_loss: 0.5404 - val_accuracy: 0.7214\n",
            "Epoch 120/200\n",
            "15/15 [==============================] - 0s 8ms/step - loss: 0.4678 - accuracy: 0.7580 - val_loss: 0.5414 - val_accuracy: 0.7164\n",
            "Epoch 121/200\n",
            "15/15 [==============================] - 0s 7ms/step - loss: 0.4708 - accuracy: 0.7794 - val_loss: 0.5495 - val_accuracy: 0.7214\n",
            "Epoch 122/200\n",
            "15/15 [==============================] - 0s 6ms/step - loss: 0.4611 - accuracy: 0.7666 - val_loss: 0.5389 - val_accuracy: 0.7463\n",
            "Epoch 123/200\n",
            "15/15 [==============================] - 0s 6ms/step - loss: 0.4834 - accuracy: 0.7516 - val_loss: 0.5281 - val_accuracy: 0.7413\n",
            "Epoch 124/200\n",
            "15/15 [==============================] - 0s 7ms/step - loss: 0.5389 - accuracy: 0.7281 - val_loss: 0.5466 - val_accuracy: 0.7264\n",
            "Epoch 125/200\n",
            "15/15 [==============================] - 0s 6ms/step - loss: 0.5402 - accuracy: 0.7131 - val_loss: 0.5323 - val_accuracy: 0.7612\n",
            "Epoch 126/200\n",
            "15/15 [==============================] - 0s 6ms/step - loss: 0.4667 - accuracy: 0.7816 - val_loss: 0.5924 - val_accuracy: 0.6965\n",
            "Epoch 127/200\n",
            "15/15 [==============================] - 0s 6ms/step - loss: 0.4782 - accuracy: 0.7580 - val_loss: 0.5568 - val_accuracy: 0.7164\n",
            "Epoch 128/200\n",
            "15/15 [==============================] - 0s 6ms/step - loss: 0.4719 - accuracy: 0.7666 - val_loss: 0.5479 - val_accuracy: 0.7264\n",
            "Epoch 129/200\n",
            "15/15 [==============================] - 0s 7ms/step - loss: 0.4707 - accuracy: 0.7709 - val_loss: 0.5467 - val_accuracy: 0.7214\n",
            "Epoch 130/200\n",
            "15/15 [==============================] - 0s 6ms/step - loss: 0.4627 - accuracy: 0.7602 - val_loss: 0.5249 - val_accuracy: 0.7512\n",
            "Epoch 131/200\n",
            "15/15 [==============================] - 0s 6ms/step - loss: 0.4735 - accuracy: 0.7752 - val_loss: 0.5738 - val_accuracy: 0.7413\n",
            "Epoch 132/200\n",
            "15/15 [==============================] - 0s 7ms/step - loss: 0.4722 - accuracy: 0.7816 - val_loss: 0.5519 - val_accuracy: 0.7463\n",
            "Epoch 133/200\n",
            "15/15 [==============================] - 0s 6ms/step - loss: 0.4692 - accuracy: 0.7730 - val_loss: 0.5425 - val_accuracy: 0.7264\n",
            "Epoch 134/200\n",
            "15/15 [==============================] - 0s 7ms/step - loss: 0.4673 - accuracy: 0.7645 - val_loss: 0.5336 - val_accuracy: 0.7264\n",
            "Epoch 135/200\n",
            "15/15 [==============================] - 0s 6ms/step - loss: 0.4616 - accuracy: 0.7752 - val_loss: 0.5278 - val_accuracy: 0.7313\n",
            "Epoch 136/200\n",
            "15/15 [==============================] - 0s 6ms/step - loss: 0.4626 - accuracy: 0.7773 - val_loss: 0.5246 - val_accuracy: 0.7612\n",
            "Epoch 137/200\n",
            "15/15 [==============================] - 0s 7ms/step - loss: 0.4602 - accuracy: 0.7602 - val_loss: 0.5239 - val_accuracy: 0.7463\n",
            "Epoch 138/200\n",
            "15/15 [==============================] - 0s 6ms/step - loss: 0.4563 - accuracy: 0.7752 - val_loss: 0.5537 - val_accuracy: 0.7214\n",
            "Epoch 139/200\n",
            "15/15 [==============================] - 0s 7ms/step - loss: 0.4702 - accuracy: 0.7773 - val_loss: 0.5415 - val_accuracy: 0.7463\n",
            "Epoch 140/200\n",
            "15/15 [==============================] - 0s 6ms/step - loss: 0.5058 - accuracy: 0.7516 - val_loss: 0.5336 - val_accuracy: 0.7562\n",
            "Epoch 141/200\n",
            "15/15 [==============================] - 0s 7ms/step - loss: 0.4631 - accuracy: 0.7602 - val_loss: 0.5317 - val_accuracy: 0.7313\n",
            "Epoch 142/200\n",
            "15/15 [==============================] - 0s 7ms/step - loss: 0.4607 - accuracy: 0.7709 - val_loss: 0.5356 - val_accuracy: 0.7413\n",
            "Epoch 143/200\n",
            "15/15 [==============================] - 0s 6ms/step - loss: 0.4718 - accuracy: 0.7473 - val_loss: 0.5706 - val_accuracy: 0.7413\n",
            "Epoch 144/200\n",
            "15/15 [==============================] - 0s 6ms/step - loss: 0.4878 - accuracy: 0.7645 - val_loss: 0.5387 - val_accuracy: 0.7562\n",
            "Epoch 145/200\n",
            "15/15 [==============================] - 0s 6ms/step - loss: 0.4963 - accuracy: 0.7602 - val_loss: 0.5712 - val_accuracy: 0.7065\n",
            "Epoch 146/200\n",
            "15/15 [==============================] - 0s 7ms/step - loss: 0.4765 - accuracy: 0.7602 - val_loss: 0.5846 - val_accuracy: 0.6766\n",
            "Epoch 147/200\n",
            "15/15 [==============================] - 0s 7ms/step - loss: 0.4760 - accuracy: 0.7559 - val_loss: 0.5961 - val_accuracy: 0.6716\n",
            "Epoch 148/200\n",
            "15/15 [==============================] - 0s 6ms/step - loss: 0.4650 - accuracy: 0.7709 - val_loss: 0.5537 - val_accuracy: 0.7164\n",
            "Epoch 149/200\n",
            "15/15 [==============================] - 0s 7ms/step - loss: 0.4990 - accuracy: 0.7580 - val_loss: 0.5396 - val_accuracy: 0.7214\n",
            "Epoch 150/200\n",
            "15/15 [==============================] - 0s 6ms/step - loss: 0.5007 - accuracy: 0.7473 - val_loss: 0.5934 - val_accuracy: 0.7015\n",
            "Epoch 151/200\n",
            "15/15 [==============================] - 0s 6ms/step - loss: 0.4696 - accuracy: 0.7687 - val_loss: 0.5262 - val_accuracy: 0.7612\n",
            "Epoch 152/200\n",
            "15/15 [==============================] - 0s 6ms/step - loss: 0.4581 - accuracy: 0.7687 - val_loss: 0.5309 - val_accuracy: 0.7313\n",
            "Epoch 153/200\n",
            "15/15 [==============================] - 0s 6ms/step - loss: 0.4628 - accuracy: 0.7559 - val_loss: 0.5468 - val_accuracy: 0.7214\n",
            "Epoch 154/200\n",
            "15/15 [==============================] - 0s 8ms/step - loss: 0.4804 - accuracy: 0.7645 - val_loss: 0.5533 - val_accuracy: 0.7214\n",
            "Epoch 155/200\n",
            "15/15 [==============================] - 0s 7ms/step - loss: 0.4689 - accuracy: 0.7388 - val_loss: 0.5393 - val_accuracy: 0.7413\n",
            "Epoch 156/200\n",
            "15/15 [==============================] - 0s 6ms/step - loss: 0.4534 - accuracy: 0.7709 - val_loss: 0.5232 - val_accuracy: 0.7363\n",
            "Epoch 157/200\n",
            "15/15 [==============================] - 0s 7ms/step - loss: 0.4808 - accuracy: 0.7559 - val_loss: 0.5410 - val_accuracy: 0.7313\n",
            "Epoch 158/200\n",
            "15/15 [==============================] - 0s 6ms/step - loss: 0.4674 - accuracy: 0.7623 - val_loss: 0.5452 - val_accuracy: 0.7313\n",
            "Epoch 159/200\n",
            "15/15 [==============================] - 0s 5ms/step - loss: 0.4476 - accuracy: 0.7837 - val_loss: 0.5396 - val_accuracy: 0.7463\n",
            "Epoch 160/200\n",
            "15/15 [==============================] - 0s 6ms/step - loss: 0.4580 - accuracy: 0.7837 - val_loss: 0.5279 - val_accuracy: 0.7313\n",
            "Epoch 161/200\n",
            "15/15 [==============================] - 0s 7ms/step - loss: 0.4569 - accuracy: 0.7752 - val_loss: 0.5282 - val_accuracy: 0.7313\n",
            "Epoch 162/200\n",
            "15/15 [==============================] - 0s 8ms/step - loss: 0.4583 - accuracy: 0.7623 - val_loss: 0.5304 - val_accuracy: 0.7264\n",
            "Epoch 163/200\n",
            "15/15 [==============================] - 0s 7ms/step - loss: 0.4547 - accuracy: 0.7773 - val_loss: 0.5307 - val_accuracy: 0.7214\n",
            "Epoch 164/200\n",
            "15/15 [==============================] - 0s 6ms/step - loss: 0.4511 - accuracy: 0.7666 - val_loss: 0.5308 - val_accuracy: 0.7164\n",
            "Epoch 165/200\n",
            "15/15 [==============================] - 0s 7ms/step - loss: 0.4496 - accuracy: 0.7730 - val_loss: 0.5379 - val_accuracy: 0.7313\n",
            "Epoch 166/200\n",
            "15/15 [==============================] - 0s 7ms/step - loss: 0.4557 - accuracy: 0.7794 - val_loss: 0.5736 - val_accuracy: 0.6667\n",
            "Epoch 167/200\n",
            "15/15 [==============================] - 0s 7ms/step - loss: 0.4523 - accuracy: 0.7816 - val_loss: 0.5988 - val_accuracy: 0.6766\n",
            "Epoch 168/200\n",
            "15/15 [==============================] - 0s 7ms/step - loss: 0.4767 - accuracy: 0.7645 - val_loss: 0.5318 - val_accuracy: 0.7413\n",
            "Epoch 169/200\n",
            "15/15 [==============================] - 0s 7ms/step - loss: 0.4664 - accuracy: 0.7602 - val_loss: 0.5754 - val_accuracy: 0.6915\n",
            "Epoch 170/200\n",
            "15/15 [==============================] - 0s 7ms/step - loss: 0.4635 - accuracy: 0.7773 - val_loss: 0.5421 - val_accuracy: 0.7164\n",
            "Epoch 171/200\n",
            "15/15 [==============================] - 0s 6ms/step - loss: 0.4506 - accuracy: 0.7816 - val_loss: 0.5301 - val_accuracy: 0.7413\n",
            "Epoch 172/200\n",
            "15/15 [==============================] - 0s 9ms/step - loss: 0.4646 - accuracy: 0.7645 - val_loss: 0.5414 - val_accuracy: 0.7463\n",
            "Epoch 173/200\n",
            "15/15 [==============================] - 0s 7ms/step - loss: 0.4561 - accuracy: 0.7794 - val_loss: 0.5309 - val_accuracy: 0.7413\n",
            "Epoch 174/200\n",
            "15/15 [==============================] - 0s 7ms/step - loss: 0.4505 - accuracy: 0.7752 - val_loss: 0.5288 - val_accuracy: 0.7214\n",
            "Epoch 175/200\n",
            "15/15 [==============================] - 0s 6ms/step - loss: 0.4491 - accuracy: 0.7837 - val_loss: 0.5302 - val_accuracy: 0.7214\n",
            "Epoch 176/200\n",
            "15/15 [==============================] - 0s 6ms/step - loss: 0.4497 - accuracy: 0.7773 - val_loss: 0.5345 - val_accuracy: 0.7264\n",
            "Epoch 177/200\n",
            "15/15 [==============================] - 0s 6ms/step - loss: 0.4513 - accuracy: 0.7944 - val_loss: 0.5353 - val_accuracy: 0.7363\n",
            "Epoch 178/200\n",
            "15/15 [==============================] - 0s 6ms/step - loss: 0.4746 - accuracy: 0.7687 - val_loss: 0.5343 - val_accuracy: 0.7065\n",
            "Epoch 179/200\n",
            "15/15 [==============================] - 0s 6ms/step - loss: 0.4516 - accuracy: 0.7645 - val_loss: 0.5807 - val_accuracy: 0.7264\n",
            "Epoch 180/200\n",
            "15/15 [==============================] - 0s 7ms/step - loss: 0.4976 - accuracy: 0.7687 - val_loss: 0.5308 - val_accuracy: 0.7512\n",
            "Epoch 181/200\n",
            "15/15 [==============================] - 0s 8ms/step - loss: 0.4519 - accuracy: 0.7666 - val_loss: 0.5598 - val_accuracy: 0.7512\n",
            "Epoch 182/200\n",
            "15/15 [==============================] - 0s 8ms/step - loss: 0.4625 - accuracy: 0.7773 - val_loss: 0.5300 - val_accuracy: 0.7214\n",
            "Epoch 183/200\n",
            "15/15 [==============================] - 0s 7ms/step - loss: 0.4550 - accuracy: 0.7730 - val_loss: 0.5267 - val_accuracy: 0.7313\n",
            "Epoch 184/200\n",
            "15/15 [==============================] - 0s 10ms/step - loss: 0.4499 - accuracy: 0.7752 - val_loss: 0.5249 - val_accuracy: 0.7313\n",
            "Epoch 185/200\n",
            "15/15 [==============================] - 0s 7ms/step - loss: 0.4484 - accuracy: 0.7623 - val_loss: 0.5446 - val_accuracy: 0.7463\n",
            "Epoch 186/200\n",
            "15/15 [==============================] - 0s 8ms/step - loss: 0.4761 - accuracy: 0.7537 - val_loss: 0.5419 - val_accuracy: 0.7264\n",
            "Epoch 187/200\n",
            "15/15 [==============================] - 0s 7ms/step - loss: 0.4809 - accuracy: 0.7473 - val_loss: 0.5854 - val_accuracy: 0.6866\n",
            "Epoch 188/200\n",
            "15/15 [==============================] - 0s 6ms/step - loss: 0.4513 - accuracy: 0.7773 - val_loss: 0.5553 - val_accuracy: 0.7015\n",
            "Epoch 189/200\n",
            "15/15 [==============================] - 0s 6ms/step - loss: 0.4508 - accuracy: 0.7666 - val_loss: 0.5358 - val_accuracy: 0.7264\n",
            "Epoch 190/200\n",
            "15/15 [==============================] - 0s 7ms/step - loss: 0.4558 - accuracy: 0.7773 - val_loss: 0.5403 - val_accuracy: 0.7363\n",
            "Epoch 191/200\n",
            "15/15 [==============================] - 0s 7ms/step - loss: 0.4748 - accuracy: 0.7580 - val_loss: 0.6281 - val_accuracy: 0.7214\n",
            "Epoch 192/200\n",
            "15/15 [==============================] - 0s 7ms/step - loss: 0.5179 - accuracy: 0.7302 - val_loss: 0.5884 - val_accuracy: 0.7363\n",
            "Epoch 193/200\n",
            "15/15 [==============================] - 0s 7ms/step - loss: 0.5405 - accuracy: 0.7302 - val_loss: 0.5330 - val_accuracy: 0.7214\n",
            "Epoch 194/200\n",
            "15/15 [==============================] - 0s 6ms/step - loss: 0.4820 - accuracy: 0.7516 - val_loss: 0.5644 - val_accuracy: 0.7164\n",
            "Epoch 195/200\n",
            "15/15 [==============================] - 0s 7ms/step - loss: 0.4573 - accuracy: 0.7623 - val_loss: 0.5651 - val_accuracy: 0.7164\n",
            "Epoch 196/200\n",
            "15/15 [==============================] - 0s 7ms/step - loss: 0.4446 - accuracy: 0.7816 - val_loss: 0.5308 - val_accuracy: 0.7264\n",
            "Epoch 197/200\n",
            "15/15 [==============================] - 0s 10ms/step - loss: 0.4553 - accuracy: 0.7709 - val_loss: 0.5610 - val_accuracy: 0.7463\n",
            "Epoch 198/200\n",
            "15/15 [==============================] - 0s 9ms/step - loss: 0.4475 - accuracy: 0.7730 - val_loss: 0.5377 - val_accuracy: 0.7313\n",
            "Epoch 199/200\n",
            "15/15 [==============================] - 0s 12ms/step - loss: 0.4539 - accuracy: 0.7752 - val_loss: 0.5745 - val_accuracy: 0.7065\n",
            "Epoch 200/200\n",
            "15/15 [==============================] - 0s 10ms/step - loss: 0.4437 - accuracy: 0.7730 - val_loss: 0.5309 - val_accuracy: 0.7413\n",
            "\n",
            "\n",
            "Accuracy: 74.13%\n",
            "\n",
            "\n",
            "Validation Score: 74.13%\n"
          ]
        }
      ]
    },
    {
      "cell_type": "code",
      "source": [
        "\n",
        "# summarize the history for accuracy\n",
        "plt.plot(HyperTune.history['accuracy'])\n",
        "plt.plot(HyperTune.history['val_accuracy'])\n",
        "plt.title('model accuracy')\n",
        "plt.ylabel('accuracy')\n",
        "plt.xlabel('epoch')\n",
        "plt.legend(['train','test'], loc='upper left')\n",
        "plt.show()\n",
        "\n",
        "# summarize the history for loss\n",
        "plt.plot(HyperTune.history['loss'])\n",
        "plt.plot(HyperTune.history['val_loss'])\n",
        "plt.title('model loss')\n",
        "plt.ylabel('loss')\n",
        "plt.xlabel('epoch')\n",
        "plt.legend(['train','test'], loc='upper left')\n",
        "plt.show()\n",
        "     "
      ],
      "metadata": {
        "colab": {
          "base_uri": "https://localhost:8080/",
          "height": 573
        },
        "id": "O62xxilvz3dd",
        "outputId": "55fe7c03-2c9e-4d36-fe05-9aa8c8134532"
      },
      "execution_count": 313,
      "outputs": [
        {
          "output_type": "display_data",
          "data": {
            "text/plain": [
              "<Figure size 432x288 with 1 Axes>"
            ],
            "image/png": "[encoded data removed]"
          },
          "metadata": {
            "needs_background": "light"
          }
        },
        {
          "output_type": "display_data",
          "data": {
            "text/plain": [
              "<Figure size 432x288 with 1 Axes>"
            ],
            "image/png": "[encoded data removed]"
          },
          "metadata": {
            "needs_background": "light"
          }
        }
      ]
    },
    {
      "cell_type": "markdown",
      "source": [
        "## Hyper tuning using GridSearchCV\n"
      ],
      "metadata": {
        "id": "Px26Orsq0Pbf"
      }
    },
    {
      "cell_type": "code",
      "source": [
        "from keras.wrappers.scikit_learn import KerasClassifier\n",
        "from sklearn.model_selection import GridSearchCV"
      ],
      "metadata": {
        "id": "ugcvI_Yt0jaM"
      },
      "execution_count": 315,
      "outputs": []
    },
    {
      "cell_type": "code",
      "source": [
        "from sklearn.preprocessing import StandardScaler\n",
        "\n",
        "# Data split for train and validation \n",
        "x = df_Train.iloc[:, [1,5,7,6,0,2]]\n",
        "\n",
        "\n",
        "scaler = StandardScaler()\n",
        "x =  scaler.fit_transform(x)\n",
        "\n",
        "X_train, X_test, Y_train, Y_test = train_test_split(x, y, test_size=0.3,\n",
        "                                                    random_state=RANDOM_SEED)\n",
        "\n",
        "\n",
        "\n",
        "model1.summary()\n",
        "def build_clf(unit):\n",
        "  # creating the layers of the NN\n",
        "  ann = keras.Sequential()\n",
        "  ann.add(layers.Dense(12, input_dim=6, activation='relu'))\n",
        "  ann.add(layers.Dense(units=unit, activation='relu'))\n",
        "  ann.add(layers.Dense(units=1, activation='sigmoid'))\n",
        "  ann.compile(optimizer = 'adam', loss = 'binary_crossentropy', metrics = ['accuracy'])\n",
        "  return ann"
      ],
      "metadata": {
        "colab": {
          "base_uri": "https://localhost:8080/"
        },
        "id": "ei_t1H6n0ct0",
        "outputId": "59164e56-088a-4057-c284-99fb70a97845"
      },
      "execution_count": 316,
      "outputs": [
        {
          "output_type": "stream",
          "name": "stdout",
          "text": [
            "Model: \"sequential_1\"\n",
            "_________________________________________________________________\n",
            " Layer (type)                Output Shape              Param #   \n",
            "=================================================================\n",
            " dense_3 (Dense)             (None, 4)                 12        \n",
            "                                                                 \n",
            " dense_4 (Dense)             (None, 6)                 30        \n",
            "                                                                 \n",
            " dense_5 (Dense)             (None, 1)                 7         \n",
            "                                                                 \n",
            "=================================================================\n",
            "Total params: 49\n",
            "Trainable params: 49\n",
            "Non-trainable params: 0\n",
            "_________________________________________________________________\n"
          ]
        }
      ]
    },
    {
      "cell_type": "code",
      "source": [
        "\n",
        "Gridmodel=KerasClassifier(build_fn=build_clf)"
      ],
      "metadata": {
        "id": "Msat-bAb0gdn"
      },
      "execution_count": 317,
      "outputs": []
    },
    {
      "cell_type": "code",
      "source": [
        "params={'batch_size':[10,15,20,25], \n",
        "        'nb_epoch':[100, 125, 150, 200],\n",
        "        'unit':[18,24],\n",
        "           \n",
        "        }\n",
        "gs=GridSearchCV(estimator=Gridmodel, param_grid=params, cv=10)\n",
        "# now fit the dataset to the GridSearchCV object. \n",
        "gs = gs.fit(x, y)\n"
      ],
      "metadata": {
        "colab": {
          "base_uri": "https://localhost:8080/"
        },
        "id": "XrN_mKN-0Tbj",
        "outputId": "f04fb98b-2371-4ba1-c693-e654244546b4"
      },
      "execution_count": null,
      "outputs": [
        {
          "output_type": "stream",
          "name": "stdout",
          "text": [
            "61/61 [==============================] - 2s 3ms/step - loss: 0.5868 - accuracy: 0.7121\n",
            "7/7 [==============================] - 0s 3ms/step - loss: 0.6106 - accuracy: 0.6567\n",
            "61/61 [==============================] - 1s 3ms/step - loss: 0.5938 - accuracy: 0.7504\n",
            "7/7 [==============================] - 0s 3ms/step - loss: 0.5408 - accuracy: 0.8209\n",
            "61/61 [==============================] - 1s 4ms/step - loss: 0.6263 - accuracy: 0.6855\n",
            "7/7 [==============================] - 0s 4ms/step - loss: 0.5551 - accuracy: 0.7761\n",
            "61/61 [==============================] - 1s 2ms/step - loss: 0.6123 - accuracy: 0.7171\n",
            "7/7 [==============================] - 0s 3ms/step - loss: 0.6164 - accuracy: 0.6866\n",
            "61/61 [==============================] - 1s 2ms/step - loss: 0.6514 - accuracy: 0.6589\n",
            "7/7 [==============================] - 0s 3ms/step - loss: 0.6782 - accuracy: 0.6567\n",
            "61/61 [==============================] - 1s 2ms/step - loss: 0.6976 - accuracy: 0.5308\n",
            "7/7 [==============================] - 0s 3ms/step - loss: 0.6102 - accuracy: 0.6866\n",
            "61/61 [==============================] - 1s 2ms/step - loss: 0.6352 - accuracy: 0.6240\n",
            "7/7 [==============================] - 0s 4ms/step - loss: 0.5836 - accuracy: 0.6418\n",
            "61/61 [==============================] - 1s 4ms/step - loss: 0.6291 - accuracy: 0.6373\n",
            "7/7 [==============================] - 0s 3ms/step - loss: 0.5304 - accuracy: 0.8358\n",
            "61/61 [==============================] - 1s 2ms/step - loss: 0.6392 - accuracy: 0.6246\n",
            "7/7 [==============================] - 0s 3ms/step - loss: 0.5582 - accuracy: 0.7273\n",
            "61/61 [==============================] - 1s 2ms/step - loss: 0.6647 - accuracy: 0.6279\n",
            "7/7 [==============================] - 0s 4ms/step - loss: 0.5909 - accuracy: 0.6061\n",
            "61/61 [==============================] - 1s 3ms/step - loss: 0.5983 - accuracy: 0.7138\n",
            "7/7 [==============================] - 0s 3ms/step - loss: 0.5896 - accuracy: 0.6866\n",
            "61/61 [==============================] - 1s 2ms/step - loss: 0.7224 - accuracy: 0.5158\n",
            "7/7 [==============================] - 0s 2ms/step - loss: 0.6925 - accuracy: 0.6716\n",
            "61/61 [==============================] - 1s 2ms/step - loss: 0.5632 - accuracy: 0.7155\n",
            "7/7 [==============================] - 0s 3ms/step - loss: 0.4931 - accuracy: 0.8209\n",
            "61/61 [==============================] - 1s 2ms/step - loss: 0.6492 - accuracy: 0.6572\n",
            "7/7 [==============================] - 0s 3ms/step - loss: 0.6459 - accuracy: 0.6269\n",
            "61/61 [==============================] - 1s 2ms/step - loss: 0.6674 - accuracy: 0.5923\n",
            "7/7 [==============================] - 0s 3ms/step - loss: 0.6755 - accuracy: 0.5672\n",
            "61/61 [==============================] - 1s 4ms/step - loss: 0.6302 - accuracy: 0.6589\n",
            "7/7 [==============================] - 0s 3ms/step - loss: 0.5607 - accuracy: 0.7612\n",
            "61/61 [==============================] - 2s 3ms/step - loss: 0.6499 - accuracy: 0.6589\n",
            "7/7 [==============================] - 0s 3ms/step - loss: 0.6081 - accuracy: 0.7313\n",
            "61/61 [==============================] - 1s 3ms/step - loss: 0.7005 - accuracy: 0.5923\n",
            "7/7 [==============================] - 0s 3ms/step - loss: 0.6020 - accuracy: 0.8060\n",
            "61/61 [==============================] - 1s 3ms/step - loss: 0.6490 - accuracy: 0.6628\n",
            "7/7 [==============================] - 0s 3ms/step - loss: 0.5735 - accuracy: 0.7727\n",
            "61/61 [==============================] - 1s 3ms/step - loss: 0.6574 - accuracy: 0.6229\n",
            "7/7 [==============================] - 0s 3ms/step - loss: 0.6225 - accuracy: 0.7121\n",
            "61/61 [==============================] - 1s 2ms/step - loss: 0.5811 - accuracy: 0.7388\n",
            "7/7 [==============================] - 0s 3ms/step - loss: 0.6095 - accuracy: 0.5970\n",
            "61/61 [==============================] - 1s 3ms/step - loss: 0.7029 - accuracy: 0.5624\n",
            "7/7 [==============================] - 0s 4ms/step - loss: 0.6008 - accuracy: 0.6716\n",
            "61/61 [==============================] - 2s 4ms/step - loss: 0.6760 - accuracy: 0.5607\n",
            "7/7 [==============================] - 0s 5ms/step - loss: 0.5917 - accuracy: 0.6866\n",
            "61/61 [==============================] - 1s 3ms/step - loss: 0.6086 - accuracy: 0.6606\n",
            "7/7 [==============================] - 0s 3ms/step - loss: 0.6701 - accuracy: 0.5821\n",
            "61/61 [==============================] - 1s 3ms/step - loss: 0.6060 - accuracy: 0.6705\n",
            "7/7 [==============================] - 0s 3ms/step - loss: 0.5947 - accuracy: 0.6716\n",
            "61/61 [==============================] - 1s 3ms/step - loss: 0.5677 - accuracy: 0.7521\n",
            "7/7 [==============================] - 0s 4ms/step - loss: 0.5030 - accuracy: 0.8060\n",
            "61/61 [==============================] - 1s 3ms/step - loss: 0.6445 - accuracy: 0.7155\n",
            "7/7 [==============================] - 0s 3ms/step - loss: 0.5974 - accuracy: 0.7910\n",
            "61/61 [==============================] - 1s 3ms/step - loss: 0.6956 - accuracy: 0.5258\n",
            "7/7 [==============================] - 0s 3ms/step - loss: 0.6131 - accuracy: 0.7463\n",
            "61/61 [==============================] - 1s 3ms/step - loss: 0.6534 - accuracy: 0.6478\n",
            "7/7 [==============================] - 0s 3ms/step - loss: 0.5238 - accuracy: 0.7576\n",
            "61/61 [==============================] - 1s 2ms/step - loss: 0.6902 - accuracy: 0.5548\n",
            "7/7 [==============================] - 0s 5ms/step - loss: 0.5843 - accuracy: 0.7121\n",
            "61/61 [==============================] - 1s 4ms/step - loss: 0.6450 - accuracy: 0.6439\n",
            "7/7 [==============================] - 0s 4ms/step - loss: 0.6728 - accuracy: 0.6269\n",
            "61/61 [==============================] - 1s 3ms/step - loss: 0.6596 - accuracy: 0.5940\n",
            "7/7 [==============================] - 0s 3ms/step - loss: 0.6006 - accuracy: 0.7164\n",
            "61/61 [==============================] - 1s 2ms/step - loss: 0.6440 - accuracy: 0.6606\n",
            "7/7 [==============================] - 0s 3ms/step - loss: 0.6207 - accuracy: 0.7015\n",
            "61/61 [==============================] - 1s 2ms/step - loss: 0.6345 - accuracy: 0.6822\n",
            "7/7 [==============================] - 0s 3ms/step - loss: 0.6100 - accuracy: 0.7164\n",
            "61/61 [==============================] - 1s 3ms/step - loss: 0.6144 - accuracy: 0.6755\n",
            "7/7 [==============================] - 0s 5ms/step - loss: 0.6732 - accuracy: 0.5970\n",
            "61/61 [==============================] - 1s 2ms/step - loss: 0.5975 - accuracy: 0.7022\n",
            "7/7 [==============================] - 0s 4ms/step - loss: 0.5450 - accuracy: 0.7164\n",
            "61/61 [==============================] - 1s 2ms/step - loss: 0.6446 - accuracy: 0.6988\n",
            "7/7 [==============================] - 0s 3ms/step - loss: 0.5847 - accuracy: 0.8060\n",
            "61/61 [==============================] - 4s 4ms/step - loss: 0.6774 - accuracy: 0.5574\n",
            "7/7 [==============================] - 0s 2ms/step - loss: 0.5898 - accuracy: 0.7463\n",
            "61/61 [==============================] - 1s 3ms/step - loss: 0.6512 - accuracy: 0.6528\n",
            "7/7 [==============================] - 0s 3ms/step - loss: 0.5638 - accuracy: 0.8030\n",
            "61/61 [==============================] - 1s 3ms/step - loss: 0.6775 - accuracy: 0.6196\n",
            "7/7 [==============================] - 0s 3ms/step - loss: 0.6729 - accuracy: 0.6061\n",
            "61/61 [==============================] - 1s 2ms/step - loss: 0.6009 - accuracy: 0.7587\n",
            "7/7 [==============================] - 0s 3ms/step - loss: 0.6099 - accuracy: 0.7015\n",
            "61/61 [==============================] - 1s 2ms/step - loss: 0.6648 - accuracy: 0.6323\n",
            "7/7 [==============================] - 0s 2ms/step - loss: 0.6300 - accuracy: 0.7313\n",
            "61/61 [==============================] - 1s 2ms/step - loss: 0.6516 - accuracy: 0.6456\n",
            "7/7 [==============================] - 0s 3ms/step - loss: 0.6192 - accuracy: 0.6866\n",
            "61/61 [==============================] - 1s 2ms/step - loss: 0.6701 - accuracy: 0.6106\n",
            "7/7 [==============================] - 0s 2ms/step - loss: 0.6721 - accuracy: 0.5821\n",
            "61/61 [==============================] - 1s 2ms/step - loss: 0.6851 - accuracy: 0.6073\n",
            "7/7 [==============================] - 0s 4ms/step - loss: 0.6514 - accuracy: 0.7015\n",
            "61/61 [==============================] - 2s 5ms/step - loss: 0.5902 - accuracy: 0.6772\n",
            "7/7 [==============================] - 0s 4ms/step - loss: 0.5711 - accuracy: 0.7463\n",
            "61/61 [==============================] - 1s 3ms/step - loss: 0.6462 - accuracy: 0.6023\n",
            "7/7 [==============================] - 0s 3ms/step - loss: 0.5642 - accuracy: 0.7015\n",
            "61/61 [==============================] - 1s 3ms/step - loss: 0.6415 - accuracy: 0.5774\n",
            "7/7 [==============================] - 0s 4ms/step - loss: 0.5598 - accuracy: 0.7015\n",
            "61/61 [==============================] - 1s 3ms/step - loss: 0.6033 - accuracy: 0.6960\n",
            "7/7 [==============================] - 0s 3ms/step - loss: 0.5141 - accuracy: 0.8182\n",
            "61/61 [==============================] - 1s 2ms/step - loss: 0.6887 - accuracy: 0.6312\n",
            "7/7 [==============================] - 0s 3ms/step - loss: 0.6495 - accuracy: 0.6515\n",
            "61/61 [==============================] - 1s 3ms/step - loss: 0.6587 - accuracy: 0.6406\n",
            "7/7 [==============================] - 0s 4ms/step - loss: 0.6367 - accuracy: 0.6119\n",
            "61/61 [==============================] - 1s 2ms/step - loss: 0.6529 - accuracy: 0.6456\n",
            "7/7 [==============================] - 0s 3ms/step - loss: 0.6040 - accuracy: 0.7015\n",
            "61/61 [==============================] - 1s 2ms/step - loss: 0.7633 - accuracy: 0.3794\n",
            "7/7 [==============================] - 0s 4ms/step - loss: 0.6792 - accuracy: 0.6866\n",
            "61/61 [==============================] - 1s 4ms/step - loss: 0.6366 - accuracy: 0.6489\n",
            "7/7 [==============================] - 0s 6ms/step - loss: 0.5944 - accuracy: 0.6716\n",
            "61/61 [==============================] - 1s 3ms/step - loss: 0.6178 - accuracy: 0.7072\n",
            "7/7 [==============================] - 0s 3ms/step - loss: 0.5963 - accuracy: 0.6567\n",
            "61/61 [==============================] - 1s 3ms/step - loss: 0.6592 - accuracy: 0.6273\n",
            "7/7 [==============================] - 0s 3ms/step - loss: 0.5810 - accuracy: 0.7612\n",
            "61/61 [==============================] - 1s 3ms/step - loss: 0.6785 - accuracy: 0.5691\n",
            "7/7 [==============================] - 0s 3ms/step - loss: 0.6094 - accuracy: 0.6418\n",
            "61/61 [==============================] - 1s 3ms/step - loss: 0.6194 - accuracy: 0.6722\n",
            "7/7 [==============================] - 0s 3ms/step - loss: 0.5434 - accuracy: 0.7015\n",
            "61/61 [==============================] - 1s 3ms/step - loss: 0.6685 - accuracy: 0.5714\n",
            "7/7 [==============================] - 0s 3ms/step - loss: 0.5429 - accuracy: 0.7879\n",
            "61/61 [==============================] - 1s 3ms/step - loss: 0.6704 - accuracy: 0.6013\n",
            "7/7 [==============================] - 0s 3ms/step - loss: 0.5994 - accuracy: 0.7424\n",
            "61/61 [==============================] - 4s 6ms/step - loss: 0.7321 - accuracy: 0.4010\n",
            "7/7 [==============================] - 0s 5ms/step - loss: 0.6837 - accuracy: 0.5672\n",
            "61/61 [==============================] - 1s 3ms/step - loss: 0.6084 - accuracy: 0.7338\n",
            "7/7 [==============================] - 0s 3ms/step - loss: 0.5549 - accuracy: 0.7910\n",
            "61/61 [==============================] - 1s 3ms/step - loss: 0.6781 - accuracy: 0.5657\n",
            "7/7 [==============================] - 0s 3ms/step - loss: 0.6252 - accuracy: 0.6567\n",
            "61/61 [==============================] - 1s 3ms/step - loss: 0.6236 - accuracy: 0.6689\n",
            "7/7 [==============================] - 0s 4ms/step - loss: 0.6341 - accuracy: 0.6269\n",
            "61/61 [==============================] - 1s 3ms/step - loss: 0.7002 - accuracy: 0.5291\n",
            "7/7 [==============================] - 0s 3ms/step - loss: 0.6913 - accuracy: 0.5821\n",
            "61/61 [==============================] - 1s 3ms/step - loss: 0.6441 - accuracy: 0.6473\n",
            "7/7 [==============================] - 0s 3ms/step - loss: 0.5862 - accuracy: 0.6866\n",
            "61/61 [==============================] - 1s 3ms/step - loss: 0.6603 - accuracy: 0.6489\n",
            "7/7 [==============================] - 0s 3ms/step - loss: 0.6028 - accuracy: 0.6567\n",
            "61/61 [==============================] - 1s 4ms/step - loss: 0.6208 - accuracy: 0.6356\n",
            "7/7 [==============================] - 0s 4ms/step - loss: 0.5510 - accuracy: 0.7015\n",
            "61/61 [==============================] - 1s 3ms/step - loss: 0.6544 - accuracy: 0.6478\n",
            "7/7 [==============================] - 0s 4ms/step - loss: 0.5462 - accuracy: 0.7424\n",
            "61/61 [==============================] - 1s 3ms/step - loss: 0.6694 - accuracy: 0.6362\n",
            "7/7 [==============================] - 0s 4ms/step - loss: 0.6091 - accuracy: 0.7727\n",
            "61/61 [==============================] - 1s 2ms/step - loss: 0.6202 - accuracy: 0.6872\n",
            "7/7 [==============================] - 0s 3ms/step - loss: 0.6274 - accuracy: 0.6269\n",
            "61/61 [==============================] - 1s 2ms/step - loss: 0.6093 - accuracy: 0.7072\n",
            "7/7 [==============================] - 0s 3ms/step - loss: 0.5452 - accuracy: 0.7761\n",
            "61/61 [==============================] - 1s 3ms/step - loss: 0.6651 - accuracy: 0.6273\n",
            "7/7 [==============================] - 0s 3ms/step - loss: 0.6075 - accuracy: 0.6716\n",
            "61/61 [==============================] - 1s 2ms/step - loss: 0.6530 - accuracy: 0.6622\n",
            "7/7 [==============================] - 0s 4ms/step - loss: 0.6359 - accuracy: 0.6716\n",
            "61/61 [==============================] - 1s 2ms/step - loss: 0.6826 - accuracy: 0.5740\n",
            "7/7 [==============================] - 0s 3ms/step - loss: 0.6635 - accuracy: 0.5970\n",
            "61/61 [==============================] - 1s 4ms/step - loss: 0.5970 - accuracy: 0.6988\n",
            "7/7 [==============================] - 0s 4ms/step - loss: 0.5127 - accuracy: 0.7910\n",
            "61/61 [==============================] - 1s 3ms/step - loss: 0.7089 - accuracy: 0.6007\n",
            "7/7 [==============================] - 0s 4ms/step - loss: 0.6499 - accuracy: 0.6866\n",
            "61/61 [==============================] - 1s 2ms/step - loss: 0.6920 - accuracy: 0.5541\n",
            "7/7 [==============================] - 0s 3ms/step - loss: 0.5964 - accuracy: 0.7612\n",
            "61/61 [==============================] - 1s 2ms/step - loss: 0.7028 - accuracy: 0.5116\n",
            "7/7 [==============================] - 0s 4ms/step - loss: 0.6330 - accuracy: 0.6515\n",
            "61/61 [==============================] - 1s 3ms/step - loss: 0.6506 - accuracy: 0.6545\n",
            "7/7 [==============================] - 0s 3ms/step - loss: 0.5766 - accuracy: 0.6667\n",
            "41/41 [==============================] - 1s 3ms/step - loss: 0.6871 - accuracy: 0.5275\n",
            "5/5 [==============================] - 0s 4ms/step - loss: 0.6985 - accuracy: 0.5224\n",
            "41/41 [==============================] - 1s 3ms/step - loss: 0.6103 - accuracy: 0.6789\n",
            "5/5 [==============================] - 0s 4ms/step - loss: 0.5360 - accuracy: 0.7313\n",
            "41/41 [==============================] - 1s 2ms/step - loss: 0.6900 - accuracy: 0.5458\n",
            "5/5 [==============================] - 0s 3ms/step - loss: 0.6657 - accuracy: 0.7313\n",
            "41/41 [==============================] - 4s 3ms/step - loss: 0.7307 - accuracy: 0.6323\n",
            "5/5 [==============================] - 0s 3ms/step - loss: 0.7386 - accuracy: 0.6119\n",
            "41/41 [==============================] - 1s 3ms/step - loss: 0.6608 - accuracy: 0.6290\n",
            "5/5 [==============================] - 0s 3ms/step - loss: 0.6749 - accuracy: 0.5522\n",
            "41/41 [==============================] - 1s 2ms/step - loss: 0.6319 - accuracy: 0.6805\n",
            "5/5 [==============================] - 0s 3ms/step - loss: 0.5716 - accuracy: 0.7761\n",
            "41/41 [==============================] - 1s 3ms/step - loss: 0.6532 - accuracy: 0.6007\n",
            "5/5 [==============================] - 0s 4ms/step - loss: 0.5407 - accuracy: 0.7761\n",
            "41/41 [==============================] - 1s 3ms/step - loss: 0.6918 - accuracy: 0.4825\n",
            "5/5 [==============================] - 0s 6ms/step - loss: 0.6960 - accuracy: 0.5970\n",
            "41/41 [==============================] - 1s 3ms/step - loss: 0.6243 - accuracy: 0.6944\n",
            "5/5 [==============================] - 0s 3ms/step - loss: 0.5503 - accuracy: 0.7727\n",
            "41/41 [==============================] - 1s 5ms/step - loss: 0.6599 - accuracy: 0.6379\n",
            "5/5 [==============================] - 0s 5ms/step - loss: 0.6268 - accuracy: 0.6818\n",
            "41/41 [==============================] - 1s 4ms/step - loss: 0.6237 - accuracy: 0.6805\n",
            "5/5 [==============================] - 0s 6ms/step - loss: 0.6344 - accuracy: 0.5970\n",
            "41/41 [==============================] - 1s 3ms/step - loss: 0.6609 - accuracy: 0.6240\n",
            "5/5 [==============================] - 0s 4ms/step - loss: 0.6391 - accuracy: 0.6866\n",
            "41/41 [==============================] - 1s 2ms/step - loss: 0.6366 - accuracy: 0.6572\n",
            "5/5 [==============================] - 0s 4ms/step - loss: 0.6135 - accuracy: 0.6567\n",
            "41/41 [==============================] - 1s 2ms/step - loss: 0.6688 - accuracy: 0.6140\n",
            "5/5 [==============================] - 0s 4ms/step - loss: 0.6267 - accuracy: 0.7015\n",
            "41/41 [==============================] - 1s 2ms/step - loss: 0.7493 - accuracy: 0.4409\n",
            "5/5 [==============================] - 0s 3ms/step - loss: 0.7018 - accuracy: 0.5821\n",
            "41/41 [==============================] - 1s 2ms/step - loss: 0.7358 - accuracy: 0.4759\n",
            "5/5 [==============================] - 0s 4ms/step - loss: 0.6510 - accuracy: 0.6418\n",
            "41/41 [==============================] - 1s 3ms/step - loss: 0.7201 - accuracy: 0.4592\n",
            "5/5 [==============================] - 0s 3ms/step - loss: 0.6454 - accuracy: 0.6716\n",
            "41/41 [==============================] - 1s 3ms/step - loss: 0.6213 - accuracy: 0.6373\n",
            "5/5 [==============================] - 0s 5ms/step - loss: 0.4958 - accuracy: 0.8060\n",
            "41/41 [==============================] - 1s 5ms/step - loss: 0.6795 - accuracy: 0.6163\n",
            "5/5 [==============================] - 0s 7ms/step - loss: 0.6212 - accuracy: 0.7121\n",
            "41/41 [==============================] - 1s 4ms/step - loss: 0.7329 - accuracy: 0.4020\n",
            "5/5 [==============================] - 0s 4ms/step - loss: 0.6684 - accuracy: 0.6970\n",
            "41/41 [==============================] - 1s 2ms/step - loss: 0.8362 - accuracy: 0.3378\n",
            "5/5 [==============================] - 0s 4ms/step - loss: 0.7381 - accuracy: 0.3433\n",
            "41/41 [==============================] - 1s 3ms/step - loss: 0.6729 - accuracy: 0.6290\n",
            "5/5 [==============================] - 0s 5ms/step - loss: 0.6569 - accuracy: 0.6418\n",
            "41/41 [==============================] - 1s 3ms/step - loss: 0.6941 - accuracy: 0.5141\n",
            "5/5 [==============================] - 0s 4ms/step - loss: 0.6591 - accuracy: 0.6269\n",
            "41/41 [==============================] - 1s 2ms/step - loss: 0.6543 - accuracy: 0.6456\n",
            "5/5 [==============================] - 0s 3ms/step - loss: 0.6973 - accuracy: 0.6418\n",
            "41/41 [==============================] - 1s 3ms/step - loss: 0.6737 - accuracy: 0.6190\n",
            "5/5 [==============================] - 0s 3ms/step - loss: 0.6745 - accuracy: 0.5970\n",
            "41/41 [==============================] - 1s 3ms/step - loss: 0.6782 - accuracy: 0.5524\n",
            "5/5 [==============================] - 0s 4ms/step - loss: 0.6404 - accuracy: 0.6866\n",
            "41/41 [==============================] - 4s 6ms/step - loss: 0.6396 - accuracy: 0.6755\n",
            "5/5 [==============================] - 0s 4ms/step - loss: 0.5902 - accuracy: 0.7015\n",
            "41/41 [==============================] - 1s 3ms/step - loss: 0.6889 - accuracy: 0.5574\n",
            "5/5 [==============================] - 0s 4ms/step - loss: 0.6233 - accuracy: 0.7612\n",
            "41/41 [==============================] - 1s 3ms/step - loss: 0.7812 - accuracy: 0.3439\n",
            "5/5 [==============================] - 0s 4ms/step - loss: 0.7862 - accuracy: 0.2121\n",
            "41/41 [==============================] - 1s 3ms/step - loss: 0.6405 - accuracy: 0.6661\n",
            "5/5 [==============================] - 0s 4ms/step - loss: 0.5824 - accuracy: 0.7121\n",
            "41/41 [==============================] - 1s 3ms/step - loss: 0.6343 - accuracy: 0.6672\n",
            "5/5 [==============================] - 0s 3ms/step - loss: 0.6385 - accuracy: 0.5672\n",
            "41/41 [==============================] - 1s 4ms/step - loss: 0.6434 - accuracy: 0.6822\n",
            "5/5 [==============================] - 0s 4ms/step - loss: 0.6335 - accuracy: 0.7612\n",
            "41/41 [==============================] - 1s 3ms/step - loss: 0.7127 - accuracy: 0.4925\n",
            "5/5 [==============================] - 0s 4ms/step - loss: 0.6763 - accuracy: 0.5522\n",
            "41/41 [==============================] - 1s 4ms/step - loss: 0.7349 - accuracy: 0.4243\n",
            "5/5 [==============================] - 0s 6ms/step - loss: 0.6931 - accuracy: 0.5672\n",
            "41/41 [==============================] - 1s 3ms/step - loss: 0.6990 - accuracy: 0.5507\n",
            "5/5 [==============================] - 0s 4ms/step - loss: 0.6753 - accuracy: 0.5224\n",
            "41/41 [==============================] - 1s 2ms/step - loss: 0.6339 - accuracy: 0.6323\n",
            "5/5 [==============================] - 0s 4ms/step - loss: 0.5962 - accuracy: 0.7761\n",
            "41/41 [==============================] - 1s 3ms/step - loss: 0.6834 - accuracy: 0.5707\n",
            "5/5 [==============================] - 0s 4ms/step - loss: 0.6133 - accuracy: 0.7164\n",
            "41/41 [==============================] - 1s 3ms/step - loss: 0.6416 - accuracy: 0.6439\n",
            "5/5 [==============================] - 0s 4ms/step - loss: 0.5530 - accuracy: 0.7761\n",
            "41/41 [==============================] - 1s 3ms/step - loss: 0.6318 - accuracy: 0.7043\n",
            "5/5 [==============================] - 0s 3ms/step - loss: 0.5739 - accuracy: 0.7273\n",
            "41/41 [==============================] - 1s 3ms/step - loss: 0.6709 - accuracy: 0.5498\n",
            "5/5 [==============================] - 0s 3ms/step - loss: 0.5809 - accuracy: 0.6515\n",
            "41/41 [==============================] - 1s 2ms/step - loss: 0.6279 - accuracy: 0.6789\n",
            "5/5 [==============================] - 0s 4ms/step - loss: 0.6262 - accuracy: 0.6119\n",
            "41/41 [==============================] - 1s 2ms/step - loss: 0.6187 - accuracy: 0.6672\n",
            "5/5 [==============================] - 0s 4ms/step - loss: 0.5726 - accuracy: 0.7015\n",
            "41/41 [==============================] - 1s 5ms/step - loss: 0.7014 - accuracy: 0.5291\n",
            "5/5 [==============================] - 0s 4ms/step - loss: 0.6492 - accuracy: 0.6418\n",
            "41/41 [==============================] - 1s 3ms/step - loss: 0.7043 - accuracy: 0.4992\n",
            "5/5 [==============================] - 0s 4ms/step - loss: 0.6623 - accuracy: 0.6866\n",
            "41/41 [==============================] - 1s 2ms/step - loss: 0.6584 - accuracy: 0.6023\n",
            "5/5 [==============================] - 0s 5ms/step - loss: 0.6923 - accuracy: 0.4776\n",
            "41/41 [==============================] - 1s 3ms/step - loss: 0.7444 - accuracy: 0.4226\n",
            "5/5 [==============================] - 0s 4ms/step - loss: 0.7228 - accuracy: 0.4478\n",
            "41/41 [==============================] - 1s 3ms/step - loss: 0.6980 - accuracy: 0.4908\n",
            "5/5 [==============================] - 0s 3ms/step - loss: 0.6565 - accuracy: 0.6716\n",
            "41/41 [==============================] - 1s 2ms/step - loss: 0.6384 - accuracy: 0.6373\n",
            "5/5 [==============================] - 0s 4ms/step - loss: 0.4844 - accuracy: 0.8060\n",
            "41/41 [==============================] - 1s 2ms/step - loss: 0.6450 - accuracy: 0.6512\n",
            "5/5 [==============================] - 0s 5ms/step - loss: 0.5680 - accuracy: 0.7424\n",
            "41/41 [==============================] - 4s 5ms/step - loss: 0.6024 - accuracy: 0.6927\n",
            "5/5 [==============================] - 0s 6ms/step - loss: 0.6254 - accuracy: 0.6667\n",
            "41/41 [==============================] - 1s 2ms/step - loss: 0.6054 - accuracy: 0.6822\n",
            "5/5 [==============================] - 0s 4ms/step - loss: 0.6439 - accuracy: 0.5970\n",
            "41/41 [==============================] - 1s 3ms/step - loss: 0.6035 - accuracy: 0.6622\n",
            "5/5 [==============================] - 0s 3ms/step - loss: 0.5870 - accuracy: 0.6418\n",
            "41/41 [==============================] - 1s 3ms/step - loss: 0.6582 - accuracy: 0.6106\n",
            "5/5 [==============================] - 0s 4ms/step - loss: 0.6101 - accuracy: 0.8060\n",
            "41/41 [==============================] - 1s 2ms/step - loss: 0.6627 - accuracy: 0.6606\n",
            "5/5 [==============================] - 0s 4ms/step - loss: 0.6533 - accuracy: 0.5970\n",
            "41/41 [==============================] - 1s 4ms/step - loss: 0.6916 - accuracy: 0.5324\n",
            "5/5 [==============================] - 0s 4ms/step - loss: 0.6526 - accuracy: 0.6119\n",
            "41/41 [==============================] - 1s 2ms/step - loss: 0.6180 - accuracy: 0.6572\n",
            "5/5 [==============================] - 0s 4ms/step - loss: 0.5844 - accuracy: 0.6716\n",
            "41/41 [==============================] - 1s 5ms/step - loss: 0.7342 - accuracy: 0.4260\n",
            "5/5 [==============================] - 0s 5ms/step - loss: 0.6745 - accuracy: 0.5224\n",
            "41/41 [==============================] - 1s 3ms/step - loss: 0.6535 - accuracy: 0.6439\n",
            "5/5 [==============================] - 0s 4ms/step - loss: 0.5838 - accuracy: 0.7463\n",
            "41/41 [==============================] - 1s 2ms/step - loss: 0.7224 - accuracy: 0.4734\n",
            "5/5 [==============================] - 0s 4ms/step - loss: 0.6777 - accuracy: 0.6364\n",
            "41/41 [==============================] - 1s 3ms/step - loss: 0.7088 - accuracy: 0.5083\n",
            "5/5 [==============================] - 0s 3ms/step - loss: 0.6450 - accuracy: 0.6061\n",
            "41/41 [==============================] - 1s 2ms/step - loss: 0.7084 - accuracy: 0.4975\n",
            "5/5 [==============================] - 0s 3ms/step - loss: 0.6756 - accuracy: 0.5672\n",
            "41/41 [==============================] - 1s 3ms/step - loss: 0.5988 - accuracy: 0.6805\n",
            "5/5 [==============================] - 0s 5ms/step - loss: 0.5487 - accuracy: 0.7313\n",
            "41/41 [==============================] - 1s 2ms/step - loss: 0.6537 - accuracy: 0.6722\n",
            "5/5 [==============================] - 0s 4ms/step - loss: 0.6102 - accuracy: 0.7612\n",
            "41/41 [==============================] - 1s 3ms/step - loss: 0.7911 - accuracy: 0.3494\n",
            "5/5 [==============================] - 0s 4ms/step - loss: 0.7053 - accuracy: 0.4776\n",
            "41/41 [==============================] - 1s 2ms/step - loss: 0.6400 - accuracy: 0.7022\n",
            "5/5 [==============================] - 0s 5ms/step - loss: 0.6502 - accuracy: 0.6119\n",
            "41/41 [==============================] - 1s 4ms/step - loss: 0.6855 - accuracy: 0.5657\n",
            "5/5 [==============================] - 0s 4ms/step - loss: 0.6415 - accuracy: 0.7164\n",
            "41/41 [==============================] - 1s 3ms/step - loss: 0.7106 - accuracy: 0.5042\n",
            "5/5 [==============================] - 0s 4ms/step - loss: 0.6399 - accuracy: 0.6567\n",
            "41/41 [==============================] - 1s 2ms/step - loss: 0.6611 - accuracy: 0.6273\n",
            "5/5 [==============================] - 0s 4ms/step - loss: 0.6380 - accuracy: 0.7164\n",
            "41/41 [==============================] - 1s 4ms/step - loss: 0.6860 - accuracy: 0.5465\n",
            "5/5 [==============================] - 0s 3ms/step - loss: 0.6376 - accuracy: 0.6818\n",
            "41/41 [==============================] - 1s 2ms/step - loss: 0.6023 - accuracy: 0.7010\n",
            "5/5 [==============================] - 0s 4ms/step - loss: 0.5807 - accuracy: 0.7576\n",
            "41/41 [==============================] - 1s 2ms/step - loss: 0.6085 - accuracy: 0.7354\n",
            "5/5 [==============================] - 0s 4ms/step - loss: 0.6204 - accuracy: 0.6567\n",
            "41/41 [==============================] - 1s 2ms/step - loss: 0.6652 - accuracy: 0.6539\n",
            "5/5 [==============================] - 0s 4ms/step - loss: 0.6223 - accuracy: 0.7015\n",
            "41/41 [==============================] - 4s 4ms/step - loss: 0.6658 - accuracy: 0.6106\n",
            "5/5 [==============================] - 0s 4ms/step - loss: 0.6093 - accuracy: 0.7015\n",
            "41/41 [==============================] - 2s 4ms/step - loss: 0.6633 - accuracy: 0.5957\n",
            "5/5 [==============================] - 0s 5ms/step - loss: 0.6361 - accuracy: 0.6716\n",
            "41/41 [==============================] - 1s 3ms/step - loss: 0.7013 - accuracy: 0.5075\n",
            "5/5 [==============================] - 0s 4ms/step - loss: 0.6671 - accuracy: 0.6418\n",
            "41/41 [==============================] - 1s 3ms/step - loss: 0.6094 - accuracy: 0.6672\n",
            "5/5 [==============================] - 0s 4ms/step - loss: 0.5436 - accuracy: 0.6866\n",
            "41/41 [==============================] - 1s 3ms/step - loss: 0.7496 - accuracy: 0.5025\n",
            "5/5 [==============================] - 0s 3ms/step - loss: 0.6887 - accuracy: 0.6567\n",
            "41/41 [==============================] - 1s 3ms/step - loss: 0.7026 - accuracy: 0.5874\n",
            "5/5 [==============================] - 0s 5ms/step - loss: 0.5809 - accuracy: 0.8060\n",
            "41/41 [==============================] - 1s 3ms/step - loss: 0.6598 - accuracy: 0.6395\n",
            "5/5 [==============================] - 0s 3ms/step - loss: 0.6068 - accuracy: 0.7273\n",
            "41/41 [==============================] - 1s 5ms/step - loss: 0.6968 - accuracy: 0.4983\n",
            "5/5 [==============================] - 0s 5ms/step - loss: 0.6778 - accuracy: 0.6212\n",
            "31/31 [==============================] - 1s 5ms/step - loss: 0.7182 - accuracy: 0.4842\n",
            "4/4 [==============================] - 0s 6ms/step - loss: 0.6757 - accuracy: 0.5970\n",
            "31/31 [==============================] - 1s 3ms/step - loss: 0.6822 - accuracy: 0.6489\n",
            "4/4 [==============================] - 0s 4ms/step - loss: 0.6612 - accuracy: 0.6716\n",
            "31/31 [==============================] - 1s 3ms/step - loss: 0.7108 - accuracy: 0.6156\n",
            "4/4 [==============================] - 0s 4ms/step - loss: 0.6681 - accuracy: 0.6567\n",
            "31/31 [==============================] - 1s 2ms/step - loss: 0.7846 - accuracy: 0.2895\n",
            "4/4 [==============================] - 0s 4ms/step - loss: 0.7018 - accuracy: 0.5075\n",
            "31/31 [==============================] - 1s 3ms/step - loss: 0.5900 - accuracy: 0.7121\n",
            "4/4 [==============================] - 0s 6ms/step - loss: 0.6093 - accuracy: 0.7015\n",
            "31/31 [==============================] - 1s 3ms/step - loss: 0.6101 - accuracy: 0.6722\n",
            "4/4 [==============================] - 0s 6ms/step - loss: 0.5893 - accuracy: 0.7164\n",
            "31/31 [==============================] - 1s 3ms/step - loss: 0.6676 - accuracy: 0.6290\n",
            "4/4 [==============================] - 0s 6ms/step - loss: 0.6097 - accuracy: 0.7463\n",
            "31/31 [==============================] - 1s 3ms/step - loss: 0.6033 - accuracy: 0.6339\n",
            "4/4 [==============================] - 0s 5ms/step - loss: 0.5023 - accuracy: 0.8209\n",
            "31/31 [==============================] - 1s 4ms/step - loss: 0.6071 - accuracy: 0.6512\n",
            "4/4 [==============================] - 0s 6ms/step - loss: 0.5196 - accuracy: 0.6818\n",
            "31/31 [==============================] - 1s 3ms/step - loss: 0.7679 - accuracy: 0.3920\n",
            "4/4 [==============================] - 0s 4ms/step - loss: 0.6885 - accuracy: 0.6061\n",
            "31/31 [==============================] - 1s 3ms/step - loss: 0.6373 - accuracy: 0.6456\n",
            "4/4 [==============================] - 0s 5ms/step - loss: 0.6395 - accuracy: 0.5821\n",
            "31/31 [==============================] - 1s 3ms/step - loss: 0.7172 - accuracy: 0.4110\n",
            "4/4 [==============================] - 0s 6ms/step - loss: 0.6869 - accuracy: 0.4776\n",
            "31/31 [==============================] - 1s 3ms/step - loss: 0.6798 - accuracy: 0.5557\n",
            "4/4 [==============================] - 0s 6ms/step - loss: 0.6360 - accuracy: 0.6866\n",
            "31/31 [==============================] - 1s 3ms/step - loss: 0.6669 - accuracy: 0.6339\n",
            "4/4 [==============================] - 0s 4ms/step - loss: 0.6710 - accuracy: 0.6119\n",
            "31/31 [==============================] - 1s 3ms/step - loss: 0.7020 - accuracy: 0.4942\n",
            "4/4 [==============================] - 0s 5ms/step - loss: 0.6799 - accuracy: 0.5821\n",
            "31/31 [==============================] - 4s 5ms/step - loss: 0.6711 - accuracy: 0.6539\n",
            "4/4 [==============================] - 0s 8ms/step - loss: 0.6372 - accuracy: 0.6567\n",
            "31/31 [==============================] - 2s 3ms/step - loss: 0.7052 - accuracy: 0.4875\n",
            "4/4 [==============================] - 0s 7ms/step - loss: 0.6306 - accuracy: 0.6119\n",
            "31/31 [==============================] - 1s 3ms/step - loss: 0.6822 - accuracy: 0.5691\n",
            "4/4 [==============================] - 0s 5ms/step - loss: 0.6384 - accuracy: 0.6866\n",
            "31/31 [==============================] - 1s 3ms/step - loss: 0.6618 - accuracy: 0.6279\n",
            "4/4 [==============================] - 0s 4ms/step - loss: 0.5672 - accuracy: 0.7727\n",
            "31/31 [==============================] - 1s 3ms/step - loss: 0.7162 - accuracy: 0.4585\n",
            "4/4 [==============================] - 0s 5ms/step - loss: 0.6549 - accuracy: 0.7424\n",
            "31/31 [==============================] - 1s 2ms/step - loss: 0.6621 - accuracy: 0.6556\n",
            "4/4 [==============================] - 0s 5ms/step - loss: 0.6960 - accuracy: 0.5672\n",
            "31/31 [==============================] - 1s 3ms/step - loss: 0.6644 - accuracy: 0.6572\n",
            "4/4 [==============================] - 0s 5ms/step - loss: 0.6284 - accuracy: 0.6866\n",
            "31/31 [==============================] - 1s 4ms/step - loss: 0.6350 - accuracy: 0.6622\n",
            "4/4 [==============================] - 0s 10ms/step - loss: 0.5879 - accuracy: 0.7313\n",
            "31/31 [==============================] - 1s 3ms/step - loss: 0.6413 - accuracy: 0.6839\n",
            "4/4 [==============================] - 0s 5ms/step - loss: 0.6078 - accuracy: 0.7015\n",
            "31/31 [==============================] - 1s 3ms/step - loss: 0.7879 - accuracy: 0.6622\n",
            "4/4 [==============================] - 0s 5ms/step - loss: 0.7230 - accuracy: 0.5821\n",
            "31/31 [==============================] - 1s 3ms/step - loss: 0.6185 - accuracy: 0.6539\n",
            "4/4 [==============================] - 0s 6ms/step - loss: 0.5689 - accuracy: 0.6866\n",
            "31/31 [==============================] - 1s 3ms/step - loss: 0.6688 - accuracy: 0.6406\n",
            "4/4 [==============================] - 0s 5ms/step - loss: 0.6586 - accuracy: 0.6269\n",
            "31/31 [==============================] - 1s 3ms/step - loss: 0.6905 - accuracy: 0.5507\n",
            "4/4 [==============================] - 0s 5ms/step - loss: 0.6320 - accuracy: 0.7463\n",
            "31/31 [==============================] - 1s 4ms/step - loss: 0.7268 - accuracy: 0.4817\n",
            "4/4 [==============================] - 0s 6ms/step - loss: 0.6297 - accuracy: 0.6212\n",
            "31/31 [==============================] - 1s 3ms/step - loss: 0.6724 - accuracy: 0.6346\n",
            "4/4 [==============================] - 0s 5ms/step - loss: 0.6480 - accuracy: 0.7576\n",
            "31/31 [==============================] - 1s 3ms/step - loss: 0.6860 - accuracy: 0.5840\n",
            "4/4 [==============================] - 0s 5ms/step - loss: 0.7027 - accuracy: 0.5522\n",
            "31/31 [==============================] - 1s 4ms/step - loss: 0.6901 - accuracy: 0.5607\n",
            "4/4 [==============================] - 0s 5ms/step - loss: 0.6419 - accuracy: 0.6866\n",
            "31/31 [==============================] - 1s 3ms/step - loss: 0.6821 - accuracy: 0.5923\n",
            "4/4 [==============================] - 0s 5ms/step - loss: 0.6653 - accuracy: 0.6567\n",
            "31/31 [==============================] - 1s 3ms/step - loss: 0.7185 - accuracy: 0.4443\n",
            "4/4 [==============================] - 0s 5ms/step - loss: 0.6631 - accuracy: 0.6269\n",
            "31/31 [==============================] - 1s 3ms/step - loss: 0.7171 - accuracy: 0.4958\n",
            "4/4 [==============================] - 0s 6ms/step - loss: 0.6550 - accuracy: 0.6119\n",
            "31/31 [==============================] - 1s 3ms/step - loss: 0.6149 - accuracy: 0.6639\n",
            "4/4 [==============================] - 0s 6ms/step - loss: 0.5486 - accuracy: 0.7761\n",
            "31/31 [==============================] - 1s 3ms/step - loss: 0.6570 - accuracy: 0.6306\n",
            "4/4 [==============================] - 0s 6ms/step - loss: 0.6129 - accuracy: 0.7313\n",
            "31/31 [==============================] - 1s 3ms/step - loss: 0.6518 - accuracy: 0.6389\n",
            "4/4 [==============================] - 0s 6ms/step - loss: 0.5919 - accuracy: 0.7015\n"
          ]
        }
      ]
    },
    {
      "cell_type": "code",
      "source": [
        "\n",
        "best_params=gs.best_params_\n",
        "accuracy=gs.best_score_\n",
        "\n",
        "print(best_params)\n",
        "print(accuracy)"
      ],
      "metadata": {
        "id": "ZsHFf9rM0WAY"
      },
      "execution_count": null,
      "outputs": []
    },
    {
      "cell_type": "markdown",
      "source": [
        "# Prediction of Test Dataset\n"
      ],
      "metadata": {
        "id": "1Vf79FXkg_4x"
      }
    },
    {
      "cell_type": "code",
      "source": [
        "# Loading of Test Dataset and displaying the first 5 rows\n",
        "\n",
        "df_Test = pd.read_csv('https://raw.githubusercontent.com/harishahamed26/Diabetes_Prediction_Using_Neural_Network/main/data/test.csv')\n",
        "df_Test.head(5)"
      ],
      "metadata": {
        "colab": {
          "base_uri": "https://localhost:8080/",
          "height": 206
        },
        "id": "aA-Bg94IhEXv",
        "outputId": "f76754fd-a5f4-4742-a4a7-eeb701c37dd2"
      },
      "execution_count": 234,
      "outputs": [
        {
          "output_type": "execute_result",
          "data": {
            "text/plain": [
              "   id  A1   A2   A3  A4   A5    A6     A7  A8\n",
              "0   1   6   98   58  33  190  34.0  0.430  43\n",
              "1   2   9  154   78  30  100  30.9  0.164  45\n",
              "2   3   6  165   68  26  168  33.6  0.631  49\n",
              "3   4   1   99   58  10    0  25.4  0.551  21\n",
              "4   5  10   68  106  23   49  35.5  0.285  47"
            ],
            "text/html": [
              "\n",
              "  <div id=\"df-6a810c48-ce22-4a5c-91fc-c5d3ecdd7d0a\">\n",
              "    <div class=\"colab-df-container\">\n",
              "      <div>\n",
              "<style scoped>\n",
              "    .dataframe tbody tr th:only-of-type {\n",
              "        vertical-align: middle;\n",
              "    }\n",
              "\n",
              "    .dataframe tbody tr th {\n",
              "        vertical-align: top;\n",
              "    }\n",
              "\n",
              "    .dataframe thead th {\n",
              "        text-align: right;\n",
              "    }\n",
              "</style>\n",
              "<table border=\"1\" class=\"dataframe\">\n",
              "  <thead>\n",
              "    <tr style=\"text-align: right;\">\n",
              "      <th></th>\n",
              "      <th>id</th>\n",
              "      <th>A1</th>\n",
              "      <th>A2</th>\n",
              "      <th>A3</th>\n",
              "      <th>A4</th>\n",
              "      <th>A5</th>\n",
              "      <th>A6</th>\n",
              "      <th>A7</th>\n",
              "      <th>A8</th>\n",
              "    </tr>\n",
              "  </thead>\n",
              "  <tbody>\n",
              "    <tr>\n",
              "      <th>0</th>\n",
              "      <td>1</td>\n",
              "      <td>6</td>\n",
              "      <td>98</td>\n",
              "      <td>58</td>\n",
              "      <td>33</td>\n",
              "      <td>190</td>\n",
              "      <td>34.0</td>\n",
              "      <td>0.430</td>\n",
              "      <td>43</td>\n",
              "    </tr>\n",
              "    <tr>\n",
              "      <th>1</th>\n",
              "      <td>2</td>\n",
              "      <td>9</td>\n",
              "      <td>154</td>\n",
              "      <td>78</td>\n",
              "      <td>30</td>\n",
              "      <td>100</td>\n",
              "      <td>30.9</td>\n",
              "      <td>0.164</td>\n",
              "      <td>45</td>\n",
              "    </tr>\n",
              "    <tr>\n",
              "      <th>2</th>\n",
              "      <td>3</td>\n",
              "      <td>6</td>\n",
              "      <td>165</td>\n",
              "      <td>68</td>\n",
              "      <td>26</td>\n",
              "      <td>168</td>\n",
              "      <td>33.6</td>\n",
              "      <td>0.631</td>\n",
              "      <td>49</td>\n",
              "    </tr>\n",
              "    <tr>\n",
              "      <th>3</th>\n",
              "      <td>4</td>\n",
              "      <td>1</td>\n",
              "      <td>99</td>\n",
              "      <td>58</td>\n",
              "      <td>10</td>\n",
              "      <td>0</td>\n",
              "      <td>25.4</td>\n",
              "      <td>0.551</td>\n",
              "      <td>21</td>\n",
              "    </tr>\n",
              "    <tr>\n",
              "      <th>4</th>\n",
              "      <td>5</td>\n",
              "      <td>10</td>\n",
              "      <td>68</td>\n",
              "      <td>106</td>\n",
              "      <td>23</td>\n",
              "      <td>49</td>\n",
              "      <td>35.5</td>\n",
              "      <td>0.285</td>\n",
              "      <td>47</td>\n",
              "    </tr>\n",
              "  </tbody>\n",
              "</table>\n",
              "</div>\n",
              "      <button class=\"colab-df-convert\" onclick=\"convertToInteractive('df-6a810c48-ce22-4a5c-91fc-c5d3ecdd7d0a')\"\n",
              "              title=\"Convert this dataframe to an interactive table.\"\n",
              "              style=\"display:none;\">\n",
              "        \n",
              "  <svg xmlns=\"http://www.w3.org/2000/svg\" height=\"24px\"viewBox=\"0 0 24 24\"\n",
              "       width=\"24px\">\n",
              "    <path d=\"M0 0h24v24H0V0z\" fill=\"none\"/>\n",
              "    <path d=\"M18.56 5.44l.94 2.06.94-2.06 2.06-.94-2.06-.94-.94-2.06-.94 2.06-2.06.94zm-11 1L8.5 8.5l.94-2.06 2.06-.94-2.06-.94L8.5 2.5l-.94 2.06-2.06.94zm10 10l.94 2.06.94-2.06 2.06-.94-2.06-.94-.94-2.06-.94 2.06-2.06.94z\"/><path d=\"M17.41 7.96l-1.37-1.37c-.4-.4-.92-.59-1.43-.59-.52 0-1.04.2-1.43.59L10.3 9.45l-7.72 7.72c-.78.78-.78 2.05 0 2.83L4 21.41c.39.39.9.59 1.41.59.51 0 1.02-.2 1.41-.59l7.78-7.78 2.81-2.81c.8-.78.8-2.07 0-2.86zM5.41 20L4 18.59l7.72-7.72 1.47 1.35L5.41 20z\"/>\n",
              "  </svg>\n",
              "      </button>\n",
              "      \n",
              "  <style>\n",
              "    .colab-df-container {\n",
              "      display:flex;\n",
              "      flex-wrap:wrap;\n",
              "      gap: 12px;\n",
              "    }\n",
              "\n",
              "    .colab-df-convert {\n",
              "      background-color: #E8F0FE;\n",
              "      border: none;\n",
              "      border-radius: 50%;\n",
              "      cursor: pointer;\n",
              "      display: none;\n",
              "      fill: #1967D2;\n",
              "      height: 32px;\n",
              "      padding: 0 0 0 0;\n",
              "      width: 32px;\n",
              "    }\n",
              "\n",
              "    .colab-df-convert:hover {\n",
              "      background-color: #E2EBFA;\n",
              "      box-shadow: 0px 1px 2px rgba(60, 64, 67, 0.3), 0px 1px 3px 1px rgba(60, 64, 67, 0.15);\n",
              "      fill: #174EA6;\n",
              "    }\n",
              "\n",
              "    [theme=dark] .colab-df-convert {\n",
              "      background-color: #3B4455;\n",
              "      fill: #D2E3FC;\n",
              "    }\n",
              "\n",
              "    [theme=dark] .colab-df-convert:hover {\n",
              "      background-color: #434B5C;\n",
              "      box-shadow: 0px 1px 3px 1px rgba(0, 0, 0, 0.15);\n",
              "      filter: drop-shadow(0px 1px 2px rgba(0, 0, 0, 0.3));\n",
              "      fill: #FFFFFF;\n",
              "    }\n",
              "  </style>\n",
              "\n",
              "      <script>\n",
              "        const buttonEl =\n",
              "          document.querySelector('#df-6a810c48-ce22-4a5c-91fc-c5d3ecdd7d0a button.colab-df-convert');\n",
              "        buttonEl.style.display =\n",
              "          google.colab.kernel.accessAllowed ? 'block' : 'none';\n",
              "\n",
              "        async function convertToInteractive(key) {\n",
              "          const element = document.querySelector('#df-6a810c48-ce22-4a5c-91fc-c5d3ecdd7d0a');\n",
              "          const dataTable =\n",
              "            await google.colab.kernel.invokeFunction('convertToInteractive',\n",
              "                                                     [key], {});\n",
              "          if (!dataTable) return;\n",
              "\n",
              "          const docLinkHtml = 'Like what you see? Visit the ' +\n",
              "            '<a target=\"_blank\" href=https://colab.research.google.com/notebooks/data_table.ipynb>data table notebook</a>'\n",
              "            + ' to learn more about interactive tables.';\n",
              "          element.innerHTML = '';\n",
              "          dataTable['output_type'] = 'display_data';\n",
              "          await google.colab.output.renderOutput(dataTable, element);\n",
              "          const docLink = document.createElement('div');\n",
              "          docLink.innerHTML = docLinkHtml;\n",
              "          element.appendChild(docLink);\n",
              "        }\n",
              "      </script>\n",
              "    </div>\n",
              "  </div>\n",
              "  "
            ]
          },
          "metadata": {},
          "execution_count": 234
        }
      ]
    },
    {
      "cell_type": "code",
      "source": [
        "m2_predict = df_Test.copy()\n",
        "m2_predict.drop(['A1', 'A2', 'A3', 'A4', 'A5', 'A6', 'A7', 'A8'], axis = 1, inplace = True  )\n",
        "df_Test.drop('id', axis = 1, inplace = True)"
      ],
      "metadata": {
        "id": "YBdysf70F6SL"
      },
      "execution_count": 235,
      "outputs": []
    },
    {
      "cell_type": "code",
      "source": [
        "predict = model3.predict(df_Test.iloc[:, [1,5,7,6]])\n"
      ],
      "metadata": {
        "colab": {
          "base_uri": "https://localhost:8080/"
        },
        "id": "5foP6KO2FuaT",
        "outputId": "b463aeb9-61bb-4ac0-e99f-69b0de2c92e5"
      },
      "execution_count": 550,
      "outputs": [
        {
          "output_type": "stream",
          "name": "stdout",
          "text": [
            "4/4 [==============================] - 1s 7ms/step\n"
          ]
        }
      ]
    },
    {
      "cell_type": "code",
      "source": [
        "m3_predict['prediction'] = [1 if pred > 0.5 else 0 for pred in predict]\n",
        "print(m3_predict['prediction'])"
      ],
      "metadata": {
        "colab": {
          "base_uri": "https://localhost:8080/"
        },
        "id": "9qLxwCERGON9",
        "outputId": "8079b3da-7df4-43de-d97e-6a9f5e299b68"
      },
      "execution_count": 551,
      "outputs": [
        {
          "output_type": "stream",
          "name": "stdout",
          "text": [
            "0     0\n",
            "1     1\n",
            "2     1\n",
            "3     0\n",
            "4     0\n",
            "     ..\n",
            "95    0\n",
            "96    0\n",
            "97    0\n",
            "98    1\n",
            "99    0\n",
            "Name: prediction, Length: 100, dtype: int64\n"
          ]
        }
      ]
    },
    {
      "cell_type": "code",
      "source": [
        "m3_predict.head(5)"
      ],
      "metadata": {
        "colab": {
          "base_uri": "https://localhost:8080/",
          "height": 206
        },
        "id": "CxgKsYVnIInV",
        "outputId": "82d16fd8-7a07-4afe-c686-3386215f3aa2"
      },
      "execution_count": 552,
      "outputs": [
        {
          "output_type": "execute_result",
          "data": {
            "text/plain": [
              "   id  prediction\n",
              "0   1           0\n",
              "1   2           1\n",
              "2   3           1\n",
              "3   4           0\n",
              "4   5           0"
            ],
            "text/html": [
              "\n",
              "  <div id=\"df-1fd4664c-07b8-44f2-aa89-ea411235436f\">\n",
              "    <div class=\"colab-df-container\">\n",
              "      <div>\n",
              "<style scoped>\n",
              "    .dataframe tbody tr th:only-of-type {\n",
              "        vertical-align: middle;\n",
              "    }\n",
              "\n",
              "    .dataframe tbody tr th {\n",
              "        vertical-align: top;\n",
              "    }\n",
              "\n",
              "    .dataframe thead th {\n",
              "        text-align: right;\n",
              "    }\n",
              "</style>\n",
              "<table border=\"1\" class=\"dataframe\">\n",
              "  <thead>\n",
              "    <tr style=\"text-align: right;\">\n",
              "      <th></th>\n",
              "      <th>id</th>\n",
              "      <th>prediction</th>\n",
              "    </tr>\n",
              "  </thead>\n",
              "  <tbody>\n",
              "    <tr>\n",
              "      <th>0</th>\n",
              "      <td>1</td>\n",
              "      <td>0</td>\n",
              "    </tr>\n",
              "    <tr>\n",
              "      <th>1</th>\n",
              "      <td>2</td>\n",
              "      <td>1</td>\n",
              "    </tr>\n",
              "    <tr>\n",
              "      <th>2</th>\n",
              "      <td>3</td>\n",
              "      <td>1</td>\n",
              "    </tr>\n",
              "    <tr>\n",
              "      <th>3</th>\n",
              "      <td>4</td>\n",
              "      <td>0</td>\n",
              "    </tr>\n",
              "    <tr>\n",
              "      <th>4</th>\n",
              "      <td>5</td>\n",
              "      <td>0</td>\n",
              "    </tr>\n",
              "  </tbody>\n",
              "</table>\n",
              "</div>\n",
              "      <button class=\"colab-df-convert\" onclick=\"convertToInteractive('df-1fd4664c-07b8-44f2-aa89-ea411235436f')\"\n",
              "              title=\"Convert this dataframe to an interactive table.\"\n",
              "              style=\"display:none;\">\n",
              "        \n",
              "  <svg xmlns=\"http://www.w3.org/2000/svg\" height=\"24px\"viewBox=\"0 0 24 24\"\n",
              "       width=\"24px\">\n",
              "    <path d=\"M0 0h24v24H0V0z\" fill=\"none\"/>\n",
              "    <path d=\"M18.56 5.44l.94 2.06.94-2.06 2.06-.94-2.06-.94-.94-2.06-.94 2.06-2.06.94zm-11 1L8.5 8.5l.94-2.06 2.06-.94-2.06-.94L8.5 2.5l-.94 2.06-2.06.94zm10 10l.94 2.06.94-2.06 2.06-.94-2.06-.94-.94-2.06-.94 2.06-2.06.94z\"/><path d=\"M17.41 7.96l-1.37-1.37c-.4-.4-.92-.59-1.43-.59-.52 0-1.04.2-1.43.59L10.3 9.45l-7.72 7.72c-.78.78-.78 2.05 0 2.83L4 21.41c.39.39.9.59 1.41.59.51 0 1.02-.2 1.41-.59l7.78-7.78 2.81-2.81c.8-.78.8-2.07 0-2.86zM5.41 20L4 18.59l7.72-7.72 1.47 1.35L5.41 20z\"/>\n",
              "  </svg>\n",
              "      </button>\n",
              "      \n",
              "  <style>\n",
              "    .colab-df-container {\n",
              "      display:flex;\n",
              "      flex-wrap:wrap;\n",
              "      gap: 12px;\n",
              "    }\n",
              "\n",
              "    .colab-df-convert {\n",
              "      background-color: #E8F0FE;\n",
              "      border: none;\n",
              "      border-radius: 50%;\n",
              "      cursor: pointer;\n",
              "      display: none;\n",
              "      fill: #1967D2;\n",
              "      height: 32px;\n",
              "      padding: 0 0 0 0;\n",
              "      width: 32px;\n",
              "    }\n",
              "\n",
              "    .colab-df-convert:hover {\n",
              "      background-color: #E2EBFA;\n",
              "      box-shadow: 0px 1px 2px rgba(60, 64, 67, 0.3), 0px 1px 3px 1px rgba(60, 64, 67, 0.15);\n",
              "      fill: #174EA6;\n",
              "    }\n",
              "\n",
              "    [theme=dark] .colab-df-convert {\n",
              "      background-color: #3B4455;\n",
              "      fill: #D2E3FC;\n",
              "    }\n",
              "\n",
              "    [theme=dark] .colab-df-convert:hover {\n",
              "      background-color: #434B5C;\n",
              "      box-shadow: 0px 1px 3px 1px rgba(0, 0, 0, 0.15);\n",
              "      filter: drop-shadow(0px 1px 2px rgba(0, 0, 0, 0.3));\n",
              "      fill: #FFFFFF;\n",
              "    }\n",
              "  </style>\n",
              "\n",
              "      <script>\n",
              "        const buttonEl =\n",
              "          document.querySelector('#df-1fd4664c-07b8-44f2-aa89-ea411235436f button.colab-df-convert');\n",
              "        buttonEl.style.display =\n",
              "          google.colab.kernel.accessAllowed ? 'block' : 'none';\n",
              "\n",
              "        async function convertToInteractive(key) {\n",
              "          const element = document.querySelector('#df-1fd4664c-07b8-44f2-aa89-ea411235436f');\n",
              "          const dataTable =\n",
              "            await google.colab.kernel.invokeFunction('convertToInteractive',\n",
              "                                                     [key], {});\n",
              "          if (!dataTable) return;\n",
              "\n",
              "          const docLinkHtml = 'Like what you see? Visit the ' +\n",
              "            '<a target=\"_blank\" href=https://colab.research.google.com/notebooks/data_table.ipynb>data table notebook</a>'\n",
              "            + ' to learn more about interactive tables.';\n",
              "          element.innerHTML = '';\n",
              "          dataTable['output_type'] = 'display_data';\n",
              "          await google.colab.output.renderOutput(dataTable, element);\n",
              "          const docLink = document.createElement('div');\n",
              "          docLink.innerHTML = docLinkHtml;\n",
              "          element.appendChild(docLink);\n",
              "        }\n",
              "      </script>\n",
              "    </div>\n",
              "  </div>\n",
              "  "
            ]
          },
          "metadata": {},
          "execution_count": 552
        }
      ]
    },
    {
      "cell_type": "code",
      "source": [
        "# To convert the prediction values into Json file\n",
        "\n",
        "data = []\n",
        "for index, row in df_Test.iterrows():\n",
        "    data.append({'id': int(row['id']), 'prediction': int(row['prediction'])})\n",
        "\n",
        "print(data[0:5])\n",
        "\n",
        "submission_file_path = \"submission.json\"\n",
        "with open(submission_file_path, 'w') as fp:\n",
        "    fp.write('\\n'.join(json.dumps(i) for i in data))"
      ],
      "metadata": {
        "colab": {
          "base_uri": "https://localhost:8080/",
          "height": 514
        },
        "id": "aZwJ59ZNGlf3",
        "outputId": "d5721c50-052f-4b64-b90c-cdd3b21b7455"
      },
      "execution_count": 480,
      "outputs": [
        {
          "output_type": "error",
          "ename": "KeyError",
          "evalue": "ignored",
          "traceback": [
            "\u001b[0;31m---------------------------------------------------------------------------\u001b[0m",
            "\u001b[0;31mKeyError\u001b[0m                                  Traceback (most recent call last)",
            "\u001b[0;32m/usr/local/lib/python3.8/dist-packages/pandas/core/indexes/base.py\u001b[0m in \u001b[0;36mget_loc\u001b[0;34m(self, key, method, tolerance)\u001b[0m\n\u001b[1;32m   3360\u001b[0m             \u001b[0;32mtry\u001b[0m\u001b[0;34m:\u001b[0m\u001b[0;34m\u001b[0m\u001b[0;34m\u001b[0m\u001b[0m\n\u001b[0;32m-> 3361\u001b[0;31m                 \u001b[0;32mreturn\u001b[0m \u001b[0mself\u001b[0m\u001b[0;34m.\u001b[0m\u001b[0m_engine\u001b[0m\u001b[0;34m.\u001b[0m\u001b[0mget_loc\u001b[0m\u001b[0;34m(\u001b[0m\u001b[0mcasted_key\u001b[0m\u001b[0;34m)\u001b[0m\u001b[0;34m\u001b[0m\u001b[0;34m\u001b[0m\u001b[0m\n\u001b[0m\u001b[1;32m   3362\u001b[0m             \u001b[0;32mexcept\u001b[0m \u001b[0mKeyError\u001b[0m \u001b[0;32mas\u001b[0m \u001b[0merr\u001b[0m\u001b[0;34m:\u001b[0m\u001b[0;34m\u001b[0m\u001b[0;34m\u001b[0m\u001b[0m\n",
            "\u001b[0;32m/usr/local/lib/python3.8/dist-packages/pandas/_libs/index.pyx\u001b[0m in \u001b[0;36mpandas._libs.index.IndexEngine.get_loc\u001b[0;34m()\u001b[0m\n",
            "\u001b[0;32m/usr/local/lib/python3.8/dist-packages/pandas/_libs/index.pyx\u001b[0m in \u001b[0;36mpandas._libs.index.IndexEngine.get_loc\u001b[0;34m()\u001b[0m\n",
            "\u001b[0;32mpandas/_libs/hashtable_class_helper.pxi\u001b[0m in \u001b[0;36mpandas._libs.hashtable.PyObjectHashTable.get_item\u001b[0;34m()\u001b[0m\n",
            "\u001b[0;32mpandas/_libs/hashtable_class_helper.pxi\u001b[0m in \u001b[0;36mpandas._libs.hashtable.PyObjectHashTable.get_item\u001b[0;34m()\u001b[0m\n",
            "\u001b[0;31mKeyError\u001b[0m: 'id'",
            "\nThe above exception was the direct cause of the following exception:\n",
            "\u001b[0;31mKeyError\u001b[0m                                  Traceback (most recent call last)",
            "\u001b[0;32m<ipython-input-480-7fae079a9b00>\u001b[0m in \u001b[0;36m<module>\u001b[0;34m\u001b[0m\n\u001b[1;32m      3\u001b[0m \u001b[0mdata\u001b[0m \u001b[0;34m=\u001b[0m \u001b[0;34m[\u001b[0m\u001b[0;34m]\u001b[0m\u001b[0;34m\u001b[0m\u001b[0;34m\u001b[0m\u001b[0m\n\u001b[1;32m      4\u001b[0m \u001b[0;32mfor\u001b[0m \u001b[0mindex\u001b[0m\u001b[0;34m,\u001b[0m \u001b[0mrow\u001b[0m \u001b[0;32min\u001b[0m \u001b[0mdf_Test\u001b[0m\u001b[0;34m.\u001b[0m\u001b[0miterrows\u001b[0m\u001b[0;34m(\u001b[0m\u001b[0;34m)\u001b[0m\u001b[0;34m:\u001b[0m\u001b[0;34m\u001b[0m\u001b[0;34m\u001b[0m\u001b[0m\n\u001b[0;32m----> 5\u001b[0;31m     \u001b[0mdata\u001b[0m\u001b[0;34m.\u001b[0m\u001b[0mappend\u001b[0m\u001b[0;34m(\u001b[0m\u001b[0;34m{\u001b[0m\u001b[0;34m'id'\u001b[0m\u001b[0;34m:\u001b[0m \u001b[0mint\u001b[0m\u001b[0;34m(\u001b[0m\u001b[0mrow\u001b[0m\u001b[0;34m[\u001b[0m\u001b[0;34m'id'\u001b[0m\u001b[0;34m]\u001b[0m\u001b[0;34m)\u001b[0m\u001b[0;34m,\u001b[0m \u001b[0;34m'prediction'\u001b[0m\u001b[0;34m:\u001b[0m \u001b[0mint\u001b[0m\u001b[0;34m(\u001b[0m\u001b[0mrow\u001b[0m\u001b[0;34m[\u001b[0m\u001b[0;34m'prediction'\u001b[0m\u001b[0;34m]\u001b[0m\u001b[0;34m)\u001b[0m\u001b[0;34m}\u001b[0m\u001b[0;34m)\u001b[0m\u001b[0;34m\u001b[0m\u001b[0;34m\u001b[0m\u001b[0m\n\u001b[0m\u001b[1;32m      6\u001b[0m \u001b[0;34m\u001b[0m\u001b[0m\n\u001b[1;32m      7\u001b[0m \u001b[0mprint\u001b[0m\u001b[0;34m(\u001b[0m\u001b[0mdata\u001b[0m\u001b[0;34m[\u001b[0m\u001b[0;36m0\u001b[0m\u001b[0;34m:\u001b[0m\u001b[0;36m5\u001b[0m\u001b[0;34m]\u001b[0m\u001b[0;34m)\u001b[0m\u001b[0;34m\u001b[0m\u001b[0;34m\u001b[0m\u001b[0m\n",
            "\u001b[0;32m/usr/local/lib/python3.8/dist-packages/pandas/core/series.py\u001b[0m in \u001b[0;36m__getitem__\u001b[0;34m(self, key)\u001b[0m\n\u001b[1;32m    940\u001b[0m \u001b[0;34m\u001b[0m\u001b[0m\n\u001b[1;32m    941\u001b[0m         \u001b[0;32melif\u001b[0m \u001b[0mkey_is_scalar\u001b[0m\u001b[0;34m:\u001b[0m\u001b[0;34m\u001b[0m\u001b[0;34m\u001b[0m\u001b[0m\n\u001b[0;32m--> 942\u001b[0;31m             \u001b[0;32mreturn\u001b[0m \u001b[0mself\u001b[0m\u001b[0;34m.\u001b[0m\u001b[0m_get_value\u001b[0m\u001b[0;34m(\u001b[0m\u001b[0mkey\u001b[0m\u001b[0;34m)\u001b[0m\u001b[0;34m\u001b[0m\u001b[0;34m\u001b[0m\u001b[0m\n\u001b[0m\u001b[1;32m    943\u001b[0m \u001b[0;34m\u001b[0m\u001b[0m\n\u001b[1;32m    944\u001b[0m         \u001b[0;32mif\u001b[0m \u001b[0mis_hashable\u001b[0m\u001b[0;34m(\u001b[0m\u001b[0mkey\u001b[0m\u001b[0;34m)\u001b[0m\u001b[0;34m:\u001b[0m\u001b[0;34m\u001b[0m\u001b[0;34m\u001b[0m\u001b[0m\n",
            "\u001b[0;32m/usr/local/lib/python3.8/dist-packages/pandas/core/series.py\u001b[0m in \u001b[0;36m_get_value\u001b[0;34m(self, label, takeable)\u001b[0m\n\u001b[1;32m   1049\u001b[0m \u001b[0;34m\u001b[0m\u001b[0m\n\u001b[1;32m   1050\u001b[0m         \u001b[0;31m# Similar to Index.get_value, but we do not fall back to positional\u001b[0m\u001b[0;34m\u001b[0m\u001b[0;34m\u001b[0m\u001b[0;34m\u001b[0m\u001b[0m\n\u001b[0;32m-> 1051\u001b[0;31m         \u001b[0mloc\u001b[0m \u001b[0;34m=\u001b[0m \u001b[0mself\u001b[0m\u001b[0;34m.\u001b[0m\u001b[0mindex\u001b[0m\u001b[0;34m.\u001b[0m\u001b[0mget_loc\u001b[0m\u001b[0;34m(\u001b[0m\u001b[0mlabel\u001b[0m\u001b[0;34m)\u001b[0m\u001b[0;34m\u001b[0m\u001b[0;34m\u001b[0m\u001b[0m\n\u001b[0m\u001b[1;32m   1052\u001b[0m         \u001b[0;32mreturn\u001b[0m \u001b[0mself\u001b[0m\u001b[0;34m.\u001b[0m\u001b[0mindex\u001b[0m\u001b[0;34m.\u001b[0m\u001b[0m_get_values_for_loc\u001b[0m\u001b[0;34m(\u001b[0m\u001b[0mself\u001b[0m\u001b[0;34m,\u001b[0m \u001b[0mloc\u001b[0m\u001b[0;34m,\u001b[0m \u001b[0mlabel\u001b[0m\u001b[0;34m)\u001b[0m\u001b[0;34m\u001b[0m\u001b[0;34m\u001b[0m\u001b[0m\n\u001b[1;32m   1053\u001b[0m \u001b[0;34m\u001b[0m\u001b[0m\n",
            "\u001b[0;32m/usr/local/lib/python3.8/dist-packages/pandas/core/indexes/base.py\u001b[0m in \u001b[0;36mget_loc\u001b[0;34m(self, key, method, tolerance)\u001b[0m\n\u001b[1;32m   3361\u001b[0m                 \u001b[0;32mreturn\u001b[0m \u001b[0mself\u001b[0m\u001b[0;34m.\u001b[0m\u001b[0m_engine\u001b[0m\u001b[0;34m.\u001b[0m\u001b[0mget_loc\u001b[0m\u001b[0;34m(\u001b[0m\u001b[0mcasted_key\u001b[0m\u001b[0;34m)\u001b[0m\u001b[0;34m\u001b[0m\u001b[0;34m\u001b[0m\u001b[0m\n\u001b[1;32m   3362\u001b[0m             \u001b[0;32mexcept\u001b[0m \u001b[0mKeyError\u001b[0m \u001b[0;32mas\u001b[0m \u001b[0merr\u001b[0m\u001b[0;34m:\u001b[0m\u001b[0;34m\u001b[0m\u001b[0;34m\u001b[0m\u001b[0m\n\u001b[0;32m-> 3363\u001b[0;31m                 \u001b[0;32mraise\u001b[0m \u001b[0mKeyError\u001b[0m\u001b[0;34m(\u001b[0m\u001b[0mkey\u001b[0m\u001b[0;34m)\u001b[0m \u001b[0;32mfrom\u001b[0m \u001b[0merr\u001b[0m\u001b[0;34m\u001b[0m\u001b[0;34m\u001b[0m\u001b[0m\n\u001b[0m\u001b[1;32m   3364\u001b[0m \u001b[0;34m\u001b[0m\u001b[0m\n\u001b[1;32m   3365\u001b[0m         \u001b[0;32mif\u001b[0m \u001b[0mis_scalar\u001b[0m\u001b[0;34m(\u001b[0m\u001b[0mkey\u001b[0m\u001b[0;34m)\u001b[0m \u001b[0;32mand\u001b[0m \u001b[0misna\u001b[0m\u001b[0;34m(\u001b[0m\u001b[0mkey\u001b[0m\u001b[0;34m)\u001b[0m \u001b[0;32mand\u001b[0m \u001b[0;32mnot\u001b[0m \u001b[0mself\u001b[0m\u001b[0;34m.\u001b[0m\u001b[0mhasnans\u001b[0m\u001b[0;34m:\u001b[0m\u001b[0;34m\u001b[0m\u001b[0;34m\u001b[0m\u001b[0m\n",
            "\u001b[0;31mKeyError\u001b[0m: 'id'"
          ]
        }
      ]
    },
    {
      "cell_type": "markdown",
      "source": [
        "# Cross validation"
      ],
      "metadata": {
        "id": "jBIe8wkak2LG"
      }
    },
    {
      "cell_type": "code",
      "source": [
        "x = df_Train.iloc[:,  [1,5,7,6,0,2]]\n",
        "scaler = StandardScaler()\n",
        "x =  scaler.fit_transform(x)\n",
        "\n",
        "\n",
        "predict_Test = model3.predict(x)\n"
      ],
      "metadata": {
        "colab": {
          "base_uri": "https://localhost:8080/"
        },
        "id": "sSIrFhMek9yj",
        "outputId": "5b0d4e5b-8f65-4b14-feb7-72cce465783b"
      },
      "execution_count": 237,
      "outputs": [
        {
          "output_type": "stream",
          "name": "stdout",
          "text": [
            "21/21 [==============================] - 0s 3ms/step\n"
          ]
        }
      ]
    },
    {
      "cell_type": "code",
      "source": [
        "test = [1 if pred > 0.5 else 0 for pred in predict_Test]\n",
        "print(test)"
      ],
      "metadata": {
        "colab": {
          "base_uri": "https://localhost:8080/"
        },
        "id": "KCjIDjRYlCWd",
        "outputId": "e2f44530-b29e-4a5b-93d8-1361beba335f"
      },
      "execution_count": 238,
      "outputs": [
        {
          "output_type": "stream",
          "name": "stdout",
          "text": [
            "[1, 0, 1, 0, 0, 0, 0, 0, 1, 0, 0, 1, 0, 1, 1, 0, 0, 0, 1, 0, 0, 0, 1, 0, 1, 0, 1, 0, 0, 0, 0, 1, 0, 0, 0, 0, 1, 0, 0, 0, 1, 1, 0, 1, 1, 1, 0, 0, 0, 0, 0, 0, 0, 1, 1, 0, 1, 0, 1, 0, 0, 1, 0, 0, 0, 0, 0, 1, 0, 0, 0, 1, 1, 0, 0, 0, 0, 0, 0, 0, 0, 0, 0, 0, 0, 0, 0, 0, 1, 0, 0, 0, 0, 0, 0, 1, 0, 0, 0, 0, 1, 0, 0, 0, 0, 0, 0, 1, 0, 0, 1, 1, 0, 0, 1, 0, 0, 0, 0, 0, 1, 0, 0, 0, 0, 1, 1, 0, 0, 0, 1, 1, 1, 0, 0, 0, 0, 0, 0, 0, 0, 0, 0, 0, 1, 0, 0, 0, 0, 0, 0, 0, 1, 1, 1, 1, 0, 0, 0, 1, 0, 0, 0, 0, 0, 0, 0, 0, 0, 0, 0, 1, 0, 0, 0, 1, 0, 0, 1, 1, 0, 0, 0, 0, 0, 1, 1, 0, 0, 0, 0, 0, 1, 1, 0, 1, 0, 0, 0, 1, 0, 0, 0, 0, 0, 0, 1, 1, 0, 1, 0, 0, 1, 1, 0, 1, 0, 0, 0, 1, 1, 0, 0, 0, 0, 0, 0, 1, 1, 0, 1, 1, 0, 0, 0, 1, 1, 1, 1, 0, 0, 0, 0, 0, 1, 1, 0, 1, 1, 0, 0, 0, 0, 0, 0, 0, 0, 0, 1, 1, 1, 0, 0, 0, 0, 0, 0, 1, 0, 0, 1, 0, 0, 0, 0, 0, 0, 0, 0, 0, 0, 1, 0, 1, 0, 0, 1, 0, 0, 0, 0, 0, 1, 1, 0, 1, 0, 0, 0, 0, 1, 1, 0, 0, 0, 0, 1, 0, 0, 0, 0, 0, 0, 0, 0, 0, 0, 1, 0, 1, 0, 0, 0, 1, 0, 0, 0, 1, 0, 0, 0, 0, 1, 0, 0, 1, 0, 0, 1, 1, 0, 0, 0, 0, 0, 1, 0, 0, 0, 1, 0, 0, 0, 0, 0, 1, 0, 1, 0, 1, 1, 0, 0, 1, 1, 0, 0, 0, 0, 0, 1, 0, 0, 0, 0, 1, 0, 0, 1, 0, 0, 0, 0, 0, 0, 0, 0, 0, 0, 0, 0, 1, 0, 0, 1, 0, 0, 0, 0, 1, 0, 0, 0, 0, 1, 1, 0, 0, 1, 1, 0, 0, 1, 0, 0, 0, 0, 1, 0, 0, 0, 0, 0, 0, 1, 1, 0, 1, 0, 0, 0, 0, 0, 0, 0, 1, 1, 1, 0, 0, 1, 0, 0, 0, 0, 1, 0, 0, 0, 0, 0, 0, 0, 0, 0, 1, 0, 0, 1, 0, 0, 0, 0, 0, 0, 0, 0, 0, 0, 1, 1, 0, 0, 0, 0, 0, 0, 0, 0, 0, 1, 0, 0, 0, 1, 0, 1, 1, 0, 1, 0, 0, 0, 0, 0, 0, 0, 0, 1, 1, 0, 0, 1, 0, 0, 0, 1, 0, 0, 0, 0, 0, 0, 0, 0, 1, 0, 1, 0, 0, 0, 0, 0, 1, 0, 0, 0, 0, 0, 0, 0, 0, 0, 0, 0, 0, 0, 0, 0, 0, 0, 0, 0, 0, 0, 1, 1, 0, 1, 1, 0, 0, 0, 0, 0, 0, 0, 0, 1, 0, 0, 1, 0, 0, 0, 0, 0, 0, 1, 0, 0, 0, 0, 0, 0, 0, 0, 0, 0, 1, 0, 0, 0, 0, 0, 0, 1, 0, 1, 0, 1, 0, 0, 0, 1, 1, 0, 0, 1, 0, 0, 0, 0, 1, 1, 0, 1, 0, 0, 0, 0, 1, 1, 0, 1, 0, 0, 0, 0, 0, 0, 0, 1, 0, 0, 0, 0, 0, 0, 0, 0, 0, 0, 0, 0, 0, 0, 0, 1, 0, 0, 0, 1, 0, 0, 1, 0, 1, 0, 0, 0, 0, 0, 0, 0, 1, 0, 0, 0, 0, 1, 1, 1, 1, 0, 0, 0, 0]\n"
          ]
        }
      ]
    },
    {
      "cell_type": "code",
      "source": [
        "test1 = df_Train['class']\n",
        "test1[0:10]"
      ],
      "metadata": {
        "colab": {
          "base_uri": "https://localhost:8080/"
        },
        "id": "1vInInCklObG",
        "outputId": "df3baaa7-b91e-404e-f246-8d9c3de6bc5a"
      },
      "execution_count": 239,
      "outputs": [
        {
          "output_type": "execute_result",
          "data": {
            "text/plain": [
              "0    1\n",
              "1    0\n",
              "2    1\n",
              "3    0\n",
              "4    1\n",
              "5    0\n",
              "6    1\n",
              "7    0\n",
              "8    1\n",
              "9    1\n",
              "Name: class, dtype: int64"
            ]
          },
          "metadata": {},
          "execution_count": 239
        }
      ]
    },
    {
      "cell_type": "code",
      "source": [
        "test[0:10]"
      ],
      "metadata": {
        "colab": {
          "base_uri": "https://localhost:8080/"
        },
        "id": "No7NGeed7Bai",
        "outputId": "494ac280-75f6-4b64-c87a-a2dc9651e36d"
      },
      "execution_count": 240,
      "outputs": [
        {
          "output_type": "execute_result",
          "data": {
            "text/plain": [
              "[1, 0, 1, 0, 0, 0, 0, 0, 1, 0]"
            ]
          },
          "metadata": {},
          "execution_count": 240
        }
      ]
    },
    {
      "cell_type": "code",
      "source": [
        "\n",
        "from math import sqrt\n",
        "from sklearn.metrics import mean_squared_error\n",
        "\n",
        " \n",
        "MSE = np.square(np.subtract(test1,test)).mean() \n",
        " \n",
        "RMSE = sqrt(MSE)\n",
        "print(MSE, RMSE)"
      ],
      "metadata": {
        "colab": {
          "base_uri": "https://localhost:8080/"
        },
        "id": "h-vE4MvQl-44",
        "outputId": "b6bd63dc-ada5-41e8-b87d-b29192428c3f"
      },
      "execution_count": 241,
      "outputs": [
        {
          "output_type": "stream",
          "name": "stdout",
          "text": [
            "0.23802395209580837 0.48787698459325624\n"
          ]
        }
      ]
    },
    {
      "cell_type": "code",
      "source": [
        "from sklearn.metrics import accuracy_score\n",
        "accuracy_score(test1,test) "
      ],
      "metadata": {
        "colab": {
          "base_uri": "https://localhost:8080/"
        },
        "id": "gbPObGrH74Lk",
        "outputId": "5cf135fe-900d-487d-8f3f-c3ce80bb43cc"
      },
      "execution_count": 242,
      "outputs": [
        {
          "output_type": "execute_result",
          "data": {
            "text/plain": [
              "0.7619760479041916"
            ]
          },
          "metadata": {},
          "execution_count": 242
        }
      ]
    }
  ]
}