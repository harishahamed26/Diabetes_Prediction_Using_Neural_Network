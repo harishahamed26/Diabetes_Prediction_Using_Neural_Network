{
  "nbformat": 4,
  "nbformat_minor": 0,
  "metadata": {
    "colab": {
      "provenance": [],
      "toc_visible": true,
      "authorship_tag": "ABX9TyOMHPMy0cMH0sEVZG4bU5IZ",
      "include_colab_link": true
    },
    "kernelspec": {
      "name": "python3",
      "display_name": "Python 3"
    },
    "language_info": {
      "name": "python"
    }
  },
  "cells": [
    {
      "cell_type": "markdown",
      "metadata": {
        "id": "view-in-github",
        "colab_type": "text"
      },
      "source": [
        "<a href=\"https://colab.research.google.com/github/harishahamed26/Diabetes_Prediction_Using_Neural_Network/blob/main/DiabetesPredictionNeuralNetwork.ipynb\" target=\"_parent\"><img src=\"https://colab.research.google.com/assets/colab-badge.svg\" alt=\"Open In Colab\"/></a>"
      ]
    },
    {
      "cell_type": "markdown",
      "source": [
        "# DiabetesPredictionNeuralNetwork"
      ],
      "metadata": {
        "id": "paPVZ0lqgSyV"
      }
    },
    {
      "cell_type": "markdown",
      "source": [
        "***Data Set Attribute Description***\n",
        "\n",
        "• A1 - Number of times pregnant\n",
        "--\n",
        "• A2 - Plasma glucose concentration a 2 hours in an oral glucose tolerance test\n",
        "--\n",
        "• A3 - Diastolic blood pressure (mm Hg)\n",
        "--\n",
        "• A4 - Triceps skin fold thickness (mm)\n",
        "--\n",
        "• A5 - 2-Hour serum insulin (mu U/ml)\n",
        "--\n",
        "• A6 - Body mass index (weight in kg/(height in m)^2)\n",
        "--\n",
        "• A7 - Diabetes pedigree function\n",
        "--\n",
        "• A8 - Age (years)\n",
        "--\n"
      ],
      "metadata": {
        "id": "9w7-8ghlluFQ"
      }
    },
    {
      "cell_type": "code",
      "source": [
        "! pip install SMOTE\n"
      ],
      "metadata": {
        "colab": {
          "base_uri": "https://localhost:8080/"
        },
        "id": "Az2zPwrS36TL",
        "outputId": "68a7ddd7-726e-4c6d-e283-a38289327d3b"
      },
      "execution_count": 1,
      "outputs": [
        {
          "output_type": "stream",
          "name": "stdout",
          "text": [
            "Looking in indexes: https://pypi.org/simple, https://us-python.pkg.dev/colab-wheels/public/simple/\n",
            "Collecting SMOTE\n",
            "  Downloading smote-0.1-py2.py3-none-any.whl (3.3 kB)\n",
            "Requirement already satisfied: scikit-learn>=0.19.1 in /usr/local/lib/python3.8/dist-packages (from SMOTE) (1.0.2)\n",
            "Requirement already satisfied: numpy>=1.14.3 in /usr/local/lib/python3.8/dist-packages (from SMOTE) (1.22.4)\n",
            "Requirement already satisfied: scipy>=1.1.0 in /usr/local/lib/python3.8/dist-packages (from scikit-learn>=0.19.1->SMOTE) (1.7.3)\n",
            "Requirement already satisfied: threadpoolctl>=2.0.0 in /usr/local/lib/python3.8/dist-packages (from scikit-learn>=0.19.1->SMOTE) (3.1.0)\n",
            "Requirement already satisfied: joblib>=0.11 in /usr/local/lib/python3.8/dist-packages (from scikit-learn>=0.19.1->SMOTE) (1.2.0)\n",
            "Installing collected packages: SMOTE\n",
            "Successfully installed SMOTE-0.1\n"
          ]
        }
      ]
    },
    {
      "cell_type": "code",
      "source": [
        "! pip install tensorflow # Necessary package"
      ],
      "metadata": {
        "colab": {
          "base_uri": "https://localhost:8080/"
        },
        "id": "xqi77rw5mQtI",
        "outputId": "1c2aaf37-b745-407d-8bf7-a32c7ea44d51"
      },
      "execution_count": 2,
      "outputs": [
        {
          "output_type": "stream",
          "name": "stdout",
          "text": [
            "Looking in indexes: https://pypi.org/simple, https://us-python.pkg.dev/colab-wheels/public/simple/\n",
            "Requirement already satisfied: tensorflow in /usr/local/lib/python3.8/dist-packages (2.11.0)\n",
            "Requirement already satisfied: termcolor>=1.1.0 in /usr/local/lib/python3.8/dist-packages (from tensorflow) (2.2.0)\n",
            "Requirement already satisfied: tensorboard<2.12,>=2.11 in /usr/local/lib/python3.8/dist-packages (from tensorflow) (2.11.2)\n",
            "Requirement already satisfied: packaging in /usr/local/lib/python3.8/dist-packages (from tensorflow) (23.0)\n",
            "Requirement already satisfied: numpy>=1.20 in /usr/local/lib/python3.8/dist-packages (from tensorflow) (1.22.4)\n",
            "Requirement already satisfied: keras<2.12,>=2.11.0 in /usr/local/lib/python3.8/dist-packages (from tensorflow) (2.11.0)\n",
            "Requirement already satisfied: opt-einsum>=2.3.2 in /usr/local/lib/python3.8/dist-packages (from tensorflow) (3.3.0)\n",
            "Requirement already satisfied: six>=1.12.0 in /usr/local/lib/python3.8/dist-packages (from tensorflow) (1.15.0)\n",
            "Requirement already satisfied: typing-extensions>=3.6.6 in /usr/local/lib/python3.8/dist-packages (from tensorflow) (4.5.0)\n",
            "Requirement already satisfied: astunparse>=1.6.0 in /usr/local/lib/python3.8/dist-packages (from tensorflow) (1.6.3)\n",
            "Requirement already satisfied: h5py>=2.9.0 in /usr/local/lib/python3.8/dist-packages (from tensorflow) (3.1.0)\n",
            "Requirement already satisfied: absl-py>=1.0.0 in /usr/local/lib/python3.8/dist-packages (from tensorflow) (1.4.0)\n",
            "Requirement already satisfied: setuptools in /usr/local/lib/python3.8/dist-packages (from tensorflow) (57.4.0)\n",
            "Requirement already satisfied: grpcio<2.0,>=1.24.3 in /usr/local/lib/python3.8/dist-packages (from tensorflow) (1.51.1)\n",
            "Requirement already satisfied: wrapt>=1.11.0 in /usr/local/lib/python3.8/dist-packages (from tensorflow) (1.14.1)\n",
            "Requirement already satisfied: tensorflow-io-gcs-filesystem>=0.23.1 in /usr/local/lib/python3.8/dist-packages (from tensorflow) (0.30.0)\n",
            "Requirement already satisfied: tensorflow-estimator<2.12,>=2.11.0 in /usr/local/lib/python3.8/dist-packages (from tensorflow) (2.11.0)\n",
            "Requirement already satisfied: protobuf<3.20,>=3.9.2 in /usr/local/lib/python3.8/dist-packages (from tensorflow) (3.19.6)\n",
            "Requirement already satisfied: gast<=0.4.0,>=0.2.1 in /usr/local/lib/python3.8/dist-packages (from tensorflow) (0.4.0)\n",
            "Requirement already satisfied: google-pasta>=0.1.1 in /usr/local/lib/python3.8/dist-packages (from tensorflow) (0.2.0)\n",
            "Requirement already satisfied: flatbuffers>=2.0 in /usr/local/lib/python3.8/dist-packages (from tensorflow) (23.1.21)\n",
            "Requirement already satisfied: libclang>=13.0.0 in /usr/local/lib/python3.8/dist-packages (from tensorflow) (15.0.6.1)\n",
            "Requirement already satisfied: wheel<1.0,>=0.23.0 in /usr/local/lib/python3.8/dist-packages (from astunparse>=1.6.0->tensorflow) (0.38.4)\n",
            "Requirement already satisfied: requests<3,>=2.21.0 in /usr/local/lib/python3.8/dist-packages (from tensorboard<2.12,>=2.11->tensorflow) (2.25.1)\n",
            "Requirement already satisfied: tensorboard-plugin-wit>=1.6.0 in /usr/local/lib/python3.8/dist-packages (from tensorboard<2.12,>=2.11->tensorflow) (1.8.1)\n",
            "Requirement already satisfied: google-auth<3,>=1.6.3 in /usr/local/lib/python3.8/dist-packages (from tensorboard<2.12,>=2.11->tensorflow) (2.16.1)\n",
            "Requirement already satisfied: markdown>=2.6.8 in /usr/local/lib/python3.8/dist-packages (from tensorboard<2.12,>=2.11->tensorflow) (3.4.1)\n",
            "Requirement already satisfied: google-auth-oauthlib<0.5,>=0.4.1 in /usr/local/lib/python3.8/dist-packages (from tensorboard<2.12,>=2.11->tensorflow) (0.4.6)\n",
            "Requirement already satisfied: tensorboard-data-server<0.7.0,>=0.6.0 in /usr/local/lib/python3.8/dist-packages (from tensorboard<2.12,>=2.11->tensorflow) (0.6.1)\n",
            "Requirement already satisfied: werkzeug>=1.0.1 in /usr/local/lib/python3.8/dist-packages (from tensorboard<2.12,>=2.11->tensorflow) (1.0.1)\n",
            "Requirement already satisfied: cachetools<6.0,>=2.0.0 in /usr/local/lib/python3.8/dist-packages (from google-auth<3,>=1.6.3->tensorboard<2.12,>=2.11->tensorflow) (5.3.0)\n",
            "Requirement already satisfied: rsa<5,>=3.1.4 in /usr/local/lib/python3.8/dist-packages (from google-auth<3,>=1.6.3->tensorboard<2.12,>=2.11->tensorflow) (4.9)\n",
            "Requirement already satisfied: pyasn1-modules>=0.2.1 in /usr/local/lib/python3.8/dist-packages (from google-auth<3,>=1.6.3->tensorboard<2.12,>=2.11->tensorflow) (0.2.8)\n",
            "Requirement already satisfied: requests-oauthlib>=0.7.0 in /usr/local/lib/python3.8/dist-packages (from google-auth-oauthlib<0.5,>=0.4.1->tensorboard<2.12,>=2.11->tensorflow) (1.3.1)\n",
            "Requirement already satisfied: importlib-metadata>=4.4 in /usr/local/lib/python3.8/dist-packages (from markdown>=2.6.8->tensorboard<2.12,>=2.11->tensorflow) (6.0.0)\n",
            "Requirement already satisfied: certifi>=2017.4.17 in /usr/local/lib/python3.8/dist-packages (from requests<3,>=2.21.0->tensorboard<2.12,>=2.11->tensorflow) (2022.12.7)\n",
            "Requirement already satisfied: urllib3<1.27,>=1.21.1 in /usr/local/lib/python3.8/dist-packages (from requests<3,>=2.21.0->tensorboard<2.12,>=2.11->tensorflow) (1.24.3)\n",
            "Requirement already satisfied: chardet<5,>=3.0.2 in /usr/local/lib/python3.8/dist-packages (from requests<3,>=2.21.0->tensorboard<2.12,>=2.11->tensorflow) (4.0.0)\n",
            "Requirement already satisfied: idna<3,>=2.5 in /usr/local/lib/python3.8/dist-packages (from requests<3,>=2.21.0->tensorboard<2.12,>=2.11->tensorflow) (2.10)\n",
            "Requirement already satisfied: zipp>=0.5 in /usr/local/lib/python3.8/dist-packages (from importlib-metadata>=4.4->markdown>=2.6.8->tensorboard<2.12,>=2.11->tensorflow) (3.14.0)\n",
            "Requirement already satisfied: pyasn1<0.5.0,>=0.4.6 in /usr/local/lib/python3.8/dist-packages (from pyasn1-modules>=0.2.1->google-auth<3,>=1.6.3->tensorboard<2.12,>=2.11->tensorflow) (0.4.8)\n",
            "Requirement already satisfied: oauthlib>=3.0.0 in /usr/local/lib/python3.8/dist-packages (from requests-oauthlib>=0.7.0->google-auth-oauthlib<0.5,>=0.4.1->tensorboard<2.12,>=2.11->tensorflow) (3.2.2)\n"
          ]
        }
      ]
    },
    {
      "cell_type": "code",
      "source": [
        "! pip install keras-tuner # Installing keras tuner to tune the hyperparameter"
      ],
      "metadata": {
        "colab": {
          "base_uri": "https://localhost:8080/"
        },
        "id": "W65ddcc_ERnm",
        "outputId": "e934edf5-9f57-44a0-d89f-046bcc2b4641"
      },
      "execution_count": 3,
      "outputs": [
        {
          "output_type": "stream",
          "name": "stdout",
          "text": [
            "Looking in indexes: https://pypi.org/simple, https://us-python.pkg.dev/colab-wheels/public/simple/\n",
            "Collecting keras-tuner\n",
            "  Downloading keras_tuner-1.3.0-py3-none-any.whl (167 kB)\n",
            "\u001b[2K     \u001b[90m━━━━━━━━━━━━━━━━━━━━━━━━━━━━━━━━━━━━━━━\u001b[0m \u001b[32m167.3/167.3 KB\u001b[0m \u001b[31m4.1 MB/s\u001b[0m eta \u001b[36m0:00:00\u001b[0m\n",
            "\u001b[?25hRequirement already satisfied: requests in /usr/local/lib/python3.8/dist-packages (from keras-tuner) (2.25.1)\n",
            "Requirement already satisfied: ipython in /usr/local/lib/python3.8/dist-packages (from keras-tuner) (7.9.0)\n",
            "Requirement already satisfied: tensorflow>=2.0 in /usr/local/lib/python3.8/dist-packages (from keras-tuner) (2.11.0)\n",
            "Requirement already satisfied: packaging in /usr/local/lib/python3.8/dist-packages (from keras-tuner) (23.0)\n",
            "Collecting kt-legacy\n",
            "  Downloading kt_legacy-1.0.4-py3-none-any.whl (9.6 kB)\n",
            "Requirement already satisfied: wrapt>=1.11.0 in /usr/local/lib/python3.8/dist-packages (from tensorflow>=2.0->keras-tuner) (1.14.1)\n",
            "Requirement already satisfied: h5py>=2.9.0 in /usr/local/lib/python3.8/dist-packages (from tensorflow>=2.0->keras-tuner) (3.1.0)\n",
            "Requirement already satisfied: setuptools in /usr/local/lib/python3.8/dist-packages (from tensorflow>=2.0->keras-tuner) (57.4.0)\n",
            "Requirement already satisfied: libclang>=13.0.0 in /usr/local/lib/python3.8/dist-packages (from tensorflow>=2.0->keras-tuner) (15.0.6.1)\n",
            "Requirement already satisfied: six>=1.12.0 in /usr/local/lib/python3.8/dist-packages (from tensorflow>=2.0->keras-tuner) (1.15.0)\n",
            "Requirement already satisfied: astunparse>=1.6.0 in /usr/local/lib/python3.8/dist-packages (from tensorflow>=2.0->keras-tuner) (1.6.3)\n",
            "Requirement already satisfied: opt-einsum>=2.3.2 in /usr/local/lib/python3.8/dist-packages (from tensorflow>=2.0->keras-tuner) (3.3.0)\n",
            "Requirement already satisfied: keras<2.12,>=2.11.0 in /usr/local/lib/python3.8/dist-packages (from tensorflow>=2.0->keras-tuner) (2.11.0)\n",
            "Requirement already satisfied: typing-extensions>=3.6.6 in /usr/local/lib/python3.8/dist-packages (from tensorflow>=2.0->keras-tuner) (4.5.0)\n",
            "Requirement already satisfied: gast<=0.4.0,>=0.2.1 in /usr/local/lib/python3.8/dist-packages (from tensorflow>=2.0->keras-tuner) (0.4.0)\n",
            "Requirement already satisfied: termcolor>=1.1.0 in /usr/local/lib/python3.8/dist-packages (from tensorflow>=2.0->keras-tuner) (2.2.0)\n",
            "Requirement already satisfied: tensorboard<2.12,>=2.11 in /usr/local/lib/python3.8/dist-packages (from tensorflow>=2.0->keras-tuner) (2.11.2)\n",
            "Requirement already satisfied: tensorflow-estimator<2.12,>=2.11.0 in /usr/local/lib/python3.8/dist-packages (from tensorflow>=2.0->keras-tuner) (2.11.0)\n",
            "Requirement already satisfied: google-pasta>=0.1.1 in /usr/local/lib/python3.8/dist-packages (from tensorflow>=2.0->keras-tuner) (0.2.0)\n",
            "Requirement already satisfied: numpy>=1.20 in /usr/local/lib/python3.8/dist-packages (from tensorflow>=2.0->keras-tuner) (1.22.4)\n",
            "Requirement already satisfied: tensorflow-io-gcs-filesystem>=0.23.1 in /usr/local/lib/python3.8/dist-packages (from tensorflow>=2.0->keras-tuner) (0.30.0)\n",
            "Requirement already satisfied: protobuf<3.20,>=3.9.2 in /usr/local/lib/python3.8/dist-packages (from tensorflow>=2.0->keras-tuner) (3.19.6)\n",
            "Requirement already satisfied: absl-py>=1.0.0 in /usr/local/lib/python3.8/dist-packages (from tensorflow>=2.0->keras-tuner) (1.4.0)\n",
            "Requirement already satisfied: flatbuffers>=2.0 in /usr/local/lib/python3.8/dist-packages (from tensorflow>=2.0->keras-tuner) (23.1.21)\n",
            "Requirement already satisfied: grpcio<2.0,>=1.24.3 in /usr/local/lib/python3.8/dist-packages (from tensorflow>=2.0->keras-tuner) (1.51.1)\n",
            "Requirement already satisfied: decorator in /usr/local/lib/python3.8/dist-packages (from ipython->keras-tuner) (4.4.2)\n",
            "Requirement already satisfied: traitlets>=4.2 in /usr/local/lib/python3.8/dist-packages (from ipython->keras-tuner) (5.7.1)\n",
            "Requirement already satisfied: pickleshare in /usr/local/lib/python3.8/dist-packages (from ipython->keras-tuner) (0.7.5)\n",
            "Collecting jedi>=0.10\n",
            "  Downloading jedi-0.18.2-py2.py3-none-any.whl (1.6 MB)\n",
            "\u001b[2K     \u001b[90m━━━━━━━━━━━━━━━━━━━━━━━━━━━━━━━━━━━━━━━━\u001b[0m \u001b[32m1.6/1.6 MB\u001b[0m \u001b[31m32.6 MB/s\u001b[0m eta \u001b[36m0:00:00\u001b[0m\n",
            "\u001b[?25hRequirement already satisfied: pygments in /usr/local/lib/python3.8/dist-packages (from ipython->keras-tuner) (2.6.1)\n",
            "Requirement already satisfied: backcall in /usr/local/lib/python3.8/dist-packages (from ipython->keras-tuner) (0.2.0)\n",
            "Requirement already satisfied: pexpect in /usr/local/lib/python3.8/dist-packages (from ipython->keras-tuner) (4.8.0)\n",
            "Requirement already satisfied: prompt-toolkit<2.1.0,>=2.0.0 in /usr/local/lib/python3.8/dist-packages (from ipython->keras-tuner) (2.0.10)\n",
            "Requirement already satisfied: idna<3,>=2.5 in /usr/local/lib/python3.8/dist-packages (from requests->keras-tuner) (2.10)\n",
            "Requirement already satisfied: urllib3<1.27,>=1.21.1 in /usr/local/lib/python3.8/dist-packages (from requests->keras-tuner) (1.24.3)\n",
            "Requirement already satisfied: certifi>=2017.4.17 in /usr/local/lib/python3.8/dist-packages (from requests->keras-tuner) (2022.12.7)\n",
            "Requirement already satisfied: chardet<5,>=3.0.2 in /usr/local/lib/python3.8/dist-packages (from requests->keras-tuner) (4.0.0)\n",
            "Requirement already satisfied: wheel<1.0,>=0.23.0 in /usr/local/lib/python3.8/dist-packages (from astunparse>=1.6.0->tensorflow>=2.0->keras-tuner) (0.38.4)\n",
            "Requirement already satisfied: parso<0.9.0,>=0.8.0 in /usr/local/lib/python3.8/dist-packages (from jedi>=0.10->ipython->keras-tuner) (0.8.3)\n",
            "Requirement already satisfied: wcwidth in /usr/local/lib/python3.8/dist-packages (from prompt-toolkit<2.1.0,>=2.0.0->ipython->keras-tuner) (0.2.6)\n",
            "Requirement already satisfied: werkzeug>=1.0.1 in /usr/local/lib/python3.8/dist-packages (from tensorboard<2.12,>=2.11->tensorflow>=2.0->keras-tuner) (1.0.1)\n",
            "Requirement already satisfied: tensorboard-plugin-wit>=1.6.0 in /usr/local/lib/python3.8/dist-packages (from tensorboard<2.12,>=2.11->tensorflow>=2.0->keras-tuner) (1.8.1)\n",
            "Requirement already satisfied: google-auth<3,>=1.6.3 in /usr/local/lib/python3.8/dist-packages (from tensorboard<2.12,>=2.11->tensorflow>=2.0->keras-tuner) (2.16.1)\n",
            "Requirement already satisfied: markdown>=2.6.8 in /usr/local/lib/python3.8/dist-packages (from tensorboard<2.12,>=2.11->tensorflow>=2.0->keras-tuner) (3.4.1)\n",
            "Requirement already satisfied: tensorboard-data-server<0.7.0,>=0.6.0 in /usr/local/lib/python3.8/dist-packages (from tensorboard<2.12,>=2.11->tensorflow>=2.0->keras-tuner) (0.6.1)\n",
            "Requirement already satisfied: google-auth-oauthlib<0.5,>=0.4.1 in /usr/local/lib/python3.8/dist-packages (from tensorboard<2.12,>=2.11->tensorflow>=2.0->keras-tuner) (0.4.6)\n",
            "Requirement already satisfied: ptyprocess>=0.5 in /usr/local/lib/python3.8/dist-packages (from pexpect->ipython->keras-tuner) (0.7.0)\n",
            "Requirement already satisfied: cachetools<6.0,>=2.0.0 in /usr/local/lib/python3.8/dist-packages (from google-auth<3,>=1.6.3->tensorboard<2.12,>=2.11->tensorflow>=2.0->keras-tuner) (5.3.0)\n",
            "Requirement already satisfied: pyasn1-modules>=0.2.1 in /usr/local/lib/python3.8/dist-packages (from google-auth<3,>=1.6.3->tensorboard<2.12,>=2.11->tensorflow>=2.0->keras-tuner) (0.2.8)\n",
            "Requirement already satisfied: rsa<5,>=3.1.4 in /usr/local/lib/python3.8/dist-packages (from google-auth<3,>=1.6.3->tensorboard<2.12,>=2.11->tensorflow>=2.0->keras-tuner) (4.9)\n",
            "Requirement already satisfied: requests-oauthlib>=0.7.0 in /usr/local/lib/python3.8/dist-packages (from google-auth-oauthlib<0.5,>=0.4.1->tensorboard<2.12,>=2.11->tensorflow>=2.0->keras-tuner) (1.3.1)\n",
            "Requirement already satisfied: importlib-metadata>=4.4 in /usr/local/lib/python3.8/dist-packages (from markdown>=2.6.8->tensorboard<2.12,>=2.11->tensorflow>=2.0->keras-tuner) (6.0.0)\n",
            "Requirement already satisfied: zipp>=0.5 in /usr/local/lib/python3.8/dist-packages (from importlib-metadata>=4.4->markdown>=2.6.8->tensorboard<2.12,>=2.11->tensorflow>=2.0->keras-tuner) (3.14.0)\n",
            "Requirement already satisfied: pyasn1<0.5.0,>=0.4.6 in /usr/local/lib/python3.8/dist-packages (from pyasn1-modules>=0.2.1->google-auth<3,>=1.6.3->tensorboard<2.12,>=2.11->tensorflow>=2.0->keras-tuner) (0.4.8)\n",
            "Requirement already satisfied: oauthlib>=3.0.0 in /usr/local/lib/python3.8/dist-packages (from requests-oauthlib>=0.7.0->google-auth-oauthlib<0.5,>=0.4.1->tensorboard<2.12,>=2.11->tensorflow>=2.0->keras-tuner) (3.2.2)\n",
            "Installing collected packages: kt-legacy, jedi, keras-tuner\n",
            "Successfully installed jedi-0.18.2 keras-tuner-1.3.0 kt-legacy-1.0.4\n"
          ]
        }
      ]
    },
    {
      "cell_type": "markdown",
      "source": [
        "## Data loading & EDA\n"
      ],
      "metadata": {
        "id": "2mHwdSx1gWAF"
      }
    },
    {
      "cell_type": "code",
      "execution_count": 14,
      "metadata": {
        "id": "yvSLV8O5f9gi"
      },
      "outputs": [],
      "source": [
        "# Importing of necessary libraries \n",
        "\n",
        "import numpy  as np\n",
        "import pandas as pd\n",
        "import matplotlib.pyplot as plt\n",
        "import seaborn as sns\n",
        "\n",
        "from sklearn.preprocessing import LabelEncoder\n",
        "from sklearn.model_selection import train_test_split\n",
        "from sklearn import metrics\n",
        "\n",
        "import tensorflow as tf\n",
        "from tensorflow import keras\n",
        "from tensorflow.keras import layers\n",
        "\n",
        "import json\n",
        "from sklearn.preprocessing import normalize\n",
        "# install the Keras-tuner library\n",
        "\n",
        "import kerastuner as kt\n",
        "\n",
        "# set random seeds to get reproducible results\n",
        "import os\n",
        "seed = 100\n",
        "os.environ['PYTHONHASHSEED']=str(seed) \n",
        "keras.utils.set_random_seed(seed) # set all random seeds for the program (Python, NumPy, and TensorFlow) \n",
        "\n",
        "RANDOM_SEED = 100"
      ]
    },
    {
      "cell_type": "code",
      "source": [
        "# Loading of Train Dataset and displaying the first 5 rows\n",
        "\n",
        "df_Train = pd.read_csv('https://raw.githubusercontent.com/harishahamed26/Diabetes_Prediction_Using_Neural_Network/main/data/train.csv')\n",
        "df_Train.head(5)"
      ],
      "metadata": {
        "colab": {
          "base_uri": "https://localhost:8080/",
          "height": 206
        },
        "id": "_L8ImF57gz16",
        "outputId": "eabbe79f-8f64-47cf-dd00-f72a0b3f5ea9"
      },
      "execution_count": 15,
      "outputs": [
        {
          "output_type": "execute_result",
          "data": {
            "text/plain": [
              "   id  A1   A2  A3  A4   A5    A6     A7  A8  class\n",
              "0   1   6  148  72  35    0  33.6  0.627  50      1\n",
              "1   2   1   85  66  29    0  26.6  0.351  31      0\n",
              "2   3   8  183  64   0    0  23.3  0.672  32      1\n",
              "3   4   1   89  66  23   94  28.1  0.167  21      0\n",
              "4   5   0  137  40  35  168  43.1  2.288  33      1"
            ],
            "text/html": [
              "\n",
              "  <div id=\"df-b1bba651-08b6-46ff-9daf-81d74e2e3a2a\">\n",
              "    <div class=\"colab-df-container\">\n",
              "      <div>\n",
              "<style scoped>\n",
              "    .dataframe tbody tr th:only-of-type {\n",
              "        vertical-align: middle;\n",
              "    }\n",
              "\n",
              "    .dataframe tbody tr th {\n",
              "        vertical-align: top;\n",
              "    }\n",
              "\n",
              "    .dataframe thead th {\n",
              "        text-align: right;\n",
              "    }\n",
              "</style>\n",
              "<table border=\"1\" class=\"dataframe\">\n",
              "  <thead>\n",
              "    <tr style=\"text-align: right;\">\n",
              "      <th></th>\n",
              "      <th>id</th>\n",
              "      <th>A1</th>\n",
              "      <th>A2</th>\n",
              "      <th>A3</th>\n",
              "      <th>A4</th>\n",
              "      <th>A5</th>\n",
              "      <th>A6</th>\n",
              "      <th>A7</th>\n",
              "      <th>A8</th>\n",
              "      <th>class</th>\n",
              "    </tr>\n",
              "  </thead>\n",
              "  <tbody>\n",
              "    <tr>\n",
              "      <th>0</th>\n",
              "      <td>1</td>\n",
              "      <td>6</td>\n",
              "      <td>148</td>\n",
              "      <td>72</td>\n",
              "      <td>35</td>\n",
              "      <td>0</td>\n",
              "      <td>33.6</td>\n",
              "      <td>0.627</td>\n",
              "      <td>50</td>\n",
              "      <td>1</td>\n",
              "    </tr>\n",
              "    <tr>\n",
              "      <th>1</th>\n",
              "      <td>2</td>\n",
              "      <td>1</td>\n",
              "      <td>85</td>\n",
              "      <td>66</td>\n",
              "      <td>29</td>\n",
              "      <td>0</td>\n",
              "      <td>26.6</td>\n",
              "      <td>0.351</td>\n",
              "      <td>31</td>\n",
              "      <td>0</td>\n",
              "    </tr>\n",
              "    <tr>\n",
              "      <th>2</th>\n",
              "      <td>3</td>\n",
              "      <td>8</td>\n",
              "      <td>183</td>\n",
              "      <td>64</td>\n",
              "      <td>0</td>\n",
              "      <td>0</td>\n",
              "      <td>23.3</td>\n",
              "      <td>0.672</td>\n",
              "      <td>32</td>\n",
              "      <td>1</td>\n",
              "    </tr>\n",
              "    <tr>\n",
              "      <th>3</th>\n",
              "      <td>4</td>\n",
              "      <td>1</td>\n",
              "      <td>89</td>\n",
              "      <td>66</td>\n",
              "      <td>23</td>\n",
              "      <td>94</td>\n",
              "      <td>28.1</td>\n",
              "      <td>0.167</td>\n",
              "      <td>21</td>\n",
              "      <td>0</td>\n",
              "    </tr>\n",
              "    <tr>\n",
              "      <th>4</th>\n",
              "      <td>5</td>\n",
              "      <td>0</td>\n",
              "      <td>137</td>\n",
              "      <td>40</td>\n",
              "      <td>35</td>\n",
              "      <td>168</td>\n",
              "      <td>43.1</td>\n",
              "      <td>2.288</td>\n",
              "      <td>33</td>\n",
              "      <td>1</td>\n",
              "    </tr>\n",
              "  </tbody>\n",
              "</table>\n",
              "</div>\n",
              "      <button class=\"colab-df-convert\" onclick=\"convertToInteractive('df-b1bba651-08b6-46ff-9daf-81d74e2e3a2a')\"\n",
              "              title=\"Convert this dataframe to an interactive table.\"\n",
              "              style=\"display:none;\">\n",
              "        \n",
              "  <svg xmlns=\"http://www.w3.org/2000/svg\" height=\"24px\"viewBox=\"0 0 24 24\"\n",
              "       width=\"24px\">\n",
              "    <path d=\"M0 0h24v24H0V0z\" fill=\"none\"/>\n",
              "    <path d=\"M18.56 5.44l.94 2.06.94-2.06 2.06-.94-2.06-.94-.94-2.06-.94 2.06-2.06.94zm-11 1L8.5 8.5l.94-2.06 2.06-.94-2.06-.94L8.5 2.5l-.94 2.06-2.06.94zm10 10l.94 2.06.94-2.06 2.06-.94-2.06-.94-.94-2.06-.94 2.06-2.06.94z\"/><path d=\"M17.41 7.96l-1.37-1.37c-.4-.4-.92-.59-1.43-.59-.52 0-1.04.2-1.43.59L10.3 9.45l-7.72 7.72c-.78.78-.78 2.05 0 2.83L4 21.41c.39.39.9.59 1.41.59.51 0 1.02-.2 1.41-.59l7.78-7.78 2.81-2.81c.8-.78.8-2.07 0-2.86zM5.41 20L4 18.59l7.72-7.72 1.47 1.35L5.41 20z\"/>\n",
              "  </svg>\n",
              "      </button>\n",
              "      \n",
              "  <style>\n",
              "    .colab-df-container {\n",
              "      display:flex;\n",
              "      flex-wrap:wrap;\n",
              "      gap: 12px;\n",
              "    }\n",
              "\n",
              "    .colab-df-convert {\n",
              "      background-color: #E8F0FE;\n",
              "      border: none;\n",
              "      border-radius: 50%;\n",
              "      cursor: pointer;\n",
              "      display: none;\n",
              "      fill: #1967D2;\n",
              "      height: 32px;\n",
              "      padding: 0 0 0 0;\n",
              "      width: 32px;\n",
              "    }\n",
              "\n",
              "    .colab-df-convert:hover {\n",
              "      background-color: #E2EBFA;\n",
              "      box-shadow: 0px 1px 2px rgba(60, 64, 67, 0.3), 0px 1px 3px 1px rgba(60, 64, 67, 0.15);\n",
              "      fill: #174EA6;\n",
              "    }\n",
              "\n",
              "    [theme=dark] .colab-df-convert {\n",
              "      background-color: #3B4455;\n",
              "      fill: #D2E3FC;\n",
              "    }\n",
              "\n",
              "    [theme=dark] .colab-df-convert:hover {\n",
              "      background-color: #434B5C;\n",
              "      box-shadow: 0px 1px 3px 1px rgba(0, 0, 0, 0.15);\n",
              "      filter: drop-shadow(0px 1px 2px rgba(0, 0, 0, 0.3));\n",
              "      fill: #FFFFFF;\n",
              "    }\n",
              "  </style>\n",
              "\n",
              "      <script>\n",
              "        const buttonEl =\n",
              "          document.querySelector('#df-b1bba651-08b6-46ff-9daf-81d74e2e3a2a button.colab-df-convert');\n",
              "        buttonEl.style.display =\n",
              "          google.colab.kernel.accessAllowed ? 'block' : 'none';\n",
              "\n",
              "        async function convertToInteractive(key) {\n",
              "          const element = document.querySelector('#df-b1bba651-08b6-46ff-9daf-81d74e2e3a2a');\n",
              "          const dataTable =\n",
              "            await google.colab.kernel.invokeFunction('convertToInteractive',\n",
              "                                                     [key], {});\n",
              "          if (!dataTable) return;\n",
              "\n",
              "          const docLinkHtml = 'Like what you see? Visit the ' +\n",
              "            '<a target=\"_blank\" href=https://colab.research.google.com/notebooks/data_table.ipynb>data table notebook</a>'\n",
              "            + ' to learn more about interactive tables.';\n",
              "          element.innerHTML = '';\n",
              "          dataTable['output_type'] = 'display_data';\n",
              "          await google.colab.output.renderOutput(dataTable, element);\n",
              "          const docLink = document.createElement('div');\n",
              "          docLink.innerHTML = docLinkHtml;\n",
              "          element.appendChild(docLink);\n",
              "        }\n",
              "      </script>\n",
              "    </div>\n",
              "  </div>\n",
              "  "
            ]
          },
          "metadata": {},
          "execution_count": 15
        }
      ]
    },
    {
      "cell_type": "code",
      "source": [
        "df_Train.info() # Information about Train Dataset"
      ],
      "metadata": {
        "colab": {
          "base_uri": "https://localhost:8080/"
        },
        "id": "Lt6k5WC2hpcp",
        "outputId": "e1cf553e-3db4-4ba7-fa1e-c232d3d67d25"
      },
      "execution_count": 6,
      "outputs": [
        {
          "output_type": "stream",
          "name": "stdout",
          "text": [
            "<class 'pandas.core.frame.DataFrame'>\n",
            "RangeIndex: 668 entries, 0 to 667\n",
            "Data columns (total 10 columns):\n",
            " #   Column  Non-Null Count  Dtype  \n",
            "---  ------  --------------  -----  \n",
            " 0   id      668 non-null    int64  \n",
            " 1   A1      668 non-null    int64  \n",
            " 2   A2      668 non-null    int64  \n",
            " 3   A3      668 non-null    int64  \n",
            " 4   A4      668 non-null    int64  \n",
            " 5   A5      668 non-null    int64  \n",
            " 6   A6      668 non-null    float64\n",
            " 7   A7      668 non-null    float64\n",
            " 8   A8      668 non-null    int64  \n",
            " 9   class   668 non-null    int64  \n",
            "dtypes: float64(2), int64(8)\n",
            "memory usage: 52.3 KB\n"
          ]
        }
      ]
    },
    {
      "cell_type": "code",
      "source": [
        "df_Train.isna().sum() # Checking the null values"
      ],
      "metadata": {
        "colab": {
          "base_uri": "https://localhost:8080/"
        },
        "id": "CTafJkVqlCWl",
        "outputId": "30c0bf12-a4de-420f-9e40-caf681440b42"
      },
      "execution_count": 7,
      "outputs": [
        {
          "output_type": "execute_result",
          "data": {
            "text/plain": [
              "id       0\n",
              "A1       0\n",
              "A2       0\n",
              "A3       0\n",
              "A4       0\n",
              "A5       0\n",
              "A6       0\n",
              "A7       0\n",
              "A8       0\n",
              "class    0\n",
              "dtype: int64"
            ]
          },
          "metadata": {},
          "execution_count": 7
        }
      ]
    },
    {
      "cell_type": "code",
      "source": [
        "df_Train.describe() # Description Statistical Analysis"
      ],
      "metadata": {
        "colab": {
          "base_uri": "https://localhost:8080/",
          "height": 344
        },
        "id": "8JH1ODI8iBsw",
        "outputId": "46aeb933-5aa9-4ef1-c20e-5c08580de86c"
      },
      "execution_count": 8,
      "outputs": [
        {
          "output_type": "execute_result",
          "data": {
            "text/plain": [
              "               id          A1          A2          A3          A4          A5  \\\n",
              "count  668.000000  668.000000  668.000000  668.000000  668.000000  668.000000   \n",
              "mean   334.500000    3.812874  120.405689   68.748503   20.567365   79.654192   \n",
              "std    192.979273    3.365672   32.291473   19.526392   16.020600  115.827750   \n",
              "min      1.000000    0.000000    0.000000    0.000000    0.000000    0.000000   \n",
              "25%    167.750000    1.000000   99.000000   64.000000    0.000000    0.000000   \n",
              "50%    334.500000    3.000000  116.000000   72.000000   23.000000   36.500000   \n",
              "75%    501.250000    6.000000  140.000000   80.000000   32.000000  126.000000   \n",
              "max    668.000000   17.000000  199.000000  122.000000   99.000000  846.000000   \n",
              "\n",
              "               A6          A7          A8       class  \n",
              "count  668.000000  668.000000  668.000000  668.000000  \n",
              "mean    31.860180    0.477329   33.091317    0.345808  \n",
              "std      7.827111    0.341398   11.711386    0.475988  \n",
              "min      0.000000    0.078000   21.000000    0.000000  \n",
              "25%     27.100000    0.238750   24.000000    0.000000  \n",
              "50%     32.000000    0.377000   29.000000    0.000000  \n",
              "75%     36.500000    0.641250   40.000000    1.000000  \n",
              "max     67.100000    2.420000   81.000000    1.000000  "
            ],
            "text/html": [
              "\n",
              "  <div id=\"df-7c99726d-3fdf-47c1-8a40-15d9d4a98adf\">\n",
              "    <div class=\"colab-df-container\">\n",
              "      <div>\n",
              "<style scoped>\n",
              "    .dataframe tbody tr th:only-of-type {\n",
              "        vertical-align: middle;\n",
              "    }\n",
              "\n",
              "    .dataframe tbody tr th {\n",
              "        vertical-align: top;\n",
              "    }\n",
              "\n",
              "    .dataframe thead th {\n",
              "        text-align: right;\n",
              "    }\n",
              "</style>\n",
              "<table border=\"1\" class=\"dataframe\">\n",
              "  <thead>\n",
              "    <tr style=\"text-align: right;\">\n",
              "      <th></th>\n",
              "      <th>id</th>\n",
              "      <th>A1</th>\n",
              "      <th>A2</th>\n",
              "      <th>A3</th>\n",
              "      <th>A4</th>\n",
              "      <th>A5</th>\n",
              "      <th>A6</th>\n",
              "      <th>A7</th>\n",
              "      <th>A8</th>\n",
              "      <th>class</th>\n",
              "    </tr>\n",
              "  </thead>\n",
              "  <tbody>\n",
              "    <tr>\n",
              "      <th>count</th>\n",
              "      <td>668.000000</td>\n",
              "      <td>668.000000</td>\n",
              "      <td>668.000000</td>\n",
              "      <td>668.000000</td>\n",
              "      <td>668.000000</td>\n",
              "      <td>668.000000</td>\n",
              "      <td>668.000000</td>\n",
              "      <td>668.000000</td>\n",
              "      <td>668.000000</td>\n",
              "      <td>668.000000</td>\n",
              "    </tr>\n",
              "    <tr>\n",
              "      <th>mean</th>\n",
              "      <td>334.500000</td>\n",
              "      <td>3.812874</td>\n",
              "      <td>120.405689</td>\n",
              "      <td>68.748503</td>\n",
              "      <td>20.567365</td>\n",
              "      <td>79.654192</td>\n",
              "      <td>31.860180</td>\n",
              "      <td>0.477329</td>\n",
              "      <td>33.091317</td>\n",
              "      <td>0.345808</td>\n",
              "    </tr>\n",
              "    <tr>\n",
              "      <th>std</th>\n",
              "      <td>192.979273</td>\n",
              "      <td>3.365672</td>\n",
              "      <td>32.291473</td>\n",
              "      <td>19.526392</td>\n",
              "      <td>16.020600</td>\n",
              "      <td>115.827750</td>\n",
              "      <td>7.827111</td>\n",
              "      <td>0.341398</td>\n",
              "      <td>11.711386</td>\n",
              "      <td>0.475988</td>\n",
              "    </tr>\n",
              "    <tr>\n",
              "      <th>min</th>\n",
              "      <td>1.000000</td>\n",
              "      <td>0.000000</td>\n",
              "      <td>0.000000</td>\n",
              "      <td>0.000000</td>\n",
              "      <td>0.000000</td>\n",
              "      <td>0.000000</td>\n",
              "      <td>0.000000</td>\n",
              "      <td>0.078000</td>\n",
              "      <td>21.000000</td>\n",
              "      <td>0.000000</td>\n",
              "    </tr>\n",
              "    <tr>\n",
              "      <th>25%</th>\n",
              "      <td>167.750000</td>\n",
              "      <td>1.000000</td>\n",
              "      <td>99.000000</td>\n",
              "      <td>64.000000</td>\n",
              "      <td>0.000000</td>\n",
              "      <td>0.000000</td>\n",
              "      <td>27.100000</td>\n",
              "      <td>0.238750</td>\n",
              "      <td>24.000000</td>\n",
              "      <td>0.000000</td>\n",
              "    </tr>\n",
              "    <tr>\n",
              "      <th>50%</th>\n",
              "      <td>334.500000</td>\n",
              "      <td>3.000000</td>\n",
              "      <td>116.000000</td>\n",
              "      <td>72.000000</td>\n",
              "      <td>23.000000</td>\n",
              "      <td>36.500000</td>\n",
              "      <td>32.000000</td>\n",
              "      <td>0.377000</td>\n",
              "      <td>29.000000</td>\n",
              "      <td>0.000000</td>\n",
              "    </tr>\n",
              "    <tr>\n",
              "      <th>75%</th>\n",
              "      <td>501.250000</td>\n",
              "      <td>6.000000</td>\n",
              "      <td>140.000000</td>\n",
              "      <td>80.000000</td>\n",
              "      <td>32.000000</td>\n",
              "      <td>126.000000</td>\n",
              "      <td>36.500000</td>\n",
              "      <td>0.641250</td>\n",
              "      <td>40.000000</td>\n",
              "      <td>1.000000</td>\n",
              "    </tr>\n",
              "    <tr>\n",
              "      <th>max</th>\n",
              "      <td>668.000000</td>\n",
              "      <td>17.000000</td>\n",
              "      <td>199.000000</td>\n",
              "      <td>122.000000</td>\n",
              "      <td>99.000000</td>\n",
              "      <td>846.000000</td>\n",
              "      <td>67.100000</td>\n",
              "      <td>2.420000</td>\n",
              "      <td>81.000000</td>\n",
              "      <td>1.000000</td>\n",
              "    </tr>\n",
              "  </tbody>\n",
              "</table>\n",
              "</div>\n",
              "      <button class=\"colab-df-convert\" onclick=\"convertToInteractive('df-7c99726d-3fdf-47c1-8a40-15d9d4a98adf')\"\n",
              "              title=\"Convert this dataframe to an interactive table.\"\n",
              "              style=\"display:none;\">\n",
              "        \n",
              "  <svg xmlns=\"http://www.w3.org/2000/svg\" height=\"24px\"viewBox=\"0 0 24 24\"\n",
              "       width=\"24px\">\n",
              "    <path d=\"M0 0h24v24H0V0z\" fill=\"none\"/>\n",
              "    <path d=\"M18.56 5.44l.94 2.06.94-2.06 2.06-.94-2.06-.94-.94-2.06-.94 2.06-2.06.94zm-11 1L8.5 8.5l.94-2.06 2.06-.94-2.06-.94L8.5 2.5l-.94 2.06-2.06.94zm10 10l.94 2.06.94-2.06 2.06-.94-2.06-.94-.94-2.06-.94 2.06-2.06.94z\"/><path d=\"M17.41 7.96l-1.37-1.37c-.4-.4-.92-.59-1.43-.59-.52 0-1.04.2-1.43.59L10.3 9.45l-7.72 7.72c-.78.78-.78 2.05 0 2.83L4 21.41c.39.39.9.59 1.41.59.51 0 1.02-.2 1.41-.59l7.78-7.78 2.81-2.81c.8-.78.8-2.07 0-2.86zM5.41 20L4 18.59l7.72-7.72 1.47 1.35L5.41 20z\"/>\n",
              "  </svg>\n",
              "      </button>\n",
              "      \n",
              "  <style>\n",
              "    .colab-df-container {\n",
              "      display:flex;\n",
              "      flex-wrap:wrap;\n",
              "      gap: 12px;\n",
              "    }\n",
              "\n",
              "    .colab-df-convert {\n",
              "      background-color: #E8F0FE;\n",
              "      border: none;\n",
              "      border-radius: 50%;\n",
              "      cursor: pointer;\n",
              "      display: none;\n",
              "      fill: #1967D2;\n",
              "      height: 32px;\n",
              "      padding: 0 0 0 0;\n",
              "      width: 32px;\n",
              "    }\n",
              "\n",
              "    .colab-df-convert:hover {\n",
              "      background-color: #E2EBFA;\n",
              "      box-shadow: 0px 1px 2px rgba(60, 64, 67, 0.3), 0px 1px 3px 1px rgba(60, 64, 67, 0.15);\n",
              "      fill: #174EA6;\n",
              "    }\n",
              "\n",
              "    [theme=dark] .colab-df-convert {\n",
              "      background-color: #3B4455;\n",
              "      fill: #D2E3FC;\n",
              "    }\n",
              "\n",
              "    [theme=dark] .colab-df-convert:hover {\n",
              "      background-color: #434B5C;\n",
              "      box-shadow: 0px 1px 3px 1px rgba(0, 0, 0, 0.15);\n",
              "      filter: drop-shadow(0px 1px 2px rgba(0, 0, 0, 0.3));\n",
              "      fill: #FFFFFF;\n",
              "    }\n",
              "  </style>\n",
              "\n",
              "      <script>\n",
              "        const buttonEl =\n",
              "          document.querySelector('#df-7c99726d-3fdf-47c1-8a40-15d9d4a98adf button.colab-df-convert');\n",
              "        buttonEl.style.display =\n",
              "          google.colab.kernel.accessAllowed ? 'block' : 'none';\n",
              "\n",
              "        async function convertToInteractive(key) {\n",
              "          const element = document.querySelector('#df-7c99726d-3fdf-47c1-8a40-15d9d4a98adf');\n",
              "          const dataTable =\n",
              "            await google.colab.kernel.invokeFunction('convertToInteractive',\n",
              "                                                     [key], {});\n",
              "          if (!dataTable) return;\n",
              "\n",
              "          const docLinkHtml = 'Like what you see? Visit the ' +\n",
              "            '<a target=\"_blank\" href=https://colab.research.google.com/notebooks/data_table.ipynb>data table notebook</a>'\n",
              "            + ' to learn more about interactive tables.';\n",
              "          element.innerHTML = '';\n",
              "          dataTable['output_type'] = 'display_data';\n",
              "          await google.colab.output.renderOutput(dataTable, element);\n",
              "          const docLink = document.createElement('div');\n",
              "          docLink.innerHTML = docLinkHtml;\n",
              "          element.appendChild(docLink);\n",
              "        }\n",
              "      </script>\n",
              "    </div>\n",
              "  </div>\n",
              "  "
            ]
          },
          "metadata": {},
          "execution_count": 8
        }
      ]
    },
    {
      "cell_type": "code",
      "source": [
        "plt.figure(figsize=(8,8))\n",
        "sns.heatmap(df_Train.corr(), annot = True, cmap = 'YlOrBr', fmt='.1g')\n",
        "plt.title('Data Correlation')\n",
        "plt.show()"
      ],
      "metadata": {
        "colab": {
          "base_uri": "https://localhost:8080/",
          "height": 499
        },
        "id": "DMI4BjR-iKw7",
        "outputId": "fa77d145-ed69-409b-d4de-b68ff7ebe70d"
      },
      "execution_count": 16,
      "outputs": [
        {
          "output_type": "display_data",
          "data": {
            "text/plain": [
              "<Figure size 576x576 with 2 Axes>"
            ],
            "image/png": "[encoded data removed]"
          },
          "metadata": {
            "needs_background": "light"
          }
        }
      ]
    },
    {
      "cell_type": "code",
      "source": [
        "import warnings\n",
        "warnings.filterwarnings('ignore')\n",
        "CountPlot = []\n",
        "CountPlot = df_Train['class']\n",
        "CountPlot = CountPlot.replace(0,'Negative')\n",
        "CountPlot = CountPlot.replace(1,'Postivie')\n",
        "\n",
        "plt.figure(figsize=(6,6))\n",
        "sns.countplot(CountPlot)\n",
        "plt.title('Count plot')\n",
        "plt.show()"
      ],
      "metadata": {
        "colab": {
          "base_uri": "https://localhost:8080/",
          "height": 404
        },
        "id": "d3BNGdRDlNC8",
        "outputId": "2dd184e5-1450-4254-f505-1307c2f0e267"
      },
      "execution_count": 17,
      "outputs": [
        {
          "output_type": "display_data",
          "data": {
            "text/plain": [
              "<Figure size 432x432 with 1 Axes>"
            ],
            "image/png": "[encoded data removed]"
          },
          "metadata": {
            "needs_background": "light"
          }
        }
      ]
    },
    {
      "cell_type": "code",
      "source": [
        "# Removing of noise \n",
        "\n",
        "df_Train['A2'] = df_Train['A2'].replace(0, 140)\n",
        "df_Train['A3'] = df_Train['A3'].replace(0, 60)\n",
        "df_Train['A4'] = df_Train['A4'].replace(0, 8.5)\n",
        "df_Train['A5'] = df_Train['A5'].replace(0, 9)\n",
        "df_Train['A6'] = df_Train['A6'].replace(0, 18.5)"
      ],
      "metadata": {
        "id": "HcEK_mPNgg3W"
      },
      "execution_count": 11,
      "outputs": []
    },
    {
      "cell_type": "markdown",
      "source": [
        "# Data Splitting and Model Building"
      ],
      "metadata": {
        "id": "IKMPSLRNoduA"
      }
    },
    {
      "cell_type": "code",
      "source": [
        "'''\n",
        "\n",
        "from imblearn.over_sampling import SMOTE\n",
        "\n",
        "smote = SMOTE()\n",
        "df_Train.iloc[:,0:8], df_Train['class'] =smote.fit_resample(df_Train.iloc[:,0:8], df_Train['class'])\n",
        "\n",
        "'''"
      ],
      "metadata": {
        "colab": {
          "base_uri": "https://localhost:8080/",
          "height": 53
        },
        "id": "SDgV0Xk43eR9",
        "outputId": "76f2a7ec-b9bc-42cf-845d-a6007ea2ee4c"
      },
      "execution_count": 122,
      "outputs": [
        {
          "output_type": "execute_result",
          "data": {
            "text/plain": [
              "\"\\n\\nfrom imblearn.over_sampling import SMOTE\\n\\nsmote = SMOTE()\\ndf_Train.iloc[:,0:8], df_Train['class'] =smote.fit_resample(df_Train.iloc[:,0:8], df_Train['class'])\\n\\n\""
            ],
            "application/vnd.google.colaboratory.intrinsic+json": {
              "type": "string"
            }
          },
          "metadata": {},
          "execution_count": 122
        }
      ]
    },
    {
      "cell_type": "code",
      "source": [
        "# Splitting of data\n",
        "df_Train.drop('id', axis= 1, inplace = True)\n",
        "x = df_Train.iloc[:,0:8]\n",
        "y = df_Train['class']\n"
      ],
      "metadata": {
        "colab": {
          "base_uri": "https://localhost:8080/",
          "height": 371
        },
        "id": "2JrUGvArojM1",
        "outputId": "45e88942-b543-4548-ff21-a1116a176dcd"
      },
      "execution_count": 19,
      "outputs": [
        {
          "output_type": "error",
          "ename": "KeyError",
          "evalue": "ignored",
          "traceback": [
            "\u001b[0;31m---------------------------------------------------------------------------\u001b[0m",
            "\u001b[0;31mKeyError\u001b[0m                                  Traceback (most recent call last)",
            "\u001b[0;32m<ipython-input-19-7a478aae58bb>\u001b[0m in \u001b[0;36m<module>\u001b[0;34m\u001b[0m\n\u001b[1;32m      1\u001b[0m \u001b[0;31m# Splitting of data\u001b[0m\u001b[0;34m\u001b[0m\u001b[0;34m\u001b[0m\u001b[0;34m\u001b[0m\u001b[0m\n\u001b[0;32m----> 2\u001b[0;31m \u001b[0mdf_Train\u001b[0m\u001b[0;34m.\u001b[0m\u001b[0mdrop\u001b[0m\u001b[0;34m(\u001b[0m\u001b[0;34m'id'\u001b[0m\u001b[0;34m,\u001b[0m \u001b[0maxis\u001b[0m\u001b[0;34m=\u001b[0m \u001b[0;36m1\u001b[0m\u001b[0;34m,\u001b[0m \u001b[0minplace\u001b[0m \u001b[0;34m=\u001b[0m \u001b[0;32mTrue\u001b[0m\u001b[0;34m)\u001b[0m\u001b[0;34m\u001b[0m\u001b[0;34m\u001b[0m\u001b[0m\n\u001b[0m\u001b[1;32m      3\u001b[0m \u001b[0mx\u001b[0m \u001b[0;34m=\u001b[0m \u001b[0mdf_Train\u001b[0m\u001b[0;34m.\u001b[0m\u001b[0miloc\u001b[0m\u001b[0;34m[\u001b[0m\u001b[0;34m:\u001b[0m\u001b[0;34m,\u001b[0m\u001b[0;36m0\u001b[0m\u001b[0;34m:\u001b[0m\u001b[0;36m8\u001b[0m\u001b[0;34m]\u001b[0m\u001b[0;34m\u001b[0m\u001b[0;34m\u001b[0m\u001b[0m\n\u001b[1;32m      4\u001b[0m \u001b[0my\u001b[0m \u001b[0;34m=\u001b[0m \u001b[0mdf_Train\u001b[0m\u001b[0;34m[\u001b[0m\u001b[0;34m'class'\u001b[0m\u001b[0;34m]\u001b[0m\u001b[0;34m\u001b[0m\u001b[0;34m\u001b[0m\u001b[0m\n",
            "\u001b[0;32m/usr/local/lib/python3.8/dist-packages/pandas/util/_decorators.py\u001b[0m in \u001b[0;36mwrapper\u001b[0;34m(*args, **kwargs)\u001b[0m\n\u001b[1;32m    309\u001b[0m                     \u001b[0mstacklevel\u001b[0m\u001b[0;34m=\u001b[0m\u001b[0mstacklevel\u001b[0m\u001b[0;34m,\u001b[0m\u001b[0;34m\u001b[0m\u001b[0;34m\u001b[0m\u001b[0m\n\u001b[1;32m    310\u001b[0m                 )\n\u001b[0;32m--> 311\u001b[0;31m             \u001b[0;32mreturn\u001b[0m \u001b[0mfunc\u001b[0m\u001b[0;34m(\u001b[0m\u001b[0;34m*\u001b[0m\u001b[0margs\u001b[0m\u001b[0;34m,\u001b[0m \u001b[0;34m**\u001b[0m\u001b[0mkwargs\u001b[0m\u001b[0;34m)\u001b[0m\u001b[0;34m\u001b[0m\u001b[0;34m\u001b[0m\u001b[0m\n\u001b[0m\u001b[1;32m    312\u001b[0m \u001b[0;34m\u001b[0m\u001b[0m\n\u001b[1;32m    313\u001b[0m         \u001b[0;32mreturn\u001b[0m \u001b[0mwrapper\u001b[0m\u001b[0;34m\u001b[0m\u001b[0;34m\u001b[0m\u001b[0m\n",
            "\u001b[0;32m/usr/local/lib/python3.8/dist-packages/pandas/core/frame.py\u001b[0m in \u001b[0;36mdrop\u001b[0;34m(self, labels, axis, index, columns, level, inplace, errors)\u001b[0m\n\u001b[1;32m   4904\u001b[0m                 \u001b[0mweight\u001b[0m  \u001b[0;36m1.0\u001b[0m     \u001b[0;36m0.8\u001b[0m\u001b[0;34m\u001b[0m\u001b[0;34m\u001b[0m\u001b[0m\n\u001b[1;32m   4905\u001b[0m         \"\"\"\n\u001b[0;32m-> 4906\u001b[0;31m         return super().drop(\n\u001b[0m\u001b[1;32m   4907\u001b[0m             \u001b[0mlabels\u001b[0m\u001b[0;34m=\u001b[0m\u001b[0mlabels\u001b[0m\u001b[0;34m,\u001b[0m\u001b[0;34m\u001b[0m\u001b[0;34m\u001b[0m\u001b[0m\n\u001b[1;32m   4908\u001b[0m             \u001b[0maxis\u001b[0m\u001b[0;34m=\u001b[0m\u001b[0maxis\u001b[0m\u001b[0;34m,\u001b[0m\u001b[0;34m\u001b[0m\u001b[0;34m\u001b[0m\u001b[0m\n",
            "\u001b[0;32m/usr/local/lib/python3.8/dist-packages/pandas/core/generic.py\u001b[0m in \u001b[0;36mdrop\u001b[0;34m(self, labels, axis, index, columns, level, inplace, errors)\u001b[0m\n\u001b[1;32m   4148\u001b[0m         \u001b[0;32mfor\u001b[0m \u001b[0maxis\u001b[0m\u001b[0;34m,\u001b[0m \u001b[0mlabels\u001b[0m \u001b[0;32min\u001b[0m \u001b[0maxes\u001b[0m\u001b[0;34m.\u001b[0m\u001b[0mitems\u001b[0m\u001b[0;34m(\u001b[0m\u001b[0;34m)\u001b[0m\u001b[0;34m:\u001b[0m\u001b[0;34m\u001b[0m\u001b[0;34m\u001b[0m\u001b[0m\n\u001b[1;32m   4149\u001b[0m             \u001b[0;32mif\u001b[0m \u001b[0mlabels\u001b[0m \u001b[0;32mis\u001b[0m \u001b[0;32mnot\u001b[0m \u001b[0;32mNone\u001b[0m\u001b[0;34m:\u001b[0m\u001b[0;34m\u001b[0m\u001b[0;34m\u001b[0m\u001b[0m\n\u001b[0;32m-> 4150\u001b[0;31m                 \u001b[0mobj\u001b[0m \u001b[0;34m=\u001b[0m \u001b[0mobj\u001b[0m\u001b[0;34m.\u001b[0m\u001b[0m_drop_axis\u001b[0m\u001b[0;34m(\u001b[0m\u001b[0mlabels\u001b[0m\u001b[0;34m,\u001b[0m \u001b[0maxis\u001b[0m\u001b[0;34m,\u001b[0m \u001b[0mlevel\u001b[0m\u001b[0;34m=\u001b[0m\u001b[0mlevel\u001b[0m\u001b[0;34m,\u001b[0m \u001b[0merrors\u001b[0m\u001b[0;34m=\u001b[0m\u001b[0merrors\u001b[0m\u001b[0;34m)\u001b[0m\u001b[0;34m\u001b[0m\u001b[0;34m\u001b[0m\u001b[0m\n\u001b[0m\u001b[1;32m   4151\u001b[0m \u001b[0;34m\u001b[0m\u001b[0m\n\u001b[1;32m   4152\u001b[0m         \u001b[0;32mif\u001b[0m \u001b[0minplace\u001b[0m\u001b[0;34m:\u001b[0m\u001b[0;34m\u001b[0m\u001b[0;34m\u001b[0m\u001b[0m\n",
            "\u001b[0;32m/usr/local/lib/python3.8/dist-packages/pandas/core/generic.py\u001b[0m in \u001b[0;36m_drop_axis\u001b[0;34m(self, labels, axis, level, errors)\u001b[0m\n\u001b[1;32m   4183\u001b[0m                 \u001b[0mnew_axis\u001b[0m \u001b[0;34m=\u001b[0m \u001b[0maxis\u001b[0m\u001b[0;34m.\u001b[0m\u001b[0mdrop\u001b[0m\u001b[0;34m(\u001b[0m\u001b[0mlabels\u001b[0m\u001b[0;34m,\u001b[0m \u001b[0mlevel\u001b[0m\u001b[0;34m=\u001b[0m\u001b[0mlevel\u001b[0m\u001b[0;34m,\u001b[0m \u001b[0merrors\u001b[0m\u001b[0;34m=\u001b[0m\u001b[0merrors\u001b[0m\u001b[0;34m)\u001b[0m\u001b[0;34m\u001b[0m\u001b[0;34m\u001b[0m\u001b[0m\n\u001b[1;32m   4184\u001b[0m             \u001b[0;32melse\u001b[0m\u001b[0;34m:\u001b[0m\u001b[0;34m\u001b[0m\u001b[0;34m\u001b[0m\u001b[0m\n\u001b[0;32m-> 4185\u001b[0;31m                 \u001b[0mnew_axis\u001b[0m \u001b[0;34m=\u001b[0m \u001b[0maxis\u001b[0m\u001b[0;34m.\u001b[0m\u001b[0mdrop\u001b[0m\u001b[0;34m(\u001b[0m\u001b[0mlabels\u001b[0m\u001b[0;34m,\u001b[0m \u001b[0merrors\u001b[0m\u001b[0;34m=\u001b[0m\u001b[0merrors\u001b[0m\u001b[0;34m)\u001b[0m\u001b[0;34m\u001b[0m\u001b[0;34m\u001b[0m\u001b[0m\n\u001b[0m\u001b[1;32m   4186\u001b[0m             \u001b[0mresult\u001b[0m \u001b[0;34m=\u001b[0m \u001b[0mself\u001b[0m\u001b[0;34m.\u001b[0m\u001b[0mreindex\u001b[0m\u001b[0;34m(\u001b[0m\u001b[0;34m**\u001b[0m\u001b[0;34m{\u001b[0m\u001b[0maxis_name\u001b[0m\u001b[0;34m:\u001b[0m \u001b[0mnew_axis\u001b[0m\u001b[0;34m}\u001b[0m\u001b[0;34m)\u001b[0m\u001b[0;34m\u001b[0m\u001b[0;34m\u001b[0m\u001b[0m\n\u001b[1;32m   4187\u001b[0m \u001b[0;34m\u001b[0m\u001b[0m\n",
            "\u001b[0;32m/usr/local/lib/python3.8/dist-packages/pandas/core/indexes/base.py\u001b[0m in \u001b[0;36mdrop\u001b[0;34m(self, labels, errors)\u001b[0m\n\u001b[1;32m   6015\u001b[0m         \u001b[0;32mif\u001b[0m \u001b[0mmask\u001b[0m\u001b[0;34m.\u001b[0m\u001b[0many\u001b[0m\u001b[0;34m(\u001b[0m\u001b[0;34m)\u001b[0m\u001b[0;34m:\u001b[0m\u001b[0;34m\u001b[0m\u001b[0;34m\u001b[0m\u001b[0m\n\u001b[1;32m   6016\u001b[0m             \u001b[0;32mif\u001b[0m \u001b[0merrors\u001b[0m \u001b[0;34m!=\u001b[0m \u001b[0;34m\"ignore\"\u001b[0m\u001b[0;34m:\u001b[0m\u001b[0;34m\u001b[0m\u001b[0;34m\u001b[0m\u001b[0m\n\u001b[0;32m-> 6017\u001b[0;31m                 \u001b[0;32mraise\u001b[0m \u001b[0mKeyError\u001b[0m\u001b[0;34m(\u001b[0m\u001b[0;34mf\"{labels[mask]} not found in axis\"\u001b[0m\u001b[0;34m)\u001b[0m\u001b[0;34m\u001b[0m\u001b[0;34m\u001b[0m\u001b[0m\n\u001b[0m\u001b[1;32m   6018\u001b[0m             \u001b[0mindexer\u001b[0m \u001b[0;34m=\u001b[0m \u001b[0mindexer\u001b[0m\u001b[0;34m[\u001b[0m\u001b[0;34m~\u001b[0m\u001b[0mmask\u001b[0m\u001b[0;34m]\u001b[0m\u001b[0;34m\u001b[0m\u001b[0;34m\u001b[0m\u001b[0m\n\u001b[1;32m   6019\u001b[0m         \u001b[0;32mreturn\u001b[0m \u001b[0mself\u001b[0m\u001b[0;34m.\u001b[0m\u001b[0mdelete\u001b[0m\u001b[0;34m(\u001b[0m\u001b[0mindexer\u001b[0m\u001b[0;34m)\u001b[0m\u001b[0;34m\u001b[0m\u001b[0;34m\u001b[0m\u001b[0m\n",
            "\u001b[0;31mKeyError\u001b[0m: \"['id'] not found in axis\""
          ]
        }
      ]
    },
    {
      "cell_type": "code",
      "source": [
        "# Feature selection using ExtraTreesClassifier\n",
        "\n",
        "X=df_Train.iloc[:,0:8]\n",
        "Y=df_Train['class']\n",
        "from sklearn.ensemble import ExtraTreesClassifier\n",
        "model = ExtraTreesClassifier()\n",
        "model.fit(X, Y)\n",
        "print(model.feature_importances_)\n",
        "feat_importances = pd.Series(model.feature_importances_, index=X.columns)\n",
        "feat_importances.nlargest(13).plot.bar()\n",
        "plt.show()\n",
        "list1=feat_importances.keys().to_list()"
      ],
      "metadata": {
        "colab": {
          "base_uri": "https://localhost:8080/",
          "height": 305
        },
        "id": "OTxg7__rq_V1",
        "outputId": "5b900ba9-d881-478b-bf3e-47ce49f53e28"
      },
      "execution_count": 20,
      "outputs": [
        {
          "output_type": "stream",
          "name": "stdout",
          "text": [
            "[0.10820331 0.22373098 0.09722949 0.08012078 0.0833783  0.14861593\n",
            " 0.11864166 0.14007954]\n"
          ]
        },
        {
          "output_type": "display_data",
          "data": {
            "text/plain": [
              "<Figure size 432x288 with 1 Axes>"
            ],
            "image/png": "[encoded data removed]"
          },
          "metadata": {
            "needs_background": "light"
          }
        }
      ]
    },
    {
      "cell_type": "code",
      "source": [
        "# Defining Early Stop method\n",
        "\n",
        "EarlyStop = keras.callbacks.EarlyStopping(monitor='val_accuracy', patience=5, restore_best_weights=True)\n"
      ],
      "metadata": {
        "id": "fGH_8BZKNU5M"
      },
      "execution_count": 21,
      "outputs": []
    },
    {
      "cell_type": "markdown",
      "source": [
        "## Model 1 \n",
        "   starting with 2 nodes\n",
        "   "
      ],
      "metadata": {
        "id": "MTQ2fUoKMcIJ"
      }
    },
    {
      "cell_type": "code",
      "source": [
        "# Data split for train and validation \n",
        "\n",
        "from sklearn.preprocessing import StandardScaler\n",
        "\n",
        "x = df_Train.iloc[:, [1,5]]\n",
        "\n",
        "\n",
        "scaler = StandardScaler()\n",
        "x =  scaler.fit_transform(x)\n",
        "\n",
        "X_train, X_test, Y_train, Y_test = train_test_split(x, y, test_size=0.3,\n",
        "                                                    random_state=RANDOM_SEED)\n",
        "\n",
        "\n",
        "# define the keras model\n",
        "model1 = keras.Sequential()\n",
        "model1.add(layers.Dense(4, input_dim=2, activation='relu'))\n",
        "model1.add(layers.Dense(6, activation='relu'))\n",
        "model1.add(layers.Dense(1, activation='sigmoid'))\n",
        "\n",
        "model1.summary()"
      ],
      "metadata": {
        "colab": {
          "base_uri": "https://localhost:8080/"
        },
        "id": "2e1Zhdz3Oham",
        "outputId": "8a4b3510-d437-4b24-939c-b82989a98f0d"
      },
      "execution_count": 22,
      "outputs": [
        {
          "output_type": "stream",
          "name": "stdout",
          "text": [
            "Model: \"sequential\"\n",
            "_________________________________________________________________\n",
            " Layer (type)                Output Shape              Param #   \n",
            "=================================================================\n",
            " dense (Dense)               (None, 4)                 12        \n",
            "                                                                 \n",
            " dense_1 (Dense)             (None, 6)                 30        \n",
            "                                                                 \n",
            " dense_2 (Dense)             (None, 1)                 7         \n",
            "                                                                 \n",
            "=================================================================\n",
            "Total params: 49\n",
            "Trainable params: 49\n",
            "Non-trainable params: 0\n",
            "_________________________________________________________________\n"
          ]
        }
      ]
    },
    {
      "cell_type": "code",
      "source": [
        "\n",
        "# Compiling the keras model\n",
        "model1.compile(loss='binary_crossentropy', optimizer='adam', metrics=['accuracy'])\n",
        "\n",
        "# Fitting the model\n",
        "m1 = model1.fit(X_train, Y_train, batch_size=20, epochs=120, \n",
        "           validation_data=(X_test, Y_test) ,  callbacks = [EarlyStop])\n",
        "     \n",
        "Model1_scores = model1.evaluate(X_test, Y_test, verbose=0)\n",
        "\n",
        "print('\\n')\n",
        "print(\"Model Score: %.2f%%\" % (Model1_scores[1]*100))\n",
        "\n",
        "m1_val_accuracy = m1.history['val_accuracy'][-1] * 100\n",
        "print('\\n')\n",
        "print(\"Validation Score: %.2f%%\" % (m1_val_accuracy))\n",
        "\n",
        "\n"
      ],
      "metadata": {
        "colab": {
          "base_uri": "https://localhost:8080/"
        },
        "id": "Ps0cXoDoO3aK",
        "outputId": "ec2a0e88-7397-47f3-a5a1-4b30ee1337a6"
      },
      "execution_count": 23,
      "outputs": [
        {
          "output_type": "stream",
          "name": "stdout",
          "text": [
            "Epoch 1/120\n",
            "24/24 [==============================] - 1s 17ms/step - loss: 0.6087 - accuracy: 0.6938 - val_loss: 0.5854 - val_accuracy: 0.6965\n",
            "Epoch 2/120\n",
            "24/24 [==============================] - 0s 3ms/step - loss: 0.5928 - accuracy: 0.7002 - val_loss: 0.5693 - val_accuracy: 0.6915\n",
            "Epoch 3/120\n",
            "24/24 [==============================] - 0s 3ms/step - loss: 0.5803 - accuracy: 0.6916 - val_loss: 0.5563 - val_accuracy: 0.7114\n",
            "Epoch 4/120\n",
            "24/24 [==============================] - 0s 3ms/step - loss: 0.5713 - accuracy: 0.6916 - val_loss: 0.5463 - val_accuracy: 0.7214\n",
            "Epoch 5/120\n",
            "24/24 [==============================] - 0s 3ms/step - loss: 0.5645 - accuracy: 0.7024 - val_loss: 0.5387 - val_accuracy: 0.7313\n",
            "Epoch 6/120\n",
            "24/24 [==============================] - 0s 3ms/step - loss: 0.5595 - accuracy: 0.7066 - val_loss: 0.5335 - val_accuracy: 0.7363\n",
            "Epoch 7/120\n",
            "24/24 [==============================] - 0s 3ms/step - loss: 0.5552 - accuracy: 0.7109 - val_loss: 0.5283 - val_accuracy: 0.7562\n",
            "Epoch 8/120\n",
            "24/24 [==============================] - 0s 3ms/step - loss: 0.5514 - accuracy: 0.7259 - val_loss: 0.5237 - val_accuracy: 0.7662\n",
            "Epoch 9/120\n",
            "24/24 [==============================] - 0s 3ms/step - loss: 0.5481 - accuracy: 0.7366 - val_loss: 0.5193 - val_accuracy: 0.7711\n",
            "Epoch 10/120\n",
            "24/24 [==============================] - 0s 3ms/step - loss: 0.5453 - accuracy: 0.7281 - val_loss: 0.5166 - val_accuracy: 0.7861\n",
            "Epoch 11/120\n",
            "24/24 [==============================] - 0s 3ms/step - loss: 0.5426 - accuracy: 0.7366 - val_loss: 0.5131 - val_accuracy: 0.7861\n",
            "Epoch 12/120\n",
            "24/24 [==============================] - 0s 3ms/step - loss: 0.5399 - accuracy: 0.7452 - val_loss: 0.5108 - val_accuracy: 0.7910\n",
            "Epoch 13/120\n",
            "24/24 [==============================] - 0s 3ms/step - loss: 0.5374 - accuracy: 0.7559 - val_loss: 0.5085 - val_accuracy: 0.7960\n",
            "Epoch 14/120\n",
            "24/24 [==============================] - 0s 3ms/step - loss: 0.5349 - accuracy: 0.7666 - val_loss: 0.5051 - val_accuracy: 0.8010\n",
            "Epoch 15/120\n",
            "24/24 [==============================] - 0s 3ms/step - loss: 0.5325 - accuracy: 0.7623 - val_loss: 0.5025 - val_accuracy: 0.7861\n",
            "Epoch 16/120\n",
            "24/24 [==============================] - 0s 3ms/step - loss: 0.5303 - accuracy: 0.7623 - val_loss: 0.4999 - val_accuracy: 0.7910\n",
            "Epoch 17/120\n",
            "24/24 [==============================] - 0s 3ms/step - loss: 0.5286 - accuracy: 0.7602 - val_loss: 0.4983 - val_accuracy: 0.7811\n",
            "Epoch 18/120\n",
            "24/24 [==============================] - 0s 3ms/step - loss: 0.5268 - accuracy: 0.7602 - val_loss: 0.4965 - val_accuracy: 0.7761\n",
            "Epoch 19/120\n",
            "24/24 [==============================] - 0s 3ms/step - loss: 0.5251 - accuracy: 0.7537 - val_loss: 0.4945 - val_accuracy: 0.7910\n",
            "\n",
            "\n",
            "Model Score: 80.10%\n",
            "\n",
            "\n",
            "Validation Score: 79.10%\n"
          ]
        }
      ]
    },
    {
      "cell_type": "code",
      "source": [
        "\n",
        "# summarize the history for accuracy\n",
        "plt.plot(m1.history['accuracy'])\n",
        "plt.plot(m1.history['val_accuracy'])\n",
        "plt.title('model accuracy')\n",
        "plt.ylabel('accuracy')\n",
        "plt.xlabel('epoch')\n",
        "plt.legend(['train','test'], loc='upper left')\n",
        "plt.show()\n",
        "\n",
        "# summarize the history for loss\n",
        "plt.plot(m1.history['loss'])\n",
        "plt.plot(m1.history['val_loss'])\n",
        "plt.title('model loss')\n",
        "plt.ylabel('loss')\n",
        "plt.xlabel('epoch')\n",
        "plt.legend(['train','test'], loc='upper left')\n",
        "plt.show()\n",
        "     "
      ],
      "metadata": {
        "colab": {
          "base_uri": "https://localhost:8080/",
          "height": 573
        },
        "id": "atyLJZQR9iNy",
        "outputId": "eefc0fc1-45ca-4641-a3f1-d12aa893a4b6"
      },
      "execution_count": 24,
      "outputs": [
        {
          "output_type": "display_data",
          "data": {
            "text/plain": [
              "<Figure size 432x288 with 1 Axes>"
            ],
            "image/png": "[encoded data removed]"
          },
          "metadata": {
            "needs_background": "light"
          }
        },
        {
          "output_type": "display_data",
          "data": {
            "text/plain": [
              "<Figure size 432x288 with 1 Axes>"
            ],
            "image/png": "[encoded data removed]"
          },
          "metadata": {
            "needs_background": "light"
          }
        }
      ]
    },
    {
      "cell_type": "code",
      "source": [
        "# clear session\n",
        "keras.backend.clear_session()\n",
        "keras.utils.set_random_seed(seed)"
      ],
      "metadata": {
        "id": "xqoOtMtbRTsd"
      },
      "execution_count": 25,
      "outputs": []
    },
    {
      "cell_type": "markdown",
      "source": [
        "## Model 2\n",
        "    starting with 4 nodes\n",
        "    \n"
      ],
      "metadata": {
        "id": "HFiQphljMl1f"
      }
    },
    {
      "cell_type": "code",
      "source": [
        "# Data split for train and validation \n",
        "x = df_Train.iloc[:, [1,5,7,6]]\n",
        "\n",
        "\n",
        "\n",
        "scaler = StandardScaler()\n",
        "x =  scaler.fit_transform(x)\n",
        "\n",
        "X_train, X_test, Y_train, Y_test = train_test_split(x, y, test_size=0.3,\n",
        "                                                    random_state=RANDOM_SEED)\n",
        "\n",
        "\n",
        "# define the keras model\n",
        "model2 = keras.Sequential()\n",
        "model2.add(layers.Dense(8, input_dim=4, activation='relu'))\n",
        "model2.add(layers.Dense(16, activation='relu'))\n",
        "model2.add(layers.Dense(1, activation='sigmoid'))\n",
        "\n",
        "model2.summary()"
      ],
      "metadata": {
        "colab": {
          "base_uri": "https://localhost:8080/"
        },
        "id": "c6EyZ-2NOftv",
        "outputId": "05085122-1569-4ee1-8803-66a88508a2ad"
      },
      "execution_count": 26,
      "outputs": [
        {
          "output_type": "stream",
          "name": "stdout",
          "text": [
            "Model: \"sequential\"\n",
            "_________________________________________________________________\n",
            " Layer (type)                Output Shape              Param #   \n",
            "=================================================================\n",
            " dense (Dense)               (None, 8)                 40        \n",
            "                                                                 \n",
            " dense_1 (Dense)             (None, 16)                144       \n",
            "                                                                 \n",
            " dense_2 (Dense)             (None, 1)                 17        \n",
            "                                                                 \n",
            "=================================================================\n",
            "Total params: 201\n",
            "Trainable params: 201\n",
            "Non-trainable params: 0\n",
            "_________________________________________________________________\n"
          ]
        }
      ]
    },
    {
      "cell_type": "code",
      "source": [
        "\n",
        "# Compiling the keras model\n",
        "model2.compile(loss='binary_crossentropy', optimizer='adam', metrics=['accuracy'])\n",
        "\n",
        "# Fitting the model\n",
        "m2 = model2.fit(X_train, Y_train, batch_size=20, epochs=120, \n",
        "           validation_data=(X_test, Y_test) ,  callbacks = [EarlyStop])\n",
        "     \n",
        "Model2_scores = model2.evaluate(X_test, Y_test, verbose=0)\n",
        "print('\\n')\n",
        "print(\"Accuracy: %.2f%%\" % (Model2_scores[1]*100))\n",
        "\n",
        "\n",
        "m2_val_accuracy = m2.history['val_accuracy'][-1] * 100\n",
        "print('\\n')\n",
        "print(\"Validation Score: %.2f%%\" % (m2_val_accuracy))\n"
      ],
      "metadata": {
        "colab": {
          "base_uri": "https://localhost:8080/"
        },
        "id": "8vcwXhQvOyyU",
        "outputId": "2c48dffd-8adf-4787-d775-4cf251c4a6a1"
      },
      "execution_count": 27,
      "outputs": [
        {
          "output_type": "stream",
          "name": "stdout",
          "text": [
            "Epoch 1/120\n",
            "24/24 [==============================] - 2s 20ms/step - loss: 0.5631 - accuracy: 0.6895 - val_loss: 0.5343 - val_accuracy: 0.8060\n",
            "Epoch 2/120\n",
            "24/24 [==============================] - 0s 5ms/step - loss: 0.5414 - accuracy: 0.7066 - val_loss: 0.5132 - val_accuracy: 0.8109\n",
            "Epoch 3/120\n",
            "24/24 [==============================] - 0s 3ms/step - loss: 0.5248 - accuracy: 0.7238 - val_loss: 0.4983 - val_accuracy: 0.8159\n",
            "Epoch 4/120\n",
            "24/24 [==============================] - 0s 3ms/step - loss: 0.5140 - accuracy: 0.7366 - val_loss: 0.4870 - val_accuracy: 0.8159\n",
            "Epoch 5/120\n",
            "24/24 [==============================] - 0s 3ms/step - loss: 0.5064 - accuracy: 0.7366 - val_loss: 0.4799 - val_accuracy: 0.8159\n",
            "Epoch 6/120\n",
            "24/24 [==============================] - 0s 3ms/step - loss: 0.5011 - accuracy: 0.7409 - val_loss: 0.4745 - val_accuracy: 0.8109\n",
            "Epoch 7/120\n",
            "24/24 [==============================] - 0s 3ms/step - loss: 0.4970 - accuracy: 0.7430 - val_loss: 0.4709 - val_accuracy: 0.7960\n",
            "Epoch 8/120\n",
            "24/24 [==============================] - 0s 3ms/step - loss: 0.4939 - accuracy: 0.7473 - val_loss: 0.4688 - val_accuracy: 0.7910\n",
            "\n",
            "\n",
            "Accuracy: 81.59%\n",
            "\n",
            "\n",
            "Validation Score: 79.10%\n"
          ]
        }
      ]
    },
    {
      "cell_type": "code",
      "source": [
        "\n",
        "# summarize the history for accuracy\n",
        "plt.plot(m2.history['accuracy'])\n",
        "plt.plot(m2.history['val_accuracy'])\n",
        "plt.title('model accuracy')\n",
        "plt.ylabel('accuracy')\n",
        "plt.xlabel('epoch')\n",
        "plt.legend(['train','test'], loc='upper left')\n",
        "plt.show()\n",
        "\n",
        "# summarize the history for loss\n",
        "plt.plot(m2.history['loss'])\n",
        "plt.plot(m2.history['val_loss'])\n",
        "plt.title('model loss')\n",
        "plt.ylabel('loss')\n",
        "plt.xlabel('epoch')\n",
        "plt.legend(['train','test'], loc='upper left')\n",
        "plt.show()\n",
        "     "
      ],
      "metadata": {
        "colab": {
          "base_uri": "https://localhost:8080/",
          "height": 573
        },
        "id": "UFxnclus-cfd",
        "outputId": "db55c1ca-4067-4600-a3f0-d62662c00307"
      },
      "execution_count": 28,
      "outputs": [
        {
          "output_type": "display_data",
          "data": {
            "text/plain": [
              "<Figure size 432x288 with 1 Axes>"
            ],
            "image/png": "[encoded data removed]"
          },
          "metadata": {
            "needs_background": "light"
          }
        },
        {
          "output_type": "display_data",
          "data": {
            "text/plain": [
              "<Figure size 432x288 with 1 Axes>"
            ],
            "image/png": "[encoded data removed]"
          },
          "metadata": {
            "needs_background": "light"
          }
        }
      ]
    },
    {
      "cell_type": "code",
      "source": [
        "\n",
        "# clear session\n",
        "keras.backend.clear_session()\n",
        "keras.utils.set_random_seed(seed)"
      ],
      "metadata": {
        "id": "gvUdmTOARXiz"
      },
      "execution_count": 29,
      "outputs": []
    },
    {
      "cell_type": "markdown",
      "source": [
        "## Model 3\n",
        "   starting with 6 nodes"
      ],
      "metadata": {
        "id": "JZ-mdmAhMx8w"
      }
    },
    {
      "cell_type": "code",
      "source": [
        "# Data split for train and validation \n",
        "x = df_Train.iloc[:, [1,5,7,6,0,2]]\n",
        "\n",
        "scaler = StandardScaler()\n",
        "x =  scaler.fit_transform(x)\n",
        "\n",
        "X_train, X_test, Y_train, Y_test = train_test_split(x, y, test_size=0.3,\n",
        "                                                    random_state=RANDOM_SEED)\n",
        "\n",
        "\n",
        "# define the keras model\n",
        "model3 = keras.Sequential()\n",
        "model3.add(layers.Dense(12, input_dim=6, activation='relu'))\n",
        "model3.add(layers.Dense(24, activation='relu'))\n",
        "model3.add(layers.Dense(1, activation='sigmoid'))\n",
        "\n",
        "model3.summary()"
      ],
      "metadata": {
        "colab": {
          "base_uri": "https://localhost:8080/"
        },
        "id": "cyuVBV8vOUEa",
        "outputId": "6341d5ed-e9ea-418d-9e39-fadaae82ed0b"
      },
      "execution_count": 30,
      "outputs": [
        {
          "output_type": "stream",
          "name": "stdout",
          "text": [
            "Model: \"sequential\"\n",
            "_________________________________________________________________\n",
            " Layer (type)                Output Shape              Param #   \n",
            "=================================================================\n",
            " dense (Dense)               (None, 12)                84        \n",
            "                                                                 \n",
            " dense_1 (Dense)             (None, 24)                312       \n",
            "                                                                 \n",
            " dense_2 (Dense)             (None, 1)                 25        \n",
            "                                                                 \n",
            "=================================================================\n",
            "Total params: 421\n",
            "Trainable params: 421\n",
            "Non-trainable params: 0\n",
            "_________________________________________________________________\n"
          ]
        }
      ]
    },
    {
      "cell_type": "code",
      "source": [
        "\n",
        "# Compiling the keras model\n",
        "model3.compile(loss='binary_crossentropy', optimizer='adam', metrics=['accuracy'])\n",
        "\n",
        "# Fitting the model\n",
        "m3 = model3.fit(X_train, Y_train, batch_size=20, epochs=120, \n",
        "           validation_data=(X_test, Y_test) ,  callbacks = [EarlyStop])\n",
        "     \n",
        "Model3_scores = model3.evaluate(X_test, Y_test, verbose=0)\n",
        "print('\\n')\n",
        "print(\"Accuracy: %.2f%%\" % (Model3_scores[1]*100))\n",
        "\n",
        "\n",
        "m3_val_accuracy = m3.history['val_accuracy'][-1] * 100\n",
        "print('\\n')\n",
        "print(\"Validation Score: %.2f%%\" % (m3_val_accuracy))\n"
      ],
      "metadata": {
        "colab": {
          "base_uri": "https://localhost:8080/"
        },
        "id": "bhUbA-5sOsOz",
        "outputId": "4366f372-3613-4eea-ea29-82af991353de"
      },
      "execution_count": 31,
      "outputs": [
        {
          "output_type": "stream",
          "name": "stdout",
          "text": [
            "Epoch 1/120\n",
            "24/24 [==============================] - 1s 11ms/step - loss: 0.6890 - accuracy: 0.6445 - val_loss: 0.6584 - val_accuracy: 0.6866\n",
            "Epoch 2/120\n",
            "24/24 [==============================] - 0s 4ms/step - loss: 0.6408 - accuracy: 0.6852 - val_loss: 0.6004 - val_accuracy: 0.7214\n",
            "Epoch 3/120\n",
            "24/24 [==============================] - 0s 4ms/step - loss: 0.6036 - accuracy: 0.7173 - val_loss: 0.5524 - val_accuracy: 0.7910\n",
            "Epoch 4/120\n",
            "24/24 [==============================] - 0s 4ms/step - loss: 0.5730 - accuracy: 0.7323 - val_loss: 0.5095 - val_accuracy: 0.8060\n",
            "Epoch 5/120\n",
            "24/24 [==============================] - 0s 4ms/step - loss: 0.5460 - accuracy: 0.7366 - val_loss: 0.4779 - val_accuracy: 0.8060\n",
            "Epoch 6/120\n",
            "24/24 [==============================] - 0s 4ms/step - loss: 0.5244 - accuracy: 0.7409 - val_loss: 0.4538 - val_accuracy: 0.8109\n",
            "Epoch 7/120\n",
            "24/24 [==============================] - 0s 3ms/step - loss: 0.5081 - accuracy: 0.7516 - val_loss: 0.4385 - val_accuracy: 0.8109\n",
            "Epoch 8/120\n",
            "24/24 [==============================] - 0s 4ms/step - loss: 0.4967 - accuracy: 0.7559 - val_loss: 0.4290 - val_accuracy: 0.8109\n",
            "Epoch 9/120\n",
            "24/24 [==============================] - 0s 4ms/step - loss: 0.4888 - accuracy: 0.7559 - val_loss: 0.4223 - val_accuracy: 0.8159\n",
            "Epoch 10/120\n",
            "24/24 [==============================] - 0s 4ms/step - loss: 0.4836 - accuracy: 0.7537 - val_loss: 0.4197 - val_accuracy: 0.8060\n",
            "Epoch 11/120\n",
            "24/24 [==============================] - 0s 4ms/step - loss: 0.4796 - accuracy: 0.7602 - val_loss: 0.4166 - val_accuracy: 0.8060\n",
            "Epoch 12/120\n",
            "24/24 [==============================] - 0s 9ms/step - loss: 0.4751 - accuracy: 0.7645 - val_loss: 0.4167 - val_accuracy: 0.8060\n",
            "Epoch 13/120\n",
            "24/24 [==============================] - 0s 4ms/step - loss: 0.4722 - accuracy: 0.7623 - val_loss: 0.4178 - val_accuracy: 0.8010\n",
            "Epoch 14/120\n",
            "24/24 [==============================] - 0s 4ms/step - loss: 0.4692 - accuracy: 0.7623 - val_loss: 0.4170 - val_accuracy: 0.8010\n",
            "\n",
            "\n",
            "Accuracy: 81.59%\n",
            "\n",
            "\n",
            "Validation Score: 80.10%\n"
          ]
        }
      ]
    },
    {
      "cell_type": "code",
      "source": [
        "\n",
        "# summarize the history for accuracy\n",
        "plt.plot(m3.history['accuracy'])\n",
        "plt.plot(m3.history['val_accuracy'])\n",
        "plt.title('model accuracy')\n",
        "plt.ylabel('accuracy')\n",
        "plt.xlabel('epoch')\n",
        "plt.legend(['train','test'], loc='upper left')\n",
        "plt.show()\n",
        "\n",
        "# summarize the history for loss\n",
        "plt.plot(m3.history['loss'])\n",
        "plt.plot(m3.history['val_loss'])\n",
        "plt.title('model loss')\n",
        "plt.ylabel('loss')\n",
        "plt.xlabel('epoch')\n",
        "plt.legend(['train','test'], loc='upper left')\n",
        "plt.show()\n",
        "     "
      ],
      "metadata": {
        "colab": {
          "base_uri": "https://localhost:8080/",
          "height": 573
        },
        "id": "W2Kwb-uv-liJ",
        "outputId": "1df481e9-e5be-4f05-948a-95dca2faca6c"
      },
      "execution_count": 32,
      "outputs": [
        {
          "output_type": "display_data",
          "data": {
            "text/plain": [
              "<Figure size 432x288 with 1 Axes>"
            ],
            "image/png": "[encoded data removed]"
          },
          "metadata": {
            "needs_background": "light"
          }
        },
        {
          "output_type": "display_data",
          "data": {
            "text/plain": [
              "<Figure size 432x288 with 1 Axes>"
            ],
            "image/png": "[encoded data removed]"
          },
          "metadata": {
            "needs_background": "light"
          }
        }
      ]
    },
    {
      "cell_type": "code",
      "source": [
        "\n",
        "# clear session\n",
        "keras.backend.clear_session()\n",
        "keras.utils.set_random_seed(seed)"
      ],
      "metadata": {
        "id": "dDBZh3UWRmpN"
      },
      "execution_count": 33,
      "outputs": []
    },
    {
      "cell_type": "markdown",
      "source": [
        "## Model 4\n",
        "   starting with 8 nodes"
      ],
      "metadata": {
        "id": "rTl_vnBwM4Qq"
      }
    },
    {
      "cell_type": "code",
      "source": [
        "# Data split for train and validation \n",
        "\n",
        "\n",
        "x = df_Train.iloc[:, 0:8]\n",
        "\n",
        "scaler = StandardScaler()\n",
        "x =  scaler.fit_transform(x)\n",
        "\n",
        "X_train, X_test, Y_train, Y_test = train_test_split(x, y, test_size=0.3,\n",
        "                                                    random_state=RANDOM_SEED)\n",
        "\n",
        "\n",
        "# define the keras model\n",
        "model4 = keras.Sequential()\n",
        "model4.add(layers.Dense(16, input_dim=8, activation='relu'))\n",
        "model4.add(layers.Dense(32, activation='relu'))\n",
        "model4.add(layers.Dense(1, activation='sigmoid'))\n",
        "\n",
        "model4.summary()"
      ],
      "metadata": {
        "colab": {
          "base_uri": "https://localhost:8080/"
        },
        "id": "3nbmmfWepZ5V",
        "outputId": "043495fd-904a-455a-e48d-e75f9b993caa"
      },
      "execution_count": 34,
      "outputs": [
        {
          "output_type": "stream",
          "name": "stdout",
          "text": [
            "Model: \"sequential\"\n",
            "_________________________________________________________________\n",
            " Layer (type)                Output Shape              Param #   \n",
            "=================================================================\n",
            " dense (Dense)               (None, 16)                144       \n",
            "                                                                 \n",
            " dense_1 (Dense)             (None, 32)                544       \n",
            "                                                                 \n",
            " dense_2 (Dense)             (None, 1)                 33        \n",
            "                                                                 \n",
            "=================================================================\n",
            "Total params: 721\n",
            "Trainable params: 721\n",
            "Non-trainable params: 0\n",
            "_________________________________________________________________\n"
          ]
        }
      ]
    },
    {
      "cell_type": "code",
      "source": [
        "\n",
        "# Compiling the keras model\n",
        "model4.compile(loss='binary_crossentropy', optimizer='adam', metrics=['accuracy'])\n",
        "\n",
        "# Fitting the model\n",
        "m4 = model4.fit(X_train, Y_train, batch_size=20, epochs=120, \n",
        "           validation_data=(X_test, Y_test) ,  callbacks = [EarlyStop])\n",
        "     \n",
        "Model4_scores = model4.evaluate(X_test, Y_test, verbose=0)\n",
        "print('\\n')\n",
        "print(\"Accuracy: %.2f%%\" % (Model4_scores[1]*100))\n",
        "\n",
        "\n",
        "m4_val_accuracy = m1.history['val_accuracy'][-1] * 100\n",
        "print('\\n')\n",
        "print(\"Validation Score: %.2f%%\" % (m4_val_accuracy))\n"
      ],
      "metadata": {
        "colab": {
          "base_uri": "https://localhost:8080/"
        },
        "id": "LP_7pslxv2ZL",
        "outputId": "8445fb43-724b-4497-d664-70915049df73"
      },
      "execution_count": 35,
      "outputs": [
        {
          "output_type": "stream",
          "name": "stdout",
          "text": [
            "Epoch 1/120\n",
            "24/24 [==============================] - 1s 9ms/step - loss: 0.5993 - accuracy: 0.7024 - val_loss: 0.5619 - val_accuracy: 0.7264\n",
            "Epoch 2/120\n",
            "24/24 [==============================] - 0s 3ms/step - loss: 0.5459 - accuracy: 0.7259 - val_loss: 0.5221 - val_accuracy: 0.7512\n",
            "Epoch 3/120\n",
            "24/24 [==============================] - 0s 3ms/step - loss: 0.5167 - accuracy: 0.7516 - val_loss: 0.4995 - val_accuracy: 0.7662\n",
            "Epoch 4/120\n",
            "24/24 [==============================] - 0s 3ms/step - loss: 0.4995 - accuracy: 0.7559 - val_loss: 0.4858 - val_accuracy: 0.7761\n",
            "Epoch 5/120\n",
            "24/24 [==============================] - 0s 3ms/step - loss: 0.4889 - accuracy: 0.7623 - val_loss: 0.4762 - val_accuracy: 0.7861\n",
            "Epoch 6/120\n",
            "24/24 [==============================] - 0s 3ms/step - loss: 0.4793 - accuracy: 0.7687 - val_loss: 0.4704 - val_accuracy: 0.7861\n",
            "Epoch 7/120\n",
            "24/24 [==============================] - 0s 3ms/step - loss: 0.4713 - accuracy: 0.7773 - val_loss: 0.4686 - val_accuracy: 0.7861\n",
            "Epoch 8/120\n",
            "24/24 [==============================] - 0s 3ms/step - loss: 0.4653 - accuracy: 0.7901 - val_loss: 0.4651 - val_accuracy: 0.7960\n",
            "Epoch 9/120\n",
            "24/24 [==============================] - 0s 3ms/step - loss: 0.4595 - accuracy: 0.7859 - val_loss: 0.4624 - val_accuracy: 0.8109\n",
            "Epoch 10/120\n",
            "24/24 [==============================] - 0s 3ms/step - loss: 0.4558 - accuracy: 0.7859 - val_loss: 0.4612 - val_accuracy: 0.7960\n",
            "Epoch 11/120\n",
            "24/24 [==============================] - 0s 3ms/step - loss: 0.4512 - accuracy: 0.7880 - val_loss: 0.4627 - val_accuracy: 0.8010\n",
            "Epoch 12/120\n",
            "24/24 [==============================] - 0s 3ms/step - loss: 0.4472 - accuracy: 0.7901 - val_loss: 0.4619 - val_accuracy: 0.8010\n",
            "Epoch 13/120\n",
            "24/24 [==============================] - 0s 3ms/step - loss: 0.4442 - accuracy: 0.7901 - val_loss: 0.4633 - val_accuracy: 0.7910\n",
            "Epoch 14/120\n",
            "24/24 [==============================] - 0s 3ms/step - loss: 0.4410 - accuracy: 0.7901 - val_loss: 0.4635 - val_accuracy: 0.7960\n",
            "\n",
            "\n",
            "Accuracy: 81.09%\n",
            "\n",
            "\n",
            "Validation Score: 79.10%\n"
          ]
        }
      ]
    },
    {
      "cell_type": "code",
      "source": [
        "\n",
        "# summarize the history for accuracy\n",
        "plt.plot(m4.history['accuracy'])\n",
        "plt.plot(m4.history['val_accuracy'])\n",
        "plt.title('model accuracy')\n",
        "plt.ylabel('accuracy')\n",
        "plt.xlabel('epoch')\n",
        "plt.legend(['train','test'], loc='upper left')\n",
        "plt.show()\n",
        "\n",
        "# summarize the history for loss\n",
        "plt.plot(m4.history['loss'])\n",
        "plt.plot(m4.history['val_loss'])\n",
        "plt.title('model loss')\n",
        "plt.ylabel('loss')\n",
        "plt.xlabel('epoch')\n",
        "plt.legend(['train','test'], loc='upper left')\n",
        "plt.show()\n",
        "     "
      ],
      "metadata": {
        "colab": {
          "base_uri": "https://localhost:8080/",
          "height": 573
        },
        "id": "Y9MSlisl-r_p",
        "outputId": "a5fb774f-25c2-44cb-e2d4-82e7b9ee14eb"
      },
      "execution_count": 36,
      "outputs": [
        {
          "output_type": "display_data",
          "data": {
            "text/plain": [
              "<Figure size 432x288 with 1 Axes>"
            ],
            "image/png": "[encoded data removed]"
          },
          "metadata": {
            "needs_background": "light"
          }
        },
        {
          "output_type": "display_data",
          "data": {
            "text/plain": [
              "<Figure size 432x288 with 1 Axes>"
            ],
            "image/png": "[encoded data removed]"
          },
          "metadata": {
            "needs_background": "light"
          }
        }
      ]
    },
    {
      "cell_type": "code",
      "source": [
        "\n",
        "# clear session\n",
        "keras.backend.clear_session()\n",
        "keras.utils.set_random_seed(seed)"
      ],
      "metadata": {
        "id": "Dnx6zEdTRpwr"
      },
      "execution_count": 37,
      "outputs": []
    },
    {
      "cell_type": "markdown",
      "source": [
        "##  Model Score & Accuracy"
      ],
      "metadata": {
        "id": "XoBcXKZ7Smhg"
      }
    },
    {
      "cell_type": "code",
      "source": [
        "# Checking all the model accuracy\n",
        "\n",
        "print('All Model Score')\n",
        "print('\\n')\n",
        "\n",
        "print('|-----------------|')\n",
        "print(f'|Model  |Score    |')\n",
        "print('|-----------------|')\n",
        "print(f'| M1    |{Model1_scores[1] * 100 :.2f}    |')\n",
        "print(f'| M2    |{Model2_scores[1] * 100 :.2f}    |')\n",
        "print(f'| M3    |{Model3_scores[1] * 100 :.2f}    |')\n",
        "print(f'| M4    |{Model4_scores[1] * 100 :.2f}    |')\n",
        "print('|-----------------|')\n",
        "\n",
        "print('\\n')\n",
        "\n",
        "# Checking all the model accuracy\n",
        "\n",
        "print('All Model Accuracy')\n",
        "print('\\n')\n",
        "\n",
        "print('|-----------------|')\n",
        "print(f'|Model  |Accuracy |')\n",
        "print('|-----------------|')\n",
        "print(f'| M1    |{m1_val_accuracy:.2f}    |')\n",
        "print(f'| M2    |{m2_val_accuracy:.2f}    |')\n",
        "print(f'| M3    |{m3_val_accuracy:.2f}    |')\n",
        "print(f'| M4    |{m4_val_accuracy:.2f}    |')\n",
        "print('|-----------------|')"
      ],
      "metadata": {
        "colab": {
          "base_uri": "https://localhost:8080/"
        },
        "id": "B51NhYBueteQ",
        "outputId": "8e0f530e-3d2a-4a31-a7b0-7291cb4d05b8"
      },
      "execution_count": 38,
      "outputs": [
        {
          "output_type": "stream",
          "name": "stdout",
          "text": [
            "All Model Score\n",
            "\n",
            "\n",
            "|-----------------|\n",
            "|Model  |Score    |\n",
            "|-----------------|\n",
            "| M1    |80.10    |\n",
            "| M2    |81.59    |\n",
            "| M3    |81.59    |\n",
            "| M4    |81.09    |\n",
            "|-----------------|\n",
            "\n",
            "\n",
            "All Model Accuracy\n",
            "\n",
            "\n",
            "|-----------------|\n",
            "|Model  |Accuracy |\n",
            "|-----------------|\n",
            "| M1    |79.10    |\n",
            "| M2    |79.10    |\n",
            "| M3    |80.10    |\n",
            "| M4    |79.10    |\n",
            "|-----------------|\n"
          ]
        }
      ]
    },
    {
      "cell_type": "markdown",
      "source": [
        "## Hyper Tuning using Keras tuner"
      ],
      "metadata": {
        "id": "_AiUkdKGu_x6"
      }
    },
    {
      "cell_type": "code",
      "source": [
        "from IPython.display import display\n",
        "# define a callback to clear the training outputs at the end of every training step\n",
        "class ClearTrainingOutput(tf.keras.callbacks.Callback):\n",
        "  def on_train_end(*args, **kwargs):\n",
        "    IPython.display.clear_output(wait = True)"
      ],
      "metadata": {
        "id": "odW6J4clxWU3"
      },
      "execution_count": 39,
      "outputs": []
    },
    {
      "cell_type": "code",
      "source": [
        "# build the model within a function\n",
        "# Apply hyperparmeter tuning to the number of units in the second hidden layer in the model\n",
        "def model_builder1(hp):\n",
        "  Hyper_model = keras.Sequential()\n",
        "  Hyper_model.add(layers.Dense(input_dim=8, units=10, activation='relu'))\n",
        "  hp_units = hp.Int('units', min_value = 8, max_value = 60, step = 10)\n",
        "  Hyper_model.add(layers.Dense(units=hp_units, activation='relu'))\n",
        "  Hyper_model.add(layers.Dense(units=1, activation='sigmoid'))\n",
        "  Hyper_model.compile(loss = 'binary_crossentropy', optimizer = \"adam\", metrics = ['accuracy'])\n",
        "  return Hyper_model\n",
        "     "
      ],
      "metadata": {
        "id": "QfxhGofdvXkB"
      },
      "execution_count": 40,
      "outputs": []
    },
    {
      "cell_type": "code",
      "source": [
        "# instatiate the tuner and perform hypertuning\n",
        "tuner = kt.Hyperband(model_builder1,\n",
        "                     objective = 'val_accuracy', \n",
        "                     max_epochs = 150,\n",
        "                     factor = 3,        # factor is a number that determines how many models are created to run in parallel whaen testing the hyperparameters\n",
        "                     directory = 'my_dir',  # directory that the tuned hyperparameter results are stored in (change the name of this directory if you get the message INFO:tensorflow:Oracle triggered exit)\n",
        "                     project_name = 'intro_to_kt1') "
      ],
      "metadata": {
        "id": "gEVOMVBRxJdL"
      },
      "execution_count": 41,
      "outputs": []
    },
    {
      "cell_type": "code",
      "source": [
        "import IPython\n",
        "\n",
        "x = df_Train.iloc[:, 0:8]\n",
        "\n",
        "\n",
        "\n",
        "X_train, X_test, Y_train, Y_test = train_test_split(x, y, test_size=0.3,\n",
        "                                                    random_state=RANDOM_SEED)\n"
      ],
      "metadata": {
        "id": "GmXaQeUNxdPU"
      },
      "execution_count": 42,
      "outputs": []
    },
    {
      "cell_type": "code",
      "source": [
        "t = tuner.search(X_train, Y_train, epochs = 100, validation_data = (X_test, Y_test),\n",
        "             callbacks = [ClearTrainingOutput()])"
      ],
      "metadata": {
        "colab": {
          "base_uri": "https://localhost:8080/"
        },
        "id": "2xo2no99HGD6",
        "outputId": "405abff7-9a22-44e5-f4cb-47d7823db821"
      },
      "execution_count": 43,
      "outputs": [
        {
          "output_type": "stream",
          "name": "stdout",
          "text": [
            "Trial 254 Complete [00h 00m 12s]\n",
            "val_accuracy: 0.7512437701225281\n",
            "\n",
            "Best val_accuracy So Far: 0.7810945510864258\n",
            "Total elapsed time: 00h 10m 44s\n"
          ]
        }
      ]
    },
    {
      "cell_type": "code",
      "source": [
        "\n",
        "# Get the optimal hyperparameters\n",
        "best_hps = tuner.get_best_hyperparameters()[0]\n",
        "print(best_hps.values)\n",
        "     "
      ],
      "metadata": {
        "colab": {
          "base_uri": "https://localhost:8080/"
        },
        "id": "xT3QzkwgzpxJ",
        "outputId": "78739dc9-d64e-4c61-a72b-ea781f1c2c12"
      },
      "execution_count": 44,
      "outputs": [
        {
          "output_type": "stream",
          "name": "stdout",
          "text": [
            "{'units': 18, 'tuner/epochs': 150, 'tuner/initial_epoch': 50, 'tuner/bracket': 3, 'tuner/round': 3, 'tuner/trial_id': '0203'}\n"
          ]
        }
      ]
    },
    {
      "cell_type": "code",
      "source": [
        "\n",
        "# apply the optimal hyperparameters to the model and print the summary\n",
        "Hyper_model = tuner.hypermodel.build(best_hps)\n",
        "Hyper_model.summary()"
      ],
      "metadata": {
        "colab": {
          "base_uri": "https://localhost:8080/"
        },
        "id": "3C87olQ2zrZ2",
        "outputId": "983755f2-9ce4-47b5-d261-8021d64f77e5"
      },
      "execution_count": 45,
      "outputs": [
        {
          "output_type": "stream",
          "name": "stdout",
          "text": [
            "Model: \"sequential_1\"\n",
            "_________________________________________________________________\n",
            " Layer (type)                Output Shape              Param #   \n",
            "=================================================================\n",
            " dense_3 (Dense)             (None, 10)                90        \n",
            "                                                                 \n",
            " dense_4 (Dense)             (None, 18)                198       \n",
            "                                                                 \n",
            " dense_5 (Dense)             (None, 1)                 19        \n",
            "                                                                 \n",
            "=================================================================\n",
            "Total params: 307\n",
            "Trainable params: 307\n",
            "Non-trainable params: 0\n",
            "_________________________________________________________________\n"
          ]
        }
      ]
    },
    {
      "cell_type": "code",
      "source": [
        "\n",
        "# retrain the model with the optimum hyperparameters and train it on the data\n",
        "HyperTune = Hyper_model.fit(X_train, Y_train, epochs = 200, \n",
        "                            validation_data = (X_test, Y_test))\n",
        "HyperTune_scores = Hyper_model.evaluate(X_test, Y_test, verbose=0)\n",
        "print('\\n')\n",
        "print(\"Accuracy: %.2f%%\" % (HyperTune_scores[1]*100))\n",
        "\n",
        "\n",
        "HyperTune_val_accuracy = HyperTune.history['val_accuracy'][-1] * 100\n",
        "print('\\n')\n",
        "print(\"Validation Score: %.2f%%\" % (HyperTune_val_accuracy))"
      ],
      "metadata": {
        "colab": {
          "base_uri": "https://localhost:8080/"
        },
        "id": "3AIQZTxDztQ2",
        "outputId": "8a678e6a-779d-4cd9-bb48-3f7311dce2db"
      },
      "execution_count": 46,
      "outputs": [
        {
          "output_type": "stream",
          "name": "stdout",
          "text": [
            "Epoch 1/200\n",
            "15/15 [==============================] - 1s 12ms/step - loss: 6.0922 - accuracy: 0.6424 - val_loss: 3.5373 - val_accuracy: 0.6468\n",
            "Epoch 2/200\n",
            "15/15 [==============================] - 0s 5ms/step - loss: 3.0437 - accuracy: 0.5353 - val_loss: 1.7280 - val_accuracy: 0.5025\n",
            "Epoch 3/200\n",
            "15/15 [==============================] - 0s 5ms/step - loss: 1.6902 - accuracy: 0.3533 - val_loss: 0.8900 - val_accuracy: 0.4826\n",
            "Epoch 4/200\n",
            "15/15 [==============================] - 0s 5ms/step - loss: 0.8959 - accuracy: 0.5653 - val_loss: 0.7610 - val_accuracy: 0.5721\n",
            "Epoch 5/200\n",
            "15/15 [==============================] - 0s 4ms/step - loss: 0.7692 - accuracy: 0.6167 - val_loss: 0.7534 - val_accuracy: 0.5970\n",
            "Epoch 6/200\n",
            "15/15 [==============================] - 0s 4ms/step - loss: 0.7321 - accuracy: 0.6231 - val_loss: 0.7310 - val_accuracy: 0.5920\n",
            "Epoch 7/200\n",
            "15/15 [==============================] - 0s 4ms/step - loss: 0.7065 - accuracy: 0.6231 - val_loss: 0.7110 - val_accuracy: 0.6468\n",
            "Epoch 8/200\n",
            "15/15 [==============================] - 0s 3ms/step - loss: 0.6991 - accuracy: 0.6103 - val_loss: 0.7040 - val_accuracy: 0.6219\n",
            "Epoch 9/200\n",
            "15/15 [==============================] - 0s 3ms/step - loss: 0.6850 - accuracy: 0.6338 - val_loss: 0.6913 - val_accuracy: 0.6368\n",
            "Epoch 10/200\n",
            "15/15 [==============================] - 0s 5ms/step - loss: 0.6858 - accuracy: 0.6103 - val_loss: 0.6728 - val_accuracy: 0.6567\n",
            "Epoch 11/200\n",
            "15/15 [==============================] - 0s 5ms/step - loss: 0.6764 - accuracy: 0.6167 - val_loss: 0.7082 - val_accuracy: 0.5920\n",
            "Epoch 12/200\n",
            "15/15 [==============================] - 0s 4ms/step - loss: 0.6844 - accuracy: 0.6253 - val_loss: 0.7008 - val_accuracy: 0.6020\n",
            "Epoch 13/200\n",
            "15/15 [==============================] - 0s 3ms/step - loss: 0.6801 - accuracy: 0.6210 - val_loss: 0.6812 - val_accuracy: 0.6070\n",
            "Epoch 14/200\n",
            "15/15 [==============================] - 0s 5ms/step - loss: 0.6693 - accuracy: 0.6424 - val_loss: 0.6725 - val_accuracy: 0.6070\n",
            "Epoch 15/200\n",
            "15/15 [==============================] - 0s 5ms/step - loss: 0.6839 - accuracy: 0.6274 - val_loss: 0.6633 - val_accuracy: 0.6617\n",
            "Epoch 16/200\n",
            "15/15 [==============================] - 0s 4ms/step - loss: 0.6498 - accuracy: 0.6381 - val_loss: 0.6503 - val_accuracy: 0.6517\n",
            "Epoch 17/200\n",
            "15/15 [==============================] - 0s 4ms/step - loss: 0.6460 - accuracy: 0.6574 - val_loss: 0.6565 - val_accuracy: 0.6716\n",
            "Epoch 18/200\n",
            "15/15 [==============================] - 0s 4ms/step - loss: 0.6609 - accuracy: 0.6681 - val_loss: 0.6394 - val_accuracy: 0.6667\n",
            "Epoch 19/200\n",
            "15/15 [==============================] - 0s 4ms/step - loss: 0.6486 - accuracy: 0.6424 - val_loss: 0.6595 - val_accuracy: 0.6219\n",
            "Epoch 20/200\n",
            "15/15 [==============================] - 0s 5ms/step - loss: 0.6424 - accuracy: 0.6552 - val_loss: 0.6382 - val_accuracy: 0.6468\n",
            "Epoch 21/200\n",
            "15/15 [==============================] - 0s 3ms/step - loss: 0.6354 - accuracy: 0.6638 - val_loss: 0.6364 - val_accuracy: 0.6119\n",
            "Epoch 22/200\n",
            "15/15 [==============================] - 0s 3ms/step - loss: 0.6260 - accuracy: 0.6745 - val_loss: 0.6283 - val_accuracy: 0.6766\n",
            "Epoch 23/200\n",
            "15/15 [==============================] - 0s 5ms/step - loss: 0.6310 - accuracy: 0.6767 - val_loss: 0.6294 - val_accuracy: 0.6418\n",
            "Epoch 24/200\n",
            "15/15 [==============================] - 0s 4ms/step - loss: 0.6163 - accuracy: 0.6724 - val_loss: 0.6329 - val_accuracy: 0.6070\n",
            "Epoch 25/200\n",
            "15/15 [==============================] - 0s 3ms/step - loss: 0.6199 - accuracy: 0.6552 - val_loss: 0.6312 - val_accuracy: 0.6468\n",
            "Epoch 26/200\n",
            "15/15 [==============================] - 0s 4ms/step - loss: 0.6259 - accuracy: 0.6595 - val_loss: 0.6249 - val_accuracy: 0.6468\n",
            "Epoch 27/200\n",
            "15/15 [==============================] - 0s 3ms/step - loss: 0.6051 - accuracy: 0.6831 - val_loss: 0.6009 - val_accuracy: 0.6766\n",
            "Epoch 28/200\n",
            "15/15 [==============================] - 0s 5ms/step - loss: 0.6027 - accuracy: 0.6916 - val_loss: 0.6054 - val_accuracy: 0.6816\n",
            "Epoch 29/200\n",
            "15/15 [==============================] - 0s 4ms/step - loss: 0.6057 - accuracy: 0.6767 - val_loss: 0.6048 - val_accuracy: 0.6667\n",
            "Epoch 30/200\n",
            "15/15 [==============================] - 0s 3ms/step - loss: 0.6046 - accuracy: 0.6681 - val_loss: 0.6141 - val_accuracy: 0.6766\n",
            "Epoch 31/200\n",
            "15/15 [==============================] - 0s 4ms/step - loss: 0.6082 - accuracy: 0.6724 - val_loss: 0.6413 - val_accuracy: 0.6716\n",
            "Epoch 32/200\n",
            "15/15 [==============================] - 0s 4ms/step - loss: 0.6216 - accuracy: 0.6381 - val_loss: 0.6436 - val_accuracy: 0.6716\n",
            "Epoch 33/200\n",
            "15/15 [==============================] - 0s 3ms/step - loss: 0.6113 - accuracy: 0.6831 - val_loss: 0.5968 - val_accuracy: 0.6816\n",
            "Epoch 34/200\n",
            "15/15 [==============================] - 0s 4ms/step - loss: 0.5987 - accuracy: 0.6702 - val_loss: 0.5878 - val_accuracy: 0.7164\n",
            "Epoch 35/200\n",
            "15/15 [==============================] - 0s 4ms/step - loss: 0.5978 - accuracy: 0.6874 - val_loss: 0.6268 - val_accuracy: 0.6816\n",
            "Epoch 36/200\n",
            "15/15 [==============================] - 0s 4ms/step - loss: 0.6153 - accuracy: 0.6702 - val_loss: 0.6467 - val_accuracy: 0.6517\n",
            "Epoch 37/200\n",
            "15/15 [==============================] - 0s 4ms/step - loss: 0.6186 - accuracy: 0.6424 - val_loss: 0.6297 - val_accuracy: 0.6816\n",
            "Epoch 38/200\n",
            "15/15 [==============================] - 0s 5ms/step - loss: 0.5976 - accuracy: 0.6852 - val_loss: 0.6201 - val_accuracy: 0.6915\n",
            "Epoch 39/200\n",
            "15/15 [==============================] - 0s 3ms/step - loss: 0.6102 - accuracy: 0.6702 - val_loss: 0.5928 - val_accuracy: 0.6915\n",
            "Epoch 40/200\n",
            "15/15 [==============================] - 0s 5ms/step - loss: 0.5904 - accuracy: 0.6981 - val_loss: 0.5856 - val_accuracy: 0.7065\n",
            "Epoch 41/200\n",
            "15/15 [==============================] - 0s 4ms/step - loss: 0.5902 - accuracy: 0.6916 - val_loss: 0.6158 - val_accuracy: 0.7015\n",
            "Epoch 42/200\n",
            "15/15 [==============================] - 0s 5ms/step - loss: 0.5875 - accuracy: 0.6831 - val_loss: 0.5969 - val_accuracy: 0.6766\n",
            "Epoch 43/200\n",
            "15/15 [==============================] - 0s 5ms/step - loss: 0.6106 - accuracy: 0.6595 - val_loss: 0.5770 - val_accuracy: 0.7264\n",
            "Epoch 44/200\n",
            "15/15 [==============================] - 0s 4ms/step - loss: 0.5950 - accuracy: 0.6702 - val_loss: 0.5800 - val_accuracy: 0.7114\n",
            "Epoch 45/200\n",
            "15/15 [==============================] - 0s 3ms/step - loss: 0.5935 - accuracy: 0.6874 - val_loss: 0.5944 - val_accuracy: 0.6766\n",
            "Epoch 46/200\n",
            "15/15 [==============================] - 0s 4ms/step - loss: 0.5764 - accuracy: 0.7024 - val_loss: 0.6068 - val_accuracy: 0.7015\n",
            "Epoch 47/200\n",
            "15/15 [==============================] - 0s 4ms/step - loss: 0.5937 - accuracy: 0.6852 - val_loss: 0.6021 - val_accuracy: 0.7015\n",
            "Epoch 48/200\n",
            "15/15 [==============================] - 0s 4ms/step - loss: 0.5815 - accuracy: 0.7002 - val_loss: 0.6093 - val_accuracy: 0.6617\n",
            "Epoch 49/200\n",
            "15/15 [==============================] - 0s 4ms/step - loss: 0.5877 - accuracy: 0.6874 - val_loss: 0.5723 - val_accuracy: 0.7313\n",
            "Epoch 50/200\n",
            "15/15 [==============================] - 0s 4ms/step - loss: 0.5891 - accuracy: 0.6959 - val_loss: 0.5771 - val_accuracy: 0.7114\n",
            "Epoch 51/200\n",
            "15/15 [==============================] - 0s 4ms/step - loss: 0.5806 - accuracy: 0.7045 - val_loss: 0.5738 - val_accuracy: 0.7313\n",
            "Epoch 52/200\n",
            "15/15 [==============================] - 0s 4ms/step - loss: 0.5822 - accuracy: 0.6874 - val_loss: 0.5756 - val_accuracy: 0.7114\n",
            "Epoch 53/200\n",
            "15/15 [==============================] - 0s 3ms/step - loss: 0.5820 - accuracy: 0.7002 - val_loss: 0.5715 - val_accuracy: 0.7164\n",
            "Epoch 54/200\n",
            "15/15 [==============================] - 0s 4ms/step - loss: 0.5752 - accuracy: 0.7045 - val_loss: 0.6113 - val_accuracy: 0.6965\n",
            "Epoch 55/200\n",
            "15/15 [==============================] - 0s 4ms/step - loss: 0.5751 - accuracy: 0.7002 - val_loss: 0.5765 - val_accuracy: 0.7264\n",
            "Epoch 56/200\n",
            "15/15 [==============================] - 0s 4ms/step - loss: 0.5875 - accuracy: 0.7024 - val_loss: 0.5710 - val_accuracy: 0.7214\n",
            "Epoch 57/200\n",
            "15/15 [==============================] - 0s 4ms/step - loss: 0.5702 - accuracy: 0.7088 - val_loss: 0.5711 - val_accuracy: 0.7363\n",
            "Epoch 58/200\n",
            "15/15 [==============================] - 0s 5ms/step - loss: 0.5973 - accuracy: 0.6895 - val_loss: 0.5767 - val_accuracy: 0.7463\n",
            "Epoch 59/200\n",
            "15/15 [==============================] - 0s 4ms/step - loss: 0.5846 - accuracy: 0.7024 - val_loss: 0.5830 - val_accuracy: 0.7114\n",
            "Epoch 60/200\n",
            "15/15 [==============================] - 0s 3ms/step - loss: 0.5800 - accuracy: 0.7066 - val_loss: 0.5683 - val_accuracy: 0.7264\n",
            "Epoch 61/200\n",
            "15/15 [==============================] - 0s 5ms/step - loss: 0.5714 - accuracy: 0.7066 - val_loss: 0.5847 - val_accuracy: 0.7313\n",
            "Epoch 62/200\n",
            "15/15 [==============================] - 0s 4ms/step - loss: 0.5725 - accuracy: 0.7131 - val_loss: 0.6073 - val_accuracy: 0.7114\n",
            "Epoch 63/200\n",
            "15/15 [==============================] - 0s 4ms/step - loss: 0.6426 - accuracy: 0.6660 - val_loss: 0.6861 - val_accuracy: 0.6418\n",
            "Epoch 64/200\n",
            "15/15 [==============================] - 0s 4ms/step - loss: 0.5901 - accuracy: 0.7131 - val_loss: 0.5727 - val_accuracy: 0.7363\n",
            "Epoch 65/200\n",
            "15/15 [==============================] - 0s 5ms/step - loss: 0.5661 - accuracy: 0.7345 - val_loss: 0.5770 - val_accuracy: 0.7512\n",
            "Epoch 66/200\n",
            "15/15 [==============================] - 0s 4ms/step - loss: 0.5811 - accuracy: 0.6938 - val_loss: 0.5842 - val_accuracy: 0.7363\n",
            "Epoch 67/200\n",
            "15/15 [==============================] - 0s 4ms/step - loss: 0.5660 - accuracy: 0.7109 - val_loss: 0.5764 - val_accuracy: 0.7413\n",
            "Epoch 68/200\n",
            "15/15 [==============================] - 0s 3ms/step - loss: 0.5651 - accuracy: 0.7109 - val_loss: 0.5644 - val_accuracy: 0.7363\n",
            "Epoch 69/200\n",
            "15/15 [==============================] - 0s 4ms/step - loss: 0.5696 - accuracy: 0.6938 - val_loss: 0.6865 - val_accuracy: 0.6517\n",
            "Epoch 70/200\n",
            "15/15 [==============================] - 0s 4ms/step - loss: 0.5857 - accuracy: 0.7024 - val_loss: 0.5779 - val_accuracy: 0.7214\n",
            "Epoch 71/200\n",
            "15/15 [==============================] - 0s 4ms/step - loss: 0.5942 - accuracy: 0.7109 - val_loss: 0.5847 - val_accuracy: 0.7264\n",
            "Epoch 72/200\n",
            "15/15 [==============================] - 0s 4ms/step - loss: 0.5886 - accuracy: 0.6874 - val_loss: 0.5860 - val_accuracy: 0.7065\n",
            "Epoch 73/200\n",
            "15/15 [==============================] - 0s 4ms/step - loss: 0.6046 - accuracy: 0.6916 - val_loss: 0.5641 - val_accuracy: 0.7164\n",
            "Epoch 74/200\n",
            "15/15 [==============================] - 0s 4ms/step - loss: 0.5743 - accuracy: 0.7088 - val_loss: 0.5586 - val_accuracy: 0.7363\n",
            "Epoch 75/200\n",
            "15/15 [==============================] - 0s 5ms/step - loss: 0.5658 - accuracy: 0.7002 - val_loss: 0.5578 - val_accuracy: 0.7313\n",
            "Epoch 76/200\n",
            "15/15 [==============================] - 0s 4ms/step - loss: 0.5742 - accuracy: 0.6981 - val_loss: 0.5662 - val_accuracy: 0.7015\n",
            "Epoch 77/200\n",
            "15/15 [==============================] - 0s 5ms/step - loss: 0.5857 - accuracy: 0.7066 - val_loss: 0.5828 - val_accuracy: 0.6965\n",
            "Epoch 78/200\n",
            "15/15 [==============================] - 0s 4ms/step - loss: 0.6029 - accuracy: 0.6852 - val_loss: 0.5991 - val_accuracy: 0.6766\n",
            "Epoch 79/200\n",
            "15/15 [==============================] - 0s 3ms/step - loss: 0.6303 - accuracy: 0.6767 - val_loss: 0.5609 - val_accuracy: 0.7413\n",
            "Epoch 80/200\n",
            "15/15 [==============================] - 0s 5ms/step - loss: 0.5841 - accuracy: 0.7109 - val_loss: 0.6014 - val_accuracy: 0.7114\n",
            "Epoch 81/200\n",
            "15/15 [==============================] - 0s 3ms/step - loss: 0.5631 - accuracy: 0.7345 - val_loss: 0.6255 - val_accuracy: 0.6716\n",
            "Epoch 82/200\n",
            "15/15 [==============================] - 0s 4ms/step - loss: 0.5862 - accuracy: 0.6916 - val_loss: 0.5589 - val_accuracy: 0.7463\n",
            "Epoch 83/200\n",
            "15/15 [==============================] - 0s 4ms/step - loss: 0.5588 - accuracy: 0.7238 - val_loss: 0.5589 - val_accuracy: 0.7463\n",
            "Epoch 84/200\n",
            "15/15 [==============================] - 0s 4ms/step - loss: 0.5657 - accuracy: 0.7259 - val_loss: 0.6218 - val_accuracy: 0.6965\n",
            "Epoch 85/200\n",
            "15/15 [==============================] - 0s 3ms/step - loss: 0.5891 - accuracy: 0.6938 - val_loss: 0.5530 - val_accuracy: 0.7413\n",
            "Epoch 86/200\n",
            "15/15 [==============================] - 0s 5ms/step - loss: 0.5699 - accuracy: 0.7088 - val_loss: 0.5663 - val_accuracy: 0.7363\n",
            "Epoch 87/200\n",
            "15/15 [==============================] - 0s 4ms/step - loss: 0.5599 - accuracy: 0.7323 - val_loss: 0.5571 - val_accuracy: 0.7114\n",
            "Epoch 88/200\n",
            "15/15 [==============================] - 0s 3ms/step - loss: 0.5505 - accuracy: 0.7345 - val_loss: 0.6271 - val_accuracy: 0.6766\n",
            "Epoch 89/200\n",
            "15/15 [==============================] - 0s 5ms/step - loss: 0.5687 - accuracy: 0.7216 - val_loss: 0.5598 - val_accuracy: 0.7463\n",
            "Epoch 90/200\n",
            "15/15 [==============================] - 0s 3ms/step - loss: 0.5603 - accuracy: 0.7024 - val_loss: 0.5555 - val_accuracy: 0.7264\n",
            "Epoch 91/200\n",
            "15/15 [==============================] - 0s 4ms/step - loss: 0.5569 - accuracy: 0.7238 - val_loss: 0.5510 - val_accuracy: 0.7662\n",
            "Epoch 92/200\n",
            "15/15 [==============================] - 0s 4ms/step - loss: 0.5546 - accuracy: 0.7281 - val_loss: 0.5821 - val_accuracy: 0.7264\n",
            "Epoch 93/200\n",
            "15/15 [==============================] - 0s 4ms/step - loss: 0.5571 - accuracy: 0.7302 - val_loss: 0.5552 - val_accuracy: 0.7512\n",
            "Epoch 94/200\n",
            "15/15 [==============================] - 0s 3ms/step - loss: 0.5631 - accuracy: 0.7195 - val_loss: 0.5507 - val_accuracy: 0.7562\n",
            "Epoch 95/200\n",
            "15/15 [==============================] - 0s 4ms/step - loss: 0.5546 - accuracy: 0.7345 - val_loss: 0.5495 - val_accuracy: 0.7463\n",
            "Epoch 96/200\n",
            "15/15 [==============================] - 0s 4ms/step - loss: 0.5558 - accuracy: 0.7323 - val_loss: 0.5515 - val_accuracy: 0.7015\n",
            "Epoch 97/200\n",
            "15/15 [==============================] - 0s 5ms/step - loss: 0.5797 - accuracy: 0.7195 - val_loss: 0.5515 - val_accuracy: 0.7463\n",
            "Epoch 98/200\n",
            "15/15 [==============================] - 0s 4ms/step - loss: 0.5624 - accuracy: 0.7302 - val_loss: 0.6568 - val_accuracy: 0.6418\n",
            "Epoch 99/200\n",
            "15/15 [==============================] - 0s 5ms/step - loss: 0.5722 - accuracy: 0.7238 - val_loss: 0.5875 - val_accuracy: 0.7214\n",
            "Epoch 100/200\n",
            "15/15 [==============================] - 0s 4ms/step - loss: 0.5750 - accuracy: 0.7173 - val_loss: 0.5505 - val_accuracy: 0.7612\n",
            "Epoch 101/200\n",
            "15/15 [==============================] - 0s 3ms/step - loss: 0.5690 - accuracy: 0.7109 - val_loss: 0.5512 - val_accuracy: 0.7313\n",
            "Epoch 102/200\n",
            "15/15 [==============================] - 0s 4ms/step - loss: 0.5601 - accuracy: 0.7152 - val_loss: 0.5808 - val_accuracy: 0.7214\n",
            "Epoch 103/200\n",
            "15/15 [==============================] - 0s 3ms/step - loss: 0.5512 - accuracy: 0.7109 - val_loss: 0.5518 - val_accuracy: 0.7562\n",
            "Epoch 104/200\n",
            "15/15 [==============================] - 0s 3ms/step - loss: 0.5981 - accuracy: 0.6895 - val_loss: 0.5635 - val_accuracy: 0.7264\n",
            "Epoch 105/200\n",
            "15/15 [==============================] - 0s 3ms/step - loss: 0.5710 - accuracy: 0.7066 - val_loss: 0.5777 - val_accuracy: 0.7264\n",
            "Epoch 106/200\n",
            "15/15 [==============================] - 0s 3ms/step - loss: 0.5649 - accuracy: 0.7323 - val_loss: 0.5658 - val_accuracy: 0.7313\n",
            "Epoch 107/200\n",
            "15/15 [==============================] - 0s 4ms/step - loss: 0.5562 - accuracy: 0.7323 - val_loss: 0.5726 - val_accuracy: 0.7363\n",
            "Epoch 108/200\n",
            "15/15 [==============================] - 0s 4ms/step - loss: 0.5509 - accuracy: 0.7537 - val_loss: 0.5656 - val_accuracy: 0.7313\n",
            "Epoch 109/200\n",
            "15/15 [==============================] - 0s 4ms/step - loss: 0.5478 - accuracy: 0.7152 - val_loss: 0.5453 - val_accuracy: 0.7463\n",
            "Epoch 110/200\n",
            "15/15 [==============================] - 0s 3ms/step - loss: 0.5503 - accuracy: 0.7323 - val_loss: 0.5551 - val_accuracy: 0.7512\n",
            "Epoch 111/200\n",
            "15/15 [==============================] - 0s 4ms/step - loss: 0.5505 - accuracy: 0.7302 - val_loss: 0.5752 - val_accuracy: 0.7264\n",
            "Epoch 112/200\n",
            "15/15 [==============================] - 0s 4ms/step - loss: 0.5520 - accuracy: 0.7259 - val_loss: 0.5880 - val_accuracy: 0.7114\n",
            "Epoch 113/200\n",
            "15/15 [==============================] - 0s 5ms/step - loss: 0.5531 - accuracy: 0.7152 - val_loss: 0.5489 - val_accuracy: 0.7612\n",
            "Epoch 114/200\n",
            "15/15 [==============================] - 0s 3ms/step - loss: 0.5655 - accuracy: 0.7131 - val_loss: 0.5556 - val_accuracy: 0.7463\n",
            "Epoch 115/200\n",
            "15/15 [==============================] - 0s 4ms/step - loss: 0.5485 - accuracy: 0.7195 - val_loss: 0.5595 - val_accuracy: 0.7264\n",
            "Epoch 116/200\n",
            "15/15 [==============================] - 0s 4ms/step - loss: 0.5527 - accuracy: 0.7216 - val_loss: 0.6255 - val_accuracy: 0.6716\n",
            "Epoch 117/200\n",
            "15/15 [==============================] - 0s 3ms/step - loss: 0.5742 - accuracy: 0.7131 - val_loss: 0.5495 - val_accuracy: 0.7512\n",
            "Epoch 118/200\n",
            "15/15 [==============================] - 0s 3ms/step - loss: 0.5517 - accuracy: 0.7238 - val_loss: 0.5618 - val_accuracy: 0.7363\n",
            "Epoch 119/200\n",
            "15/15 [==============================] - 0s 5ms/step - loss: 0.5474 - accuracy: 0.7259 - val_loss: 0.5493 - val_accuracy: 0.7413\n",
            "Epoch 120/200\n",
            "15/15 [==============================] - 0s 6ms/step - loss: 0.5424 - accuracy: 0.7430 - val_loss: 0.5602 - val_accuracy: 0.7313\n",
            "Epoch 121/200\n",
            "15/15 [==============================] - 0s 6ms/step - loss: 0.5452 - accuracy: 0.7430 - val_loss: 0.5516 - val_accuracy: 0.7512\n",
            "Epoch 122/200\n",
            "15/15 [==============================] - 0s 5ms/step - loss: 0.5485 - accuracy: 0.7109 - val_loss: 0.5428 - val_accuracy: 0.7463\n",
            "Epoch 123/200\n",
            "15/15 [==============================] - 0s 5ms/step - loss: 0.5774 - accuracy: 0.7238 - val_loss: 0.5534 - val_accuracy: 0.7164\n",
            "Epoch 124/200\n",
            "15/15 [==============================] - 0s 6ms/step - loss: 0.6013 - accuracy: 0.6874 - val_loss: 0.5896 - val_accuracy: 0.7015\n",
            "Epoch 125/200\n",
            "15/15 [==============================] - 0s 6ms/step - loss: 0.5956 - accuracy: 0.6895 - val_loss: 0.5683 - val_accuracy: 0.7363\n",
            "Epoch 126/200\n",
            "15/15 [==============================] - 0s 6ms/step - loss: 0.5424 - accuracy: 0.7323 - val_loss: 0.6709 - val_accuracy: 0.6418\n",
            "Epoch 127/200\n",
            "15/15 [==============================] - 0s 5ms/step - loss: 0.6064 - accuracy: 0.6874 - val_loss: 0.5577 - val_accuracy: 0.7562\n",
            "Epoch 128/200\n",
            "15/15 [==============================] - 0s 6ms/step - loss: 0.5475 - accuracy: 0.7495 - val_loss: 0.5441 - val_accuracy: 0.7512\n",
            "Epoch 129/200\n",
            "15/15 [==============================] - 0s 5ms/step - loss: 0.5569 - accuracy: 0.7088 - val_loss: 0.5684 - val_accuracy: 0.7313\n",
            "Epoch 130/200\n",
            "15/15 [==============================] - 0s 4ms/step - loss: 0.5541 - accuracy: 0.7024 - val_loss: 0.5431 - val_accuracy: 0.7363\n",
            "Epoch 131/200\n",
            "15/15 [==============================] - 0s 5ms/step - loss: 0.5547 - accuracy: 0.7238 - val_loss: 0.5586 - val_accuracy: 0.6965\n",
            "Epoch 132/200\n",
            "15/15 [==============================] - 0s 6ms/step - loss: 0.5695 - accuracy: 0.7302 - val_loss: 0.5792 - val_accuracy: 0.7264\n",
            "Epoch 133/200\n",
            "15/15 [==============================] - 0s 4ms/step - loss: 0.5485 - accuracy: 0.7238 - val_loss: 0.5621 - val_accuracy: 0.7264\n",
            "Epoch 134/200\n",
            "15/15 [==============================] - 0s 5ms/step - loss: 0.5412 - accuracy: 0.7345 - val_loss: 0.5539 - val_accuracy: 0.7512\n",
            "Epoch 135/200\n",
            "15/15 [==============================] - 0s 4ms/step - loss: 0.5424 - accuracy: 0.7473 - val_loss: 0.5509 - val_accuracy: 0.7463\n",
            "Epoch 136/200\n",
            "15/15 [==============================] - 0s 5ms/step - loss: 0.5508 - accuracy: 0.7281 - val_loss: 0.5451 - val_accuracy: 0.7463\n",
            "Epoch 137/200\n",
            "15/15 [==============================] - 0s 5ms/step - loss: 0.5382 - accuracy: 0.7388 - val_loss: 0.5528 - val_accuracy: 0.7463\n",
            "Epoch 138/200\n",
            "15/15 [==============================] - 0s 4ms/step - loss: 0.5470 - accuracy: 0.7152 - val_loss: 0.5756 - val_accuracy: 0.7214\n",
            "Epoch 139/200\n",
            "15/15 [==============================] - 0s 5ms/step - loss: 0.5451 - accuracy: 0.7409 - val_loss: 0.5462 - val_accuracy: 0.7164\n",
            "Epoch 140/200\n",
            "15/15 [==============================] - 0s 4ms/step - loss: 0.5721 - accuracy: 0.7088 - val_loss: 0.5385 - val_accuracy: 0.7562\n",
            "Epoch 141/200\n",
            "15/15 [==============================] - 0s 5ms/step - loss: 0.5373 - accuracy: 0.7366 - val_loss: 0.5556 - val_accuracy: 0.7214\n",
            "Epoch 142/200\n",
            "15/15 [==============================] - 0s 6ms/step - loss: 0.5365 - accuracy: 0.7302 - val_loss: 0.5462 - val_accuracy: 0.7164\n",
            "Epoch 143/200\n",
            "15/15 [==============================] - 0s 5ms/step - loss: 0.5441 - accuracy: 0.7238 - val_loss: 0.5413 - val_accuracy: 0.7463\n",
            "Epoch 144/200\n",
            "15/15 [==============================] - 0s 6ms/step - loss: 0.5596 - accuracy: 0.7066 - val_loss: 0.5458 - val_accuracy: 0.7463\n",
            "Epoch 145/200\n",
            "15/15 [==============================] - 0s 6ms/step - loss: 0.5637 - accuracy: 0.7302 - val_loss: 0.5906 - val_accuracy: 0.7015\n",
            "Epoch 146/200\n",
            "15/15 [==============================] - 0s 4ms/step - loss: 0.5503 - accuracy: 0.7281 - val_loss: 0.6130 - val_accuracy: 0.6915\n",
            "Epoch 147/200\n",
            "15/15 [==============================] - 0s 4ms/step - loss: 0.5495 - accuracy: 0.7259 - val_loss: 0.6034 - val_accuracy: 0.7015\n",
            "Epoch 148/200\n",
            "15/15 [==============================] - 0s 4ms/step - loss: 0.5540 - accuracy: 0.7323 - val_loss: 0.5522 - val_accuracy: 0.7214\n",
            "Epoch 149/200\n",
            "15/15 [==============================] - 0s 4ms/step - loss: 0.5677 - accuracy: 0.7238 - val_loss: 0.5443 - val_accuracy: 0.7363\n",
            "Epoch 150/200\n",
            "15/15 [==============================] - 0s 4ms/step - loss: 0.5435 - accuracy: 0.7066 - val_loss: 0.5557 - val_accuracy: 0.7264\n",
            "Epoch 151/200\n",
            "15/15 [==============================] - 0s 4ms/step - loss: 0.5316 - accuracy: 0.7516 - val_loss: 0.5392 - val_accuracy: 0.7363\n",
            "Epoch 152/200\n",
            "15/15 [==============================] - 0s 5ms/step - loss: 0.5402 - accuracy: 0.7323 - val_loss: 0.5731 - val_accuracy: 0.7164\n",
            "Epoch 153/200\n",
            "15/15 [==============================] - 0s 3ms/step - loss: 0.5401 - accuracy: 0.7345 - val_loss: 0.5859 - val_accuracy: 0.7015\n",
            "Epoch 154/200\n",
            "15/15 [==============================] - 0s 4ms/step - loss: 0.5532 - accuracy: 0.7109 - val_loss: 0.5741 - val_accuracy: 0.7264\n",
            "Epoch 155/200\n",
            "15/15 [==============================] - 0s 4ms/step - loss: 0.5358 - accuracy: 0.7388 - val_loss: 0.5406 - val_accuracy: 0.7463\n",
            "Epoch 156/200\n",
            "15/15 [==============================] - 0s 4ms/step - loss: 0.5360 - accuracy: 0.7152 - val_loss: 0.5418 - val_accuracy: 0.7612\n",
            "Epoch 157/200\n",
            "15/15 [==============================] - 0s 4ms/step - loss: 0.5641 - accuracy: 0.7281 - val_loss: 0.5716 - val_accuracy: 0.7363\n",
            "Epoch 158/200\n",
            "15/15 [==============================] - 0s 5ms/step - loss: 0.5471 - accuracy: 0.7323 - val_loss: 0.6304 - val_accuracy: 0.6866\n",
            "Epoch 159/200\n",
            "15/15 [==============================] - 0s 4ms/step - loss: 0.5409 - accuracy: 0.7473 - val_loss: 0.5413 - val_accuracy: 0.7413\n",
            "Epoch 160/200\n",
            "15/15 [==============================] - 0s 4ms/step - loss: 0.5433 - accuracy: 0.7302 - val_loss: 0.5443 - val_accuracy: 0.7562\n",
            "Epoch 161/200\n",
            "15/15 [==============================] - 0s 4ms/step - loss: 0.5321 - accuracy: 0.7430 - val_loss: 0.5476 - val_accuracy: 0.7512\n",
            "Epoch 162/200\n",
            "15/15 [==============================] - 0s 4ms/step - loss: 0.5299 - accuracy: 0.7388 - val_loss: 0.5375 - val_accuracy: 0.7612\n",
            "Epoch 163/200\n",
            "15/15 [==============================] - 0s 4ms/step - loss: 0.5306 - accuracy: 0.7388 - val_loss: 0.5620 - val_accuracy: 0.7313\n",
            "Epoch 164/200\n",
            "15/15 [==============================] - 0s 4ms/step - loss: 0.5352 - accuracy: 0.7409 - val_loss: 0.5382 - val_accuracy: 0.7612\n",
            "Epoch 165/200\n",
            "15/15 [==============================] - 0s 4ms/step - loss: 0.5334 - accuracy: 0.7238 - val_loss: 0.5653 - val_accuracy: 0.7264\n",
            "Epoch 166/200\n",
            "15/15 [==============================] - 0s 5ms/step - loss: 0.5350 - accuracy: 0.7452 - val_loss: 0.5656 - val_accuracy: 0.7264\n",
            "Epoch 167/200\n",
            "15/15 [==============================] - 0s 4ms/step - loss: 0.5310 - accuracy: 0.7259 - val_loss: 0.5692 - val_accuracy: 0.7164\n",
            "Epoch 168/200\n",
            "15/15 [==============================] - 0s 3ms/step - loss: 0.5423 - accuracy: 0.7195 - val_loss: 0.5379 - val_accuracy: 0.7662\n",
            "Epoch 169/200\n",
            "15/15 [==============================] - 0s 4ms/step - loss: 0.5389 - accuracy: 0.7259 - val_loss: 0.5570 - val_accuracy: 0.7214\n",
            "Epoch 170/200\n",
            "15/15 [==============================] - 0s 3ms/step - loss: 0.5358 - accuracy: 0.7345 - val_loss: 0.5519 - val_accuracy: 0.7313\n",
            "Epoch 171/200\n",
            "15/15 [==============================] - 0s 4ms/step - loss: 0.5337 - accuracy: 0.7409 - val_loss: 0.5368 - val_accuracy: 0.7363\n",
            "Epoch 172/200\n",
            "15/15 [==============================] - 0s 4ms/step - loss: 0.5352 - accuracy: 0.7345 - val_loss: 0.5410 - val_accuracy: 0.7612\n",
            "Epoch 173/200\n",
            "15/15 [==============================] - 0s 4ms/step - loss: 0.5290 - accuracy: 0.7388 - val_loss: 0.5440 - val_accuracy: 0.7512\n",
            "Epoch 174/200\n",
            "15/15 [==============================] - 0s 4ms/step - loss: 0.5323 - accuracy: 0.7495 - val_loss: 0.5463 - val_accuracy: 0.7612\n",
            "Epoch 175/200\n",
            "15/15 [==============================] - 0s 5ms/step - loss: 0.5258 - accuracy: 0.7452 - val_loss: 0.5527 - val_accuracy: 0.7264\n",
            "Epoch 176/200\n",
            "15/15 [==============================] - 0s 3ms/step - loss: 0.5280 - accuracy: 0.7452 - val_loss: 0.5398 - val_accuracy: 0.7512\n",
            "Epoch 177/200\n",
            "15/15 [==============================] - 0s 4ms/step - loss: 0.5317 - accuracy: 0.7302 - val_loss: 0.5352 - val_accuracy: 0.7612\n",
            "Epoch 178/200\n",
            "15/15 [==============================] - 0s 4ms/step - loss: 0.5296 - accuracy: 0.7366 - val_loss: 0.5859 - val_accuracy: 0.6965\n",
            "Epoch 179/200\n",
            "15/15 [==============================] - 0s 4ms/step - loss: 0.5326 - accuracy: 0.7323 - val_loss: 0.5439 - val_accuracy: 0.7214\n",
            "Epoch 180/200\n",
            "15/15 [==============================] - 0s 4ms/step - loss: 0.5440 - accuracy: 0.7195 - val_loss: 0.5362 - val_accuracy: 0.7413\n",
            "Epoch 181/200\n",
            "15/15 [==============================] - 0s 5ms/step - loss: 0.5378 - accuracy: 0.7323 - val_loss: 0.5544 - val_accuracy: 0.7065\n",
            "Epoch 182/200\n",
            "15/15 [==============================] - 0s 4ms/step - loss: 0.5422 - accuracy: 0.7495 - val_loss: 0.5426 - val_accuracy: 0.7264\n",
            "Epoch 183/200\n",
            "15/15 [==============================] - 0s 5ms/step - loss: 0.5533 - accuracy: 0.7238 - val_loss: 0.5324 - val_accuracy: 0.7512\n",
            "Epoch 184/200\n",
            "15/15 [==============================] - 0s 4ms/step - loss: 0.5490 - accuracy: 0.7302 - val_loss: 0.5549 - val_accuracy: 0.7214\n",
            "Epoch 185/200\n",
            "15/15 [==============================] - 0s 5ms/step - loss: 0.5356 - accuracy: 0.7366 - val_loss: 0.5364 - val_accuracy: 0.7512\n",
            "Epoch 186/200\n",
            "15/15 [==============================] - 0s 5ms/step - loss: 0.5499 - accuracy: 0.7173 - val_loss: 0.5439 - val_accuracy: 0.7512\n",
            "Epoch 187/200\n",
            "15/15 [==============================] - 0s 3ms/step - loss: 0.5413 - accuracy: 0.7388 - val_loss: 0.6133 - val_accuracy: 0.6816\n",
            "Epoch 188/200\n",
            "15/15 [==============================] - 0s 4ms/step - loss: 0.5237 - accuracy: 0.7516 - val_loss: 0.5334 - val_accuracy: 0.7612\n",
            "Epoch 189/200\n",
            "15/15 [==============================] - 0s 3ms/step - loss: 0.5286 - accuracy: 0.7323 - val_loss: 0.5446 - val_accuracy: 0.7512\n",
            "Epoch 190/200\n",
            "15/15 [==============================] - 0s 4ms/step - loss: 0.5234 - accuracy: 0.7495 - val_loss: 0.5471 - val_accuracy: 0.7363\n",
            "Epoch 191/200\n",
            "15/15 [==============================] - 0s 4ms/step - loss: 0.5321 - accuracy: 0.7409 - val_loss: 0.5560 - val_accuracy: 0.7164\n",
            "Epoch 192/200\n",
            "15/15 [==============================] - 0s 4ms/step - loss: 0.5450 - accuracy: 0.7238 - val_loss: 0.5378 - val_accuracy: 0.7164\n",
            "Epoch 193/200\n",
            "15/15 [==============================] - 0s 4ms/step - loss: 0.5543 - accuracy: 0.7173 - val_loss: 0.5482 - val_accuracy: 0.7114\n",
            "Epoch 194/200\n",
            "15/15 [==============================] - 0s 4ms/step - loss: 0.5371 - accuracy: 0.7323 - val_loss: 0.5464 - val_accuracy: 0.7413\n",
            "Epoch 195/200\n",
            "15/15 [==============================] - 0s 4ms/step - loss: 0.5360 - accuracy: 0.7430 - val_loss: 0.5415 - val_accuracy: 0.7512\n",
            "Epoch 196/200\n",
            "15/15 [==============================] - 0s 4ms/step - loss: 0.5254 - accuracy: 0.7366 - val_loss: 0.5366 - val_accuracy: 0.7512\n",
            "Epoch 197/200\n",
            "15/15 [==============================] - 0s 5ms/step - loss: 0.5288 - accuracy: 0.7430 - val_loss: 0.5402 - val_accuracy: 0.7264\n",
            "Epoch 198/200\n",
            "15/15 [==============================] - 0s 4ms/step - loss: 0.5261 - accuracy: 0.7388 - val_loss: 0.5429 - val_accuracy: 0.7463\n",
            "Epoch 199/200\n",
            "15/15 [==============================] - 0s 3ms/step - loss: 0.5243 - accuracy: 0.7516 - val_loss: 0.5644 - val_accuracy: 0.7114\n",
            "Epoch 200/200\n",
            "15/15 [==============================] - 0s 4ms/step - loss: 0.5219 - accuracy: 0.7345 - val_loss: 0.5414 - val_accuracy: 0.7214\n",
            "\n",
            "\n",
            "Accuracy: 72.14%\n",
            "\n",
            "\n",
            "Validation Score: 72.14%\n"
          ]
        }
      ]
    },
    {
      "cell_type": "code",
      "source": [
        "\n",
        "# summarize the history for accuracy\n",
        "plt.plot(HyperTune.history['accuracy'])\n",
        "plt.plot(HyperTune.history['val_accuracy'])\n",
        "plt.title('model accuracy')\n",
        "plt.ylabel('accuracy')\n",
        "plt.xlabel('epoch')\n",
        "plt.legend(['train','test'], loc='upper left')\n",
        "plt.show()\n",
        "\n",
        "# summarize the history for loss\n",
        "plt.plot(HyperTune.history['loss'])\n",
        "plt.plot(HyperTune.history['val_loss'])\n",
        "plt.title('model loss')\n",
        "plt.ylabel('loss')\n",
        "plt.xlabel('epoch')\n",
        "plt.legend(['train','test'], loc='upper left')\n",
        "plt.show()\n",
        "     "
      ],
      "metadata": {
        "colab": {
          "base_uri": "https://localhost:8080/",
          "height": 573
        },
        "id": "O62xxilvz3dd",
        "outputId": "35ee2651-ce48-4341-fce9-1327830abfc0"
      },
      "execution_count": 47,
      "outputs": [
        {
          "output_type": "display_data",
          "data": {
            "text/plain": [
              "<Figure size 432x288 with 1 Axes>"
            ],
            "image/png": "[encoded data removed]"
          },
          "metadata": {
            "needs_background": "light"
          }
        },
        {
          "output_type": "display_data",
          "data": {
            "text/plain": [
              "<Figure size 432x288 with 1 Axes>"
            ],
            "image/png": "[encoded data removed]"
          },
          "metadata": {
            "needs_background": "light"
          }
        }
      ]
    },
    {
      "cell_type": "markdown",
      "source": [
        "## Hyper tuning using GridSearchCV\n"
      ],
      "metadata": {
        "id": "Px26Orsq0Pbf"
      }
    },
    {
      "cell_type": "code",
      "source": [
        "from keras.wrappers.scikit_learn import KerasClassifier\n",
        "from sklearn.model_selection import GridSearchCV"
      ],
      "metadata": {
        "id": "ugcvI_Yt0jaM"
      },
      "execution_count": 48,
      "outputs": []
    },
    {
      "cell_type": "code",
      "source": [
        "from sklearn.preprocessing import StandardScaler\n",
        "\n",
        "# Data split for train and validation \n",
        "x = df_Train.iloc[:, [1,5,7,6,0,2]]\n",
        "\n",
        "\n",
        "scaler = StandardScaler()\n",
        "x =  scaler.fit_transform(x)\n",
        "\n",
        "X_train, X_test, Y_train, Y_test = train_test_split(x, y, test_size=0.3,\n",
        "                                                    random_state=RANDOM_SEED)\n",
        "\n",
        "\n",
        "\n",
        "model1.summary()\n",
        "def build_clf(unit):\n",
        "  # creating the layers of the NN\n",
        "  ann = keras.Sequential()\n",
        "  ann.add(layers.Dense(12, input_dim=6, activation='relu'))\n",
        "  ann.add(layers.Dense(units=unit, activation='relu'))\n",
        "  ann.add(layers.Dense(units=1, activation='sigmoid'))\n",
        "  ann.compile(optimizer = 'adam', loss = 'binary_crossentropy', metrics = ['accuracy'])\n",
        "  return ann"
      ],
      "metadata": {
        "colab": {
          "base_uri": "https://localhost:8080/"
        },
        "id": "ei_t1H6n0ct0",
        "outputId": "3ed129ac-8777-4c3b-fa5a-a2f535de9e1b"
      },
      "execution_count": 49,
      "outputs": [
        {
          "output_type": "stream",
          "name": "stdout",
          "text": [
            "Model: \"sequential\"\n",
            "_________________________________________________________________\n",
            " Layer (type)                Output Shape              Param #   \n",
            "=================================================================\n",
            " dense (Dense)               (None, 4)                 12        \n",
            "                                                                 \n",
            " dense_1 (Dense)             (None, 6)                 30        \n",
            "                                                                 \n",
            " dense_2 (Dense)             (None, 1)                 7         \n",
            "                                                                 \n",
            "=================================================================\n",
            "Total params: 49\n",
            "Trainable params: 49\n",
            "Non-trainable params: 0\n",
            "_________________________________________________________________\n"
          ]
        }
      ]
    },
    {
      "cell_type": "code",
      "source": [
        "\n",
        "Gridmodel=KerasClassifier(build_fn=build_clf)"
      ],
      "metadata": {
        "id": "Msat-bAb0gdn"
      },
      "execution_count": 50,
      "outputs": []
    },
    {
      "cell_type": "code",
      "source": [
        "params={'batch_size':[10,15,20,25], \n",
        "        'nb_epoch':[100, 125, 150, 200],\n",
        "        'unit':[18,24],\n",
        "           \n",
        "        }\n",
        "gs=GridSearchCV(estimator=Gridmodel, param_grid=params, cv=10)\n",
        "# now fit the dataset to the GridSearchCV object. \n",
        "gs = gs.fit(x, y)\n"
      ],
      "metadata": {
        "id": "XrN_mKN-0Tbj"
      },
      "execution_count": null,
      "outputs": []
    },
    {
      "cell_type": "code",
      "source": [
        "\n",
        "best_params=gs.best_params_\n",
        "accuracy=gs.best_score_\n",
        "\n",
        "print(best_params)\n",
        "print(accuracy)"
      ],
      "metadata": {
        "colab": {
          "base_uri": "https://localhost:8080/"
        },
        "id": "ZsHFf9rM0WAY",
        "outputId": "3c18e719-c630-4cbb-c79e-b26b7fefc15a"
      },
      "execution_count": 52,
      "outputs": [
        {
          "output_type": "stream",
          "name": "stdout",
          "text": [
            "{'batch_size': 10, 'nb_epoch': 125, 'unit': 24}\n",
            "0.706761646270752\n"
          ]
        }
      ]
    },
    {
      "cell_type": "code",
      "source": [
        "ann = keras.Sequential()\n",
        "ann.add(layers.Dense(12, input_dim=6, activation='relu'))\n",
        "ann.add(layers.Dense(units=24, activation='relu'))\n",
        "ann.add(layers.Dense(units=1, activation='sigmoid'))\n",
        "ann.compile(optimizer = 'adam', loss = 'binary_crossentropy', metrics = ['accuracy'])\n",
        "\n",
        "\n",
        "# Compiling the keras model\n",
        "ann.compile(loss='binary_crossentropy', optimizer='adam', metrics=['accuracy'])\n",
        "\n",
        "# Fitting the model\n",
        "an = ann.fit(X_train, Y_train, batch_size=10, epochs=125, \n",
        "           validation_data=(X_test, Y_test))\n",
        "     \n",
        "ann_scores = ann.evaluate(X_test, Y_test, verbose=0)\n",
        "print('\\n')\n",
        "print(\"Accuracy: %.2f%%\" % (ann_scores[1]*100))\n",
        "\n",
        "\n",
        "ann_scores_val_accuracy = an.history['val_accuracy'][-1] * 100\n",
        "print('\\n')\n",
        "print(\"Validation Score: %.2f%%\" % (ann_scores_val_accuracy))\n"
      ],
      "metadata": {
        "colab": {
          "base_uri": "https://localhost:8080/"
        },
        "id": "GLXzCbRJ50Op",
        "outputId": "a5dc7bfa-28d3-4b3f-f39c-7861a79f75c5"
      },
      "execution_count": 56,
      "outputs": [
        {
          "output_type": "stream",
          "name": "stdout",
          "text": [
            "Epoch 1/125\n",
            "47/47 [==============================] - 1s 8ms/step - loss: 0.7643 - accuracy: 0.4668 - val_loss: 0.6622 - val_accuracy: 0.6816\n",
            "Epoch 2/125\n",
            "47/47 [==============================] - 0s 2ms/step - loss: 0.6639 - accuracy: 0.6424 - val_loss: 0.6148 - val_accuracy: 0.7065\n",
            "Epoch 3/125\n",
            "47/47 [==============================] - 0s 2ms/step - loss: 0.6172 - accuracy: 0.6788 - val_loss: 0.5864 - val_accuracy: 0.7313\n",
            "Epoch 4/125\n",
            "47/47 [==============================] - 0s 3ms/step - loss: 0.5852 - accuracy: 0.7024 - val_loss: 0.5576 - val_accuracy: 0.7463\n",
            "Epoch 5/125\n",
            "47/47 [==============================] - 0s 2ms/step - loss: 0.5584 - accuracy: 0.7173 - val_loss: 0.5301 - val_accuracy: 0.7363\n",
            "Epoch 6/125\n",
            "47/47 [==============================] - 0s 2ms/step - loss: 0.5334 - accuracy: 0.7495 - val_loss: 0.5114 - val_accuracy: 0.7562\n",
            "Epoch 7/125\n",
            "47/47 [==============================] - 0s 2ms/step - loss: 0.5142 - accuracy: 0.7409 - val_loss: 0.4945 - val_accuracy: 0.7512\n",
            "Epoch 8/125\n",
            "47/47 [==============================] - 0s 2ms/step - loss: 0.5006 - accuracy: 0.7473 - val_loss: 0.4839 - val_accuracy: 0.7562\n",
            "Epoch 9/125\n",
            "47/47 [==============================] - 0s 2ms/step - loss: 0.4905 - accuracy: 0.7516 - val_loss: 0.4771 - val_accuracy: 0.7612\n",
            "Epoch 10/125\n",
            "47/47 [==============================] - 0s 2ms/step - loss: 0.4837 - accuracy: 0.7559 - val_loss: 0.4712 - val_accuracy: 0.7662\n",
            "Epoch 11/125\n",
            "47/47 [==============================] - 0s 2ms/step - loss: 0.4777 - accuracy: 0.7602 - val_loss: 0.4697 - val_accuracy: 0.7711\n",
            "Epoch 12/125\n",
            "47/47 [==============================] - 0s 2ms/step - loss: 0.4723 - accuracy: 0.7645 - val_loss: 0.4690 - val_accuracy: 0.7761\n",
            "Epoch 13/125\n",
            "47/47 [==============================] - 0s 2ms/step - loss: 0.4694 - accuracy: 0.7602 - val_loss: 0.4672 - val_accuracy: 0.7662\n",
            "Epoch 14/125\n",
            "47/47 [==============================] - 0s 2ms/step - loss: 0.4652 - accuracy: 0.7730 - val_loss: 0.4681 - val_accuracy: 0.7711\n",
            "Epoch 15/125\n",
            "47/47 [==============================] - 0s 2ms/step - loss: 0.4629 - accuracy: 0.7623 - val_loss: 0.4693 - val_accuracy: 0.7662\n",
            "Epoch 16/125\n",
            "47/47 [==============================] - 0s 2ms/step - loss: 0.4589 - accuracy: 0.7709 - val_loss: 0.4686 - val_accuracy: 0.7662\n",
            "Epoch 17/125\n",
            "47/47 [==============================] - 0s 2ms/step - loss: 0.4569 - accuracy: 0.7709 - val_loss: 0.4698 - val_accuracy: 0.7612\n",
            "Epoch 18/125\n",
            "47/47 [==============================] - 0s 2ms/step - loss: 0.4553 - accuracy: 0.7602 - val_loss: 0.4709 - val_accuracy: 0.7761\n",
            "Epoch 19/125\n",
            "47/47 [==============================] - 0s 2ms/step - loss: 0.4521 - accuracy: 0.7709 - val_loss: 0.4723 - val_accuracy: 0.7612\n",
            "Epoch 20/125\n",
            "47/47 [==============================] - 0s 2ms/step - loss: 0.4495 - accuracy: 0.7730 - val_loss: 0.4774 - val_accuracy: 0.7711\n",
            "Epoch 21/125\n",
            "47/47 [==============================] - 0s 3ms/step - loss: 0.4481 - accuracy: 0.7794 - val_loss: 0.4760 - val_accuracy: 0.7662\n",
            "Epoch 22/125\n",
            "47/47 [==============================] - 0s 3ms/step - loss: 0.4459 - accuracy: 0.7816 - val_loss: 0.4781 - val_accuracy: 0.7612\n",
            "Epoch 23/125\n",
            "47/47 [==============================] - 0s 3ms/step - loss: 0.4436 - accuracy: 0.7773 - val_loss: 0.4773 - val_accuracy: 0.7711\n",
            "Epoch 24/125\n",
            "47/47 [==============================] - 0s 3ms/step - loss: 0.4410 - accuracy: 0.7816 - val_loss: 0.4819 - val_accuracy: 0.7711\n",
            "Epoch 25/125\n",
            "47/47 [==============================] - 0s 2ms/step - loss: 0.4410 - accuracy: 0.7816 - val_loss: 0.4794 - val_accuracy: 0.7711\n",
            "Epoch 26/125\n",
            "47/47 [==============================] - 0s 2ms/step - loss: 0.4389 - accuracy: 0.7773 - val_loss: 0.4836 - val_accuracy: 0.7662\n",
            "Epoch 27/125\n",
            "47/47 [==============================] - 0s 2ms/step - loss: 0.4376 - accuracy: 0.7880 - val_loss: 0.4799 - val_accuracy: 0.7711\n",
            "Epoch 28/125\n",
            "47/47 [==============================] - 0s 2ms/step - loss: 0.4346 - accuracy: 0.7880 - val_loss: 0.4814 - val_accuracy: 0.7662\n",
            "Epoch 29/125\n",
            "47/47 [==============================] - 0s 2ms/step - loss: 0.4333 - accuracy: 0.7944 - val_loss: 0.4842 - val_accuracy: 0.7662\n",
            "Epoch 30/125\n",
            "47/47 [==============================] - 0s 3ms/step - loss: 0.4325 - accuracy: 0.7966 - val_loss: 0.4815 - val_accuracy: 0.7612\n",
            "Epoch 31/125\n",
            "47/47 [==============================] - 0s 2ms/step - loss: 0.4297 - accuracy: 0.7880 - val_loss: 0.4849 - val_accuracy: 0.7662\n",
            "Epoch 32/125\n",
            "47/47 [==============================] - 0s 2ms/step - loss: 0.4302 - accuracy: 0.7966 - val_loss: 0.4889 - val_accuracy: 0.7662\n",
            "Epoch 33/125\n",
            "47/47 [==============================] - 0s 2ms/step - loss: 0.4275 - accuracy: 0.7944 - val_loss: 0.4887 - val_accuracy: 0.7662\n",
            "Epoch 34/125\n",
            "47/47 [==============================] - 0s 3ms/step - loss: 0.4278 - accuracy: 0.7859 - val_loss: 0.4904 - val_accuracy: 0.7562\n",
            "Epoch 35/125\n",
            "47/47 [==============================] - 0s 3ms/step - loss: 0.4259 - accuracy: 0.7944 - val_loss: 0.4897 - val_accuracy: 0.7612\n",
            "Epoch 36/125\n",
            "47/47 [==============================] - 0s 2ms/step - loss: 0.4240 - accuracy: 0.7966 - val_loss: 0.4900 - val_accuracy: 0.7662\n",
            "Epoch 37/125\n",
            "47/47 [==============================] - 0s 2ms/step - loss: 0.4237 - accuracy: 0.8009 - val_loss: 0.4876 - val_accuracy: 0.7662\n",
            "Epoch 38/125\n",
            "47/47 [==============================] - 0s 2ms/step - loss: 0.4236 - accuracy: 0.7923 - val_loss: 0.4930 - val_accuracy: 0.7662\n",
            "Epoch 39/125\n",
            "47/47 [==============================] - 0s 3ms/step - loss: 0.4227 - accuracy: 0.7966 - val_loss: 0.4912 - val_accuracy: 0.7711\n",
            "Epoch 40/125\n",
            "47/47 [==============================] - 0s 3ms/step - loss: 0.4211 - accuracy: 0.7987 - val_loss: 0.4931 - val_accuracy: 0.7612\n",
            "Epoch 41/125\n",
            "47/47 [==============================] - 0s 2ms/step - loss: 0.4189 - accuracy: 0.7966 - val_loss: 0.4940 - val_accuracy: 0.7612\n",
            "Epoch 42/125\n",
            "47/47 [==============================] - 0s 2ms/step - loss: 0.4193 - accuracy: 0.7987 - val_loss: 0.4930 - val_accuracy: 0.7662\n",
            "Epoch 43/125\n",
            "47/47 [==============================] - 0s 2ms/step - loss: 0.4176 - accuracy: 0.8009 - val_loss: 0.4978 - val_accuracy: 0.7662\n",
            "Epoch 44/125\n",
            "47/47 [==============================] - 0s 2ms/step - loss: 0.4159 - accuracy: 0.8051 - val_loss: 0.4977 - val_accuracy: 0.7662\n",
            "Epoch 45/125\n",
            "47/47 [==============================] - 0s 2ms/step - loss: 0.4164 - accuracy: 0.8051 - val_loss: 0.4966 - val_accuracy: 0.7662\n",
            "Epoch 46/125\n",
            "47/47 [==============================] - 0s 2ms/step - loss: 0.4131 - accuracy: 0.8051 - val_loss: 0.4969 - val_accuracy: 0.7662\n",
            "Epoch 47/125\n",
            "47/47 [==============================] - 0s 2ms/step - loss: 0.4131 - accuracy: 0.8051 - val_loss: 0.5010 - val_accuracy: 0.7662\n",
            "Epoch 48/125\n",
            "47/47 [==============================] - 0s 2ms/step - loss: 0.4112 - accuracy: 0.8030 - val_loss: 0.4994 - val_accuracy: 0.7612\n",
            "Epoch 49/125\n",
            "47/47 [==============================] - 0s 2ms/step - loss: 0.4112 - accuracy: 0.8094 - val_loss: 0.4998 - val_accuracy: 0.7711\n",
            "Epoch 50/125\n",
            "47/47 [==============================] - 0s 2ms/step - loss: 0.4095 - accuracy: 0.8051 - val_loss: 0.5063 - val_accuracy: 0.7662\n",
            "Epoch 51/125\n",
            "47/47 [==============================] - 0s 2ms/step - loss: 0.4080 - accuracy: 0.8051 - val_loss: 0.5019 - val_accuracy: 0.7662\n",
            "Epoch 52/125\n",
            "47/47 [==============================] - 0s 3ms/step - loss: 0.4067 - accuracy: 0.8073 - val_loss: 0.5032 - val_accuracy: 0.7612\n",
            "Epoch 53/125\n",
            "47/47 [==============================] - 0s 3ms/step - loss: 0.4071 - accuracy: 0.8073 - val_loss: 0.5039 - val_accuracy: 0.7612\n",
            "Epoch 54/125\n",
            "47/47 [==============================] - 0s 3ms/step - loss: 0.4054 - accuracy: 0.8094 - val_loss: 0.5050 - val_accuracy: 0.7711\n",
            "Epoch 55/125\n",
            "47/47 [==============================] - 0s 3ms/step - loss: 0.4045 - accuracy: 0.8094 - val_loss: 0.5058 - val_accuracy: 0.7562\n",
            "Epoch 56/125\n",
            "47/47 [==============================] - 0s 3ms/step - loss: 0.4062 - accuracy: 0.8073 - val_loss: 0.5042 - val_accuracy: 0.7562\n",
            "Epoch 57/125\n",
            "47/47 [==============================] - 0s 4ms/step - loss: 0.4016 - accuracy: 0.8094 - val_loss: 0.5080 - val_accuracy: 0.7612\n",
            "Epoch 58/125\n",
            "47/47 [==============================] - 0s 4ms/step - loss: 0.4018 - accuracy: 0.8051 - val_loss: 0.5132 - val_accuracy: 0.7612\n",
            "Epoch 59/125\n",
            "47/47 [==============================] - 0s 4ms/step - loss: 0.4010 - accuracy: 0.8158 - val_loss: 0.5114 - val_accuracy: 0.7612\n",
            "Epoch 60/125\n",
            "47/47 [==============================] - 0s 4ms/step - loss: 0.4001 - accuracy: 0.8116 - val_loss: 0.5118 - val_accuracy: 0.7562\n",
            "Epoch 61/125\n",
            "47/47 [==============================] - 0s 3ms/step - loss: 0.4012 - accuracy: 0.8009 - val_loss: 0.5143 - val_accuracy: 0.7562\n",
            "Epoch 62/125\n",
            "47/47 [==============================] - 0s 3ms/step - loss: 0.3977 - accuracy: 0.8137 - val_loss: 0.5096 - val_accuracy: 0.7562\n",
            "Epoch 63/125\n",
            "47/47 [==============================] - 0s 4ms/step - loss: 0.3987 - accuracy: 0.8180 - val_loss: 0.5157 - val_accuracy: 0.7612\n",
            "Epoch 64/125\n",
            "47/47 [==============================] - 0s 2ms/step - loss: 0.3962 - accuracy: 0.8137 - val_loss: 0.5174 - val_accuracy: 0.7662\n",
            "Epoch 65/125\n",
            "47/47 [==============================] - 0s 2ms/step - loss: 0.3944 - accuracy: 0.8137 - val_loss: 0.5153 - val_accuracy: 0.7562\n",
            "Epoch 66/125\n",
            "47/47 [==============================] - 0s 2ms/step - loss: 0.3952 - accuracy: 0.8137 - val_loss: 0.5130 - val_accuracy: 0.7512\n",
            "Epoch 67/125\n",
            "47/47 [==============================] - 0s 2ms/step - loss: 0.3936 - accuracy: 0.8158 - val_loss: 0.5167 - val_accuracy: 0.7711\n",
            "Epoch 68/125\n",
            "47/47 [==============================] - 0s 2ms/step - loss: 0.3931 - accuracy: 0.8223 - val_loss: 0.5166 - val_accuracy: 0.7562\n",
            "Epoch 69/125\n",
            "47/47 [==============================] - 0s 2ms/step - loss: 0.3922 - accuracy: 0.8158 - val_loss: 0.5208 - val_accuracy: 0.7562\n",
            "Epoch 70/125\n",
            "47/47 [==============================] - 0s 2ms/step - loss: 0.3945 - accuracy: 0.8116 - val_loss: 0.5203 - val_accuracy: 0.7711\n",
            "Epoch 71/125\n",
            "47/47 [==============================] - 0s 3ms/step - loss: 0.3904 - accuracy: 0.8116 - val_loss: 0.5204 - val_accuracy: 0.7662\n",
            "Epoch 72/125\n",
            "47/47 [==============================] - 0s 3ms/step - loss: 0.3900 - accuracy: 0.8201 - val_loss: 0.5175 - val_accuracy: 0.7612\n",
            "Epoch 73/125\n",
            "47/47 [==============================] - 0s 3ms/step - loss: 0.3900 - accuracy: 0.8158 - val_loss: 0.5154 - val_accuracy: 0.7562\n",
            "Epoch 74/125\n",
            "47/47 [==============================] - 0s 2ms/step - loss: 0.3872 - accuracy: 0.8094 - val_loss: 0.5207 - val_accuracy: 0.7612\n",
            "Epoch 75/125\n",
            "47/47 [==============================] - 0s 2ms/step - loss: 0.3882 - accuracy: 0.8116 - val_loss: 0.5190 - val_accuracy: 0.7512\n",
            "Epoch 76/125\n",
            "47/47 [==============================] - 0s 3ms/step - loss: 0.3852 - accuracy: 0.8137 - val_loss: 0.5199 - val_accuracy: 0.7562\n",
            "Epoch 77/125\n",
            "47/47 [==============================] - 0s 2ms/step - loss: 0.3861 - accuracy: 0.8158 - val_loss: 0.5178 - val_accuracy: 0.7612\n",
            "Epoch 78/125\n",
            "47/47 [==============================] - 0s 2ms/step - loss: 0.3855 - accuracy: 0.8116 - val_loss: 0.5208 - val_accuracy: 0.7612\n",
            "Epoch 79/125\n",
            "47/47 [==============================] - 0s 2ms/step - loss: 0.3840 - accuracy: 0.8137 - val_loss: 0.5199 - val_accuracy: 0.7612\n",
            "Epoch 80/125\n",
            "47/47 [==============================] - 0s 2ms/step - loss: 0.3824 - accuracy: 0.8137 - val_loss: 0.5234 - val_accuracy: 0.7562\n",
            "Epoch 81/125\n",
            "47/47 [==============================] - 0s 2ms/step - loss: 0.3813 - accuracy: 0.8158 - val_loss: 0.5168 - val_accuracy: 0.7562\n",
            "Epoch 82/125\n",
            "47/47 [==============================] - 0s 2ms/step - loss: 0.3823 - accuracy: 0.8180 - val_loss: 0.5225 - val_accuracy: 0.7562\n",
            "Epoch 83/125\n",
            "47/47 [==============================] - 0s 3ms/step - loss: 0.3800 - accuracy: 0.8180 - val_loss: 0.5231 - val_accuracy: 0.7512\n",
            "Epoch 84/125\n",
            "47/47 [==============================] - 0s 2ms/step - loss: 0.3795 - accuracy: 0.8201 - val_loss: 0.5257 - val_accuracy: 0.7562\n",
            "Epoch 85/125\n",
            "47/47 [==============================] - 0s 2ms/step - loss: 0.3791 - accuracy: 0.8180 - val_loss: 0.5225 - val_accuracy: 0.7562\n",
            "Epoch 86/125\n",
            "47/47 [==============================] - 0s 2ms/step - loss: 0.3777 - accuracy: 0.8201 - val_loss: 0.5237 - val_accuracy: 0.7562\n",
            "Epoch 87/125\n",
            "47/47 [==============================] - 0s 2ms/step - loss: 0.3774 - accuracy: 0.8201 - val_loss: 0.5274 - val_accuracy: 0.7562\n",
            "Epoch 88/125\n",
            "47/47 [==============================] - 0s 2ms/step - loss: 0.3761 - accuracy: 0.8180 - val_loss: 0.5273 - val_accuracy: 0.7512\n",
            "Epoch 89/125\n",
            "47/47 [==============================] - 0s 2ms/step - loss: 0.3755 - accuracy: 0.8201 - val_loss: 0.5270 - val_accuracy: 0.7562\n",
            "Epoch 90/125\n",
            "47/47 [==============================] - 0s 2ms/step - loss: 0.3758 - accuracy: 0.8201 - val_loss: 0.5268 - val_accuracy: 0.7512\n",
            "Epoch 91/125\n",
            "47/47 [==============================] - 0s 3ms/step - loss: 0.3739 - accuracy: 0.8180 - val_loss: 0.5269 - val_accuracy: 0.7463\n",
            "Epoch 92/125\n",
            "47/47 [==============================] - 0s 2ms/step - loss: 0.3715 - accuracy: 0.8180 - val_loss: 0.5280 - val_accuracy: 0.7512\n",
            "Epoch 93/125\n",
            "47/47 [==============================] - 0s 2ms/step - loss: 0.3735 - accuracy: 0.8244 - val_loss: 0.5325 - val_accuracy: 0.7562\n",
            "Epoch 94/125\n",
            "47/47 [==============================] - 0s 2ms/step - loss: 0.3702 - accuracy: 0.8244 - val_loss: 0.5282 - val_accuracy: 0.7512\n",
            "Epoch 95/125\n",
            "47/47 [==============================] - 0s 2ms/step - loss: 0.3689 - accuracy: 0.8244 - val_loss: 0.5266 - val_accuracy: 0.7512\n",
            "Epoch 96/125\n",
            "47/47 [==============================] - 0s 2ms/step - loss: 0.3693 - accuracy: 0.8201 - val_loss: 0.5304 - val_accuracy: 0.7463\n",
            "Epoch 97/125\n",
            "47/47 [==============================] - 0s 3ms/step - loss: 0.3693 - accuracy: 0.8244 - val_loss: 0.5299 - val_accuracy: 0.7512\n",
            "Epoch 98/125\n",
            "47/47 [==============================] - 0s 3ms/step - loss: 0.3667 - accuracy: 0.8266 - val_loss: 0.5276 - val_accuracy: 0.7512\n",
            "Epoch 99/125\n",
            "47/47 [==============================] - 0s 2ms/step - loss: 0.3670 - accuracy: 0.8287 - val_loss: 0.5315 - val_accuracy: 0.7463\n",
            "Epoch 100/125\n",
            "47/47 [==============================] - 0s 3ms/step - loss: 0.3656 - accuracy: 0.8266 - val_loss: 0.5329 - val_accuracy: 0.7512\n",
            "Epoch 101/125\n",
            "47/47 [==============================] - 0s 2ms/step - loss: 0.3637 - accuracy: 0.8415 - val_loss: 0.5367 - val_accuracy: 0.7413\n",
            "Epoch 102/125\n",
            "47/47 [==============================] - 0s 2ms/step - loss: 0.3649 - accuracy: 0.8266 - val_loss: 0.5310 - val_accuracy: 0.7512\n",
            "Epoch 103/125\n",
            "47/47 [==============================] - 0s 2ms/step - loss: 0.3624 - accuracy: 0.8244 - val_loss: 0.5300 - val_accuracy: 0.7463\n",
            "Epoch 104/125\n",
            "47/47 [==============================] - 0s 3ms/step - loss: 0.3668 - accuracy: 0.8394 - val_loss: 0.5398 - val_accuracy: 0.7463\n",
            "Epoch 105/125\n",
            "47/47 [==============================] - 0s 2ms/step - loss: 0.3623 - accuracy: 0.8308 - val_loss: 0.5351 - val_accuracy: 0.7463\n",
            "Epoch 106/125\n",
            "47/47 [==============================] - 0s 2ms/step - loss: 0.3610 - accuracy: 0.8394 - val_loss: 0.5363 - val_accuracy: 0.7463\n",
            "Epoch 107/125\n",
            "47/47 [==============================] - 0s 2ms/step - loss: 0.3610 - accuracy: 0.8330 - val_loss: 0.5368 - val_accuracy: 0.7562\n",
            "Epoch 108/125\n",
            "47/47 [==============================] - 0s 2ms/step - loss: 0.3590 - accuracy: 0.8373 - val_loss: 0.5332 - val_accuracy: 0.7463\n",
            "Epoch 109/125\n",
            "47/47 [==============================] - 0s 2ms/step - loss: 0.3584 - accuracy: 0.8394 - val_loss: 0.5339 - val_accuracy: 0.7463\n",
            "Epoch 110/125\n",
            "47/47 [==============================] - 0s 2ms/step - loss: 0.3575 - accuracy: 0.8373 - val_loss: 0.5391 - val_accuracy: 0.7512\n",
            "Epoch 111/125\n",
            "47/47 [==============================] - 0s 2ms/step - loss: 0.3571 - accuracy: 0.8458 - val_loss: 0.5369 - val_accuracy: 0.7463\n",
            "Epoch 112/125\n",
            "47/47 [==============================] - 0s 2ms/step - loss: 0.3554 - accuracy: 0.8437 - val_loss: 0.5384 - val_accuracy: 0.7512\n",
            "Epoch 113/125\n",
            "47/47 [==============================] - 0s 3ms/step - loss: 0.3552 - accuracy: 0.8437 - val_loss: 0.5396 - val_accuracy: 0.7463\n",
            "Epoch 114/125\n",
            "47/47 [==============================] - 0s 3ms/step - loss: 0.3546 - accuracy: 0.8437 - val_loss: 0.5393 - val_accuracy: 0.7512\n",
            "Epoch 115/125\n",
            "47/47 [==============================] - 0s 3ms/step - loss: 0.3539 - accuracy: 0.8394 - val_loss: 0.5396 - val_accuracy: 0.7562\n",
            "Epoch 116/125\n",
            "47/47 [==============================] - 0s 3ms/step - loss: 0.3531 - accuracy: 0.8437 - val_loss: 0.5416 - val_accuracy: 0.7562\n",
            "Epoch 117/125\n",
            "47/47 [==============================] - 0s 2ms/step - loss: 0.3514 - accuracy: 0.8437 - val_loss: 0.5389 - val_accuracy: 0.7562\n",
            "Epoch 118/125\n",
            "47/47 [==============================] - 0s 2ms/step - loss: 0.3499 - accuracy: 0.8458 - val_loss: 0.5454 - val_accuracy: 0.7562\n",
            "Epoch 119/125\n",
            "47/47 [==============================] - 0s 3ms/step - loss: 0.3503 - accuracy: 0.8458 - val_loss: 0.5436 - val_accuracy: 0.7662\n",
            "Epoch 120/125\n",
            "47/47 [==============================] - 0s 2ms/step - loss: 0.3499 - accuracy: 0.8415 - val_loss: 0.5452 - val_accuracy: 0.7463\n",
            "Epoch 121/125\n",
            "47/47 [==============================] - 0s 2ms/step - loss: 0.3486 - accuracy: 0.8458 - val_loss: 0.5466 - val_accuracy: 0.7562\n",
            "Epoch 122/125\n",
            "47/47 [==============================] - 0s 2ms/step - loss: 0.3489 - accuracy: 0.8437 - val_loss: 0.5434 - val_accuracy: 0.7562\n",
            "Epoch 123/125\n",
            "47/47 [==============================] - 0s 2ms/step - loss: 0.3494 - accuracy: 0.8480 - val_loss: 0.5517 - val_accuracy: 0.7612\n",
            "Epoch 124/125\n",
            "47/47 [==============================] - 0s 2ms/step - loss: 0.3463 - accuracy: 0.8501 - val_loss: 0.5472 - val_accuracy: 0.7612\n",
            "Epoch 125/125\n",
            "47/47 [==============================] - 0s 2ms/step - loss: 0.3503 - accuracy: 0.8415 - val_loss: 0.5452 - val_accuracy: 0.7512\n",
            "\n",
            "\n",
            "Accuracy: 75.12%\n",
            "\n",
            "\n",
            "Validation Score: 75.12%\n"
          ]
        }
      ]
    },
    {
      "cell_type": "markdown",
      "source": [
        "# Prediction of Test Dataset\n"
      ],
      "metadata": {
        "id": "1Vf79FXkg_4x"
      }
    },
    {
      "cell_type": "code",
      "source": [
        "# Loading of Test Dataset and displaying the first 5 rows\n",
        "\n",
        "df_Test = pd.read_csv('https://raw.githubusercontent.com/harishahamed26/Diabetes_Prediction_Using_Neural_Network/main/data/test.csv')\n",
        "df_Test.head(5)"
      ],
      "metadata": {
        "colab": {
          "base_uri": "https://localhost:8080/",
          "height": 206
        },
        "id": "aA-Bg94IhEXv",
        "outputId": "f76754fd-a5f4-4742-a4a7-eeb701c37dd2"
      },
      "execution_count": 234,
      "outputs": [
        {
          "output_type": "execute_result",
          "data": {
            "text/plain": [
              "   id  A1   A2   A3  A4   A5    A6     A7  A8\n",
              "0   1   6   98   58  33  190  34.0  0.430  43\n",
              "1   2   9  154   78  30  100  30.9  0.164  45\n",
              "2   3   6  165   68  26  168  33.6  0.631  49\n",
              "3   4   1   99   58  10    0  25.4  0.551  21\n",
              "4   5  10   68  106  23   49  35.5  0.285  47"
            ],
            "text/html": [
              "\n",
              "  <div id=\"df-6a810c48-ce22-4a5c-91fc-c5d3ecdd7d0a\">\n",
              "    <div class=\"colab-df-container\">\n",
              "      <div>\n",
              "<style scoped>\n",
              "    .dataframe tbody tr th:only-of-type {\n",
              "        vertical-align: middle;\n",
              "    }\n",
              "\n",
              "    .dataframe tbody tr th {\n",
              "        vertical-align: top;\n",
              "    }\n",
              "\n",
              "    .dataframe thead th {\n",
              "        text-align: right;\n",
              "    }\n",
              "</style>\n",
              "<table border=\"1\" class=\"dataframe\">\n",
              "  <thead>\n",
              "    <tr style=\"text-align: right;\">\n",
              "      <th></th>\n",
              "      <th>id</th>\n",
              "      <th>A1</th>\n",
              "      <th>A2</th>\n",
              "      <th>A3</th>\n",
              "      <th>A4</th>\n",
              "      <th>A5</th>\n",
              "      <th>A6</th>\n",
              "      <th>A7</th>\n",
              "      <th>A8</th>\n",
              "    </tr>\n",
              "  </thead>\n",
              "  <tbody>\n",
              "    <tr>\n",
              "      <th>0</th>\n",
              "      <td>1</td>\n",
              "      <td>6</td>\n",
              "      <td>98</td>\n",
              "      <td>58</td>\n",
              "      <td>33</td>\n",
              "      <td>190</td>\n",
              "      <td>34.0</td>\n",
              "      <td>0.430</td>\n",
              "      <td>43</td>\n",
              "    </tr>\n",
              "    <tr>\n",
              "      <th>1</th>\n",
              "      <td>2</td>\n",
              "      <td>9</td>\n",
              "      <td>154</td>\n",
              "      <td>78</td>\n",
              "      <td>30</td>\n",
              "      <td>100</td>\n",
              "      <td>30.9</td>\n",
              "      <td>0.164</td>\n",
              "      <td>45</td>\n",
              "    </tr>\n",
              "    <tr>\n",
              "      <th>2</th>\n",
              "      <td>3</td>\n",
              "      <td>6</td>\n",
              "      <td>165</td>\n",
              "      <td>68</td>\n",
              "      <td>26</td>\n",
              "      <td>168</td>\n",
              "      <td>33.6</td>\n",
              "      <td>0.631</td>\n",
              "      <td>49</td>\n",
              "    </tr>\n",
              "    <tr>\n",
              "      <th>3</th>\n",
              "      <td>4</td>\n",
              "      <td>1</td>\n",
              "      <td>99</td>\n",
              "      <td>58</td>\n",
              "      <td>10</td>\n",
              "      <td>0</td>\n",
              "      <td>25.4</td>\n",
              "      <td>0.551</td>\n",
              "      <td>21</td>\n",
              "    </tr>\n",
              "    <tr>\n",
              "      <th>4</th>\n",
              "      <td>5</td>\n",
              "      <td>10</td>\n",
              "      <td>68</td>\n",
              "      <td>106</td>\n",
              "      <td>23</td>\n",
              "      <td>49</td>\n",
              "      <td>35.5</td>\n",
              "      <td>0.285</td>\n",
              "      <td>47</td>\n",
              "    </tr>\n",
              "  </tbody>\n",
              "</table>\n",
              "</div>\n",
              "      <button class=\"colab-df-convert\" onclick=\"convertToInteractive('df-6a810c48-ce22-4a5c-91fc-c5d3ecdd7d0a')\"\n",
              "              title=\"Convert this dataframe to an interactive table.\"\n",
              "              style=\"display:none;\">\n",
              "        \n",
              "  <svg xmlns=\"http://www.w3.org/2000/svg\" height=\"24px\"viewBox=\"0 0 24 24\"\n",
              "       width=\"24px\">\n",
              "    <path d=\"M0 0h24v24H0V0z\" fill=\"none\"/>\n",
              "    <path d=\"M18.56 5.44l.94 2.06.94-2.06 2.06-.94-2.06-.94-.94-2.06-.94 2.06-2.06.94zm-11 1L8.5 8.5l.94-2.06 2.06-.94-2.06-.94L8.5 2.5l-.94 2.06-2.06.94zm10 10l.94 2.06.94-2.06 2.06-.94-2.06-.94-.94-2.06-.94 2.06-2.06.94z\"/><path d=\"M17.41 7.96l-1.37-1.37c-.4-.4-.92-.59-1.43-.59-.52 0-1.04.2-1.43.59L10.3 9.45l-7.72 7.72c-.78.78-.78 2.05 0 2.83L4 21.41c.39.39.9.59 1.41.59.51 0 1.02-.2 1.41-.59l7.78-7.78 2.81-2.81c.8-.78.8-2.07 0-2.86zM5.41 20L4 18.59l7.72-7.72 1.47 1.35L5.41 20z\"/>\n",
              "  </svg>\n",
              "      </button>\n",
              "      \n",
              "  <style>\n",
              "    .colab-df-container {\n",
              "      display:flex;\n",
              "      flex-wrap:wrap;\n",
              "      gap: 12px;\n",
              "    }\n",
              "\n",
              "    .colab-df-convert {\n",
              "      background-color: #E8F0FE;\n",
              "      border: none;\n",
              "      border-radius: 50%;\n",
              "      cursor: pointer;\n",
              "      display: none;\n",
              "      fill: #1967D2;\n",
              "      height: 32px;\n",
              "      padding: 0 0 0 0;\n",
              "      width: 32px;\n",
              "    }\n",
              "\n",
              "    .colab-df-convert:hover {\n",
              "      background-color: #E2EBFA;\n",
              "      box-shadow: 0px 1px 2px rgba(60, 64, 67, 0.3), 0px 1px 3px 1px rgba(60, 64, 67, 0.15);\n",
              "      fill: #174EA6;\n",
              "    }\n",
              "\n",
              "    [theme=dark] .colab-df-convert {\n",
              "      background-color: #3B4455;\n",
              "      fill: #D2E3FC;\n",
              "    }\n",
              "\n",
              "    [theme=dark] .colab-df-convert:hover {\n",
              "      background-color: #434B5C;\n",
              "      box-shadow: 0px 1px 3px 1px rgba(0, 0, 0, 0.15);\n",
              "      filter: drop-shadow(0px 1px 2px rgba(0, 0, 0, 0.3));\n",
              "      fill: #FFFFFF;\n",
              "    }\n",
              "  </style>\n",
              "\n",
              "      <script>\n",
              "        const buttonEl =\n",
              "          document.querySelector('#df-6a810c48-ce22-4a5c-91fc-c5d3ecdd7d0a button.colab-df-convert');\n",
              "        buttonEl.style.display =\n",
              "          google.colab.kernel.accessAllowed ? 'block' : 'none';\n",
              "\n",
              "        async function convertToInteractive(key) {\n",
              "          const element = document.querySelector('#df-6a810c48-ce22-4a5c-91fc-c5d3ecdd7d0a');\n",
              "          const dataTable =\n",
              "            await google.colab.kernel.invokeFunction('convertToInteractive',\n",
              "                                                     [key], {});\n",
              "          if (!dataTable) return;\n",
              "\n",
              "          const docLinkHtml = 'Like what you see? Visit the ' +\n",
              "            '<a target=\"_blank\" href=https://colab.research.google.com/notebooks/data_table.ipynb>data table notebook</a>'\n",
              "            + ' to learn more about interactive tables.';\n",
              "          element.innerHTML = '';\n",
              "          dataTable['output_type'] = 'display_data';\n",
              "          await google.colab.output.renderOutput(dataTable, element);\n",
              "          const docLink = document.createElement('div');\n",
              "          docLink.innerHTML = docLinkHtml;\n",
              "          element.appendChild(docLink);\n",
              "        }\n",
              "      </script>\n",
              "    </div>\n",
              "  </div>\n",
              "  "
            ]
          },
          "metadata": {},
          "execution_count": 234
        }
      ]
    },
    {
      "cell_type": "code",
      "source": [
        "m2_predict = df_Test.copy()\n",
        "m2_predict.drop(['A1', 'A2', 'A3', 'A4', 'A5', 'A6', 'A7', 'A8'], axis = 1, inplace = True  )\n",
        "df_Test.drop('id', axis = 1, inplace = True)"
      ],
      "metadata": {
        "id": "YBdysf70F6SL"
      },
      "execution_count": 235,
      "outputs": []
    },
    {
      "cell_type": "code",
      "source": [
        "predict = model3.predict(df_Test.iloc[:, [1,5,7,6]])\n"
      ],
      "metadata": {
        "colab": {
          "base_uri": "https://localhost:8080/"
        },
        "id": "5foP6KO2FuaT",
        "outputId": "b463aeb9-61bb-4ac0-e99f-69b0de2c92e5"
      },
      "execution_count": 550,
      "outputs": [
        {
          "output_type": "stream",
          "name": "stdout",
          "text": [
            "4/4 [==============================] - 1s 7ms/step\n"
          ]
        }
      ]
    },
    {
      "cell_type": "code",
      "source": [
        "m3_predict['prediction'] = [1 if pred > 0.5 else 0 for pred in predict]\n",
        "print(m3_predict['prediction'])"
      ],
      "metadata": {
        "colab": {
          "base_uri": "https://localhost:8080/"
        },
        "id": "9qLxwCERGON9",
        "outputId": "8079b3da-7df4-43de-d97e-6a9f5e299b68"
      },
      "execution_count": 551,
      "outputs": [
        {
          "output_type": "stream",
          "name": "stdout",
          "text": [
            "0     0\n",
            "1     1\n",
            "2     1\n",
            "3     0\n",
            "4     0\n",
            "     ..\n",
            "95    0\n",
            "96    0\n",
            "97    0\n",
            "98    1\n",
            "99    0\n",
            "Name: prediction, Length: 100, dtype: int64\n"
          ]
        }
      ]
    },
    {
      "cell_type": "code",
      "source": [
        "m3_predict.head(5)"
      ],
      "metadata": {
        "colab": {
          "base_uri": "https://localhost:8080/",
          "height": 206
        },
        "id": "CxgKsYVnIInV",
        "outputId": "82d16fd8-7a07-4afe-c686-3386215f3aa2"
      },
      "execution_count": 552,
      "outputs": [
        {
          "output_type": "execute_result",
          "data": {
            "text/plain": [
              "   id  prediction\n",
              "0   1           0\n",
              "1   2           1\n",
              "2   3           1\n",
              "3   4           0\n",
              "4   5           0"
            ],
            "text/html": [
              "\n",
              "  <div id=\"df-1fd4664c-07b8-44f2-aa89-ea411235436f\">\n",
              "    <div class=\"colab-df-container\">\n",
              "      <div>\n",
              "<style scoped>\n",
              "    .dataframe tbody tr th:only-of-type {\n",
              "        vertical-align: middle;\n",
              "    }\n",
              "\n",
              "    .dataframe tbody tr th {\n",
              "        vertical-align: top;\n",
              "    }\n",
              "\n",
              "    .dataframe thead th {\n",
              "        text-align: right;\n",
              "    }\n",
              "</style>\n",
              "<table border=\"1\" class=\"dataframe\">\n",
              "  <thead>\n",
              "    <tr style=\"text-align: right;\">\n",
              "      <th></th>\n",
              "      <th>id</th>\n",
              "      <th>prediction</th>\n",
              "    </tr>\n",
              "  </thead>\n",
              "  <tbody>\n",
              "    <tr>\n",
              "      <th>0</th>\n",
              "      <td>1</td>\n",
              "      <td>0</td>\n",
              "    </tr>\n",
              "    <tr>\n",
              "      <th>1</th>\n",
              "      <td>2</td>\n",
              "      <td>1</td>\n",
              "    </tr>\n",
              "    <tr>\n",
              "      <th>2</th>\n",
              "      <td>3</td>\n",
              "      <td>1</td>\n",
              "    </tr>\n",
              "    <tr>\n",
              "      <th>3</th>\n",
              "      <td>4</td>\n",
              "      <td>0</td>\n",
              "    </tr>\n",
              "    <tr>\n",
              "      <th>4</th>\n",
              "      <td>5</td>\n",
              "      <td>0</td>\n",
              "    </tr>\n",
              "  </tbody>\n",
              "</table>\n",
              "</div>\n",
              "      <button class=\"colab-df-convert\" onclick=\"convertToInteractive('df-1fd4664c-07b8-44f2-aa89-ea411235436f')\"\n",
              "              title=\"Convert this dataframe to an interactive table.\"\n",
              "              style=\"display:none;\">\n",
              "        \n",
              "  <svg xmlns=\"http://www.w3.org/2000/svg\" height=\"24px\"viewBox=\"0 0 24 24\"\n",
              "       width=\"24px\">\n",
              "    <path d=\"M0 0h24v24H0V0z\" fill=\"none\"/>\n",
              "    <path d=\"M18.56 5.44l.94 2.06.94-2.06 2.06-.94-2.06-.94-.94-2.06-.94 2.06-2.06.94zm-11 1L8.5 8.5l.94-2.06 2.06-.94-2.06-.94L8.5 2.5l-.94 2.06-2.06.94zm10 10l.94 2.06.94-2.06 2.06-.94-2.06-.94-.94-2.06-.94 2.06-2.06.94z\"/><path d=\"M17.41 7.96l-1.37-1.37c-.4-.4-.92-.59-1.43-.59-.52 0-1.04.2-1.43.59L10.3 9.45l-7.72 7.72c-.78.78-.78 2.05 0 2.83L4 21.41c.39.39.9.59 1.41.59.51 0 1.02-.2 1.41-.59l7.78-7.78 2.81-2.81c.8-.78.8-2.07 0-2.86zM5.41 20L4 18.59l7.72-7.72 1.47 1.35L5.41 20z\"/>\n",
              "  </svg>\n",
              "      </button>\n",
              "      \n",
              "  <style>\n",
              "    .colab-df-container {\n",
              "      display:flex;\n",
              "      flex-wrap:wrap;\n",
              "      gap: 12px;\n",
              "    }\n",
              "\n",
              "    .colab-df-convert {\n",
              "      background-color: #E8F0FE;\n",
              "      border: none;\n",
              "      border-radius: 50%;\n",
              "      cursor: pointer;\n",
              "      display: none;\n",
              "      fill: #1967D2;\n",
              "      height: 32px;\n",
              "      padding: 0 0 0 0;\n",
              "      width: 32px;\n",
              "    }\n",
              "\n",
              "    .colab-df-convert:hover {\n",
              "      background-color: #E2EBFA;\n",
              "      box-shadow: 0px 1px 2px rgba(60, 64, 67, 0.3), 0px 1px 3px 1px rgba(60, 64, 67, 0.15);\n",
              "      fill: #174EA6;\n",
              "    }\n",
              "\n",
              "    [theme=dark] .colab-df-convert {\n",
              "      background-color: #3B4455;\n",
              "      fill: #D2E3FC;\n",
              "    }\n",
              "\n",
              "    [theme=dark] .colab-df-convert:hover {\n",
              "      background-color: #434B5C;\n",
              "      box-shadow: 0px 1px 3px 1px rgba(0, 0, 0, 0.15);\n",
              "      filter: drop-shadow(0px 1px 2px rgba(0, 0, 0, 0.3));\n",
              "      fill: #FFFFFF;\n",
              "    }\n",
              "  </style>\n",
              "\n",
              "      <script>\n",
              "        const buttonEl =\n",
              "          document.querySelector('#df-1fd4664c-07b8-44f2-aa89-ea411235436f button.colab-df-convert');\n",
              "        buttonEl.style.display =\n",
              "          google.colab.kernel.accessAllowed ? 'block' : 'none';\n",
              "\n",
              "        async function convertToInteractive(key) {\n",
              "          const element = document.querySelector('#df-1fd4664c-07b8-44f2-aa89-ea411235436f');\n",
              "          const dataTable =\n",
              "            await google.colab.kernel.invokeFunction('convertToInteractive',\n",
              "                                                     [key], {});\n",
              "          if (!dataTable) return;\n",
              "\n",
              "          const docLinkHtml = 'Like what you see? Visit the ' +\n",
              "            '<a target=\"_blank\" href=https://colab.research.google.com/notebooks/data_table.ipynb>data table notebook</a>'\n",
              "            + ' to learn more about interactive tables.';\n",
              "          element.innerHTML = '';\n",
              "          dataTable['output_type'] = 'display_data';\n",
              "          await google.colab.output.renderOutput(dataTable, element);\n",
              "          const docLink = document.createElement('div');\n",
              "          docLink.innerHTML = docLinkHtml;\n",
              "          element.appendChild(docLink);\n",
              "        }\n",
              "      </script>\n",
              "    </div>\n",
              "  </div>\n",
              "  "
            ]
          },
          "metadata": {},
          "execution_count": 552
        }
      ]
    },
    {
      "cell_type": "code",
      "source": [
        "# To convert the prediction values into Json file\n",
        "\n",
        "data = []\n",
        "for index, row in df_Test.iterrows():\n",
        "    data.append({'id': int(row['id']), 'prediction': int(row['prediction'])})\n",
        "\n",
        "print(data[0:5])\n",
        "\n",
        "submission_file_path = \"submission.json\"\n",
        "with open(submission_file_path, 'w') as fp:\n",
        "    fp.write('\\n'.join(json.dumps(i) for i in data))"
      ],
      "metadata": {
        "colab": {
          "base_uri": "https://localhost:8080/",
          "height": 514
        },
        "id": "aZwJ59ZNGlf3",
        "outputId": "d5721c50-052f-4b64-b90c-cdd3b21b7455"
      },
      "execution_count": 480,
      "outputs": [
        {
          "output_type": "error",
          "ename": "KeyError",
          "evalue": "ignored",
          "traceback": [
            "\u001b[0;31m---------------------------------------------------------------------------\u001b[0m",
            "\u001b[0;31mKeyError\u001b[0m                                  Traceback (most recent call last)",
            "\u001b[0;32m/usr/local/lib/python3.8/dist-packages/pandas/core/indexes/base.py\u001b[0m in \u001b[0;36mget_loc\u001b[0;34m(self, key, method, tolerance)\u001b[0m\n\u001b[1;32m   3360\u001b[0m             \u001b[0;32mtry\u001b[0m\u001b[0;34m:\u001b[0m\u001b[0;34m\u001b[0m\u001b[0;34m\u001b[0m\u001b[0m\n\u001b[0;32m-> 3361\u001b[0;31m                 \u001b[0;32mreturn\u001b[0m \u001b[0mself\u001b[0m\u001b[0;34m.\u001b[0m\u001b[0m_engine\u001b[0m\u001b[0;34m.\u001b[0m\u001b[0mget_loc\u001b[0m\u001b[0;34m(\u001b[0m\u001b[0mcasted_key\u001b[0m\u001b[0;34m)\u001b[0m\u001b[0;34m\u001b[0m\u001b[0;34m\u001b[0m\u001b[0m\n\u001b[0m\u001b[1;32m   3362\u001b[0m             \u001b[0;32mexcept\u001b[0m \u001b[0mKeyError\u001b[0m \u001b[0;32mas\u001b[0m \u001b[0merr\u001b[0m\u001b[0;34m:\u001b[0m\u001b[0;34m\u001b[0m\u001b[0;34m\u001b[0m\u001b[0m\n",
            "\u001b[0;32m/usr/local/lib/python3.8/dist-packages/pandas/_libs/index.pyx\u001b[0m in \u001b[0;36mpandas._libs.index.IndexEngine.get_loc\u001b[0;34m()\u001b[0m\n",
            "\u001b[0;32m/usr/local/lib/python3.8/dist-packages/pandas/_libs/index.pyx\u001b[0m in \u001b[0;36mpandas._libs.index.IndexEngine.get_loc\u001b[0;34m()\u001b[0m\n",
            "\u001b[0;32mpandas/_libs/hashtable_class_helper.pxi\u001b[0m in \u001b[0;36mpandas._libs.hashtable.PyObjectHashTable.get_item\u001b[0;34m()\u001b[0m\n",
            "\u001b[0;32mpandas/_libs/hashtable_class_helper.pxi\u001b[0m in \u001b[0;36mpandas._libs.hashtable.PyObjectHashTable.get_item\u001b[0;34m()\u001b[0m\n",
            "\u001b[0;31mKeyError\u001b[0m: 'id'",
            "\nThe above exception was the direct cause of the following exception:\n",
            "\u001b[0;31mKeyError\u001b[0m                                  Traceback (most recent call last)",
            "\u001b[0;32m<ipython-input-480-7fae079a9b00>\u001b[0m in \u001b[0;36m<module>\u001b[0;34m\u001b[0m\n\u001b[1;32m      3\u001b[0m \u001b[0mdata\u001b[0m \u001b[0;34m=\u001b[0m \u001b[0;34m[\u001b[0m\u001b[0;34m]\u001b[0m\u001b[0;34m\u001b[0m\u001b[0;34m\u001b[0m\u001b[0m\n\u001b[1;32m      4\u001b[0m \u001b[0;32mfor\u001b[0m \u001b[0mindex\u001b[0m\u001b[0;34m,\u001b[0m \u001b[0mrow\u001b[0m \u001b[0;32min\u001b[0m \u001b[0mdf_Test\u001b[0m\u001b[0;34m.\u001b[0m\u001b[0miterrows\u001b[0m\u001b[0;34m(\u001b[0m\u001b[0;34m)\u001b[0m\u001b[0;34m:\u001b[0m\u001b[0;34m\u001b[0m\u001b[0;34m\u001b[0m\u001b[0m\n\u001b[0;32m----> 5\u001b[0;31m     \u001b[0mdata\u001b[0m\u001b[0;34m.\u001b[0m\u001b[0mappend\u001b[0m\u001b[0;34m(\u001b[0m\u001b[0;34m{\u001b[0m\u001b[0;34m'id'\u001b[0m\u001b[0;34m:\u001b[0m \u001b[0mint\u001b[0m\u001b[0;34m(\u001b[0m\u001b[0mrow\u001b[0m\u001b[0;34m[\u001b[0m\u001b[0;34m'id'\u001b[0m\u001b[0;34m]\u001b[0m\u001b[0;34m)\u001b[0m\u001b[0;34m,\u001b[0m \u001b[0;34m'prediction'\u001b[0m\u001b[0;34m:\u001b[0m \u001b[0mint\u001b[0m\u001b[0;34m(\u001b[0m\u001b[0mrow\u001b[0m\u001b[0;34m[\u001b[0m\u001b[0;34m'prediction'\u001b[0m\u001b[0;34m]\u001b[0m\u001b[0;34m)\u001b[0m\u001b[0;34m}\u001b[0m\u001b[0;34m)\u001b[0m\u001b[0;34m\u001b[0m\u001b[0;34m\u001b[0m\u001b[0m\n\u001b[0m\u001b[1;32m      6\u001b[0m \u001b[0;34m\u001b[0m\u001b[0m\n\u001b[1;32m      7\u001b[0m \u001b[0mprint\u001b[0m\u001b[0;34m(\u001b[0m\u001b[0mdata\u001b[0m\u001b[0;34m[\u001b[0m\u001b[0;36m0\u001b[0m\u001b[0;34m:\u001b[0m\u001b[0;36m5\u001b[0m\u001b[0;34m]\u001b[0m\u001b[0;34m)\u001b[0m\u001b[0;34m\u001b[0m\u001b[0;34m\u001b[0m\u001b[0m\n",
            "\u001b[0;32m/usr/local/lib/python3.8/dist-packages/pandas/core/series.py\u001b[0m in \u001b[0;36m__getitem__\u001b[0;34m(self, key)\u001b[0m\n\u001b[1;32m    940\u001b[0m \u001b[0;34m\u001b[0m\u001b[0m\n\u001b[1;32m    941\u001b[0m         \u001b[0;32melif\u001b[0m \u001b[0mkey_is_scalar\u001b[0m\u001b[0;34m:\u001b[0m\u001b[0;34m\u001b[0m\u001b[0;34m\u001b[0m\u001b[0m\n\u001b[0;32m--> 942\u001b[0;31m             \u001b[0;32mreturn\u001b[0m \u001b[0mself\u001b[0m\u001b[0;34m.\u001b[0m\u001b[0m_get_value\u001b[0m\u001b[0;34m(\u001b[0m\u001b[0mkey\u001b[0m\u001b[0;34m)\u001b[0m\u001b[0;34m\u001b[0m\u001b[0;34m\u001b[0m\u001b[0m\n\u001b[0m\u001b[1;32m    943\u001b[0m \u001b[0;34m\u001b[0m\u001b[0m\n\u001b[1;32m    944\u001b[0m         \u001b[0;32mif\u001b[0m \u001b[0mis_hashable\u001b[0m\u001b[0;34m(\u001b[0m\u001b[0mkey\u001b[0m\u001b[0;34m)\u001b[0m\u001b[0;34m:\u001b[0m\u001b[0;34m\u001b[0m\u001b[0;34m\u001b[0m\u001b[0m\n",
            "\u001b[0;32m/usr/local/lib/python3.8/dist-packages/pandas/core/series.py\u001b[0m in \u001b[0;36m_get_value\u001b[0;34m(self, label, takeable)\u001b[0m\n\u001b[1;32m   1049\u001b[0m \u001b[0;34m\u001b[0m\u001b[0m\n\u001b[1;32m   1050\u001b[0m         \u001b[0;31m# Similar to Index.get_value, but we do not fall back to positional\u001b[0m\u001b[0;34m\u001b[0m\u001b[0;34m\u001b[0m\u001b[0;34m\u001b[0m\u001b[0m\n\u001b[0;32m-> 1051\u001b[0;31m         \u001b[0mloc\u001b[0m \u001b[0;34m=\u001b[0m \u001b[0mself\u001b[0m\u001b[0;34m.\u001b[0m\u001b[0mindex\u001b[0m\u001b[0;34m.\u001b[0m\u001b[0mget_loc\u001b[0m\u001b[0;34m(\u001b[0m\u001b[0mlabel\u001b[0m\u001b[0;34m)\u001b[0m\u001b[0;34m\u001b[0m\u001b[0;34m\u001b[0m\u001b[0m\n\u001b[0m\u001b[1;32m   1052\u001b[0m         \u001b[0;32mreturn\u001b[0m \u001b[0mself\u001b[0m\u001b[0;34m.\u001b[0m\u001b[0mindex\u001b[0m\u001b[0;34m.\u001b[0m\u001b[0m_get_values_for_loc\u001b[0m\u001b[0;34m(\u001b[0m\u001b[0mself\u001b[0m\u001b[0;34m,\u001b[0m \u001b[0mloc\u001b[0m\u001b[0;34m,\u001b[0m \u001b[0mlabel\u001b[0m\u001b[0;34m)\u001b[0m\u001b[0;34m\u001b[0m\u001b[0;34m\u001b[0m\u001b[0m\n\u001b[1;32m   1053\u001b[0m \u001b[0;34m\u001b[0m\u001b[0m\n",
            "\u001b[0;32m/usr/local/lib/python3.8/dist-packages/pandas/core/indexes/base.py\u001b[0m in \u001b[0;36mget_loc\u001b[0;34m(self, key, method, tolerance)\u001b[0m\n\u001b[1;32m   3361\u001b[0m                 \u001b[0;32mreturn\u001b[0m \u001b[0mself\u001b[0m\u001b[0;34m.\u001b[0m\u001b[0m_engine\u001b[0m\u001b[0;34m.\u001b[0m\u001b[0mget_loc\u001b[0m\u001b[0;34m(\u001b[0m\u001b[0mcasted_key\u001b[0m\u001b[0;34m)\u001b[0m\u001b[0;34m\u001b[0m\u001b[0;34m\u001b[0m\u001b[0m\n\u001b[1;32m   3362\u001b[0m             \u001b[0;32mexcept\u001b[0m \u001b[0mKeyError\u001b[0m \u001b[0;32mas\u001b[0m \u001b[0merr\u001b[0m\u001b[0;34m:\u001b[0m\u001b[0;34m\u001b[0m\u001b[0;34m\u001b[0m\u001b[0m\n\u001b[0;32m-> 3363\u001b[0;31m                 \u001b[0;32mraise\u001b[0m \u001b[0mKeyError\u001b[0m\u001b[0;34m(\u001b[0m\u001b[0mkey\u001b[0m\u001b[0;34m)\u001b[0m \u001b[0;32mfrom\u001b[0m \u001b[0merr\u001b[0m\u001b[0;34m\u001b[0m\u001b[0;34m\u001b[0m\u001b[0m\n\u001b[0m\u001b[1;32m   3364\u001b[0m \u001b[0;34m\u001b[0m\u001b[0m\n\u001b[1;32m   3365\u001b[0m         \u001b[0;32mif\u001b[0m \u001b[0mis_scalar\u001b[0m\u001b[0;34m(\u001b[0m\u001b[0mkey\u001b[0m\u001b[0;34m)\u001b[0m \u001b[0;32mand\u001b[0m \u001b[0misna\u001b[0m\u001b[0;34m(\u001b[0m\u001b[0mkey\u001b[0m\u001b[0;34m)\u001b[0m \u001b[0;32mand\u001b[0m \u001b[0;32mnot\u001b[0m \u001b[0mself\u001b[0m\u001b[0;34m.\u001b[0m\u001b[0mhasnans\u001b[0m\u001b[0;34m:\u001b[0m\u001b[0;34m\u001b[0m\u001b[0;34m\u001b[0m\u001b[0m\n",
            "\u001b[0;31mKeyError\u001b[0m: 'id'"
          ]
        }
      ]
    },
    {
      "cell_type": "markdown",
      "source": [
        "# Cross validation"
      ],
      "metadata": {
        "id": "jBIe8wkak2LG"
      }
    },
    {
      "cell_type": "code",
      "source": [
        "x = df_Train.iloc[:,  [1,5,7,6,0,2]]\n",
        "scaler = StandardScaler()\n",
        "x =  scaler.fit_transform(x)\n",
        "\n",
        "\n",
        "predict_Test = model3.predict(x)\n"
      ],
      "metadata": {
        "colab": {
          "base_uri": "https://localhost:8080/"
        },
        "id": "sSIrFhMek9yj",
        "outputId": "5b0d4e5b-8f65-4b14-feb7-72cce465783b"
      },
      "execution_count": 237,
      "outputs": [
        {
          "output_type": "stream",
          "name": "stdout",
          "text": [
            "21/21 [==============================] - 0s 3ms/step\n"
          ]
        }
      ]
    },
    {
      "cell_type": "code",
      "source": [
        "test = [1 if pred > 0.5 else 0 for pred in predict_Test]\n",
        "print(test)"
      ],
      "metadata": {
        "colab": {
          "base_uri": "https://localhost:8080/"
        },
        "id": "KCjIDjRYlCWd",
        "outputId": "e2f44530-b29e-4a5b-93d8-1361beba335f"
      },
      "execution_count": 238,
      "outputs": [
        {
          "output_type": "stream",
          "name": "stdout",
          "text": [
            "[1, 0, 1, 0, 0, 0, 0, 0, 1, 0, 0, 1, 0, 1, 1, 0, 0, 0, 1, 0, 0, 0, 1, 0, 1, 0, 1, 0, 0, 0, 0, 1, 0, 0, 0, 0, 1, 0, 0, 0, 1, 1, 0, 1, 1, 1, 0, 0, 0, 0, 0, 0, 0, 1, 1, 0, 1, 0, 1, 0, 0, 1, 0, 0, 0, 0, 0, 1, 0, 0, 0, 1, 1, 0, 0, 0, 0, 0, 0, 0, 0, 0, 0, 0, 0, 0, 0, 0, 1, 0, 0, 0, 0, 0, 0, 1, 0, 0, 0, 0, 1, 0, 0, 0, 0, 0, 0, 1, 0, 0, 1, 1, 0, 0, 1, 0, 0, 0, 0, 0, 1, 0, 0, 0, 0, 1, 1, 0, 0, 0, 1, 1, 1, 0, 0, 0, 0, 0, 0, 0, 0, 0, 0, 0, 1, 0, 0, 0, 0, 0, 0, 0, 1, 1, 1, 1, 0, 0, 0, 1, 0, 0, 0, 0, 0, 0, 0, 0, 0, 0, 0, 1, 0, 0, 0, 1, 0, 0, 1, 1, 0, 0, 0, 0, 0, 1, 1, 0, 0, 0, 0, 0, 1, 1, 0, 1, 0, 0, 0, 1, 0, 0, 0, 0, 0, 0, 1, 1, 0, 1, 0, 0, 1, 1, 0, 1, 0, 0, 0, 1, 1, 0, 0, 0, 0, 0, 0, 1, 1, 0, 1, 1, 0, 0, 0, 1, 1, 1, 1, 0, 0, 0, 0, 0, 1, 1, 0, 1, 1, 0, 0, 0, 0, 0, 0, 0, 0, 0, 1, 1, 1, 0, 0, 0, 0, 0, 0, 1, 0, 0, 1, 0, 0, 0, 0, 0, 0, 0, 0, 0, 0, 1, 0, 1, 0, 0, 1, 0, 0, 0, 0, 0, 1, 1, 0, 1, 0, 0, 0, 0, 1, 1, 0, 0, 0, 0, 1, 0, 0, 0, 0, 0, 0, 0, 0, 0, 0, 1, 0, 1, 0, 0, 0, 1, 0, 0, 0, 1, 0, 0, 0, 0, 1, 0, 0, 1, 0, 0, 1, 1, 0, 0, 0, 0, 0, 1, 0, 0, 0, 1, 0, 0, 0, 0, 0, 1, 0, 1, 0, 1, 1, 0, 0, 1, 1, 0, 0, 0, 0, 0, 1, 0, 0, 0, 0, 1, 0, 0, 1, 0, 0, 0, 0, 0, 0, 0, 0, 0, 0, 0, 0, 1, 0, 0, 1, 0, 0, 0, 0, 1, 0, 0, 0, 0, 1, 1, 0, 0, 1, 1, 0, 0, 1, 0, 0, 0, 0, 1, 0, 0, 0, 0, 0, 0, 1, 1, 0, 1, 0, 0, 0, 0, 0, 0, 0, 1, 1, 1, 0, 0, 1, 0, 0, 0, 0, 1, 0, 0, 0, 0, 0, 0, 0, 0, 0, 1, 0, 0, 1, 0, 0, 0, 0, 0, 0, 0, 0, 0, 0, 1, 1, 0, 0, 0, 0, 0, 0, 0, 0, 0, 1, 0, 0, 0, 1, 0, 1, 1, 0, 1, 0, 0, 0, 0, 0, 0, 0, 0, 1, 1, 0, 0, 1, 0, 0, 0, 1, 0, 0, 0, 0, 0, 0, 0, 0, 1, 0, 1, 0, 0, 0, 0, 0, 1, 0, 0, 0, 0, 0, 0, 0, 0, 0, 0, 0, 0, 0, 0, 0, 0, 0, 0, 0, 0, 0, 1, 1, 0, 1, 1, 0, 0, 0, 0, 0, 0, 0, 0, 1, 0, 0, 1, 0, 0, 0, 0, 0, 0, 1, 0, 0, 0, 0, 0, 0, 0, 0, 0, 0, 1, 0, 0, 0, 0, 0, 0, 1, 0, 1, 0, 1, 0, 0, 0, 1, 1, 0, 0, 1, 0, 0, 0, 0, 1, 1, 0, 1, 0, 0, 0, 0, 1, 1, 0, 1, 0, 0, 0, 0, 0, 0, 0, 1, 0, 0, 0, 0, 0, 0, 0, 0, 0, 0, 0, 0, 0, 0, 0, 1, 0, 0, 0, 1, 0, 0, 1, 0, 1, 0, 0, 0, 0, 0, 0, 0, 1, 0, 0, 0, 0, 1, 1, 1, 1, 0, 0, 0, 0]\n"
          ]
        }
      ]
    },
    {
      "cell_type": "code",
      "source": [
        "test1 = df_Train['class']\n",
        "test1[0:10]"
      ],
      "metadata": {
        "colab": {
          "base_uri": "https://localhost:8080/"
        },
        "id": "1vInInCklObG",
        "outputId": "df3baaa7-b91e-404e-f246-8d9c3de6bc5a"
      },
      "execution_count": 239,
      "outputs": [
        {
          "output_type": "execute_result",
          "data": {
            "text/plain": [
              "0    1\n",
              "1    0\n",
              "2    1\n",
              "3    0\n",
              "4    1\n",
              "5    0\n",
              "6    1\n",
              "7    0\n",
              "8    1\n",
              "9    1\n",
              "Name: class, dtype: int64"
            ]
          },
          "metadata": {},
          "execution_count": 239
        }
      ]
    },
    {
      "cell_type": "code",
      "source": [
        "test[0:10]"
      ],
      "metadata": {
        "colab": {
          "base_uri": "https://localhost:8080/"
        },
        "id": "No7NGeed7Bai",
        "outputId": "494ac280-75f6-4b64-c87a-a2dc9651e36d"
      },
      "execution_count": 240,
      "outputs": [
        {
          "output_type": "execute_result",
          "data": {
            "text/plain": [
              "[1, 0, 1, 0, 0, 0, 0, 0, 1, 0]"
            ]
          },
          "metadata": {},
          "execution_count": 240
        }
      ]
    },
    {
      "cell_type": "code",
      "source": [
        "\n",
        "from math import sqrt\n",
        "from sklearn.metrics import mean_squared_error\n",
        "\n",
        " \n",
        "MSE = np.square(np.subtract(test1,test)).mean() \n",
        " \n",
        "RMSE = sqrt(MSE)\n",
        "print(MSE, RMSE)"
      ],
      "metadata": {
        "colab": {
          "base_uri": "https://localhost:8080/"
        },
        "id": "h-vE4MvQl-44",
        "outputId": "b6bd63dc-ada5-41e8-b87d-b29192428c3f"
      },
      "execution_count": 241,
      "outputs": [
        {
          "output_type": "stream",
          "name": "stdout",
          "text": [
            "0.23802395209580837 0.48787698459325624\n"
          ]
        }
      ]
    },
    {
      "cell_type": "code",
      "source": [
        "from sklearn.metrics import accuracy_score\n",
        "accuracy_score(test1,test) "
      ],
      "metadata": {
        "colab": {
          "base_uri": "https://localhost:8080/"
        },
        "id": "gbPObGrH74Lk",
        "outputId": "5cf135fe-900d-487d-8f3f-c3ce80bb43cc"
      },
      "execution_count": 242,
      "outputs": [
        {
          "output_type": "execute_result",
          "data": {
            "text/plain": [
              "0.7619760479041916"
            ]
          },
          "metadata": {},
          "execution_count": 242
        }
      ]
    }
  ]
}