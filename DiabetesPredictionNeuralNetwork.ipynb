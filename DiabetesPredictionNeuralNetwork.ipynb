{
  "nbformat": 4,
  "nbformat_minor": 0,
  "metadata": {
    "colab": {
      "provenance": [],
      "collapsed_sections": [
        "9w7-8ghlluFQ",
        "MTQ2fUoKMcIJ",
        "HFiQphljMl1f",
        "JZ-mdmAhMx8w",
        "rTl_vnBwM4Qq"
      ],
      "authorship_tag": "ABX9TyNMaPfSwTMOS/NIpEINgm6j",
      "include_colab_link": true
    },
    "kernelspec": {
      "name": "python3",
      "display_name": "Python 3"
    },
    "language_info": {
      "name": "python"
    }
  },
  "cells": [
    {
      "cell_type": "markdown",
      "metadata": {
        "id": "view-in-github",
        "colab_type": "text"
      },
      "source": [
        "<a href=\"https://colab.research.google.com/github/harishahamed26/Diabetes_Prediction_Using_Neural_Network/blob/main/DiabetesPredictionNeuralNetwork.ipynb\" target=\"_parent\"><img src=\"https://colab.research.google.com/assets/colab-badge.svg\" alt=\"Open In Colab\"/></a>"
      ]
    },
    {
      "cell_type": "markdown",
      "source": [
        "# DiabetesPredictionNeuralNetwork"
      ],
      "metadata": {
        "id": "paPVZ0lqgSyV"
      }
    },
    {
      "cell_type": "markdown",
      "source": [
        "***Data Set Attribute Description***\n",
        "\n",
        "• A1 - Number of times pregnant\n",
        "--\n",
        "• A2 - Plasma glucose concentration a 2 hours in an oral glucose tolerance test\n",
        "--\n",
        "• A3 - Diastolic blood pressure (mm Hg)\n",
        "--\n",
        "• A4 - Triceps skin fold thickness (mm)\n",
        "--\n",
        "• A5 - 2-Hour serum insulin (mu U/ml)\n",
        "--\n",
        "• A6 - Body mass index (weight in kg/(height in m)^2)\n",
        "--\n",
        "• A7 - Diabetes pedigree function\n",
        "--\n",
        "• A8 - Age (years)\n",
        "--\n"
      ],
      "metadata": {
        "id": "9w7-8ghlluFQ"
      }
    },
    {
      "cell_type": "code",
      "source": [
        "! pip install SMOTE\n"
      ],
      "metadata": {
        "colab": {
          "base_uri": "https://localhost:8080/"
        },
        "id": "Az2zPwrS36TL",
        "outputId": "8f0a5a17-21c6-4fbf-a2b6-de15d612fe87"
      },
      "execution_count": null,
      "outputs": [
        {
          "output_type": "stream",
          "name": "stdout",
          "text": [
            "Looking in indexes: https://pypi.org/simple, https://us-python.pkg.dev/colab-wheels/public/simple/\n",
            "Collecting SMOTE\n",
            "  Downloading smote-0.1-py2.py3-none-any.whl (3.3 kB)\n",
            "Requirement already satisfied: scikit-learn>=0.19.1 in /usr/local/lib/python3.8/dist-packages (from SMOTE) (1.0.2)\n",
            "Requirement already satisfied: numpy>=1.14.3 in /usr/local/lib/python3.8/dist-packages (from SMOTE) (1.22.4)\n",
            "Requirement already satisfied: scipy>=1.1.0 in /usr/local/lib/python3.8/dist-packages (from scikit-learn>=0.19.1->SMOTE) (1.7.3)\n",
            "Requirement already satisfied: threadpoolctl>=2.0.0 in /usr/local/lib/python3.8/dist-packages (from scikit-learn>=0.19.1->SMOTE) (3.1.0)\n",
            "Requirement already satisfied: joblib>=0.11 in /usr/local/lib/python3.8/dist-packages (from scikit-learn>=0.19.1->SMOTE) (1.2.0)\n",
            "Installing collected packages: SMOTE\n",
            "Successfully installed SMOTE-0.1\n"
          ]
        }
      ]
    },
    {
      "cell_type": "code",
      "source": [
        "! pip install tensorflow # Necessary package"
      ],
      "metadata": {
        "colab": {
          "base_uri": "https://localhost:8080/"
        },
        "id": "xqi77rw5mQtI",
        "outputId": "f60025dc-8c71-4b03-b76d-29b34abc4e60"
      },
      "execution_count": null,
      "outputs": [
        {
          "output_type": "stream",
          "name": "stdout",
          "text": [
            "Looking in indexes: https://pypi.org/simple, https://us-python.pkg.dev/colab-wheels/public/simple/\n",
            "Requirement already satisfied: tensorflow in /usr/local/lib/python3.8/dist-packages (2.11.0)\n",
            "Requirement already satisfied: opt-einsum>=2.3.2 in /usr/local/lib/python3.8/dist-packages (from tensorflow) (3.3.0)\n",
            "Requirement already satisfied: numpy>=1.20 in /usr/local/lib/python3.8/dist-packages (from tensorflow) (1.22.4)\n",
            "Requirement already satisfied: libclang>=13.0.0 in /usr/local/lib/python3.8/dist-packages (from tensorflow) (15.0.6.1)\n",
            "Requirement already satisfied: six>=1.12.0 in /usr/local/lib/python3.8/dist-packages (from tensorflow) (1.15.0)\n",
            "Requirement already satisfied: absl-py>=1.0.0 in /usr/local/lib/python3.8/dist-packages (from tensorflow) (1.4.0)\n",
            "Requirement already satisfied: tensorflow-estimator<2.12,>=2.11.0 in /usr/local/lib/python3.8/dist-packages (from tensorflow) (2.11.0)\n",
            "Requirement already satisfied: astunparse>=1.6.0 in /usr/local/lib/python3.8/dist-packages (from tensorflow) (1.6.3)\n",
            "Requirement already satisfied: tensorflow-io-gcs-filesystem>=0.23.1 in /usr/local/lib/python3.8/dist-packages (from tensorflow) (0.30.0)\n",
            "Requirement already satisfied: flatbuffers>=2.0 in /usr/local/lib/python3.8/dist-packages (from tensorflow) (23.1.21)\n",
            "Requirement already satisfied: setuptools in /usr/local/lib/python3.8/dist-packages (from tensorflow) (57.4.0)\n",
            "Requirement already satisfied: protobuf<3.20,>=3.9.2 in /usr/local/lib/python3.8/dist-packages (from tensorflow) (3.19.6)\n",
            "Requirement already satisfied: grpcio<2.0,>=1.24.3 in /usr/local/lib/python3.8/dist-packages (from tensorflow) (1.51.1)\n",
            "Requirement already satisfied: wrapt>=1.11.0 in /usr/local/lib/python3.8/dist-packages (from tensorflow) (1.14.1)\n",
            "Requirement already satisfied: google-pasta>=0.1.1 in /usr/local/lib/python3.8/dist-packages (from tensorflow) (0.2.0)\n",
            "Requirement already satisfied: packaging in /usr/local/lib/python3.8/dist-packages (from tensorflow) (23.0)\n",
            "Requirement already satisfied: termcolor>=1.1.0 in /usr/local/lib/python3.8/dist-packages (from tensorflow) (2.2.0)\n",
            "Requirement already satisfied: tensorboard<2.12,>=2.11 in /usr/local/lib/python3.8/dist-packages (from tensorflow) (2.11.2)\n",
            "Requirement already satisfied: gast<=0.4.0,>=0.2.1 in /usr/local/lib/python3.8/dist-packages (from tensorflow) (0.4.0)\n",
            "Requirement already satisfied: h5py>=2.9.0 in /usr/local/lib/python3.8/dist-packages (from tensorflow) (3.1.0)\n",
            "Requirement already satisfied: keras<2.12,>=2.11.0 in /usr/local/lib/python3.8/dist-packages (from tensorflow) (2.11.0)\n",
            "Requirement already satisfied: typing-extensions>=3.6.6 in /usr/local/lib/python3.8/dist-packages (from tensorflow) (4.5.0)\n",
            "Requirement already satisfied: wheel<1.0,>=0.23.0 in /usr/local/lib/python3.8/dist-packages (from astunparse>=1.6.0->tensorflow) (0.38.4)\n",
            "Requirement already satisfied: tensorboard-data-server<0.7.0,>=0.6.0 in /usr/local/lib/python3.8/dist-packages (from tensorboard<2.12,>=2.11->tensorflow) (0.6.1)\n",
            "Requirement already satisfied: markdown>=2.6.8 in /usr/local/lib/python3.8/dist-packages (from tensorboard<2.12,>=2.11->tensorflow) (3.4.1)\n",
            "Requirement already satisfied: google-auth<3,>=1.6.3 in /usr/local/lib/python3.8/dist-packages (from tensorboard<2.12,>=2.11->tensorflow) (2.16.1)\n",
            "Requirement already satisfied: werkzeug>=1.0.1 in /usr/local/lib/python3.8/dist-packages (from tensorboard<2.12,>=2.11->tensorflow) (1.0.1)\n",
            "Requirement already satisfied: google-auth-oauthlib<0.5,>=0.4.1 in /usr/local/lib/python3.8/dist-packages (from tensorboard<2.12,>=2.11->tensorflow) (0.4.6)\n",
            "Requirement already satisfied: requests<3,>=2.21.0 in /usr/local/lib/python3.8/dist-packages (from tensorboard<2.12,>=2.11->tensorflow) (2.25.1)\n",
            "Requirement already satisfied: tensorboard-plugin-wit>=1.6.0 in /usr/local/lib/python3.8/dist-packages (from tensorboard<2.12,>=2.11->tensorflow) (1.8.1)\n",
            "Requirement already satisfied: rsa<5,>=3.1.4 in /usr/local/lib/python3.8/dist-packages (from google-auth<3,>=1.6.3->tensorboard<2.12,>=2.11->tensorflow) (4.9)\n",
            "Requirement already satisfied: pyasn1-modules>=0.2.1 in /usr/local/lib/python3.8/dist-packages (from google-auth<3,>=1.6.3->tensorboard<2.12,>=2.11->tensorflow) (0.2.8)\n",
            "Requirement already satisfied: cachetools<6.0,>=2.0.0 in /usr/local/lib/python3.8/dist-packages (from google-auth<3,>=1.6.3->tensorboard<2.12,>=2.11->tensorflow) (5.3.0)\n",
            "Requirement already satisfied: requests-oauthlib>=0.7.0 in /usr/local/lib/python3.8/dist-packages (from google-auth-oauthlib<0.5,>=0.4.1->tensorboard<2.12,>=2.11->tensorflow) (1.3.1)\n",
            "Requirement already satisfied: importlib-metadata>=4.4 in /usr/local/lib/python3.8/dist-packages (from markdown>=2.6.8->tensorboard<2.12,>=2.11->tensorflow) (6.0.0)\n",
            "Requirement already satisfied: urllib3<1.27,>=1.21.1 in /usr/local/lib/python3.8/dist-packages (from requests<3,>=2.21.0->tensorboard<2.12,>=2.11->tensorflow) (1.24.3)\n",
            "Requirement already satisfied: chardet<5,>=3.0.2 in /usr/local/lib/python3.8/dist-packages (from requests<3,>=2.21.0->tensorboard<2.12,>=2.11->tensorflow) (4.0.0)\n",
            "Requirement already satisfied: idna<3,>=2.5 in /usr/local/lib/python3.8/dist-packages (from requests<3,>=2.21.0->tensorboard<2.12,>=2.11->tensorflow) (2.10)\n",
            "Requirement already satisfied: certifi>=2017.4.17 in /usr/local/lib/python3.8/dist-packages (from requests<3,>=2.21.0->tensorboard<2.12,>=2.11->tensorflow) (2022.12.7)\n",
            "Requirement already satisfied: zipp>=0.5 in /usr/local/lib/python3.8/dist-packages (from importlib-metadata>=4.4->markdown>=2.6.8->tensorboard<2.12,>=2.11->tensorflow) (3.14.0)\n",
            "Requirement already satisfied: pyasn1<0.5.0,>=0.4.6 in /usr/local/lib/python3.8/dist-packages (from pyasn1-modules>=0.2.1->google-auth<3,>=1.6.3->tensorboard<2.12,>=2.11->tensorflow) (0.4.8)\n",
            "Requirement already satisfied: oauthlib>=3.0.0 in /usr/local/lib/python3.8/dist-packages (from requests-oauthlib>=0.7.0->google-auth-oauthlib<0.5,>=0.4.1->tensorboard<2.12,>=2.11->tensorflow) (3.2.2)\n"
          ]
        }
      ]
    },
    {
      "cell_type": "code",
      "source": [
        "! pip install keras-tuner # Installing keras tuner to tune the hyperparameter"
      ],
      "metadata": {
        "colab": {
          "base_uri": "https://localhost:8080/"
        },
        "id": "W65ddcc_ERnm",
        "outputId": "08d6f5c1-01d9-469d-85ca-de8d6f7e9e0a"
      },
      "execution_count": null,
      "outputs": [
        {
          "output_type": "stream",
          "name": "stdout",
          "text": [
            "Looking in indexes: https://pypi.org/simple, https://us-python.pkg.dev/colab-wheels/public/simple/\n",
            "Collecting keras-tuner\n",
            "  Downloading keras_tuner-1.3.0-py3-none-any.whl (167 kB)\n",
            "\u001b[2K     \u001b[90m━━━━━━━━━━━━━━━━━━━━━━━━━━━━━━━━━━━━━━━\u001b[0m \u001b[32m167.3/167.3 KB\u001b[0m \u001b[31m3.9 MB/s\u001b[0m eta \u001b[36m0:00:00\u001b[0m\n",
            "\u001b[?25hCollecting kt-legacy\n",
            "  Downloading kt_legacy-1.0.4-py3-none-any.whl (9.6 kB)\n",
            "Requirement already satisfied: packaging in /usr/local/lib/python3.8/dist-packages (from keras-tuner) (23.0)\n",
            "Requirement already satisfied: tensorflow>=2.0 in /usr/local/lib/python3.8/dist-packages (from keras-tuner) (2.11.0)\n",
            "Requirement already satisfied: ipython in /usr/local/lib/python3.8/dist-packages (from keras-tuner) (7.9.0)\n",
            "Requirement already satisfied: requests in /usr/local/lib/python3.8/dist-packages (from keras-tuner) (2.25.1)\n",
            "Requirement already satisfied: libclang>=13.0.0 in /usr/local/lib/python3.8/dist-packages (from tensorflow>=2.0->keras-tuner) (15.0.6.1)\n",
            "Requirement already satisfied: wrapt>=1.11.0 in /usr/local/lib/python3.8/dist-packages (from tensorflow>=2.0->keras-tuner) (1.14.1)\n",
            "Requirement already satisfied: numpy>=1.20 in /usr/local/lib/python3.8/dist-packages (from tensorflow>=2.0->keras-tuner) (1.22.4)\n",
            "Requirement already satisfied: flatbuffers>=2.0 in /usr/local/lib/python3.8/dist-packages (from tensorflow>=2.0->keras-tuner) (23.1.21)\n",
            "Requirement already satisfied: tensorflow-estimator<2.12,>=2.11.0 in /usr/local/lib/python3.8/dist-packages (from tensorflow>=2.0->keras-tuner) (2.11.0)\n",
            "Requirement already satisfied: six>=1.12.0 in /usr/local/lib/python3.8/dist-packages (from tensorflow>=2.0->keras-tuner) (1.15.0)\n",
            "Requirement already satisfied: tensorflow-io-gcs-filesystem>=0.23.1 in /usr/local/lib/python3.8/dist-packages (from tensorflow>=2.0->keras-tuner) (0.30.0)\n",
            "Requirement already satisfied: typing-extensions>=3.6.6 in /usr/local/lib/python3.8/dist-packages (from tensorflow>=2.0->keras-tuner) (4.5.0)\n",
            "Requirement already satisfied: tensorboard<2.12,>=2.11 in /usr/local/lib/python3.8/dist-packages (from tensorflow>=2.0->keras-tuner) (2.11.2)\n",
            "Requirement already satisfied: opt-einsum>=2.3.2 in /usr/local/lib/python3.8/dist-packages (from tensorflow>=2.0->keras-tuner) (3.3.0)\n",
            "Requirement already satisfied: gast<=0.4.0,>=0.2.1 in /usr/local/lib/python3.8/dist-packages (from tensorflow>=2.0->keras-tuner) (0.4.0)\n",
            "Requirement already satisfied: absl-py>=1.0.0 in /usr/local/lib/python3.8/dist-packages (from tensorflow>=2.0->keras-tuner) (1.4.0)\n",
            "Requirement already satisfied: setuptools in /usr/local/lib/python3.8/dist-packages (from tensorflow>=2.0->keras-tuner) (57.4.0)\n",
            "Requirement already satisfied: termcolor>=1.1.0 in /usr/local/lib/python3.8/dist-packages (from tensorflow>=2.0->keras-tuner) (2.2.0)\n",
            "Requirement already satisfied: protobuf<3.20,>=3.9.2 in /usr/local/lib/python3.8/dist-packages (from tensorflow>=2.0->keras-tuner) (3.19.6)\n",
            "Requirement already satisfied: google-pasta>=0.1.1 in /usr/local/lib/python3.8/dist-packages (from tensorflow>=2.0->keras-tuner) (0.2.0)\n",
            "Requirement already satisfied: astunparse>=1.6.0 in /usr/local/lib/python3.8/dist-packages (from tensorflow>=2.0->keras-tuner) (1.6.3)\n",
            "Requirement already satisfied: grpcio<2.0,>=1.24.3 in /usr/local/lib/python3.8/dist-packages (from tensorflow>=2.0->keras-tuner) (1.51.1)\n",
            "Requirement already satisfied: keras<2.12,>=2.11.0 in /usr/local/lib/python3.8/dist-packages (from tensorflow>=2.0->keras-tuner) (2.11.0)\n",
            "Requirement already satisfied: h5py>=2.9.0 in /usr/local/lib/python3.8/dist-packages (from tensorflow>=2.0->keras-tuner) (3.1.0)\n",
            "Requirement already satisfied: traitlets>=4.2 in /usr/local/lib/python3.8/dist-packages (from ipython->keras-tuner) (5.7.1)\n",
            "Requirement already satisfied: prompt-toolkit<2.1.0,>=2.0.0 in /usr/local/lib/python3.8/dist-packages (from ipython->keras-tuner) (2.0.10)\n",
            "Requirement already satisfied: backcall in /usr/local/lib/python3.8/dist-packages (from ipython->keras-tuner) (0.2.0)\n",
            "Requirement already satisfied: pexpect in /usr/local/lib/python3.8/dist-packages (from ipython->keras-tuner) (4.8.0)\n",
            "Requirement already satisfied: pickleshare in /usr/local/lib/python3.8/dist-packages (from ipython->keras-tuner) (0.7.5)\n",
            "Collecting jedi>=0.10\n",
            "  Downloading jedi-0.18.2-py2.py3-none-any.whl (1.6 MB)\n",
            "\u001b[2K     \u001b[90m━━━━━━━━━━━━━━━━━━━━━━━━━━━━━━━━━━━━━━━━\u001b[0m \u001b[32m1.6/1.6 MB\u001b[0m \u001b[31m26.3 MB/s\u001b[0m eta \u001b[36m0:00:00\u001b[0m\n",
            "\u001b[?25hRequirement already satisfied: pygments in /usr/local/lib/python3.8/dist-packages (from ipython->keras-tuner) (2.6.1)\n",
            "Requirement already satisfied: decorator in /usr/local/lib/python3.8/dist-packages (from ipython->keras-tuner) (4.4.2)\n",
            "Requirement already satisfied: urllib3<1.27,>=1.21.1 in /usr/local/lib/python3.8/dist-packages (from requests->keras-tuner) (1.24.3)\n",
            "Requirement already satisfied: idna<3,>=2.5 in /usr/local/lib/python3.8/dist-packages (from requests->keras-tuner) (2.10)\n",
            "Requirement already satisfied: certifi>=2017.4.17 in /usr/local/lib/python3.8/dist-packages (from requests->keras-tuner) (2022.12.7)\n",
            "Requirement already satisfied: chardet<5,>=3.0.2 in /usr/local/lib/python3.8/dist-packages (from requests->keras-tuner) (4.0.0)\n",
            "Requirement already satisfied: wheel<1.0,>=0.23.0 in /usr/local/lib/python3.8/dist-packages (from astunparse>=1.6.0->tensorflow>=2.0->keras-tuner) (0.38.4)\n",
            "Requirement already satisfied: parso<0.9.0,>=0.8.0 in /usr/local/lib/python3.8/dist-packages (from jedi>=0.10->ipython->keras-tuner) (0.8.3)\n",
            "Requirement already satisfied: wcwidth in /usr/local/lib/python3.8/dist-packages (from prompt-toolkit<2.1.0,>=2.0.0->ipython->keras-tuner) (0.2.6)\n",
            "Requirement already satisfied: markdown>=2.6.8 in /usr/local/lib/python3.8/dist-packages (from tensorboard<2.12,>=2.11->tensorflow>=2.0->keras-tuner) (3.4.1)\n",
            "Requirement already satisfied: tensorboard-data-server<0.7.0,>=0.6.0 in /usr/local/lib/python3.8/dist-packages (from tensorboard<2.12,>=2.11->tensorflow>=2.0->keras-tuner) (0.6.1)\n",
            "Requirement already satisfied: google-auth<3,>=1.6.3 in /usr/local/lib/python3.8/dist-packages (from tensorboard<2.12,>=2.11->tensorflow>=2.0->keras-tuner) (2.16.1)\n",
            "Requirement already satisfied: tensorboard-plugin-wit>=1.6.0 in /usr/local/lib/python3.8/dist-packages (from tensorboard<2.12,>=2.11->tensorflow>=2.0->keras-tuner) (1.8.1)\n",
            "Requirement already satisfied: google-auth-oauthlib<0.5,>=0.4.1 in /usr/local/lib/python3.8/dist-packages (from tensorboard<2.12,>=2.11->tensorflow>=2.0->keras-tuner) (0.4.6)\n",
            "Requirement already satisfied: werkzeug>=1.0.1 in /usr/local/lib/python3.8/dist-packages (from tensorboard<2.12,>=2.11->tensorflow>=2.0->keras-tuner) (1.0.1)\n",
            "Requirement already satisfied: ptyprocess>=0.5 in /usr/local/lib/python3.8/dist-packages (from pexpect->ipython->keras-tuner) (0.7.0)\n",
            "Requirement already satisfied: pyasn1-modules>=0.2.1 in /usr/local/lib/python3.8/dist-packages (from google-auth<3,>=1.6.3->tensorboard<2.12,>=2.11->tensorflow>=2.0->keras-tuner) (0.2.8)\n",
            "Requirement already satisfied: rsa<5,>=3.1.4 in /usr/local/lib/python3.8/dist-packages (from google-auth<3,>=1.6.3->tensorboard<2.12,>=2.11->tensorflow>=2.0->keras-tuner) (4.9)\n",
            "Requirement already satisfied: cachetools<6.0,>=2.0.0 in /usr/local/lib/python3.8/dist-packages (from google-auth<3,>=1.6.3->tensorboard<2.12,>=2.11->tensorflow>=2.0->keras-tuner) (5.3.0)\n",
            "Requirement already satisfied: requests-oauthlib>=0.7.0 in /usr/local/lib/python3.8/dist-packages (from google-auth-oauthlib<0.5,>=0.4.1->tensorboard<2.12,>=2.11->tensorflow>=2.0->keras-tuner) (1.3.1)\n",
            "Requirement already satisfied: importlib-metadata>=4.4 in /usr/local/lib/python3.8/dist-packages (from markdown>=2.6.8->tensorboard<2.12,>=2.11->tensorflow>=2.0->keras-tuner) (6.0.0)\n",
            "Requirement already satisfied: zipp>=0.5 in /usr/local/lib/python3.8/dist-packages (from importlib-metadata>=4.4->markdown>=2.6.8->tensorboard<2.12,>=2.11->tensorflow>=2.0->keras-tuner) (3.14.0)\n",
            "Requirement already satisfied: pyasn1<0.5.0,>=0.4.6 in /usr/local/lib/python3.8/dist-packages (from pyasn1-modules>=0.2.1->google-auth<3,>=1.6.3->tensorboard<2.12,>=2.11->tensorflow>=2.0->keras-tuner) (0.4.8)\n",
            "Requirement already satisfied: oauthlib>=3.0.0 in /usr/local/lib/python3.8/dist-packages (from requests-oauthlib>=0.7.0->google-auth-oauthlib<0.5,>=0.4.1->tensorboard<2.12,>=2.11->tensorflow>=2.0->keras-tuner) (3.2.2)\n",
            "Installing collected packages: kt-legacy, jedi, keras-tuner\n",
            "Successfully installed jedi-0.18.2 keras-tuner-1.3.0 kt-legacy-1.0.4\n"
          ]
        }
      ]
    },
    {
      "cell_type": "markdown",
      "source": [
        "## Data loading & EDA\n"
      ],
      "metadata": {
        "id": "2mHwdSx1gWAF"
      }
    },
    {
      "cell_type": "code",
      "execution_count": 138,
      "metadata": {
        "id": "yvSLV8O5f9gi"
      },
      "outputs": [],
      "source": [
        "# Importing of necessary libraries \n",
        "\n",
        "import numpy  as np\n",
        "import pandas as pd\n",
        "import matplotlib.pyplot as plt\n",
        "import seaborn as sns\n",
        "\n",
        "from sklearn.preprocessing import LabelEncoder\n",
        "from sklearn.model_selection import train_test_split\n",
        "from sklearn import metrics\n",
        "\n",
        "import tensorflow as tf\n",
        "from tensorflow import keras\n",
        "from tensorflow.keras import layers\n",
        "\n",
        "import json\n",
        "from sklearn.preprocessing import normalize\n",
        "# install the Keras-tuner library\n",
        "\n",
        "import kerastuner as kt\n",
        "\n",
        "# set random seeds to get reproducible results\n",
        "import os\n",
        "seed = 100\n",
        "os.environ['PYTHONHASHSEED']=str(seed) \n",
        "keras.utils.set_random_seed(seed) # set all random seeds for the program (Python, NumPy, and TensorFlow) \n",
        "\n",
        "RANDOM_SEED = 100\n",
        "\n"
      ]
    },
    {
      "cell_type": "code",
      "source": [
        "# Loading of Train Dataset and displaying the first 5 rows\n",
        "\n",
        "df_Train = pd.read_csv('https://raw.githubusercontent.com/harishahamed26/Diabetes_Prediction_Using_Neural_Network/main/data/train.csv')\n",
        "df_Train.head(5)"
      ],
      "metadata": {
        "colab": {
          "base_uri": "https://localhost:8080/",
          "height": 206
        },
        "id": "_L8ImF57gz16",
        "outputId": "78a15888-a0d1-4514-9e67-34462fef0925"
      },
      "execution_count": 87,
      "outputs": [
        {
          "output_type": "execute_result",
          "data": {
            "text/plain": [
              "   id  A1   A2  A3  A4   A5    A6     A7  A8  class\n",
              "0   1   6  148  72  35    0  33.6  0.627  50      1\n",
              "1   2   1   85  66  29    0  26.6  0.351  31      0\n",
              "2   3   8  183  64   0    0  23.3  0.672  32      1\n",
              "3   4   1   89  66  23   94  28.1  0.167  21      0\n",
              "4   5   0  137  40  35  168  43.1  2.288  33      1"
            ],
            "text/html": [
              "\n",
              "  <div id=\"df-131ebab2-8829-4f00-ba3e-1be5850c04c5\">\n",
              "    <div class=\"colab-df-container\">\n",
              "      <div>\n",
              "<style scoped>\n",
              "    .dataframe tbody tr th:only-of-type {\n",
              "        vertical-align: middle;\n",
              "    }\n",
              "\n",
              "    .dataframe tbody tr th {\n",
              "        vertical-align: top;\n",
              "    }\n",
              "\n",
              "    .dataframe thead th {\n",
              "        text-align: right;\n",
              "    }\n",
              "</style>\n",
              "<table border=\"1\" class=\"dataframe\">\n",
              "  <thead>\n",
              "    <tr style=\"text-align: right;\">\n",
              "      <th></th>\n",
              "      <th>id</th>\n",
              "      <th>A1</th>\n",
              "      <th>A2</th>\n",
              "      <th>A3</th>\n",
              "      <th>A4</th>\n",
              "      <th>A5</th>\n",
              "      <th>A6</th>\n",
              "      <th>A7</th>\n",
              "      <th>A8</th>\n",
              "      <th>class</th>\n",
              "    </tr>\n",
              "  </thead>\n",
              "  <tbody>\n",
              "    <tr>\n",
              "      <th>0</th>\n",
              "      <td>1</td>\n",
              "      <td>6</td>\n",
              "      <td>148</td>\n",
              "      <td>72</td>\n",
              "      <td>35</td>\n",
              "      <td>0</td>\n",
              "      <td>33.6</td>\n",
              "      <td>0.627</td>\n",
              "      <td>50</td>\n",
              "      <td>1</td>\n",
              "    </tr>\n",
              "    <tr>\n",
              "      <th>1</th>\n",
              "      <td>2</td>\n",
              "      <td>1</td>\n",
              "      <td>85</td>\n",
              "      <td>66</td>\n",
              "      <td>29</td>\n",
              "      <td>0</td>\n",
              "      <td>26.6</td>\n",
              "      <td>0.351</td>\n",
              "      <td>31</td>\n",
              "      <td>0</td>\n",
              "    </tr>\n",
              "    <tr>\n",
              "      <th>2</th>\n",
              "      <td>3</td>\n",
              "      <td>8</td>\n",
              "      <td>183</td>\n",
              "      <td>64</td>\n",
              "      <td>0</td>\n",
              "      <td>0</td>\n",
              "      <td>23.3</td>\n",
              "      <td>0.672</td>\n",
              "      <td>32</td>\n",
              "      <td>1</td>\n",
              "    </tr>\n",
              "    <tr>\n",
              "      <th>3</th>\n",
              "      <td>4</td>\n",
              "      <td>1</td>\n",
              "      <td>89</td>\n",
              "      <td>66</td>\n",
              "      <td>23</td>\n",
              "      <td>94</td>\n",
              "      <td>28.1</td>\n",
              "      <td>0.167</td>\n",
              "      <td>21</td>\n",
              "      <td>0</td>\n",
              "    </tr>\n",
              "    <tr>\n",
              "      <th>4</th>\n",
              "      <td>5</td>\n",
              "      <td>0</td>\n",
              "      <td>137</td>\n",
              "      <td>40</td>\n",
              "      <td>35</td>\n",
              "      <td>168</td>\n",
              "      <td>43.1</td>\n",
              "      <td>2.288</td>\n",
              "      <td>33</td>\n",
              "      <td>1</td>\n",
              "    </tr>\n",
              "  </tbody>\n",
              "</table>\n",
              "</div>\n",
              "      <button class=\"colab-df-convert\" onclick=\"convertToInteractive('df-131ebab2-8829-4f00-ba3e-1be5850c04c5')\"\n",
              "              title=\"Convert this dataframe to an interactive table.\"\n",
              "              style=\"display:none;\">\n",
              "        \n",
              "  <svg xmlns=\"http://www.w3.org/2000/svg\" height=\"24px\"viewBox=\"0 0 24 24\"\n",
              "       width=\"24px\">\n",
              "    <path d=\"M0 0h24v24H0V0z\" fill=\"none\"/>\n",
              "    <path d=\"M18.56 5.44l.94 2.06.94-2.06 2.06-.94-2.06-.94-.94-2.06-.94 2.06-2.06.94zm-11 1L8.5 8.5l.94-2.06 2.06-.94-2.06-.94L8.5 2.5l-.94 2.06-2.06.94zm10 10l.94 2.06.94-2.06 2.06-.94-2.06-.94-.94-2.06-.94 2.06-2.06.94z\"/><path d=\"M17.41 7.96l-1.37-1.37c-.4-.4-.92-.59-1.43-.59-.52 0-1.04.2-1.43.59L10.3 9.45l-7.72 7.72c-.78.78-.78 2.05 0 2.83L4 21.41c.39.39.9.59 1.41.59.51 0 1.02-.2 1.41-.59l7.78-7.78 2.81-2.81c.8-.78.8-2.07 0-2.86zM5.41 20L4 18.59l7.72-7.72 1.47 1.35L5.41 20z\"/>\n",
              "  </svg>\n",
              "      </button>\n",
              "      \n",
              "  <style>\n",
              "    .colab-df-container {\n",
              "      display:flex;\n",
              "      flex-wrap:wrap;\n",
              "      gap: 12px;\n",
              "    }\n",
              "\n",
              "    .colab-df-convert {\n",
              "      background-color: #E8F0FE;\n",
              "      border: none;\n",
              "      border-radius: 50%;\n",
              "      cursor: pointer;\n",
              "      display: none;\n",
              "      fill: #1967D2;\n",
              "      height: 32px;\n",
              "      padding: 0 0 0 0;\n",
              "      width: 32px;\n",
              "    }\n",
              "\n",
              "    .colab-df-convert:hover {\n",
              "      background-color: #E2EBFA;\n",
              "      box-shadow: 0px 1px 2px rgba(60, 64, 67, 0.3), 0px 1px 3px 1px rgba(60, 64, 67, 0.15);\n",
              "      fill: #174EA6;\n",
              "    }\n",
              "\n",
              "    [theme=dark] .colab-df-convert {\n",
              "      background-color: #3B4455;\n",
              "      fill: #D2E3FC;\n",
              "    }\n",
              "\n",
              "    [theme=dark] .colab-df-convert:hover {\n",
              "      background-color: #434B5C;\n",
              "      box-shadow: 0px 1px 3px 1px rgba(0, 0, 0, 0.15);\n",
              "      filter: drop-shadow(0px 1px 2px rgba(0, 0, 0, 0.3));\n",
              "      fill: #FFFFFF;\n",
              "    }\n",
              "  </style>\n",
              "\n",
              "      <script>\n",
              "        const buttonEl =\n",
              "          document.querySelector('#df-131ebab2-8829-4f00-ba3e-1be5850c04c5 button.colab-df-convert');\n",
              "        buttonEl.style.display =\n",
              "          google.colab.kernel.accessAllowed ? 'block' : 'none';\n",
              "\n",
              "        async function convertToInteractive(key) {\n",
              "          const element = document.querySelector('#df-131ebab2-8829-4f00-ba3e-1be5850c04c5');\n",
              "          const dataTable =\n",
              "            await google.colab.kernel.invokeFunction('convertToInteractive',\n",
              "                                                     [key], {});\n",
              "          if (!dataTable) return;\n",
              "\n",
              "          const docLinkHtml = 'Like what you see? Visit the ' +\n",
              "            '<a target=\"_blank\" href=https://colab.research.google.com/notebooks/data_table.ipynb>data table notebook</a>'\n",
              "            + ' to learn more about interactive tables.';\n",
              "          element.innerHTML = '';\n",
              "          dataTable['output_type'] = 'display_data';\n",
              "          await google.colab.output.renderOutput(dataTable, element);\n",
              "          const docLink = document.createElement('div');\n",
              "          docLink.innerHTML = docLinkHtml;\n",
              "          element.appendChild(docLink);\n",
              "        }\n",
              "      </script>\n",
              "    </div>\n",
              "  </div>\n",
              "  "
            ]
          },
          "metadata": {},
          "execution_count": 87
        }
      ]
    },
    {
      "cell_type": "code",
      "source": [
        "df_Train.info() # Information about Train Dataset"
      ],
      "metadata": {
        "colab": {
          "base_uri": "https://localhost:8080/"
        },
        "id": "Lt6k5WC2hpcp",
        "outputId": "576f7fa0-366b-4074-98ba-4d7cb5902a8e"
      },
      "execution_count": 88,
      "outputs": [
        {
          "output_type": "stream",
          "name": "stdout",
          "text": [
            "<class 'pandas.core.frame.DataFrame'>\n",
            "RangeIndex: 668 entries, 0 to 667\n",
            "Data columns (total 10 columns):\n",
            " #   Column  Non-Null Count  Dtype  \n",
            "---  ------  --------------  -----  \n",
            " 0   id      668 non-null    int64  \n",
            " 1   A1      668 non-null    int64  \n",
            " 2   A2      668 non-null    int64  \n",
            " 3   A3      668 non-null    int64  \n",
            " 4   A4      668 non-null    int64  \n",
            " 5   A5      668 non-null    int64  \n",
            " 6   A6      668 non-null    float64\n",
            " 7   A7      668 non-null    float64\n",
            " 8   A8      668 non-null    int64  \n",
            " 9   class   668 non-null    int64  \n",
            "dtypes: float64(2), int64(8)\n",
            "memory usage: 52.3 KB\n"
          ]
        }
      ]
    },
    {
      "cell_type": "code",
      "source": [
        "df_Train.isna().sum() # Checking the null values"
      ],
      "metadata": {
        "colab": {
          "base_uri": "https://localhost:8080/"
        },
        "id": "CTafJkVqlCWl",
        "outputId": "30c0bf12-a4de-420f-9e40-caf681440b42"
      },
      "execution_count": null,
      "outputs": [
        {
          "output_type": "execute_result",
          "data": {
            "text/plain": [
              "id       0\n",
              "A1       0\n",
              "A2       0\n",
              "A3       0\n",
              "A4       0\n",
              "A5       0\n",
              "A6       0\n",
              "A7       0\n",
              "A8       0\n",
              "class    0\n",
              "dtype: int64"
            ]
          },
          "metadata": {},
          "execution_count": 7
        }
      ]
    },
    {
      "cell_type": "code",
      "source": [
        "df_Train.describe() # Description Statistical Analysis"
      ],
      "metadata": {
        "colab": {
          "base_uri": "https://localhost:8080/",
          "height": 344
        },
        "id": "8JH1ODI8iBsw",
        "outputId": "46aeb933-5aa9-4ef1-c20e-5c08580de86c"
      },
      "execution_count": null,
      "outputs": [
        {
          "output_type": "execute_result",
          "data": {
            "text/plain": [
              "               id          A1          A2          A3          A4          A5  \\\n",
              "count  668.000000  668.000000  668.000000  668.000000  668.000000  668.000000   \n",
              "mean   334.500000    3.812874  120.405689   68.748503   20.567365   79.654192   \n",
              "std    192.979273    3.365672   32.291473   19.526392   16.020600  115.827750   \n",
              "min      1.000000    0.000000    0.000000    0.000000    0.000000    0.000000   \n",
              "25%    167.750000    1.000000   99.000000   64.000000    0.000000    0.000000   \n",
              "50%    334.500000    3.000000  116.000000   72.000000   23.000000   36.500000   \n",
              "75%    501.250000    6.000000  140.000000   80.000000   32.000000  126.000000   \n",
              "max    668.000000   17.000000  199.000000  122.000000   99.000000  846.000000   \n",
              "\n",
              "               A6          A7          A8       class  \n",
              "count  668.000000  668.000000  668.000000  668.000000  \n",
              "mean    31.860180    0.477329   33.091317    0.345808  \n",
              "std      7.827111    0.341398   11.711386    0.475988  \n",
              "min      0.000000    0.078000   21.000000    0.000000  \n",
              "25%     27.100000    0.238750   24.000000    0.000000  \n",
              "50%     32.000000    0.377000   29.000000    0.000000  \n",
              "75%     36.500000    0.641250   40.000000    1.000000  \n",
              "max     67.100000    2.420000   81.000000    1.000000  "
            ],
            "text/html": [
              "\n",
              "  <div id=\"df-7c99726d-3fdf-47c1-8a40-15d9d4a98adf\">\n",
              "    <div class=\"colab-df-container\">\n",
              "      <div>\n",
              "<style scoped>\n",
              "    .dataframe tbody tr th:only-of-type {\n",
              "        vertical-align: middle;\n",
              "    }\n",
              "\n",
              "    .dataframe tbody tr th {\n",
              "        vertical-align: top;\n",
              "    }\n",
              "\n",
              "    .dataframe thead th {\n",
              "        text-align: right;\n",
              "    }\n",
              "</style>\n",
              "<table border=\"1\" class=\"dataframe\">\n",
              "  <thead>\n",
              "    <tr style=\"text-align: right;\">\n",
              "      <th></th>\n",
              "      <th>id</th>\n",
              "      <th>A1</th>\n",
              "      <th>A2</th>\n",
              "      <th>A3</th>\n",
              "      <th>A4</th>\n",
              "      <th>A5</th>\n",
              "      <th>A6</th>\n",
              "      <th>A7</th>\n",
              "      <th>A8</th>\n",
              "      <th>class</th>\n",
              "    </tr>\n",
              "  </thead>\n",
              "  <tbody>\n",
              "    <tr>\n",
              "      <th>count</th>\n",
              "      <td>668.000000</td>\n",
              "      <td>668.000000</td>\n",
              "      <td>668.000000</td>\n",
              "      <td>668.000000</td>\n",
              "      <td>668.000000</td>\n",
              "      <td>668.000000</td>\n",
              "      <td>668.000000</td>\n",
              "      <td>668.000000</td>\n",
              "      <td>668.000000</td>\n",
              "      <td>668.000000</td>\n",
              "    </tr>\n",
              "    <tr>\n",
              "      <th>mean</th>\n",
              "      <td>334.500000</td>\n",
              "      <td>3.812874</td>\n",
              "      <td>120.405689</td>\n",
              "      <td>68.748503</td>\n",
              "      <td>20.567365</td>\n",
              "      <td>79.654192</td>\n",
              "      <td>31.860180</td>\n",
              "      <td>0.477329</td>\n",
              "      <td>33.091317</td>\n",
              "      <td>0.345808</td>\n",
              "    </tr>\n",
              "    <tr>\n",
              "      <th>std</th>\n",
              "      <td>192.979273</td>\n",
              "      <td>3.365672</td>\n",
              "      <td>32.291473</td>\n",
              "      <td>19.526392</td>\n",
              "      <td>16.020600</td>\n",
              "      <td>115.827750</td>\n",
              "      <td>7.827111</td>\n",
              "      <td>0.341398</td>\n",
              "      <td>11.711386</td>\n",
              "      <td>0.475988</td>\n",
              "    </tr>\n",
              "    <tr>\n",
              "      <th>min</th>\n",
              "      <td>1.000000</td>\n",
              "      <td>0.000000</td>\n",
              "      <td>0.000000</td>\n",
              "      <td>0.000000</td>\n",
              "      <td>0.000000</td>\n",
              "      <td>0.000000</td>\n",
              "      <td>0.000000</td>\n",
              "      <td>0.078000</td>\n",
              "      <td>21.000000</td>\n",
              "      <td>0.000000</td>\n",
              "    </tr>\n",
              "    <tr>\n",
              "      <th>25%</th>\n",
              "      <td>167.750000</td>\n",
              "      <td>1.000000</td>\n",
              "      <td>99.000000</td>\n",
              "      <td>64.000000</td>\n",
              "      <td>0.000000</td>\n",
              "      <td>0.000000</td>\n",
              "      <td>27.100000</td>\n",
              "      <td>0.238750</td>\n",
              "      <td>24.000000</td>\n",
              "      <td>0.000000</td>\n",
              "    </tr>\n",
              "    <tr>\n",
              "      <th>50%</th>\n",
              "      <td>334.500000</td>\n",
              "      <td>3.000000</td>\n",
              "      <td>116.000000</td>\n",
              "      <td>72.000000</td>\n",
              "      <td>23.000000</td>\n",
              "      <td>36.500000</td>\n",
              "      <td>32.000000</td>\n",
              "      <td>0.377000</td>\n",
              "      <td>29.000000</td>\n",
              "      <td>0.000000</td>\n",
              "    </tr>\n",
              "    <tr>\n",
              "      <th>75%</th>\n",
              "      <td>501.250000</td>\n",
              "      <td>6.000000</td>\n",
              "      <td>140.000000</td>\n",
              "      <td>80.000000</td>\n",
              "      <td>32.000000</td>\n",
              "      <td>126.000000</td>\n",
              "      <td>36.500000</td>\n",
              "      <td>0.641250</td>\n",
              "      <td>40.000000</td>\n",
              "      <td>1.000000</td>\n",
              "    </tr>\n",
              "    <tr>\n",
              "      <th>max</th>\n",
              "      <td>668.000000</td>\n",
              "      <td>17.000000</td>\n",
              "      <td>199.000000</td>\n",
              "      <td>122.000000</td>\n",
              "      <td>99.000000</td>\n",
              "      <td>846.000000</td>\n",
              "      <td>67.100000</td>\n",
              "      <td>2.420000</td>\n",
              "      <td>81.000000</td>\n",
              "      <td>1.000000</td>\n",
              "    </tr>\n",
              "  </tbody>\n",
              "</table>\n",
              "</div>\n",
              "      <button class=\"colab-df-convert\" onclick=\"convertToInteractive('df-7c99726d-3fdf-47c1-8a40-15d9d4a98adf')\"\n",
              "              title=\"Convert this dataframe to an interactive table.\"\n",
              "              style=\"display:none;\">\n",
              "        \n",
              "  <svg xmlns=\"http://www.w3.org/2000/svg\" height=\"24px\"viewBox=\"0 0 24 24\"\n",
              "       width=\"24px\">\n",
              "    <path d=\"M0 0h24v24H0V0z\" fill=\"none\"/>\n",
              "    <path d=\"M18.56 5.44l.94 2.06.94-2.06 2.06-.94-2.06-.94-.94-2.06-.94 2.06-2.06.94zm-11 1L8.5 8.5l.94-2.06 2.06-.94-2.06-.94L8.5 2.5l-.94 2.06-2.06.94zm10 10l.94 2.06.94-2.06 2.06-.94-2.06-.94-.94-2.06-.94 2.06-2.06.94z\"/><path d=\"M17.41 7.96l-1.37-1.37c-.4-.4-.92-.59-1.43-.59-.52 0-1.04.2-1.43.59L10.3 9.45l-7.72 7.72c-.78.78-.78 2.05 0 2.83L4 21.41c.39.39.9.59 1.41.59.51 0 1.02-.2 1.41-.59l7.78-7.78 2.81-2.81c.8-.78.8-2.07 0-2.86zM5.41 20L4 18.59l7.72-7.72 1.47 1.35L5.41 20z\"/>\n",
              "  </svg>\n",
              "      </button>\n",
              "      \n",
              "  <style>\n",
              "    .colab-df-container {\n",
              "      display:flex;\n",
              "      flex-wrap:wrap;\n",
              "      gap: 12px;\n",
              "    }\n",
              "\n",
              "    .colab-df-convert {\n",
              "      background-color: #E8F0FE;\n",
              "      border: none;\n",
              "      border-radius: 50%;\n",
              "      cursor: pointer;\n",
              "      display: none;\n",
              "      fill: #1967D2;\n",
              "      height: 32px;\n",
              "      padding: 0 0 0 0;\n",
              "      width: 32px;\n",
              "    }\n",
              "\n",
              "    .colab-df-convert:hover {\n",
              "      background-color: #E2EBFA;\n",
              "      box-shadow: 0px 1px 2px rgba(60, 64, 67, 0.3), 0px 1px 3px 1px rgba(60, 64, 67, 0.15);\n",
              "      fill: #174EA6;\n",
              "    }\n",
              "\n",
              "    [theme=dark] .colab-df-convert {\n",
              "      background-color: #3B4455;\n",
              "      fill: #D2E3FC;\n",
              "    }\n",
              "\n",
              "    [theme=dark] .colab-df-convert:hover {\n",
              "      background-color: #434B5C;\n",
              "      box-shadow: 0px 1px 3px 1px rgba(0, 0, 0, 0.15);\n",
              "      filter: drop-shadow(0px 1px 2px rgba(0, 0, 0, 0.3));\n",
              "      fill: #FFFFFF;\n",
              "    }\n",
              "  </style>\n",
              "\n",
              "      <script>\n",
              "        const buttonEl =\n",
              "          document.querySelector('#df-7c99726d-3fdf-47c1-8a40-15d9d4a98adf button.colab-df-convert');\n",
              "        buttonEl.style.display =\n",
              "          google.colab.kernel.accessAllowed ? 'block' : 'none';\n",
              "\n",
              "        async function convertToInteractive(key) {\n",
              "          const element = document.querySelector('#df-7c99726d-3fdf-47c1-8a40-15d9d4a98adf');\n",
              "          const dataTable =\n",
              "            await google.colab.kernel.invokeFunction('convertToInteractive',\n",
              "                                                     [key], {});\n",
              "          if (!dataTable) return;\n",
              "\n",
              "          const docLinkHtml = 'Like what you see? Visit the ' +\n",
              "            '<a target=\"_blank\" href=https://colab.research.google.com/notebooks/data_table.ipynb>data table notebook</a>'\n",
              "            + ' to learn more about interactive tables.';\n",
              "          element.innerHTML = '';\n",
              "          dataTable['output_type'] = 'display_data';\n",
              "          await google.colab.output.renderOutput(dataTable, element);\n",
              "          const docLink = document.createElement('div');\n",
              "          docLink.innerHTML = docLinkHtml;\n",
              "          element.appendChild(docLink);\n",
              "        }\n",
              "      </script>\n",
              "    </div>\n",
              "  </div>\n",
              "  "
            ]
          },
          "metadata": {},
          "execution_count": 8
        }
      ]
    },
    {
      "cell_type": "code",
      "source": [
        "plt.figure(figsize=(8,8))\n",
        "sns.heatmap(df_Train.corr(), annot = True, cmap = 'YlOrBr', fmt='.1g')\n",
        "plt.title('Data Correlation')\n",
        "plt.show()"
      ],
      "metadata": {
        "colab": {
          "base_uri": "https://localhost:8080/",
          "height": 499
        },
        "id": "DMI4BjR-iKw7",
        "outputId": "a28ea782-2136-40c1-cf8c-81f32aa260e7"
      },
      "execution_count": null,
      "outputs": [
        {
          "output_type": "display_data",
          "data": {
            "text/plain": [
              "<Figure size 576x576 with 2 Axes>"
            ],
            "image/png": "[encoded data removed]"
          },
          "metadata": {
            "needs_background": "light"
          }
        }
      ]
    },
    {
      "cell_type": "code",
      "source": [
        "import warnings\n",
        "warnings.filterwarnings('ignore')\n",
        "CountPlot = []\n",
        "CountPlot = df_Train['class']\n",
        "CountPlot = CountPlot.replace(0,'Negative')\n",
        "CountPlot = CountPlot.replace(1,'Postivie')\n",
        "\n",
        "plt.figure(figsize=(6,6))\n",
        "sns.countplot(CountPlot)\n",
        "plt.title('Count plot')\n",
        "plt.show()"
      ],
      "metadata": {
        "colab": {
          "base_uri": "https://localhost:8080/",
          "height": 404
        },
        "id": "d3BNGdRDlNC8",
        "outputId": "7add6f64-1882-4bfc-be38-a34261d0e469"
      },
      "execution_count": 89,
      "outputs": [
        {
          "output_type": "display_data",
          "data": {
            "text/plain": [
              "<Figure size 432x432 with 1 Axes>"
            ],
            "image/png": "[encoded data removed]"
          },
          "metadata": {
            "needs_background": "light"
          }
        }
      ]
    },
    {
      "cell_type": "code",
      "source": [
        "# Removing of noise \n",
        "\n",
        "df_Train['A2'] = df_Train['A2'].replace(0, 140)\n",
        "df_Train['A3'] = df_Train['A3'].replace(0, 60)\n",
        "df_Train['A4'] = df_Train['A4'].replace(0, 8.5)\n",
        "df_Train['A5'] = df_Train['A5'].replace(0, 9)\n",
        "df_Train['A6'] = df_Train['A6'].replace(0, 18.5)"
      ],
      "metadata": {
        "id": "HcEK_mPNgg3W"
      },
      "execution_count": null,
      "outputs": []
    },
    {
      "cell_type": "markdown",
      "source": [
        "# Data Splitting and Model Building"
      ],
      "metadata": {
        "id": "IKMPSLRNoduA"
      }
    },
    {
      "cell_type": "code",
      "source": [
        "\n",
        "\n",
        "from imblearn.over_sampling import SMOTE\n",
        "\n",
        "smote = SMOTE()\n",
        "df_Train.iloc[:,0:8], df_Train['class'] =smote.fit_resample(df_Train.iloc[:,0:8], df_Train['class'])\n",
        "\n"
      ],
      "metadata": {
        "id": "SDgV0Xk43eR9"
      },
      "execution_count": null,
      "outputs": []
    },
    {
      "cell_type": "code",
      "source": [
        "# Splitting of data\n",
        "df_Train.drop('id', axis= 1, inplace = True)\n",
        "x = df_Train.iloc[:,0:8]\n",
        "y = df_Train['class']\n"
      ],
      "metadata": {
        "id": "2JrUGvArojM1"
      },
      "execution_count": 90,
      "outputs": []
    },
    {
      "cell_type": "code",
      "source": [
        "# Feature selection using ExtraTreesClassifier\n",
        "\n",
        "X=df_Train.iloc[:,0:8]\n",
        "Y=df_Train['class']\n",
        "from sklearn.ensemble import ExtraTreesClassifier\n",
        "model = ExtraTreesClassifier()\n",
        "model.fit(X, Y)\n",
        "print(model.feature_importances_)\n",
        "feat_importances = pd.Series(model.feature_importances_, index=X.columns)\n",
        "feat_importances.nlargest(13).plot.bar()\n",
        "plt.show()\n",
        "list1=feat_importances.keys().to_list()"
      ],
      "metadata": {
        "colab": {
          "base_uri": "https://localhost:8080/",
          "height": 305
        },
        "id": "OTxg7__rq_V1",
        "outputId": "80757f77-d8ce-410c-dc79-e3ec97b312ad"
      },
      "execution_count": 91,
      "outputs": [
        {
          "output_type": "stream",
          "name": "stdout",
          "text": [
            "[0.10820331 0.22373098 0.09722949 0.08012078 0.0833783  0.14861593\n",
            " 0.11864166 0.14007954]\n"
          ]
        },
        {
          "output_type": "display_data",
          "data": {
            "text/plain": [
              "<Figure size 432x288 with 1 Axes>"
            ],
            "image/png": "[encoded data removed]"
          },
          "metadata": {
            "needs_background": "light"
          }
        }
      ]
    },
    {
      "cell_type": "code",
      "source": [
        "# Defining Early Stop method\n",
        "\n",
        "EarlyStop = keras.callbacks.EarlyStopping(monitor='val_accuracy', patience=5, restore_best_weights=True)\n"
      ],
      "metadata": {
        "id": "fGH_8BZKNU5M"
      },
      "execution_count": 92,
      "outputs": []
    },
    {
      "cell_type": "markdown",
      "source": [
        "## Model 1 \n",
        "   starting with 2 nodes\n",
        "   "
      ],
      "metadata": {
        "id": "MTQ2fUoKMcIJ"
      }
    },
    {
      "cell_type": "code",
      "source": [
        "# Data split for train and validation \n",
        "\n",
        "from sklearn.preprocessing import StandardScaler\n",
        "\n",
        "x = df_Train.iloc[:, [1,5]]\n",
        "\n",
        "\n",
        "scaler = StandardScaler()\n",
        "x =  scaler.fit_transform(x)\n",
        "\n",
        "X_train, X_test, Y_train, Y_test = train_test_split(x, y, test_size=0.3,\n",
        "                                                    random_state=RANDOM_SEED)\n",
        "\n",
        "\n",
        "# define the keras model\n",
        "model1 = keras.Sequential()\n",
        "model1.add(layers.Dense(4, input_dim=2, activation='relu'))\n",
        "model1.add(layers.Dense(6, activation='relu'))\n",
        "model1.add(layers.Dense(1, activation='sigmoid'))\n",
        "\n",
        "model1.summary()"
      ],
      "metadata": {
        "colab": {
          "base_uri": "https://localhost:8080/"
        },
        "id": "2e1Zhdz3Oham",
        "outputId": "c354aed1-80d9-4419-da7f-c58e8264bf0c"
      },
      "execution_count": 93,
      "outputs": [
        {
          "output_type": "stream",
          "name": "stdout",
          "text": [
            "Model: \"sequential\"\n",
            "_________________________________________________________________\n",
            " Layer (type)                Output Shape              Param #   \n",
            "=================================================================\n",
            " dense (Dense)               (None, 4)                 12        \n",
            "                                                                 \n",
            " dense_1 (Dense)             (None, 6)                 30        \n",
            "                                                                 \n",
            " dense_2 (Dense)             (None, 1)                 7         \n",
            "                                                                 \n",
            "=================================================================\n",
            "Total params: 49\n",
            "Trainable params: 49\n",
            "Non-trainable params: 0\n",
            "_________________________________________________________________\n"
          ]
        }
      ]
    },
    {
      "cell_type": "code",
      "source": [
        "\n",
        "# Compiling the keras model\n",
        "model1.compile(loss='binary_crossentropy', optimizer='adam', metrics=['accuracy'])\n",
        "\n",
        "# Fitting the model\n",
        "m1 = model1.fit(X_train, Y_train, batch_size=20, epochs=120, \n",
        "           validation_data=(X_test, Y_test) ,  callbacks = [EarlyStop])\n",
        "     \n",
        "Model1_scores = model1.evaluate(X_test, Y_test, verbose=0)\n",
        "\n",
        "print('\\n')\n",
        "print(\"Model Score: %.2f%%\" % (Model1_scores[1]*100))\n",
        "\n",
        "m1_val_accuracy = m1.history['val_accuracy'][-1] * 100\n",
        "print('\\n')\n",
        "print(\"Validation Score: %.2f%%\" % (m1_val_accuracy))\n",
        "\n",
        "\n"
      ],
      "metadata": {
        "colab": {
          "base_uri": "https://localhost:8080/"
        },
        "id": "Ps0cXoDoO3aK",
        "outputId": "a44f5458-cb40-4fd2-b98d-cb38c6446c76"
      },
      "execution_count": 94,
      "outputs": [
        {
          "output_type": "stream",
          "name": "stdout",
          "text": [
            "Epoch 1/120\n",
            "24/24 [==============================] - 2s 12ms/step - loss: 0.6087 - accuracy: 0.6938 - val_loss: 0.5854 - val_accuracy: 0.6965\n",
            "Epoch 2/120\n",
            "24/24 [==============================] - 0s 4ms/step - loss: 0.5928 - accuracy: 0.7002 - val_loss: 0.5693 - val_accuracy: 0.6915\n",
            "Epoch 3/120\n",
            "24/24 [==============================] - 0s 5ms/step - loss: 0.5803 - accuracy: 0.6916 - val_loss: 0.5563 - val_accuracy: 0.7114\n",
            "Epoch 4/120\n",
            "24/24 [==============================] - 0s 4ms/step - loss: 0.5713 - accuracy: 0.6916 - val_loss: 0.5463 - val_accuracy: 0.7214\n",
            "Epoch 5/120\n",
            "24/24 [==============================] - 0s 5ms/step - loss: 0.5645 - accuracy: 0.7024 - val_loss: 0.5387 - val_accuracy: 0.7313\n",
            "Epoch 6/120\n",
            "24/24 [==============================] - 0s 4ms/step - loss: 0.5595 - accuracy: 0.7066 - val_loss: 0.5335 - val_accuracy: 0.7363\n",
            "Epoch 7/120\n",
            "24/24 [==============================] - 0s 4ms/step - loss: 0.5552 - accuracy: 0.7109 - val_loss: 0.5283 - val_accuracy: 0.7562\n",
            "Epoch 8/120\n",
            "24/24 [==============================] - 0s 4ms/step - loss: 0.5514 - accuracy: 0.7259 - val_loss: 0.5237 - val_accuracy: 0.7662\n",
            "Epoch 9/120\n",
            "24/24 [==============================] - 0s 5ms/step - loss: 0.5481 - accuracy: 0.7366 - val_loss: 0.5193 - val_accuracy: 0.7711\n",
            "Epoch 10/120\n",
            "24/24 [==============================] - 0s 4ms/step - loss: 0.5453 - accuracy: 0.7281 - val_loss: 0.5166 - val_accuracy: 0.7861\n",
            "Epoch 11/120\n",
            "24/24 [==============================] - 0s 4ms/step - loss: 0.5426 - accuracy: 0.7366 - val_loss: 0.5131 - val_accuracy: 0.7861\n",
            "Epoch 12/120\n",
            "24/24 [==============================] - 0s 4ms/step - loss: 0.5399 - accuracy: 0.7452 - val_loss: 0.5108 - val_accuracy: 0.7910\n",
            "Epoch 13/120\n",
            "24/24 [==============================] - 0s 4ms/step - loss: 0.5374 - accuracy: 0.7559 - val_loss: 0.5085 - val_accuracy: 0.7960\n",
            "Epoch 14/120\n",
            "24/24 [==============================] - 0s 5ms/step - loss: 0.5349 - accuracy: 0.7666 - val_loss: 0.5051 - val_accuracy: 0.8010\n",
            "Epoch 15/120\n",
            "24/24 [==============================] - 0s 4ms/step - loss: 0.5325 - accuracy: 0.7623 - val_loss: 0.5025 - val_accuracy: 0.7861\n",
            "Epoch 16/120\n",
            "24/24 [==============================] - 0s 4ms/step - loss: 0.5303 - accuracy: 0.7623 - val_loss: 0.4999 - val_accuracy: 0.7910\n",
            "Epoch 17/120\n",
            "24/24 [==============================] - 0s 4ms/step - loss: 0.5286 - accuracy: 0.7602 - val_loss: 0.4983 - val_accuracy: 0.7811\n",
            "Epoch 18/120\n",
            "24/24 [==============================] - 0s 4ms/step - loss: 0.5268 - accuracy: 0.7602 - val_loss: 0.4965 - val_accuracy: 0.7761\n",
            "Epoch 19/120\n",
            "24/24 [==============================] - 0s 6ms/step - loss: 0.5251 - accuracy: 0.7537 - val_loss: 0.4945 - val_accuracy: 0.7910\n",
            "\n",
            "\n",
            "Model Score: 80.10%\n",
            "\n",
            "\n",
            "Validation Score: 79.10%\n"
          ]
        }
      ]
    },
    {
      "cell_type": "code",
      "source": [
        "\n",
        "# summarize the history for accuracy\n",
        "plt.plot(m1.history['accuracy'])\n",
        "plt.plot(m1.history['val_accuracy'])\n",
        "plt.title('model accuracy')\n",
        "plt.ylabel('accuracy')\n",
        "plt.xlabel('epoch')\n",
        "plt.legend(['train','test'], loc='upper left')\n",
        "plt.show()\n",
        "\n",
        "# summarize the history for loss\n",
        "plt.plot(m1.history['loss'])\n",
        "plt.plot(m1.history['val_loss'])\n",
        "plt.title('model loss')\n",
        "plt.ylabel('loss')\n",
        "plt.xlabel('epoch')\n",
        "plt.legend(['train','test'], loc='upper left')\n",
        "plt.show()\n",
        "     "
      ],
      "metadata": {
        "colab": {
          "base_uri": "https://localhost:8080/",
          "height": 573
        },
        "id": "atyLJZQR9iNy",
        "outputId": "eeb546ae-35ac-4616-cd40-107fd6e44620"
      },
      "execution_count": 95,
      "outputs": [
        {
          "output_type": "display_data",
          "data": {
            "text/plain": [
              "<Figure size 432x288 with 1 Axes>"
            ],
            "image/png": "[encoded data removed]"
          },
          "metadata": {
            "needs_background": "light"
          }
        },
        {
          "output_type": "display_data",
          "data": {
            "text/plain": [
              "<Figure size 432x288 with 1 Axes>"
            ],
            "image/png": "[encoded data removed]"
          },
          "metadata": {
            "needs_background": "light"
          }
        }
      ]
    },
    {
      "cell_type": "code",
      "source": [
        "# clear session\n",
        "keras.backend.clear_session()\n",
        "keras.utils.set_random_seed(seed)"
      ],
      "metadata": {
        "id": "xqoOtMtbRTsd"
      },
      "execution_count": 96,
      "outputs": []
    },
    {
      "cell_type": "markdown",
      "source": [
        "## Model 2\n",
        "    starting with 4 nodes\n",
        "    \n"
      ],
      "metadata": {
        "id": "HFiQphljMl1f"
      }
    },
    {
      "cell_type": "code",
      "source": [
        "# Data split for train and validation \n",
        "x = df_Train.iloc[:, [1,5,7,6]]\n",
        "\n",
        "\n",
        "\n",
        "scaler = StandardScaler()\n",
        "x =  scaler.fit_transform(x)\n",
        "\n",
        "X_train, X_test, Y_train, Y_test = train_test_split(x, y, test_size=0.3,\n",
        "                                                    random_state=RANDOM_SEED)\n",
        "\n",
        "\n",
        "# define the keras model\n",
        "model2 = keras.Sequential()\n",
        "model2.add(layers.Dense(8, input_dim=4, activation='relu'))\n",
        "model2.add(layers.Dense(16, activation='relu'))\n",
        "model2.add(layers.Dense(1, activation='sigmoid'))\n",
        "\n",
        "model2.summary()"
      ],
      "metadata": {
        "colab": {
          "base_uri": "https://localhost:8080/"
        },
        "id": "c6EyZ-2NOftv",
        "outputId": "586fee5a-8786-4051-b496-36447b94b32c"
      },
      "execution_count": 97,
      "outputs": [
        {
          "output_type": "stream",
          "name": "stdout",
          "text": [
            "Model: \"sequential\"\n",
            "_________________________________________________________________\n",
            " Layer (type)                Output Shape              Param #   \n",
            "=================================================================\n",
            " dense (Dense)               (None, 8)                 40        \n",
            "                                                                 \n",
            " dense_1 (Dense)             (None, 16)                144       \n",
            "                                                                 \n",
            " dense_2 (Dense)             (None, 1)                 17        \n",
            "                                                                 \n",
            "=================================================================\n",
            "Total params: 201\n",
            "Trainable params: 201\n",
            "Non-trainable params: 0\n",
            "_________________________________________________________________\n"
          ]
        }
      ]
    },
    {
      "cell_type": "code",
      "source": [
        "\n",
        "# Compiling the keras model\n",
        "model2.compile(loss='binary_crossentropy', optimizer='adam', metrics=['accuracy'])\n",
        "\n",
        "# Fitting the model\n",
        "m2 = model2.fit(X_train, Y_train, batch_size=20, epochs=120, \n",
        "           validation_data=(X_test, Y_test) ,  callbacks = [EarlyStop])\n",
        "     \n",
        "Model2_scores = model2.evaluate(X_test, Y_test, verbose=0)\n",
        "print('\\n')\n",
        "print(\"Accuracy: %.2f%%\" % (Model2_scores[1]*100))\n",
        "\n",
        "\n",
        "m2_val_accuracy = m2.history['val_accuracy'][-1] * 100\n",
        "print('\\n')\n",
        "print(\"Validation Score: %.2f%%\" % (m2_val_accuracy))\n"
      ],
      "metadata": {
        "colab": {
          "base_uri": "https://localhost:8080/"
        },
        "id": "8vcwXhQvOyyU",
        "outputId": "1f7f719b-3549-491b-952e-51c462cf54d0"
      },
      "execution_count": 98,
      "outputs": [
        {
          "output_type": "stream",
          "name": "stdout",
          "text": [
            "Epoch 1/120\n",
            "24/24 [==============================] - 2s 19ms/step - loss: 0.5631 - accuracy: 0.6895 - val_loss: 0.5343 - val_accuracy: 0.8060\n",
            "Epoch 2/120\n",
            "24/24 [==============================] - 0s 6ms/step - loss: 0.5414 - accuracy: 0.7066 - val_loss: 0.5132 - val_accuracy: 0.8109\n",
            "Epoch 3/120\n",
            "24/24 [==============================] - 0s 6ms/step - loss: 0.5248 - accuracy: 0.7238 - val_loss: 0.4983 - val_accuracy: 0.8159\n",
            "Epoch 4/120\n",
            "24/24 [==============================] - 0s 7ms/step - loss: 0.5140 - accuracy: 0.7366 - val_loss: 0.4870 - val_accuracy: 0.8159\n",
            "Epoch 5/120\n",
            "24/24 [==============================] - 0s 6ms/step - loss: 0.5064 - accuracy: 0.7366 - val_loss: 0.4799 - val_accuracy: 0.8159\n",
            "Epoch 6/120\n",
            "24/24 [==============================] - 0s 6ms/step - loss: 0.5011 - accuracy: 0.7409 - val_loss: 0.4745 - val_accuracy: 0.8109\n",
            "Epoch 7/120\n",
            "24/24 [==============================] - 0s 8ms/step - loss: 0.4970 - accuracy: 0.7430 - val_loss: 0.4709 - val_accuracy: 0.7960\n",
            "Epoch 8/120\n",
            "24/24 [==============================] - 0s 8ms/step - loss: 0.4939 - accuracy: 0.7473 - val_loss: 0.4688 - val_accuracy: 0.7910\n",
            "\n",
            "\n",
            "Accuracy: 81.59%\n",
            "\n",
            "\n",
            "Validation Score: 79.10%\n"
          ]
        }
      ]
    },
    {
      "cell_type": "code",
      "source": [
        "\n",
        "# summarize the history for accuracy\n",
        "plt.plot(m2.history['accuracy'])\n",
        "plt.plot(m2.history['val_accuracy'])\n",
        "plt.title('model accuracy')\n",
        "plt.ylabel('accuracy')\n",
        "plt.xlabel('epoch')\n",
        "plt.legend(['train','test'], loc='upper left')\n",
        "plt.show()\n",
        "\n",
        "# summarize the history for loss\n",
        "plt.plot(m2.history['loss'])\n",
        "plt.plot(m2.history['val_loss'])\n",
        "plt.title('model loss')\n",
        "plt.ylabel('loss')\n",
        "plt.xlabel('epoch')\n",
        "plt.legend(['train','test'], loc='upper left')\n",
        "plt.show()\n",
        "     "
      ],
      "metadata": {
        "colab": {
          "base_uri": "https://localhost:8080/",
          "height": 573
        },
        "id": "UFxnclus-cfd",
        "outputId": "cf658dba-8986-447d-8438-f19967d1edbf"
      },
      "execution_count": 99,
      "outputs": [
        {
          "output_type": "display_data",
          "data": {
            "text/plain": [
              "<Figure size 432x288 with 1 Axes>"
            ],
            "image/png": "[encoded data removed]"
          },
          "metadata": {
            "needs_background": "light"
          }
        },
        {
          "output_type": "display_data",
          "data": {
            "text/plain": [
              "<Figure size 432x288 with 1 Axes>"
            ],
            "image/png": "[encoded data removed]"
          },
          "metadata": {
            "needs_background": "light"
          }
        }
      ]
    },
    {
      "cell_type": "code",
      "source": [
        "\n",
        "# clear session\n",
        "keras.backend.clear_session()\n",
        "keras.utils.set_random_seed(seed)"
      ],
      "metadata": {
        "id": "gvUdmTOARXiz"
      },
      "execution_count": 100,
      "outputs": []
    },
    {
      "cell_type": "markdown",
      "source": [
        "## Model 3\n",
        "   starting with 6 nodes"
      ],
      "metadata": {
        "id": "JZ-mdmAhMx8w"
      }
    },
    {
      "cell_type": "code",
      "source": [
        "# Data split for train and validation \n",
        "x = df_Train.iloc[:, [1,5,7,6,0,2]]\n",
        "\n",
        "scaler = StandardScaler()\n",
        "x =  scaler.fit_transform(x)\n",
        "\n",
        "X_train, X_test, Y_train, Y_test = train_test_split(x, y, test_size=0.3,\n",
        "                                                    random_state=RANDOM_SEED)\n",
        "\n",
        "\n",
        "# define the keras model\n",
        "model3 = keras.Sequential()\n",
        "model3.add(layers.Dense(12, input_dim=6, activation='relu'))\n",
        "model3.add(layers.Dense(24, activation='relu'))\n",
        "model3.add(layers.Dense(1, activation='sigmoid'))\n",
        "\n",
        "model3.summary()"
      ],
      "metadata": {
        "colab": {
          "base_uri": "https://localhost:8080/"
        },
        "id": "cyuVBV8vOUEa",
        "outputId": "553c6541-c157-4e25-e8e1-331c4a5fccf0"
      },
      "execution_count": 101,
      "outputs": [
        {
          "output_type": "stream",
          "name": "stdout",
          "text": [
            "Model: \"sequential\"\n",
            "_________________________________________________________________\n",
            " Layer (type)                Output Shape              Param #   \n",
            "=================================================================\n",
            " dense (Dense)               (None, 12)                84        \n",
            "                                                                 \n",
            " dense_1 (Dense)             (None, 24)                312       \n",
            "                                                                 \n",
            " dense_2 (Dense)             (None, 1)                 25        \n",
            "                                                                 \n",
            "=================================================================\n",
            "Total params: 421\n",
            "Trainable params: 421\n",
            "Non-trainable params: 0\n",
            "_________________________________________________________________\n"
          ]
        }
      ]
    },
    {
      "cell_type": "code",
      "source": [
        "\n",
        "# Compiling the keras model\n",
        "model3.compile(loss='binary_crossentropy', optimizer='adam', metrics=['accuracy'])\n",
        "\n",
        "# Fitting the model\n",
        "m3 = model3.fit(X_train, Y_train, batch_size=20, epochs=120, \n",
        "           validation_data=(X_test, Y_test) ,  callbacks = [EarlyStop])\n",
        "     \n",
        "Model3_scores = model3.evaluate(X_test, Y_test, verbose=0)\n",
        "print('\\n')\n",
        "print(\"Accuracy: %.2f%%\" % (Model3_scores[1]*100))\n",
        "\n",
        "\n",
        "m3_val_accuracy = m3.history['val_accuracy'][-1] * 100\n",
        "print('\\n')\n",
        "print(\"Validation Score: %.2f%%\" % (m3_val_accuracy))\n"
      ],
      "metadata": {
        "colab": {
          "base_uri": "https://localhost:8080/"
        },
        "id": "bhUbA-5sOsOz",
        "outputId": "3a089b8c-c8f5-4a18-9e37-fef49fc850ea"
      },
      "execution_count": 102,
      "outputs": [
        {
          "output_type": "stream",
          "name": "stdout",
          "text": [
            "Epoch 1/120\n",
            "24/24 [==============================] - 1s 12ms/step - loss: 0.6890 - accuracy: 0.6445 - val_loss: 0.6584 - val_accuracy: 0.6866\n",
            "Epoch 2/120\n",
            "24/24 [==============================] - 0s 4ms/step - loss: 0.6408 - accuracy: 0.6852 - val_loss: 0.6004 - val_accuracy: 0.7214\n",
            "Epoch 3/120\n",
            "24/24 [==============================] - 0s 4ms/step - loss: 0.6036 - accuracy: 0.7173 - val_loss: 0.5524 - val_accuracy: 0.7910\n",
            "Epoch 4/120\n",
            "24/24 [==============================] - 0s 4ms/step - loss: 0.5730 - accuracy: 0.7323 - val_loss: 0.5095 - val_accuracy: 0.8060\n",
            "Epoch 5/120\n",
            "24/24 [==============================] - 0s 5ms/step - loss: 0.5460 - accuracy: 0.7366 - val_loss: 0.4779 - val_accuracy: 0.8060\n",
            "Epoch 6/120\n",
            "24/24 [==============================] - 0s 4ms/step - loss: 0.5244 - accuracy: 0.7409 - val_loss: 0.4538 - val_accuracy: 0.8109\n",
            "Epoch 7/120\n",
            "24/24 [==============================] - 0s 4ms/step - loss: 0.5081 - accuracy: 0.7516 - val_loss: 0.4385 - val_accuracy: 0.8109\n",
            "Epoch 8/120\n",
            "24/24 [==============================] - 0s 5ms/step - loss: 0.4967 - accuracy: 0.7559 - val_loss: 0.4290 - val_accuracy: 0.8109\n",
            "Epoch 9/120\n",
            "24/24 [==============================] - 0s 4ms/step - loss: 0.4888 - accuracy: 0.7559 - val_loss: 0.4223 - val_accuracy: 0.8159\n",
            "Epoch 10/120\n",
            "24/24 [==============================] - 0s 4ms/step - loss: 0.4836 - accuracy: 0.7537 - val_loss: 0.4197 - val_accuracy: 0.8060\n",
            "Epoch 11/120\n",
            "24/24 [==============================] - 0s 4ms/step - loss: 0.4796 - accuracy: 0.7602 - val_loss: 0.4166 - val_accuracy: 0.8060\n",
            "Epoch 12/120\n",
            "24/24 [==============================] - 0s 4ms/step - loss: 0.4751 - accuracy: 0.7645 - val_loss: 0.4167 - val_accuracy: 0.8060\n",
            "Epoch 13/120\n",
            "24/24 [==============================] - 0s 6ms/step - loss: 0.4722 - accuracy: 0.7623 - val_loss: 0.4178 - val_accuracy: 0.8010\n",
            "Epoch 14/120\n",
            "24/24 [==============================] - 0s 4ms/step - loss: 0.4692 - accuracy: 0.7623 - val_loss: 0.4170 - val_accuracy: 0.8010\n",
            "\n",
            "\n",
            "Accuracy: 81.59%\n",
            "\n",
            "\n",
            "Validation Score: 80.10%\n"
          ]
        }
      ]
    },
    {
      "cell_type": "code",
      "source": [
        "\n",
        "# summarize the history for accuracy\n",
        "plt.plot(m3.history['accuracy'])\n",
        "plt.plot(m3.history['val_accuracy'])\n",
        "plt.title('model accuracy')\n",
        "plt.ylabel('accuracy')\n",
        "plt.xlabel('epoch')\n",
        "plt.legend(['train','test'], loc='upper left')\n",
        "plt.show()\n",
        "\n",
        "# summarize the history for loss\n",
        "plt.plot(m3.history['loss'])\n",
        "plt.plot(m3.history['val_loss'])\n",
        "plt.title('model loss')\n",
        "plt.ylabel('loss')\n",
        "plt.xlabel('epoch')\n",
        "plt.legend(['train','test'], loc='upper left')\n",
        "plt.show()\n",
        "     "
      ],
      "metadata": {
        "colab": {
          "base_uri": "https://localhost:8080/",
          "height": 573
        },
        "id": "W2Kwb-uv-liJ",
        "outputId": "5d9a69a2-9a8a-4c8c-eee1-0b5cbe469932"
      },
      "execution_count": 103,
      "outputs": [
        {
          "output_type": "display_data",
          "data": {
            "text/plain": [
              "<Figure size 432x288 with 1 Axes>"
            ],
            "image/png": "[encoded data removed]"
          },
          "metadata": {
            "needs_background": "light"
          }
        },
        {
          "output_type": "display_data",
          "data": {
            "text/plain": [
              "<Figure size 432x288 with 1 Axes>"
            ],
            "image/png": "[encoded data removed]"
          },
          "metadata": {
            "needs_background": "light"
          }
        }
      ]
    },
    {
      "cell_type": "code",
      "source": [
        "\n",
        "# clear session\n",
        "keras.backend.clear_session()\n",
        "keras.utils.set_random_seed(seed)"
      ],
      "metadata": {
        "id": "dDBZh3UWRmpN"
      },
      "execution_count": 104,
      "outputs": []
    },
    {
      "cell_type": "markdown",
      "source": [
        "## Model 4\n",
        "   starting with 8 nodes"
      ],
      "metadata": {
        "id": "rTl_vnBwM4Qq"
      }
    },
    {
      "cell_type": "code",
      "source": [
        "# Data split for train and validation \n",
        "\n",
        "\n",
        "x = df_Train.iloc[:, 0:8]\n",
        "\n",
        "scaler = StandardScaler()\n",
        "x =  scaler.fit_transform(x)\n",
        "\n",
        "X_train, X_test, Y_train, Y_test = train_test_split(x, y, test_size=0.3,\n",
        "                                                    random_state=RANDOM_SEED)\n",
        "\n",
        "\n",
        "# define the keras model\n",
        "model4 = keras.Sequential()\n",
        "model4.add(layers.Dense(16, input_dim=8, activation='relu'))\n",
        "model4.add(layers.Dense(32, activation='relu'))\n",
        "model4.add(layers.Dense(1, activation='sigmoid'))\n",
        "\n",
        "model4.summary()"
      ],
      "metadata": {
        "colab": {
          "base_uri": "https://localhost:8080/"
        },
        "id": "3nbmmfWepZ5V",
        "outputId": "be09cca2-1256-48f6-d0c4-a931d833fcd2"
      },
      "execution_count": 117,
      "outputs": [
        {
          "output_type": "stream",
          "name": "stdout",
          "text": [
            "Model: \"sequential\"\n",
            "_________________________________________________________________\n",
            " Layer (type)                Output Shape              Param #   \n",
            "=================================================================\n",
            " dense (Dense)               (None, 16)                144       \n",
            "                                                                 \n",
            " dense_1 (Dense)             (None, 32)                544       \n",
            "                                                                 \n",
            " dense_2 (Dense)             (None, 1)                 33        \n",
            "                                                                 \n",
            "=================================================================\n",
            "Total params: 721\n",
            "Trainable params: 721\n",
            "Non-trainable params: 0\n",
            "_________________________________________________________________\n"
          ]
        }
      ]
    },
    {
      "cell_type": "code",
      "source": [
        "\n",
        "# Compiling the keras model\n",
        "model4.compile(loss='binary_crossentropy', optimizer='adam', metrics=['accuracy'])\n",
        "\n",
        "# Fitting the model\n",
        "m4 = model4.fit(X_train, Y_train, batch_size=20, epochs=120, \n",
        "           validation_data=(X_test, Y_test) ,  callbacks = [EarlyStop])\n",
        "     \n",
        "Model4_scores = model4.evaluate(X_test, Y_test, verbose=0)\n",
        "print('\\n')\n",
        "print(\"Accuracy: %.2f%%\" % (Model4_scores[1]*100))\n",
        "\n",
        "\n",
        "m4_val_accuracy = m1.history['val_accuracy'][-1] * 100\n",
        "print('\\n')\n",
        "print(\"Validation Score: %.2f%%\" % (m4_val_accuracy))\n"
      ],
      "metadata": {
        "colab": {
          "base_uri": "https://localhost:8080/"
        },
        "id": "LP_7pslxv2ZL",
        "outputId": "da2449d7-447d-4749-b608-8aa195d16c25"
      },
      "execution_count": 106,
      "outputs": [
        {
          "output_type": "stream",
          "name": "stdout",
          "text": [
            "Epoch 1/120\n",
            "24/24 [==============================] - 1s 11ms/step - loss: 0.5993 - accuracy: 0.7024 - val_loss: 0.5619 - val_accuracy: 0.7264\n",
            "Epoch 2/120\n",
            "24/24 [==============================] - 0s 4ms/step - loss: 0.5459 - accuracy: 0.7259 - val_loss: 0.5221 - val_accuracy: 0.7512\n",
            "Epoch 3/120\n",
            "24/24 [==============================] - 0s 4ms/step - loss: 0.5167 - accuracy: 0.7516 - val_loss: 0.4995 - val_accuracy: 0.7662\n",
            "Epoch 4/120\n",
            "24/24 [==============================] - 0s 4ms/step - loss: 0.4995 - accuracy: 0.7559 - val_loss: 0.4858 - val_accuracy: 0.7761\n",
            "Epoch 5/120\n",
            "24/24 [==============================] - 0s 4ms/step - loss: 0.4889 - accuracy: 0.7623 - val_loss: 0.4762 - val_accuracy: 0.7861\n",
            "Epoch 6/120\n",
            "24/24 [==============================] - 0s 5ms/step - loss: 0.4793 - accuracy: 0.7687 - val_loss: 0.4704 - val_accuracy: 0.7861\n",
            "Epoch 7/120\n",
            "24/24 [==============================] - 0s 4ms/step - loss: 0.4713 - accuracy: 0.7773 - val_loss: 0.4686 - val_accuracy: 0.7861\n",
            "Epoch 8/120\n",
            "24/24 [==============================] - 0s 4ms/step - loss: 0.4653 - accuracy: 0.7901 - val_loss: 0.4651 - val_accuracy: 0.7960\n",
            "Epoch 9/120\n",
            "24/24 [==============================] - 0s 6ms/step - loss: 0.4595 - accuracy: 0.7859 - val_loss: 0.4624 - val_accuracy: 0.8109\n",
            "Epoch 10/120\n",
            "24/24 [==============================] - 0s 4ms/step - loss: 0.4558 - accuracy: 0.7859 - val_loss: 0.4612 - val_accuracy: 0.7960\n",
            "Epoch 11/120\n",
            "24/24 [==============================] - 0s 6ms/step - loss: 0.4512 - accuracy: 0.7880 - val_loss: 0.4627 - val_accuracy: 0.8010\n",
            "Epoch 12/120\n",
            "24/24 [==============================] - 0s 4ms/step - loss: 0.4472 - accuracy: 0.7901 - val_loss: 0.4619 - val_accuracy: 0.8010\n",
            "Epoch 13/120\n",
            "24/24 [==============================] - 0s 5ms/step - loss: 0.4442 - accuracy: 0.7901 - val_loss: 0.4633 - val_accuracy: 0.7910\n",
            "Epoch 14/120\n",
            "24/24 [==============================] - 0s 4ms/step - loss: 0.4410 - accuracy: 0.7901 - val_loss: 0.4635 - val_accuracy: 0.7960\n",
            "\n",
            "\n",
            "Accuracy: 81.09%\n",
            "\n",
            "\n",
            "Validation Score: 79.10%\n"
          ]
        }
      ]
    },
    {
      "cell_type": "code",
      "source": [
        "\n",
        "# summarize the history for accuracy\n",
        "plt.plot(m4.history['accuracy'])\n",
        "plt.plot(m4.history['val_accuracy'])\n",
        "plt.title('model accuracy')\n",
        "plt.ylabel('accuracy')\n",
        "plt.xlabel('epoch')\n",
        "plt.legend(['train','test'], loc='upper left')\n",
        "plt.show()\n",
        "\n",
        "# summarize the history for loss\n",
        "plt.plot(m4.history['loss'])\n",
        "plt.plot(m4.history['val_loss'])\n",
        "plt.title('model loss')\n",
        "plt.ylabel('loss')\n",
        "plt.xlabel('epoch')\n",
        "plt.legend(['train','test'], loc='upper left')\n",
        "plt.show()\n",
        "     "
      ],
      "metadata": {
        "colab": {
          "base_uri": "https://localhost:8080/",
          "height": 573
        },
        "id": "Y9MSlisl-r_p",
        "outputId": "fb5e8d58-d578-4254-851f-9c82b3e8c18a"
      },
      "execution_count": 107,
      "outputs": [
        {
          "output_type": "display_data",
          "data": {
            "text/plain": [
              "<Figure size 432x288 with 1 Axes>"
            ],
            "image/png": "[encoded data removed]"
          },
          "metadata": {
            "needs_background": "light"
          }
        },
        {
          "output_type": "display_data",
          "data": {
            "text/plain": [
              "<Figure size 432x288 with 1 Axes>"
            ],
            "image/png": "[encoded data removed]"
          },
          "metadata": {
            "needs_background": "light"
          }
        }
      ]
    },
    {
      "cell_type": "code",
      "source": [
        "\n",
        "# clear session\n",
        "keras.backend.clear_session()\n",
        "keras.utils.set_random_seed(seed)"
      ],
      "metadata": {
        "id": "Dnx6zEdTRpwr"
      },
      "execution_count": 108,
      "outputs": []
    },
    {
      "cell_type": "markdown",
      "source": [
        "##  Model Score & Accuracy"
      ],
      "metadata": {
        "id": "XoBcXKZ7Smhg"
      }
    },
    {
      "cell_type": "code",
      "source": [
        "# Checking all the model accuracy\n",
        "\n",
        "print('All Model Score')\n",
        "print('\\n')\n",
        "\n",
        "print('|-----------------|')\n",
        "print(f'|Model  |Score    |')\n",
        "print('|-----------------|')\n",
        "print(f'| M1    |{Model1_scores[1] * 100 :.2f}    |')\n",
        "print(f'| M2    |{Model2_scores[1] * 100 :.2f}    |')\n",
        "print(f'| M3    |{Model3_scores[1] * 100 :.2f}    |')\n",
        "print(f'| M4    |{Model4_scores[1] * 100 :.2f}    |')\n",
        "print('|-----------------|')\n",
        "\n",
        "print('\\n')\n",
        "\n",
        "# Checking all the model accuracy\n",
        "\n",
        "print('All Model Accuracy')\n",
        "print('\\n')\n",
        "\n",
        "print('|-----------------|')\n",
        "print(f'|Model  |Accuracy |')\n",
        "print('|-----------------|')\n",
        "print(f'| M1    |{m1_val_accuracy:.2f}    |')\n",
        "print(f'| M2    |{m2_val_accuracy:.2f}    |')\n",
        "print(f'| M3    |{m3_val_accuracy:.2f}    |')\n",
        "print(f'| M4    |{m4_val_accuracy:.2f}    |')\n",
        "print('|-----------------|')"
      ],
      "metadata": {
        "colab": {
          "base_uri": "https://localhost:8080/"
        },
        "id": "B51NhYBueteQ",
        "outputId": "f704e29a-e167-4617-aff0-e640f958c296"
      },
      "execution_count": 109,
      "outputs": [
        {
          "output_type": "stream",
          "name": "stdout",
          "text": [
            "All Model Score\n",
            "\n",
            "\n",
            "|-----------------|\n",
            "|Model  |Score    |\n",
            "|-----------------|\n",
            "| M1    |80.10    |\n",
            "| M2    |81.59    |\n",
            "| M3    |81.59    |\n",
            "| M4    |81.09    |\n",
            "|-----------------|\n",
            "\n",
            "\n",
            "All Model Accuracy\n",
            "\n",
            "\n",
            "|-----------------|\n",
            "|Model  |Accuracy |\n",
            "|-----------------|\n",
            "| M1    |79.10    |\n",
            "| M2    |79.10    |\n",
            "| M3    |80.10    |\n",
            "| M4    |79.10    |\n",
            "|-----------------|\n"
          ]
        }
      ]
    },
    {
      "cell_type": "markdown",
      "source": [
        "## Hyper Tuning using Keras tuner"
      ],
      "metadata": {
        "id": "_AiUkdKGu_x6"
      }
    },
    {
      "cell_type": "code",
      "source": [
        "from IPython.display import display\n",
        "# define a callback to clear the training outputs at the end of every training step\n",
        "class ClearTrainingOutput(tf.keras.callbacks.Callback):\n",
        "  def on_train_end(*args, **kwargs):\n",
        "    IPython.display.clear_output(wait = True)"
      ],
      "metadata": {
        "id": "odW6J4clxWU3"
      },
      "execution_count": 149,
      "outputs": []
    },
    {
      "cell_type": "code",
      "source": [
        "# build the model within a function\n",
        "# Apply hyperparmeter tuning to the number of units in the second hidden layer in the model\n",
        "def model_builder1(hp):\n",
        "  Hyper_model = keras.Sequential()\n",
        "  Hyper_model.add(layers.Dense(input_dim=6, units=12, activation='relu'))\n",
        "  hp_units = hp.Int('units', min_value = 18, max_value = 90, step = 6)\n",
        "  Hyper_model.add(layers.Dense(units=hp_units, activation='relu'))\n",
        "  Hyper_model.add(layers.Dense(units=1, activation='sigmoid'))\n",
        "  Hyper_model.compile(loss = 'binary_crossentropy', optimizer = \"adam\", metrics = ['accuracy'])\n",
        "  return Hyper_model\n",
        "     "
      ],
      "metadata": {
        "id": "QfxhGofdvXkB"
      },
      "execution_count": 153,
      "outputs": []
    },
    {
      "cell_type": "code",
      "source": [
        "# instatiate the tuner and perform hypertuning\n",
        "tuner = kt.Hyperband(model_builder1,\n",
        "                     objective = 'val_accuracy', \n",
        "                     max_epochs = 200,\n",
        "                     factor = 5,        # factor is a number that determines how many models are created to run in parallel whaen testing the hyperparameters\n",
        "                     directory = 'my_dir',  # directory that the tuned hyperparameter results are stored in (change the name of this directory if you get the message INFO:tensorflow:Oracle triggered exit)\n",
        "                     project_name = 'intro_to_kt1') "
      ],
      "metadata": {
        "id": "gEVOMVBRxJdL"
      },
      "execution_count": 154,
      "outputs": []
    },
    {
      "cell_type": "code",
      "source": [
        "import IPython\n",
        "\n",
        "x = df_Train.iloc[:, [1,5,7,6,0,2]]\n",
        "\n",
        "\n",
        "\n",
        "X_train, X_test, Y_train, Y_test = train_test_split(x, y, test_size=0.3,\n",
        "                                                    random_state=RANDOM_SEED)\n"
      ],
      "metadata": {
        "id": "GmXaQeUNxdPU"
      },
      "execution_count": 155,
      "outputs": []
    },
    {
      "cell_type": "code",
      "source": [
        "t = tuner.search(X_train, Y_train, epochs = 200, validation_data = (X_test, Y_test),\n",
        "             callbacks = [ClearTrainingOutput()])"
      ],
      "metadata": {
        "colab": {
          "base_uri": "https://localhost:8080/"
        },
        "id": "2xo2no99HGD6",
        "outputId": "2ee5e6fb-e71e-4ab6-f9ed-4bc41ba50f2d"
      },
      "execution_count": 156,
      "outputs": [
        {
          "output_type": "stream",
          "name": "stdout",
          "text": [
            "Trial 270 Complete [00h 00m 24s]\n",
            "val_accuracy: 0.8009950518608093\n",
            "\n",
            "Best val_accuracy So Far: 0.8109452724456787\n",
            "Total elapsed time: 00h 16m 16s\n"
          ]
        }
      ]
    },
    {
      "cell_type": "code",
      "source": [
        "\n",
        "# Get the optimal hyperparameters\n",
        "best_hps = tuner.get_best_hyperparameters()[0]\n",
        "print(best_hps.values)\n",
        "     "
      ],
      "metadata": {
        "colab": {
          "base_uri": "https://localhost:8080/"
        },
        "id": "xT3QzkwgzpxJ",
        "outputId": "7cb8827c-99e2-40a6-e5dc-dbd889c7b597"
      },
      "execution_count": 157,
      "outputs": [
        {
          "output_type": "stream",
          "name": "stdout",
          "text": [
            "{'units': 64, 'tuner/epochs': 200, 'tuner/initial_epoch': 40, 'tuner/bracket': 2, 'tuner/round': 2, 'tuner/trial_id': '0243'}\n"
          ]
        }
      ]
    },
    {
      "cell_type": "code",
      "source": [
        "\n",
        "# apply the optimal hyperparameters to the model and print the summary\n",
        "Hyper_model = tuner.hypermodel.build(best_hps)\n",
        "Hyper_model.summary()"
      ],
      "metadata": {
        "colab": {
          "base_uri": "https://localhost:8080/"
        },
        "id": "3C87olQ2zrZ2",
        "outputId": "cabe6332-c228-4f25-cc6d-03a492efc998"
      },
      "execution_count": 158,
      "outputs": [
        {
          "output_type": "stream",
          "name": "stdout",
          "text": [
            "Model: \"sequential_1\"\n",
            "_________________________________________________________________\n",
            " Layer (type)                Output Shape              Param #   \n",
            "=================================================================\n",
            " dense_3 (Dense)             (None, 12)                84        \n",
            "                                                                 \n",
            " dense_4 (Dense)             (None, 64)                832       \n",
            "                                                                 \n",
            " dense_5 (Dense)             (None, 1)                 65        \n",
            "                                                                 \n",
            "=================================================================\n",
            "Total params: 981\n",
            "Trainable params: 981\n",
            "Non-trainable params: 0\n",
            "_________________________________________________________________\n"
          ]
        }
      ]
    },
    {
      "cell_type": "code",
      "source": [
        "\n",
        "# retrain the model with the optimum hyperparameters and train it on the data\n",
        "HyperTune = Hyper_model.fit(X_train, Y_train, epochs = 200, \n",
        "                            validation_data = (X_test, Y_test))\n",
        "HyperTune_scores = Hyper_model.evaluate(X_test, Y_test, verbose=0)\n",
        "print('\\n')\n",
        "print(\"Accuracy: %.2f%%\" % (HyperTune_scores[1]*100))\n",
        "\n",
        "\n",
        "HyperTune_val_accuracy = HyperTune.history['val_accuracy'][-1] * 100\n",
        "print('\\n')\n",
        "print(\"Validation Score: %.2f%%\" % (HyperTune_val_accuracy))"
      ],
      "metadata": {
        "colab": {
          "base_uri": "https://localhost:8080/"
        },
        "id": "3AIQZTxDztQ2",
        "outputId": "cc735638-046f-47e8-ba1a-1350e5d00410"
      },
      "execution_count": 159,
      "outputs": [
        {
          "output_type": "stream",
          "name": "stdout",
          "text": [
            "Epoch 1/200\n",
            "15/15 [==============================] - 1s 17ms/step - loss: 1.9036 - accuracy: 0.6017 - val_loss: 1.0798 - val_accuracy: 0.6965\n",
            "Epoch 2/200\n",
            "15/15 [==============================] - 0s 6ms/step - loss: 1.0929 - accuracy: 0.6381 - val_loss: 0.7488 - val_accuracy: 0.6965\n",
            "Epoch 3/200\n",
            "15/15 [==============================] - 0s 5ms/step - loss: 0.7950 - accuracy: 0.6702 - val_loss: 0.6909 - val_accuracy: 0.6468\n",
            "Epoch 4/200\n",
            "15/15 [==============================] - 0s 5ms/step - loss: 0.7345 - accuracy: 0.6210 - val_loss: 0.6582 - val_accuracy: 0.6517\n",
            "Epoch 5/200\n",
            "15/15 [==============================] - 0s 5ms/step - loss: 0.7131 - accuracy: 0.6381 - val_loss: 0.7663 - val_accuracy: 0.6468\n",
            "Epoch 6/200\n",
            "15/15 [==============================] - 0s 5ms/step - loss: 0.6793 - accuracy: 0.6510 - val_loss: 0.6577 - val_accuracy: 0.6915\n",
            "Epoch 7/200\n",
            "15/15 [==============================] - 0s 5ms/step - loss: 0.6566 - accuracy: 0.6595 - val_loss: 0.6263 - val_accuracy: 0.6965\n",
            "Epoch 8/200\n",
            "15/15 [==============================] - 0s 6ms/step - loss: 0.6334 - accuracy: 0.6916 - val_loss: 0.6362 - val_accuracy: 0.6866\n",
            "Epoch 9/200\n",
            "15/15 [==============================] - 0s 5ms/step - loss: 0.6278 - accuracy: 0.6767 - val_loss: 0.6203 - val_accuracy: 0.6915\n",
            "Epoch 10/200\n",
            "15/15 [==============================] - 0s 6ms/step - loss: 0.6382 - accuracy: 0.6681 - val_loss: 0.6493 - val_accuracy: 0.6816\n",
            "Epoch 11/200\n",
            "15/15 [==============================] - 0s 6ms/step - loss: 0.6277 - accuracy: 0.6745 - val_loss: 0.6690 - val_accuracy: 0.6517\n",
            "Epoch 12/200\n",
            "15/15 [==============================] - 0s 7ms/step - loss: 0.6222 - accuracy: 0.6681 - val_loss: 0.6184 - val_accuracy: 0.6915\n",
            "Epoch 13/200\n",
            "15/15 [==============================] - 0s 6ms/step - loss: 0.6208 - accuracy: 0.6617 - val_loss: 0.6754 - val_accuracy: 0.6716\n",
            "Epoch 14/200\n",
            "15/15 [==============================] - 0s 6ms/step - loss: 0.6664 - accuracy: 0.6146 - val_loss: 0.6096 - val_accuracy: 0.7015\n",
            "Epoch 15/200\n",
            "15/15 [==============================] - 0s 7ms/step - loss: 0.6375 - accuracy: 0.6552 - val_loss: 0.6854 - val_accuracy: 0.6567\n",
            "Epoch 16/200\n",
            "15/15 [==============================] - 0s 5ms/step - loss: 0.6553 - accuracy: 0.6660 - val_loss: 0.6230 - val_accuracy: 0.6816\n",
            "Epoch 17/200\n",
            "15/15 [==============================] - 0s 5ms/step - loss: 0.6300 - accuracy: 0.6916 - val_loss: 0.5982 - val_accuracy: 0.7164\n",
            "Epoch 18/200\n",
            "15/15 [==============================] - 0s 6ms/step - loss: 0.6320 - accuracy: 0.6617 - val_loss: 0.7638 - val_accuracy: 0.6567\n",
            "Epoch 19/200\n",
            "15/15 [==============================] - 0s 6ms/step - loss: 0.7311 - accuracy: 0.6103 - val_loss: 0.8367 - val_accuracy: 0.4328\n",
            "Epoch 20/200\n",
            "15/15 [==============================] - 0s 6ms/step - loss: 0.7634 - accuracy: 0.5717 - val_loss: 0.6728 - val_accuracy: 0.6716\n",
            "Epoch 21/200\n",
            "15/15 [==============================] - 0s 6ms/step - loss: 0.6428 - accuracy: 0.6552 - val_loss: 0.6809 - val_accuracy: 0.5920\n",
            "Epoch 22/200\n",
            "15/15 [==============================] - 0s 10ms/step - loss: 0.6118 - accuracy: 0.6809 - val_loss: 0.6155 - val_accuracy: 0.6965\n",
            "Epoch 23/200\n",
            "15/15 [==============================] - 0s 6ms/step - loss: 0.6166 - accuracy: 0.6831 - val_loss: 0.6127 - val_accuracy: 0.6866\n",
            "Epoch 24/200\n",
            "15/15 [==============================] - 0s 6ms/step - loss: 0.5980 - accuracy: 0.6938 - val_loss: 0.5964 - val_accuracy: 0.7114\n",
            "Epoch 25/200\n",
            "15/15 [==============================] - 0s 6ms/step - loss: 0.6123 - accuracy: 0.6767 - val_loss: 0.6314 - val_accuracy: 0.6418\n",
            "Epoch 26/200\n",
            "15/15 [==============================] - 0s 6ms/step - loss: 0.6428 - accuracy: 0.6445 - val_loss: 0.5960 - val_accuracy: 0.7015\n",
            "Epoch 27/200\n",
            "15/15 [==============================] - 0s 8ms/step - loss: 0.6517 - accuracy: 0.6595 - val_loss: 0.6407 - val_accuracy: 0.6418\n",
            "Epoch 28/200\n",
            "15/15 [==============================] - 0s 5ms/step - loss: 0.6453 - accuracy: 0.6424 - val_loss: 0.6327 - val_accuracy: 0.6716\n",
            "Epoch 29/200\n",
            "15/15 [==============================] - 0s 5ms/step - loss: 0.6098 - accuracy: 0.6809 - val_loss: 0.5856 - val_accuracy: 0.6915\n",
            "Epoch 30/200\n",
            "15/15 [==============================] - 0s 5ms/step - loss: 0.5959 - accuracy: 0.7002 - val_loss: 0.5759 - val_accuracy: 0.7164\n",
            "Epoch 31/200\n",
            "15/15 [==============================] - 0s 6ms/step - loss: 0.5889 - accuracy: 0.7024 - val_loss: 0.5914 - val_accuracy: 0.7065\n",
            "Epoch 32/200\n",
            "15/15 [==============================] - 0s 7ms/step - loss: 0.6334 - accuracy: 0.6638 - val_loss: 0.6019 - val_accuracy: 0.6915\n",
            "Epoch 33/200\n",
            "15/15 [==============================] - 0s 6ms/step - loss: 0.5816 - accuracy: 0.6959 - val_loss: 0.5774 - val_accuracy: 0.7413\n",
            "Epoch 34/200\n",
            "15/15 [==============================] - 0s 5ms/step - loss: 0.6584 - accuracy: 0.6488 - val_loss: 0.7578 - val_accuracy: 0.6567\n",
            "Epoch 35/200\n",
            "15/15 [==============================] - 0s 5ms/step - loss: 0.6638 - accuracy: 0.6488 - val_loss: 0.5778 - val_accuracy: 0.7413\n",
            "Epoch 36/200\n",
            "15/15 [==============================] - 0s 7ms/step - loss: 0.5933 - accuracy: 0.6959 - val_loss: 0.5733 - val_accuracy: 0.7214\n",
            "Epoch 37/200\n",
            "15/15 [==============================] - 0s 7ms/step - loss: 0.5819 - accuracy: 0.7024 - val_loss: 0.6135 - val_accuracy: 0.6866\n",
            "Epoch 38/200\n",
            "15/15 [==============================] - 0s 7ms/step - loss: 0.6031 - accuracy: 0.6809 - val_loss: 0.7020 - val_accuracy: 0.5771\n",
            "Epoch 39/200\n",
            "15/15 [==============================] - 0s 6ms/step - loss: 0.6740 - accuracy: 0.6445 - val_loss: 0.5925 - val_accuracy: 0.7015\n",
            "Epoch 40/200\n",
            "15/15 [==============================] - 0s 6ms/step - loss: 0.5909 - accuracy: 0.6959 - val_loss: 0.5577 - val_accuracy: 0.7363\n",
            "Epoch 41/200\n",
            "15/15 [==============================] - 0s 6ms/step - loss: 0.6266 - accuracy: 0.6767 - val_loss: 0.5731 - val_accuracy: 0.7562\n",
            "Epoch 42/200\n",
            "15/15 [==============================] - 0s 6ms/step - loss: 0.5970 - accuracy: 0.6916 - val_loss: 0.6963 - val_accuracy: 0.6567\n",
            "Epoch 43/200\n",
            "15/15 [==============================] - 0s 6ms/step - loss: 0.6473 - accuracy: 0.6574 - val_loss: 0.6570 - val_accuracy: 0.6219\n",
            "Epoch 44/200\n",
            "15/15 [==============================] - 0s 6ms/step - loss: 0.6263 - accuracy: 0.6681 - val_loss: 0.6678 - val_accuracy: 0.6617\n",
            "Epoch 45/200\n",
            "15/15 [==============================] - 0s 6ms/step - loss: 0.6258 - accuracy: 0.6809 - val_loss: 0.5763 - val_accuracy: 0.7463\n",
            "Epoch 46/200\n",
            "15/15 [==============================] - 0s 5ms/step - loss: 0.6135 - accuracy: 0.6638 - val_loss: 0.5516 - val_accuracy: 0.7313\n",
            "Epoch 47/200\n",
            "15/15 [==============================] - 0s 6ms/step - loss: 0.5791 - accuracy: 0.6852 - val_loss: 0.6219 - val_accuracy: 0.6617\n",
            "Epoch 48/200\n",
            "15/15 [==============================] - 0s 6ms/step - loss: 0.6258 - accuracy: 0.6488 - val_loss: 0.5539 - val_accuracy: 0.7662\n",
            "Epoch 49/200\n",
            "15/15 [==============================] - 0s 6ms/step - loss: 0.5779 - accuracy: 0.6981 - val_loss: 0.5648 - val_accuracy: 0.7363\n",
            "Epoch 50/200\n",
            "15/15 [==============================] - 0s 6ms/step - loss: 0.5953 - accuracy: 0.6938 - val_loss: 0.5558 - val_accuracy: 0.7164\n",
            "Epoch 51/200\n",
            "15/15 [==============================] - 0s 6ms/step - loss: 0.5707 - accuracy: 0.7066 - val_loss: 0.5750 - val_accuracy: 0.7015\n",
            "Epoch 52/200\n",
            "15/15 [==============================] - 0s 5ms/step - loss: 0.5825 - accuracy: 0.7002 - val_loss: 0.5858 - val_accuracy: 0.7463\n",
            "Epoch 53/200\n",
            "15/15 [==============================] - 0s 5ms/step - loss: 0.6073 - accuracy: 0.6702 - val_loss: 0.5427 - val_accuracy: 0.7313\n",
            "Epoch 54/200\n",
            "15/15 [==============================] - 0s 5ms/step - loss: 0.6063 - accuracy: 0.6959 - val_loss: 0.6538 - val_accuracy: 0.6866\n",
            "Epoch 55/200\n",
            "15/15 [==============================] - 0s 5ms/step - loss: 0.5910 - accuracy: 0.6745 - val_loss: 0.5427 - val_accuracy: 0.7512\n",
            "Epoch 56/200\n",
            "15/15 [==============================] - 0s 5ms/step - loss: 0.5862 - accuracy: 0.6916 - val_loss: 0.6624 - val_accuracy: 0.6567\n",
            "Epoch 57/200\n",
            "15/15 [==============================] - 0s 5ms/step - loss: 0.6331 - accuracy: 0.6510 - val_loss: 0.6016 - val_accuracy: 0.7264\n",
            "Epoch 58/200\n",
            "15/15 [==============================] - 0s 5ms/step - loss: 0.5782 - accuracy: 0.6959 - val_loss: 0.5422 - val_accuracy: 0.7463\n",
            "Epoch 59/200\n",
            "15/15 [==============================] - 0s 5ms/step - loss: 0.5676 - accuracy: 0.7173 - val_loss: 0.5498 - val_accuracy: 0.7363\n",
            "Epoch 60/200\n",
            "15/15 [==============================] - 0s 6ms/step - loss: 0.5671 - accuracy: 0.7109 - val_loss: 0.5422 - val_accuracy: 0.7711\n",
            "Epoch 61/200\n",
            "15/15 [==============================] - 0s 5ms/step - loss: 0.5633 - accuracy: 0.7195 - val_loss: 0.5777 - val_accuracy: 0.7562\n",
            "Epoch 62/200\n",
            "15/15 [==============================] - 0s 5ms/step - loss: 0.5974 - accuracy: 0.6938 - val_loss: 0.5542 - val_accuracy: 0.7264\n",
            "Epoch 63/200\n",
            "15/15 [==============================] - 0s 5ms/step - loss: 0.6307 - accuracy: 0.6724 - val_loss: 0.5486 - val_accuracy: 0.7363\n",
            "Epoch 64/200\n",
            "15/15 [==============================] - 0s 6ms/step - loss: 0.6477 - accuracy: 0.6681 - val_loss: 0.5381 - val_accuracy: 0.7612\n",
            "Epoch 65/200\n",
            "15/15 [==============================] - 0s 6ms/step - loss: 0.5570 - accuracy: 0.7259 - val_loss: 0.6030 - val_accuracy: 0.7065\n",
            "Epoch 66/200\n",
            "15/15 [==============================] - 0s 6ms/step - loss: 0.5684 - accuracy: 0.7002 - val_loss: 0.5891 - val_accuracy: 0.6915\n",
            "Epoch 67/200\n",
            "15/15 [==============================] - 0s 6ms/step - loss: 0.6189 - accuracy: 0.6724 - val_loss: 0.5332 - val_accuracy: 0.7612\n",
            "Epoch 68/200\n",
            "15/15 [==============================] - 0s 6ms/step - loss: 0.5765 - accuracy: 0.7173 - val_loss: 0.5372 - val_accuracy: 0.7413\n",
            "Epoch 69/200\n",
            "15/15 [==============================] - 0s 7ms/step - loss: 0.5685 - accuracy: 0.6981 - val_loss: 0.5354 - val_accuracy: 0.7612\n",
            "Epoch 70/200\n",
            "15/15 [==============================] - 0s 6ms/step - loss: 0.5599 - accuracy: 0.7131 - val_loss: 0.5666 - val_accuracy: 0.7562\n",
            "Epoch 71/200\n",
            "15/15 [==============================] - 0s 6ms/step - loss: 0.5782 - accuracy: 0.7195 - val_loss: 0.6125 - val_accuracy: 0.6965\n",
            "Epoch 72/200\n",
            "15/15 [==============================] - 0s 7ms/step - loss: 0.5949 - accuracy: 0.6767 - val_loss: 0.5339 - val_accuracy: 0.7662\n",
            "Epoch 73/200\n",
            "15/15 [==============================] - 0s 6ms/step - loss: 0.6220 - accuracy: 0.6552 - val_loss: 0.6221 - val_accuracy: 0.6816\n",
            "Epoch 74/200\n",
            "15/15 [==============================] - 0s 7ms/step - loss: 0.6139 - accuracy: 0.6724 - val_loss: 0.5422 - val_accuracy: 0.7363\n",
            "Epoch 75/200\n",
            "15/15 [==============================] - 0s 7ms/step - loss: 0.5484 - accuracy: 0.7345 - val_loss: 0.5375 - val_accuracy: 0.7413\n",
            "Epoch 76/200\n",
            "15/15 [==============================] - 0s 10ms/step - loss: 0.5634 - accuracy: 0.7088 - val_loss: 0.5434 - val_accuracy: 0.8010\n",
            "Epoch 77/200\n",
            "15/15 [==============================] - 0s 10ms/step - loss: 0.5374 - accuracy: 0.7430 - val_loss: 0.5332 - val_accuracy: 0.7413\n",
            "Epoch 78/200\n",
            "15/15 [==============================] - 0s 11ms/step - loss: 0.5528 - accuracy: 0.7238 - val_loss: 0.5327 - val_accuracy: 0.7761\n",
            "Epoch 79/200\n",
            "15/15 [==============================] - 0s 9ms/step - loss: 0.5463 - accuracy: 0.7388 - val_loss: 0.5376 - val_accuracy: 0.7910\n",
            "Epoch 80/200\n",
            "15/15 [==============================] - 0s 8ms/step - loss: 0.5528 - accuracy: 0.7259 - val_loss: 0.5311 - val_accuracy: 0.7711\n",
            "Epoch 81/200\n",
            "15/15 [==============================] - 0s 8ms/step - loss: 0.5528 - accuracy: 0.7345 - val_loss: 0.6235 - val_accuracy: 0.6766\n",
            "Epoch 82/200\n",
            "15/15 [==============================] - 0s 10ms/step - loss: 0.6060 - accuracy: 0.6895 - val_loss: 0.5524 - val_accuracy: 0.7264\n",
            "Epoch 83/200\n",
            "15/15 [==============================] - 0s 7ms/step - loss: 0.5730 - accuracy: 0.7259 - val_loss: 0.5514 - val_accuracy: 0.7264\n",
            "Epoch 84/200\n",
            "15/15 [==============================] - 0s 7ms/step - loss: 0.6158 - accuracy: 0.6916 - val_loss: 0.5545 - val_accuracy: 0.7612\n",
            "Epoch 85/200\n",
            "15/15 [==============================] - 0s 8ms/step - loss: 0.5572 - accuracy: 0.7173 - val_loss: 0.5379 - val_accuracy: 0.7363\n",
            "Epoch 86/200\n",
            "15/15 [==============================] - 0s 9ms/step - loss: 0.5520 - accuracy: 0.7323 - val_loss: 0.5505 - val_accuracy: 0.7910\n",
            "Epoch 87/200\n",
            "15/15 [==============================] - 0s 10ms/step - loss: 0.5856 - accuracy: 0.6959 - val_loss: 0.6499 - val_accuracy: 0.6617\n",
            "Epoch 88/200\n",
            "15/15 [==============================] - 0s 9ms/step - loss: 0.5656 - accuracy: 0.6874 - val_loss: 0.5977 - val_accuracy: 0.7114\n",
            "Epoch 89/200\n",
            "15/15 [==============================] - 0s 7ms/step - loss: 0.5452 - accuracy: 0.7152 - val_loss: 0.5281 - val_accuracy: 0.7761\n",
            "Epoch 90/200\n",
            "15/15 [==============================] - 0s 8ms/step - loss: 0.5636 - accuracy: 0.6916 - val_loss: 0.5241 - val_accuracy: 0.7512\n",
            "Epoch 91/200\n",
            "15/15 [==============================] - 0s 10ms/step - loss: 0.5400 - accuracy: 0.7430 - val_loss: 0.5503 - val_accuracy: 0.7164\n",
            "Epoch 92/200\n",
            "15/15 [==============================] - 0s 13ms/step - loss: 0.5920 - accuracy: 0.7002 - val_loss: 0.6012 - val_accuracy: 0.7015\n",
            "Epoch 93/200\n",
            "15/15 [==============================] - 0s 10ms/step - loss: 0.5668 - accuracy: 0.7131 - val_loss: 0.5541 - val_accuracy: 0.7711\n",
            "Epoch 94/200\n",
            "15/15 [==============================] - 0s 13ms/step - loss: 0.5714 - accuracy: 0.7216 - val_loss: 0.5230 - val_accuracy: 0.7761\n",
            "Epoch 95/200\n",
            "15/15 [==============================] - 0s 8ms/step - loss: 0.5631 - accuracy: 0.6981 - val_loss: 0.5200 - val_accuracy: 0.7612\n",
            "Epoch 96/200\n",
            "15/15 [==============================] - 0s 8ms/step - loss: 0.5846 - accuracy: 0.6895 - val_loss: 0.5654 - val_accuracy: 0.7065\n",
            "Epoch 97/200\n",
            "15/15 [==============================] - 0s 9ms/step - loss: 0.5576 - accuracy: 0.7131 - val_loss: 0.5210 - val_accuracy: 0.7562\n",
            "Epoch 98/200\n",
            "15/15 [==============================] - 0s 6ms/step - loss: 0.5378 - accuracy: 0.7323 - val_loss: 0.5860 - val_accuracy: 0.7363\n",
            "Epoch 99/200\n",
            "15/15 [==============================] - 0s 6ms/step - loss: 0.5589 - accuracy: 0.7088 - val_loss: 0.5245 - val_accuracy: 0.7463\n",
            "Epoch 100/200\n",
            "15/15 [==============================] - 0s 7ms/step - loss: 0.5410 - accuracy: 0.7623 - val_loss: 0.5290 - val_accuracy: 0.7861\n",
            "Epoch 101/200\n",
            "15/15 [==============================] - 0s 6ms/step - loss: 0.5461 - accuracy: 0.7238 - val_loss: 0.5204 - val_accuracy: 0.7512\n",
            "Epoch 102/200\n",
            "15/15 [==============================] - 0s 6ms/step - loss: 0.5499 - accuracy: 0.7216 - val_loss: 0.5221 - val_accuracy: 0.7811\n",
            "Epoch 103/200\n",
            "15/15 [==============================] - 0s 5ms/step - loss: 0.5339 - accuracy: 0.7430 - val_loss: 0.5185 - val_accuracy: 0.7811\n",
            "Epoch 104/200\n",
            "15/15 [==============================] - 0s 5ms/step - loss: 0.5547 - accuracy: 0.7045 - val_loss: 0.6832 - val_accuracy: 0.6517\n",
            "Epoch 105/200\n",
            "15/15 [==============================] - 0s 6ms/step - loss: 0.5751 - accuracy: 0.7323 - val_loss: 0.5190 - val_accuracy: 0.7612\n",
            "Epoch 106/200\n",
            "15/15 [==============================] - 0s 5ms/step - loss: 0.5271 - accuracy: 0.7537 - val_loss: 0.5379 - val_accuracy: 0.7264\n",
            "Epoch 107/200\n",
            "15/15 [==============================] - 0s 5ms/step - loss: 0.5528 - accuracy: 0.7259 - val_loss: 0.5182 - val_accuracy: 0.7811\n",
            "Epoch 108/200\n",
            "15/15 [==============================] - 0s 5ms/step - loss: 0.5468 - accuracy: 0.7495 - val_loss: 0.5350 - val_accuracy: 0.7960\n",
            "Epoch 109/200\n",
            "15/15 [==============================] - 0s 5ms/step - loss: 0.5485 - accuracy: 0.7323 - val_loss: 0.5777 - val_accuracy: 0.6965\n",
            "Epoch 110/200\n",
            "15/15 [==============================] - 0s 5ms/step - loss: 0.5325 - accuracy: 0.7452 - val_loss: 0.5235 - val_accuracy: 0.7612\n",
            "Epoch 111/200\n",
            "15/15 [==============================] - 0s 5ms/step - loss: 0.5706 - accuracy: 0.7195 - val_loss: 0.6280 - val_accuracy: 0.6766\n",
            "Epoch 112/200\n",
            "15/15 [==============================] - 0s 5ms/step - loss: 0.5708 - accuracy: 0.7066 - val_loss: 0.5143 - val_accuracy: 0.7662\n",
            "Epoch 113/200\n",
            "15/15 [==============================] - 0s 6ms/step - loss: 0.5407 - accuracy: 0.7195 - val_loss: 0.5152 - val_accuracy: 0.7761\n",
            "Epoch 114/200\n",
            "15/15 [==============================] - 0s 6ms/step - loss: 0.5330 - accuracy: 0.7430 - val_loss: 0.5134 - val_accuracy: 0.7761\n",
            "Epoch 115/200\n",
            "15/15 [==============================] - 0s 5ms/step - loss: 0.5466 - accuracy: 0.7131 - val_loss: 0.5412 - val_accuracy: 0.7264\n",
            "Epoch 116/200\n",
            "15/15 [==============================] - 0s 6ms/step - loss: 0.5420 - accuracy: 0.7409 - val_loss: 0.5232 - val_accuracy: 0.7761\n",
            "Epoch 117/200\n",
            "15/15 [==============================] - 0s 5ms/step - loss: 0.5419 - accuracy: 0.7302 - val_loss: 0.5110 - val_accuracy: 0.7761\n",
            "Epoch 118/200\n",
            "15/15 [==============================] - 0s 6ms/step - loss: 0.5316 - accuracy: 0.7430 - val_loss: 0.5198 - val_accuracy: 0.7811\n",
            "Epoch 119/200\n",
            "15/15 [==============================] - 0s 7ms/step - loss: 0.5402 - accuracy: 0.7195 - val_loss: 0.5139 - val_accuracy: 0.7711\n",
            "Epoch 120/200\n",
            "15/15 [==============================] - 0s 7ms/step - loss: 0.5332 - accuracy: 0.7409 - val_loss: 0.5149 - val_accuracy: 0.7811\n",
            "Epoch 121/200\n",
            "15/15 [==============================] - 0s 8ms/step - loss: 0.5477 - accuracy: 0.7238 - val_loss: 0.5186 - val_accuracy: 0.7711\n",
            "Epoch 122/200\n",
            "15/15 [==============================] - 0s 6ms/step - loss: 0.5328 - accuracy: 0.7559 - val_loss: 0.5128 - val_accuracy: 0.7861\n",
            "Epoch 123/200\n",
            "15/15 [==============================] - 0s 6ms/step - loss: 0.5513 - accuracy: 0.7173 - val_loss: 0.5681 - val_accuracy: 0.7065\n",
            "Epoch 124/200\n",
            "15/15 [==============================] - 0s 6ms/step - loss: 0.5391 - accuracy: 0.7388 - val_loss: 0.5257 - val_accuracy: 0.7811\n",
            "Epoch 125/200\n",
            "15/15 [==============================] - 0s 6ms/step - loss: 0.5316 - accuracy: 0.7409 - val_loss: 0.5362 - val_accuracy: 0.7264\n",
            "Epoch 126/200\n",
            "15/15 [==============================] - 0s 5ms/step - loss: 0.5318 - accuracy: 0.7409 - val_loss: 0.6236 - val_accuracy: 0.6766\n",
            "Epoch 127/200\n",
            "15/15 [==============================] - 0s 5ms/step - loss: 0.5769 - accuracy: 0.6895 - val_loss: 0.6417 - val_accuracy: 0.6766\n",
            "Epoch 128/200\n",
            "15/15 [==============================] - 0s 5ms/step - loss: 0.5582 - accuracy: 0.7024 - val_loss: 0.5130 - val_accuracy: 0.7662\n",
            "Epoch 129/200\n",
            "15/15 [==============================] - 0s 5ms/step - loss: 0.5329 - accuracy: 0.7195 - val_loss: 0.5822 - val_accuracy: 0.7264\n",
            "Epoch 130/200\n",
            "15/15 [==============================] - 0s 6ms/step - loss: 0.5651 - accuracy: 0.6981 - val_loss: 0.6494 - val_accuracy: 0.6667\n",
            "Epoch 131/200\n",
            "15/15 [==============================] - 0s 5ms/step - loss: 0.5967 - accuracy: 0.7088 - val_loss: 0.5114 - val_accuracy: 0.7612\n",
            "Epoch 132/200\n",
            "15/15 [==============================] - 0s 6ms/step - loss: 0.5497 - accuracy: 0.7195 - val_loss: 0.5156 - val_accuracy: 0.7711\n",
            "Epoch 133/200\n",
            "15/15 [==============================] - 0s 5ms/step - loss: 0.5522 - accuracy: 0.7302 - val_loss: 0.5170 - val_accuracy: 0.7512\n",
            "Epoch 134/200\n",
            "15/15 [==============================] - 0s 5ms/step - loss: 0.5396 - accuracy: 0.7173 - val_loss: 0.5122 - val_accuracy: 0.7811\n",
            "Epoch 135/200\n",
            "15/15 [==============================] - 0s 6ms/step - loss: 0.5518 - accuracy: 0.7195 - val_loss: 0.5162 - val_accuracy: 0.7612\n",
            "Epoch 136/200\n",
            "15/15 [==============================] - 0s 6ms/step - loss: 0.5201 - accuracy: 0.7537 - val_loss: 0.5144 - val_accuracy: 0.7662\n",
            "Epoch 137/200\n",
            "15/15 [==============================] - 0s 5ms/step - loss: 0.5269 - accuracy: 0.7302 - val_loss: 0.5123 - val_accuracy: 0.7711\n",
            "Epoch 138/200\n",
            "15/15 [==============================] - 0s 5ms/step - loss: 0.5201 - accuracy: 0.7537 - val_loss: 0.5074 - val_accuracy: 0.7861\n",
            "Epoch 139/200\n",
            "15/15 [==============================] - 0s 5ms/step - loss: 0.5124 - accuracy: 0.7687 - val_loss: 0.5569 - val_accuracy: 0.7015\n",
            "Epoch 140/200\n",
            "15/15 [==============================] - 0s 6ms/step - loss: 0.5664 - accuracy: 0.7109 - val_loss: 0.5032 - val_accuracy: 0.7861\n",
            "Epoch 141/200\n",
            "15/15 [==============================] - 0s 5ms/step - loss: 0.5403 - accuracy: 0.7430 - val_loss: 0.5239 - val_accuracy: 0.7811\n",
            "Epoch 142/200\n",
            "15/15 [==============================] - 0s 5ms/step - loss: 0.5249 - accuracy: 0.7452 - val_loss: 0.5283 - val_accuracy: 0.7363\n",
            "Epoch 143/200\n",
            "15/15 [==============================] - 0s 5ms/step - loss: 0.5189 - accuracy: 0.7537 - val_loss: 0.5111 - val_accuracy: 0.7612\n",
            "Epoch 144/200\n",
            "15/15 [==============================] - 0s 5ms/step - loss: 0.5167 - accuracy: 0.7537 - val_loss: 0.5062 - val_accuracy: 0.7861\n",
            "Epoch 145/200\n",
            "15/15 [==============================] - 0s 5ms/step - loss: 0.5437 - accuracy: 0.7216 - val_loss: 0.5683 - val_accuracy: 0.7015\n",
            "Epoch 146/200\n",
            "15/15 [==============================] - 0s 5ms/step - loss: 0.5268 - accuracy: 0.7580 - val_loss: 0.5045 - val_accuracy: 0.7761\n",
            "Epoch 147/200\n",
            "15/15 [==============================] - 0s 5ms/step - loss: 0.5237 - accuracy: 0.7516 - val_loss: 0.5407 - val_accuracy: 0.7811\n",
            "Epoch 148/200\n",
            "15/15 [==============================] - 0s 5ms/step - loss: 0.5251 - accuracy: 0.7473 - val_loss: 0.5117 - val_accuracy: 0.7562\n",
            "Epoch 149/200\n",
            "15/15 [==============================] - 0s 5ms/step - loss: 0.5284 - accuracy: 0.7302 - val_loss: 0.6628 - val_accuracy: 0.6318\n",
            "Epoch 150/200\n",
            "15/15 [==============================] - 0s 5ms/step - loss: 0.5872 - accuracy: 0.6895 - val_loss: 0.5067 - val_accuracy: 0.7711\n",
            "Epoch 151/200\n",
            "15/15 [==============================] - 0s 5ms/step - loss: 0.5479 - accuracy: 0.7152 - val_loss: 0.5089 - val_accuracy: 0.7612\n",
            "Epoch 152/200\n",
            "15/15 [==============================] - 0s 5ms/step - loss: 0.5440 - accuracy: 0.7173 - val_loss: 0.5078 - val_accuracy: 0.7612\n",
            "Epoch 153/200\n",
            "15/15 [==============================] - 0s 5ms/step - loss: 0.5601 - accuracy: 0.7216 - val_loss: 0.5903 - val_accuracy: 0.7214\n",
            "Epoch 154/200\n",
            "15/15 [==============================] - 0s 5ms/step - loss: 0.5215 - accuracy: 0.7516 - val_loss: 0.5061 - val_accuracy: 0.7811\n",
            "Epoch 155/200\n",
            "15/15 [==============================] - 0s 5ms/step - loss: 0.5250 - accuracy: 0.7430 - val_loss: 0.5014 - val_accuracy: 0.7811\n",
            "Epoch 156/200\n",
            "15/15 [==============================] - 0s 5ms/step - loss: 0.5112 - accuracy: 0.7687 - val_loss: 0.5033 - val_accuracy: 0.7861\n",
            "Epoch 157/200\n",
            "15/15 [==============================] - 0s 5ms/step - loss: 0.5164 - accuracy: 0.7366 - val_loss: 0.5050 - val_accuracy: 0.7811\n",
            "Epoch 158/200\n",
            "15/15 [==============================] - 0s 5ms/step - loss: 0.5137 - accuracy: 0.7452 - val_loss: 0.5024 - val_accuracy: 0.7811\n",
            "Epoch 159/200\n",
            "15/15 [==============================] - 0s 5ms/step - loss: 0.5095 - accuracy: 0.7452 - val_loss: 0.5010 - val_accuracy: 0.7910\n",
            "Epoch 160/200\n",
            "15/15 [==============================] - 0s 6ms/step - loss: 0.5890 - accuracy: 0.7088 - val_loss: 0.4980 - val_accuracy: 0.7910\n",
            "Epoch 161/200\n",
            "15/15 [==============================] - 0s 5ms/step - loss: 0.5577 - accuracy: 0.7345 - val_loss: 0.5122 - val_accuracy: 0.7512\n",
            "Epoch 162/200\n",
            "15/15 [==============================] - 0s 6ms/step - loss: 0.5081 - accuracy: 0.7388 - val_loss: 0.5360 - val_accuracy: 0.7264\n",
            "Epoch 163/200\n",
            "15/15 [==============================] - 0s 6ms/step - loss: 0.5414 - accuracy: 0.7238 - val_loss: 0.6392 - val_accuracy: 0.6468\n",
            "Epoch 164/200\n",
            "15/15 [==============================] - 0s 9ms/step - loss: 0.5992 - accuracy: 0.6831 - val_loss: 0.5026 - val_accuracy: 0.7662\n",
            "Epoch 165/200\n",
            "15/15 [==============================] - 0s 7ms/step - loss: 0.5188 - accuracy: 0.7388 - val_loss: 0.5177 - val_accuracy: 0.7910\n",
            "Epoch 166/200\n",
            "15/15 [==============================] - 0s 6ms/step - loss: 0.5144 - accuracy: 0.7559 - val_loss: 0.5250 - val_accuracy: 0.8010\n",
            "Epoch 167/200\n",
            "15/15 [==============================] - 0s 6ms/step - loss: 0.5107 - accuracy: 0.7580 - val_loss: 0.5357 - val_accuracy: 0.7811\n",
            "Epoch 168/200\n",
            "15/15 [==============================] - 0s 6ms/step - loss: 0.5524 - accuracy: 0.7216 - val_loss: 0.5195 - val_accuracy: 0.7463\n",
            "Epoch 169/200\n",
            "15/15 [==============================] - 0s 6ms/step - loss: 0.5061 - accuracy: 0.7495 - val_loss: 0.5009 - val_accuracy: 0.7711\n",
            "Epoch 170/200\n",
            "15/15 [==============================] - 0s 7ms/step - loss: 0.5089 - accuracy: 0.7537 - val_loss: 0.5132 - val_accuracy: 0.7512\n",
            "Epoch 171/200\n",
            "15/15 [==============================] - 0s 6ms/step - loss: 0.5502 - accuracy: 0.7302 - val_loss: 0.5014 - val_accuracy: 0.7662\n",
            "Epoch 172/200\n",
            "15/15 [==============================] - 0s 6ms/step - loss: 0.5267 - accuracy: 0.7302 - val_loss: 0.5016 - val_accuracy: 0.7761\n",
            "Epoch 173/200\n",
            "15/15 [==============================] - 0s 6ms/step - loss: 0.5192 - accuracy: 0.7430 - val_loss: 0.4987 - val_accuracy: 0.7861\n",
            "Epoch 174/200\n",
            "15/15 [==============================] - 0s 6ms/step - loss: 0.5571 - accuracy: 0.7216 - val_loss: 0.4963 - val_accuracy: 0.8010\n",
            "Epoch 175/200\n",
            "15/15 [==============================] - 0s 6ms/step - loss: 0.5163 - accuracy: 0.7345 - val_loss: 0.5377 - val_accuracy: 0.7811\n",
            "Epoch 176/200\n",
            "15/15 [==============================] - 0s 6ms/step - loss: 0.5217 - accuracy: 0.7366 - val_loss: 0.5023 - val_accuracy: 0.7761\n",
            "Epoch 177/200\n",
            "15/15 [==============================] - 0s 6ms/step - loss: 0.5399 - accuracy: 0.7388 - val_loss: 0.4988 - val_accuracy: 0.7861\n",
            "Epoch 178/200\n",
            "15/15 [==============================] - 0s 6ms/step - loss: 0.5187 - accuracy: 0.7516 - val_loss: 0.5150 - val_accuracy: 0.7910\n",
            "Epoch 179/200\n",
            "15/15 [==============================] - 0s 5ms/step - loss: 0.5733 - accuracy: 0.7045 - val_loss: 0.5992 - val_accuracy: 0.6915\n",
            "Epoch 180/200\n",
            "15/15 [==============================] - 0s 5ms/step - loss: 0.5713 - accuracy: 0.7302 - val_loss: 0.5754 - val_accuracy: 0.7413\n",
            "Epoch 181/200\n",
            "15/15 [==============================] - 0s 6ms/step - loss: 0.5112 - accuracy: 0.7473 - val_loss: 0.5004 - val_accuracy: 0.7861\n",
            "Epoch 182/200\n",
            "15/15 [==============================] - 0s 5ms/step - loss: 0.5039 - accuracy: 0.7623 - val_loss: 0.4976 - val_accuracy: 0.7910\n",
            "Epoch 183/200\n",
            "15/15 [==============================] - 0s 6ms/step - loss: 0.5087 - accuracy: 0.7537 - val_loss: 0.4948 - val_accuracy: 0.7910\n",
            "Epoch 184/200\n",
            "15/15 [==============================] - 0s 6ms/step - loss: 0.5108 - accuracy: 0.7430 - val_loss: 0.5162 - val_accuracy: 0.7413\n",
            "Epoch 185/200\n",
            "15/15 [==============================] - 0s 5ms/step - loss: 0.5144 - accuracy: 0.7259 - val_loss: 0.4966 - val_accuracy: 0.7960\n",
            "Epoch 186/200\n",
            "15/15 [==============================] - 0s 5ms/step - loss: 0.4994 - accuracy: 0.7580 - val_loss: 0.5110 - val_accuracy: 0.7512\n",
            "Epoch 187/200\n",
            "15/15 [==============================] - 0s 5ms/step - loss: 0.5088 - accuracy: 0.7516 - val_loss: 0.4987 - val_accuracy: 0.7811\n",
            "Epoch 188/200\n",
            "15/15 [==============================] - 0s 5ms/step - loss: 0.5174 - accuracy: 0.7473 - val_loss: 0.4998 - val_accuracy: 0.7861\n",
            "Epoch 189/200\n",
            "15/15 [==============================] - 0s 5ms/step - loss: 0.5121 - accuracy: 0.7366 - val_loss: 0.5472 - val_accuracy: 0.7662\n",
            "Epoch 190/200\n",
            "15/15 [==============================] - 0s 5ms/step - loss: 0.5675 - accuracy: 0.7024 - val_loss: 0.4989 - val_accuracy: 0.7711\n",
            "Epoch 191/200\n",
            "15/15 [==============================] - 0s 6ms/step - loss: 0.5176 - accuracy: 0.7666 - val_loss: 0.5013 - val_accuracy: 0.7761\n",
            "Epoch 192/200\n",
            "15/15 [==============================] - 0s 5ms/step - loss: 0.5162 - accuracy: 0.7537 - val_loss: 0.5210 - val_accuracy: 0.7413\n",
            "Epoch 193/200\n",
            "15/15 [==============================] - 0s 5ms/step - loss: 0.5364 - accuracy: 0.7388 - val_loss: 0.5128 - val_accuracy: 0.7811\n",
            "Epoch 194/200\n",
            "15/15 [==============================] - 0s 5ms/step - loss: 0.5023 - accuracy: 0.7495 - val_loss: 0.4956 - val_accuracy: 0.7711\n",
            "Epoch 195/200\n",
            "15/15 [==============================] - 0s 6ms/step - loss: 0.5067 - accuracy: 0.7473 - val_loss: 0.4947 - val_accuracy: 0.7761\n",
            "Epoch 196/200\n",
            "15/15 [==============================] - 0s 6ms/step - loss: 0.4945 - accuracy: 0.7602 - val_loss: 0.4939 - val_accuracy: 0.7910\n",
            "Epoch 197/200\n",
            "15/15 [==============================] - 0s 5ms/step - loss: 0.5054 - accuracy: 0.7495 - val_loss: 0.5044 - val_accuracy: 0.7811\n",
            "Epoch 198/200\n",
            "15/15 [==============================] - 0s 6ms/step - loss: 0.4954 - accuracy: 0.7580 - val_loss: 0.5165 - val_accuracy: 0.7910\n",
            "Epoch 199/200\n",
            "15/15 [==============================] - 0s 5ms/step - loss: 0.5165 - accuracy: 0.7452 - val_loss: 0.5068 - val_accuracy: 0.7711\n",
            "Epoch 200/200\n",
            "15/15 [==============================] - 0s 5ms/step - loss: 0.5049 - accuracy: 0.7623 - val_loss: 0.5050 - val_accuracy: 0.7960\n",
            "\n",
            "\n",
            "Accuracy: 79.60%\n",
            "\n",
            "\n",
            "Validation Score: 79.60%\n"
          ]
        }
      ]
    },
    {
      "cell_type": "code",
      "source": [
        "\n",
        "# summarize the history for accuracy\n",
        "plt.plot(HyperTune.history['accuracy'])\n",
        "plt.plot(HyperTune.history['val_accuracy'])\n",
        "plt.title('model accuracy')\n",
        "plt.ylabel('accuracy')\n",
        "plt.xlabel('epoch')\n",
        "plt.legend(['train','test'], loc='upper left')\n",
        "plt.show()\n",
        "\n",
        "# summarize the history for loss\n",
        "plt.plot(HyperTune.history['loss'])\n",
        "plt.plot(HyperTune.history['val_loss'])\n",
        "plt.title('model loss')\n",
        "plt.ylabel('loss')\n",
        "plt.xlabel('epoch')\n",
        "plt.legend(['train','test'], loc='upper left')\n",
        "plt.show()\n",
        "     "
      ],
      "metadata": {
        "colab": {
          "base_uri": "https://localhost:8080/",
          "height": 573
        },
        "id": "O62xxilvz3dd",
        "outputId": "8880da9a-bf42-4d7a-ab91-2eb0ea09967f"
      },
      "execution_count": 160,
      "outputs": [
        {
          "output_type": "display_data",
          "data": {
            "text/plain": [
              "<Figure size 432x288 with 1 Axes>"
            ],
            "image/png": "[encoded data removed]"
          },
          "metadata": {
            "needs_background": "light"
          }
        },
        {
          "output_type": "display_data",
          "data": {
            "text/plain": [
              "<Figure size 432x288 with 1 Axes>"
            ],
            "image/png": "[encoded data removed]"
          },
          "metadata": {
            "needs_background": "light"
          }
        }
      ]
    },
    {
      "cell_type": "markdown",
      "source": [
        "## Hyper tuning using GridSearchCV\n"
      ],
      "metadata": {
        "id": "Px26Orsq0Pbf"
      }
    },
    {
      "cell_type": "code",
      "source": [
        "from keras.wrappers.scikit_learn import KerasClassifier\n",
        "from sklearn.model_selection import GridSearchCV"
      ],
      "metadata": {
        "id": "ugcvI_Yt0jaM"
      },
      "execution_count": 161,
      "outputs": []
    },
    {
      "cell_type": "code",
      "source": [
        "from sklearn.preprocessing import StandardScaler\n",
        "\n",
        "# Data split for train and validation \n",
        "x = df_Train.iloc[:, [1,5,7,6,0,2]]\n",
        "\n",
        "\n",
        "scaler = StandardScaler()\n",
        "x =  scaler.fit_transform(x)\n",
        "\n",
        "X_train, X_test, Y_train, Y_test = train_test_split(x, y, test_size=0.3,\n",
        "                                                    random_state=RANDOM_SEED)\n",
        "\n",
        "\n",
        "\n",
        "model1.summary()\n",
        "def build_clf(unit):\n",
        "  # creating the layers of the NN\n",
        "  ann = keras.Sequential()\n",
        "  ann.add(layers.Dense(12, input_dim=6, activation='relu'))\n",
        "  ann.add(layers.Dense(units=unit, activation='relu'))\n",
        "  ann.add(layers.Dense(units=1, activation='sigmoid'))\n",
        "  ann.compile(optimizer = 'adam', loss = 'binary_crossentropy', metrics = ['accuracy'])\n",
        "  return ann"
      ],
      "metadata": {
        "colab": {
          "base_uri": "https://localhost:8080/"
        },
        "id": "ei_t1H6n0ct0",
        "outputId": "7196ed4b-99ef-482d-af53-6dae2eab9b11"
      },
      "execution_count": 163,
      "outputs": [
        {
          "output_type": "stream",
          "name": "stdout",
          "text": [
            "Model: \"sequential\"\n",
            "_________________________________________________________________\n",
            " Layer (type)                Output Shape              Param #   \n",
            "=================================================================\n",
            " dense (Dense)               (None, 4)                 12        \n",
            "                                                                 \n",
            " dense_1 (Dense)             (None, 6)                 30        \n",
            "                                                                 \n",
            " dense_2 (Dense)             (None, 1)                 7         \n",
            "                                                                 \n",
            "=================================================================\n",
            "Total params: 49\n",
            "Trainable params: 49\n",
            "Non-trainable params: 0\n",
            "_________________________________________________________________\n"
          ]
        }
      ]
    },
    {
      "cell_type": "code",
      "source": [
        "\n",
        "Gridmodel=KerasClassifier(build_fn=build_clf)"
      ],
      "metadata": {
        "id": "Msat-bAb0gdn"
      },
      "execution_count": 164,
      "outputs": []
    },
    {
      "cell_type": "code",
      "source": [
        "params={'batch_size':[10,15,20,25], \n",
        "        'nb_epoch':[100, 125, 150, 200],\n",
        "        'unit':[18,24],\n",
        "           \n",
        "        }\n",
        "gs=GridSearchCV(estimator=Gridmodel, param_grid=params, cv=10)\n",
        "# now fit the dataset to the GridSearchCV object. \n",
        "gs = gs.fit(x, y)\n"
      ],
      "metadata": {
        "id": "XrN_mKN-0Tbj",
        "colab": {
          "base_uri": "https://localhost:8080/"
        },
        "outputId": "337994c4-9bed-4e1d-fbe6-2f1661f1ffb7"
      },
      "execution_count": 165,
      "outputs": [
        {
          "output_type": "stream",
          "name": "stdout",
          "text": [
            "61/61 [==============================] - 1s 3ms/step - loss: 0.5507 - accuracy: 0.7288\n",
            "7/7 [==============================] - 0s 3ms/step - loss: 0.5990 - accuracy: 0.6119\n",
            "61/61 [==============================] - 1s 2ms/step - loss: 0.6394 - accuracy: 0.6822\n",
            "7/7 [==============================] - 0s 2ms/step - loss: 0.5814 - accuracy: 0.7463\n",
            "61/61 [==============================] - 1s 2ms/step - loss: 0.7039 - accuracy: 0.5058\n",
            "7/7 [==============================] - 0s 4ms/step - loss: 0.6452 - accuracy: 0.7015\n",
            "61/61 [==============================] - 1s 3ms/step - loss: 0.6535 - accuracy: 0.6306\n",
            "7/7 [==============================] - 0s 3ms/step - loss: 0.6407 - accuracy: 0.6716\n",
            "61/61 [==============================] - 1s 2ms/step - loss: 0.6451 - accuracy: 0.6223\n",
            "7/7 [==============================] - 0s 4ms/step - loss: 0.6209 - accuracy: 0.6418\n",
            "61/61 [==============================] - 4s 22ms/step - loss: 0.6448 - accuracy: 0.6639\n",
            "7/7 [==============================] - 1s 11ms/step - loss: 0.5921 - accuracy: 0.6716\n",
            "61/61 [==============================] - 1s 2ms/step - loss: 0.6465 - accuracy: 0.6622\n",
            "7/7 [==============================] - 0s 2ms/step - loss: 0.6044 - accuracy: 0.6567\n",
            "61/61 [==============================] - 1s 2ms/step - loss: 0.7459 - accuracy: 0.4293\n",
            "7/7 [==============================] - 0s 3ms/step - loss: 0.7059 - accuracy: 0.5672\n",
            "61/61 [==============================] - 2s 2ms/step - loss: 0.7026 - accuracy: 0.5000\n",
            "7/7 [==============================] - 0s 3ms/step - loss: 0.6318 - accuracy: 0.7121\n",
            "61/61 [==============================] - 1s 3ms/step - loss: 0.6975 - accuracy: 0.6163\n",
            "7/7 [==============================] - 0s 3ms/step - loss: 0.6656 - accuracy: 0.6515\n",
            "61/61 [==============================] - 1s 2ms/step - loss: 0.7289 - accuracy: 0.5108\n",
            "7/7 [==============================] - 0s 3ms/step - loss: 0.6562 - accuracy: 0.6567\n",
            "61/61 [==============================] - 1s 2ms/step - loss: 0.6440 - accuracy: 0.6656\n",
            "7/7 [==============================] - 0s 3ms/step - loss: 0.5811 - accuracy: 0.7015\n",
            "61/61 [==============================] - 1s 4ms/step - loss: 0.6429 - accuracy: 0.7055\n",
            "7/7 [==============================] - 0s 3ms/step - loss: 0.5836 - accuracy: 0.7761\n",
            "61/61 [==============================] - 1s 3ms/step - loss: 0.6470 - accuracy: 0.6506\n",
            "7/7 [==============================] - 0s 3ms/step - loss: 0.6074 - accuracy: 0.5970\n",
            "61/61 [==============================] - 1s 2ms/step - loss: 0.6744 - accuracy: 0.5674\n",
            "7/7 [==============================] - 0s 3ms/step - loss: 0.6454 - accuracy: 0.6418\n",
            "61/61 [==============================] - 1s 2ms/step - loss: 0.7044 - accuracy: 0.5424\n",
            "7/7 [==============================] - 0s 3ms/step - loss: 0.6312 - accuracy: 0.6269\n",
            "61/61 [==============================] - 1s 3ms/step - loss: 0.6791 - accuracy: 0.5491\n",
            "7/7 [==============================] - 0s 3ms/step - loss: 0.6445 - accuracy: 0.6567\n",
            "61/61 [==============================] - 1s 2ms/step - loss: 0.6389 - accuracy: 0.6755\n",
            "7/7 [==============================] - 0s 3ms/step - loss: 0.5795 - accuracy: 0.8060\n",
            "61/61 [==============================] - 1s 2ms/step - loss: 0.7149 - accuracy: 0.4635\n",
            "7/7 [==============================] - 0s 3ms/step - loss: 0.6399 - accuracy: 0.7121\n",
            "61/61 [==============================] - 1s 2ms/step - loss: 0.6741 - accuracy: 0.5698\n",
            "7/7 [==============================] - 0s 3ms/step - loss: 0.6211 - accuracy: 0.7727\n",
            "61/61 [==============================] - 1s 2ms/step - loss: 0.6449 - accuracy: 0.6672\n",
            "7/7 [==============================] - 0s 4ms/step - loss: 0.7013 - accuracy: 0.5672\n",
            "61/61 [==============================] - 3s 5ms/step - loss: 0.7078 - accuracy: 0.4792\n",
            "7/7 [==============================] - 0s 3ms/step - loss: 0.6548 - accuracy: 0.6418\n",
            "61/61 [==============================] - 1s 2ms/step - loss: 0.7858 - accuracy: 0.3677\n",
            "7/7 [==============================] - 0s 3ms/step - loss: 0.6874 - accuracy: 0.5672\n",
            "61/61 [==============================] - 1s 3ms/step - loss: 0.6185 - accuracy: 0.6506\n",
            "7/7 [==============================] - 0s 3ms/step - loss: 0.6392 - accuracy: 0.6716\n",
            "61/61 [==============================] - 1s 2ms/step - loss: 0.6217 - accuracy: 0.6822\n",
            "7/7 [==============================] - 0s 3ms/step - loss: 0.6297 - accuracy: 0.6418\n",
            "61/61 [==============================] - 1s 2ms/step - loss: 0.6761 - accuracy: 0.5790\n",
            "7/7 [==============================] - 0s 3ms/step - loss: 0.6092 - accuracy: 0.6567\n",
            "61/61 [==============================] - 1s 2ms/step - loss: 0.6951 - accuracy: 0.5424\n",
            "7/7 [==============================] - 0s 3ms/step - loss: 0.6419 - accuracy: 0.6716\n",
            "61/61 [==============================] - 1s 2ms/step - loss: 0.6056 - accuracy: 0.6556\n",
            "7/7 [==============================] - 0s 3ms/step - loss: 0.5001 - accuracy: 0.8507\n",
            "61/61 [==============================] - 1s 2ms/step - loss: 0.6772 - accuracy: 0.5947\n",
            "7/7 [==============================] - 0s 3ms/step - loss: 0.5691 - accuracy: 0.7424\n",
            "61/61 [==============================] - 1s 3ms/step - loss: 0.6568 - accuracy: 0.6329\n",
            "7/7 [==============================] - 0s 3ms/step - loss: 0.6268 - accuracy: 0.6970\n",
            "61/61 [==============================] - 1s 3ms/step - loss: 0.6693 - accuracy: 0.5691\n",
            "7/7 [==============================] - 0s 2ms/step - loss: 0.6723 - accuracy: 0.5373\n",
            "61/61 [==============================] - 1s 2ms/step - loss: 0.6983 - accuracy: 0.4942\n",
            "7/7 [==============================] - 0s 4ms/step - loss: 0.6560 - accuracy: 0.7164\n",
            "61/61 [==============================] - 1s 2ms/step - loss: 0.6688 - accuracy: 0.6023\n",
            "7/7 [==============================] - 0s 2ms/step - loss: 0.6015 - accuracy: 0.7612\n",
            "61/61 [==============================] - 1s 3ms/step - loss: 0.6287 - accuracy: 0.6539\n",
            "7/7 [==============================] - 0s 3ms/step - loss: 0.5974 - accuracy: 0.6418\n",
            "61/61 [==============================] - 1s 2ms/step - loss: 0.6647 - accuracy: 0.6140\n",
            "7/7 [==============================] - 0s 2ms/step - loss: 0.6735 - accuracy: 0.5821\n",
            "61/61 [==============================] - 2s 2ms/step - loss: 0.6605 - accuracy: 0.6140\n",
            "7/7 [==============================] - 0s 2ms/step - loss: 0.5809 - accuracy: 0.7612\n",
            "61/61 [==============================] - 1s 2ms/step - loss: 0.7189 - accuracy: 0.5341\n",
            "7/7 [==============================] - 0s 3ms/step - loss: 0.6740 - accuracy: 0.5672\n",
            "61/61 [==============================] - 1s 3ms/step - loss: 0.7030 - accuracy: 0.4742\n",
            "7/7 [==============================] - 0s 4ms/step - loss: 0.6585 - accuracy: 0.6716\n",
            "61/61 [==============================] - 1s 4ms/step - loss: 0.6750 - accuracy: 0.5781\n",
            "7/7 [==============================] - 0s 3ms/step - loss: 0.5766 - accuracy: 0.7727\n",
            "61/61 [==============================] - 1s 2ms/step - loss: 0.6736 - accuracy: 0.5864\n",
            "7/7 [==============================] - 0s 3ms/step - loss: 0.5802 - accuracy: 0.6515\n",
            "61/61 [==============================] - 1s 2ms/step - loss: 0.6750 - accuracy: 0.6156\n",
            "7/7 [==============================] - 0s 3ms/step - loss: 0.6557 - accuracy: 0.6119\n",
            "61/61 [==============================] - 1s 2ms/step - loss: 0.6489 - accuracy: 0.6572\n",
            "7/7 [==============================] - 0s 3ms/step - loss: 0.6108 - accuracy: 0.6866\n",
            "61/61 [==============================] - 1s 3ms/step - loss: 0.6660 - accuracy: 0.6506\n",
            "7/7 [==============================] - 0s 4ms/step - loss: 0.5940 - accuracy: 0.6866\n",
            "61/61 [==============================] - 1s 2ms/step - loss: 0.6906 - accuracy: 0.6090\n",
            "7/7 [==============================] - 0s 3ms/step - loss: 0.6535 - accuracy: 0.5970\n",
            "61/61 [==============================] - 1s 2ms/step - loss: 0.6569 - accuracy: 0.6423\n",
            "7/7 [==============================] - 0s 3ms/step - loss: 0.6955 - accuracy: 0.5672\n",
            "61/61 [==============================] - 1s 2ms/step - loss: 0.6211 - accuracy: 0.6672\n",
            "7/7 [==============================] - 0s 3ms/step - loss: 0.5423 - accuracy: 0.7761\n",
            "61/61 [==============================] - 1s 2ms/step - loss: 0.7036 - accuracy: 0.5291\n",
            "7/7 [==============================] - 0s 3ms/step - loss: 0.6192 - accuracy: 0.7313\n",
            "61/61 [==============================] - 1s 4ms/step - loss: 0.7069 - accuracy: 0.4676\n",
            "7/7 [==============================] - 0s 3ms/step - loss: 0.6859 - accuracy: 0.6866\n",
            "61/61 [==============================] - 1s 2ms/step - loss: 0.6130 - accuracy: 0.7276\n",
            "7/7 [==============================] - 0s 3ms/step - loss: 0.5487 - accuracy: 0.8030\n",
            "61/61 [==============================] - 2s 3ms/step - loss: 0.5794 - accuracy: 0.7076\n",
            "7/7 [==============================] - 0s 3ms/step - loss: 0.5059 - accuracy: 0.7273\n",
            "61/61 [==============================] - 1s 2ms/step - loss: 0.6833 - accuracy: 0.5957\n",
            "7/7 [==============================] - 0s 2ms/step - loss: 0.6853 - accuracy: 0.5224\n",
            "61/61 [==============================] - 1s 2ms/step - loss: 0.6871 - accuracy: 0.5258\n",
            "7/7 [==============================] - 0s 2ms/step - loss: 0.5903 - accuracy: 0.7015\n",
            "61/61 [==============================] - 1s 2ms/step - loss: 0.6435 - accuracy: 0.7005\n",
            "7/7 [==============================] - 0s 2ms/step - loss: 0.5915 - accuracy: 0.7910\n",
            "61/61 [==============================] - 1s 2ms/step - loss: 0.6293 - accuracy: 0.7288\n",
            "7/7 [==============================] - 0s 3ms/step - loss: 0.5972 - accuracy: 0.6716\n",
            "61/61 [==============================] - 1s 2ms/step - loss: 0.6093 - accuracy: 0.6589\n",
            "7/7 [==============================] - 0s 2ms/step - loss: 0.6592 - accuracy: 0.5821\n",
            "61/61 [==============================] - 1s 4ms/step - loss: 0.6236 - accuracy: 0.6473\n",
            "7/7 [==============================] - 0s 4ms/step - loss: 0.5620 - accuracy: 0.6567\n",
            "61/61 [==============================] - 1s 2ms/step - loss: 0.6742 - accuracy: 0.5957\n",
            "7/7 [==============================] - 0s 2ms/step - loss: 0.6040 - accuracy: 0.6418\n",
            "61/61 [==============================] - 1s 2ms/step - loss: 0.6805 - accuracy: 0.5241\n",
            "7/7 [==============================] - 0s 3ms/step - loss: 0.6034 - accuracy: 0.7761\n",
            "61/61 [==============================] - 1s 2ms/step - loss: 0.6493 - accuracy: 0.6395\n",
            "7/7 [==============================] - 0s 3ms/step - loss: 0.5548 - accuracy: 0.7727\n",
            "61/61 [==============================] - 1s 2ms/step - loss: 0.6570 - accuracy: 0.6462\n",
            "7/7 [==============================] - 0s 2ms/step - loss: 0.5945 - accuracy: 0.7576\n",
            "61/61 [==============================] - 1s 2ms/step - loss: 0.7266 - accuracy: 0.4908\n",
            "7/7 [==============================] - 0s 3ms/step - loss: 0.6695 - accuracy: 0.6119\n",
            "61/61 [==============================] - 1s 2ms/step - loss: 0.6409 - accuracy: 0.7088\n",
            "7/7 [==============================] - 0s 3ms/step - loss: 0.6102 - accuracy: 0.7761\n",
            "61/61 [==============================] - 1s 2ms/step - loss: 0.6533 - accuracy: 0.6439\n",
            "7/7 [==============================] - 0s 3ms/step - loss: 0.5742 - accuracy: 0.7463\n",
            "61/61 [==============================] - 2s 2ms/step - loss: 0.6403 - accuracy: 0.6356\n",
            "7/7 [==============================] - 0s 4ms/step - loss: 0.6116 - accuracy: 0.6716\n",
            "61/61 [==============================] - 1s 3ms/step - loss: 0.7256 - accuracy: 0.5042\n",
            "7/7 [==============================] - 0s 4ms/step - loss: 0.6857 - accuracy: 0.5672\n",
            "61/61 [==============================] - 1s 2ms/step - loss: 0.6697 - accuracy: 0.6373\n",
            "7/7 [==============================] - 0s 3ms/step - loss: 0.6118 - accuracy: 0.6716\n",
            "61/61 [==============================] - 1s 2ms/step - loss: 0.6294 - accuracy: 0.6689\n",
            "7/7 [==============================] - 0s 3ms/step - loss: 0.5994 - accuracy: 0.7164\n",
            "61/61 [==============================] - 1s 2ms/step - loss: 0.6940 - accuracy: 0.5324\n",
            "7/7 [==============================] - 0s 3ms/step - loss: 0.6605 - accuracy: 0.6418\n",
            "61/61 [==============================] - 1s 2ms/step - loss: 0.6428 - accuracy: 0.6628\n",
            "7/7 [==============================] - 0s 3ms/step - loss: 0.5700 - accuracy: 0.7879\n",
            "61/61 [==============================] - 1s 2ms/step - loss: 0.6775 - accuracy: 0.5482\n",
            "7/7 [==============================] - 0s 2ms/step - loss: 0.6174 - accuracy: 0.6515\n",
            "61/61 [==============================] - 1s 2ms/step - loss: 0.6743 - accuracy: 0.5990\n",
            "7/7 [==============================] - 0s 3ms/step - loss: 0.6454 - accuracy: 0.7015\n",
            "61/61 [==============================] - 1s 2ms/step - loss: 0.6933 - accuracy: 0.5973\n",
            "7/7 [==============================] - 0s 3ms/step - loss: 0.6218 - accuracy: 0.6866\n",
            "61/61 [==============================] - 1s 2ms/step - loss: 0.6712 - accuracy: 0.6439\n",
            "7/7 [==============================] - 0s 3ms/step - loss: 0.6112 - accuracy: 0.7612\n",
            "61/61 [==============================] - 1s 3ms/step - loss: 0.6574 - accuracy: 0.6606\n",
            "7/7 [==============================] - 0s 3ms/step - loss: 0.6227 - accuracy: 0.6866\n",
            "61/61 [==============================] - 1s 2ms/step - loss: 0.6776 - accuracy: 0.5840\n",
            "7/7 [==============================] - 0s 3ms/step - loss: 0.6621 - accuracy: 0.6119\n",
            "61/61 [==============================] - 1s 3ms/step - loss: 0.6749 - accuracy: 0.6489\n",
            "7/7 [==============================] - 0s 3ms/step - loss: 0.6367 - accuracy: 0.6567\n",
            "61/61 [==============================] - 1s 2ms/step - loss: 0.6235 - accuracy: 0.6173\n",
            "7/7 [==============================] - 0s 3ms/step - loss: 0.5999 - accuracy: 0.6567\n",
            "61/61 [==============================] - 1s 2ms/step - loss: 0.6456 - accuracy: 0.6705\n",
            "7/7 [==============================] - 0s 3ms/step - loss: 0.5903 - accuracy: 0.8358\n",
            "61/61 [==============================] - 1s 2ms/step - loss: 0.6166 - accuracy: 0.6877\n",
            "7/7 [==============================] - 0s 3ms/step - loss: 0.5456 - accuracy: 0.7273\n",
            "61/61 [==============================] - 1s 2ms/step - loss: 0.6444 - accuracy: 0.6379\n",
            "7/7 [==============================] - 0s 3ms/step - loss: 0.6105 - accuracy: 0.6970\n",
            "41/41 [==============================] - 1s 2ms/step - loss: 0.6874 - accuracy: 0.5541\n",
            "5/5 [==============================] - 0s 3ms/step - loss: 0.6444 - accuracy: 0.6119\n",
            "41/41 [==============================] - 1s 3ms/step - loss: 0.6467 - accuracy: 0.6789\n",
            "5/5 [==============================] - 0s 4ms/step - loss: 0.5752 - accuracy: 0.7910\n",
            "41/41 [==============================] - 1s 3ms/step - loss: 0.7458 - accuracy: 0.3478\n",
            "5/5 [==============================] - 0s 3ms/step - loss: 0.7039 - accuracy: 0.5522\n",
            "41/41 [==============================] - 1s 2ms/step - loss: 0.6222 - accuracy: 0.7304\n",
            "5/5 [==============================] - 0s 3ms/step - loss: 0.5960 - accuracy: 0.7463\n",
            "41/41 [==============================] - 1s 2ms/step - loss: 0.6723 - accuracy: 0.6572\n",
            "5/5 [==============================] - 0s 3ms/step - loss: 0.7005 - accuracy: 0.5075\n",
            "41/41 [==============================] - 1s 2ms/step - loss: 0.6764 - accuracy: 0.6223\n",
            "5/5 [==============================] - 0s 3ms/step - loss: 0.6037 - accuracy: 0.6716\n",
            "41/41 [==============================] - 1s 2ms/step - loss: 0.6857 - accuracy: 0.6090\n",
            "5/5 [==============================] - 0s 3ms/step - loss: 0.6223 - accuracy: 0.6716\n",
            "41/41 [==============================] - 1s 2ms/step - loss: 0.6828 - accuracy: 0.6423\n",
            "5/5 [==============================] - 0s 4ms/step - loss: 0.6286 - accuracy: 0.7015\n",
            "41/41 [==============================] - 1s 2ms/step - loss: 0.6832 - accuracy: 0.5997\n",
            "5/5 [==============================] - 0s 4ms/step - loss: 0.5988 - accuracy: 0.6970\n",
            "41/41 [==============================] - 1s 2ms/step - loss: 0.7253 - accuracy: 0.4485\n",
            "5/5 [==============================] - 0s 4ms/step - loss: 0.6549 - accuracy: 0.6970\n",
            "41/41 [==============================] - 1s 2ms/step - loss: 0.6184 - accuracy: 0.6606\n",
            "5/5 [==============================] - 1s 4ms/step - loss: 0.6478 - accuracy: 0.5224\n",
            "41/41 [==============================] - 2s 3ms/step - loss: 0.6586 - accuracy: 0.6556\n",
            "5/5 [==============================] - 0s 3ms/step - loss: 0.5924 - accuracy: 0.7463\n",
            "41/41 [==============================] - 1s 2ms/step - loss: 0.6497 - accuracy: 0.6506\n",
            "5/5 [==============================] - 0s 4ms/step - loss: 0.6182 - accuracy: 0.6567\n",
            "41/41 [==============================] - 1s 2ms/step - loss: 0.7619 - accuracy: 0.4243\n",
            "5/5 [==============================] - 0s 3ms/step - loss: 0.7005 - accuracy: 0.5970\n",
            "41/41 [==============================] - 1s 3ms/step - loss: 0.6102 - accuracy: 0.6905\n",
            "5/5 [==============================] - 0s 3ms/step - loss: 0.6247 - accuracy: 0.5821\n",
            "41/41 [==============================] - 1s 2ms/step - loss: 0.7007 - accuracy: 0.5657\n",
            "5/5 [==============================] - 0s 4ms/step - loss: 0.7199 - accuracy: 0.5672\n",
            "41/41 [==============================] - 1s 2ms/step - loss: 0.7049 - accuracy: 0.5874\n",
            "5/5 [==============================] - 0s 3ms/step - loss: 0.6494 - accuracy: 0.6269\n",
            "41/41 [==============================] - 1s 2ms/step - loss: 0.6561 - accuracy: 0.6073\n",
            "5/5 [==============================] - 0s 3ms/step - loss: 0.5964 - accuracy: 0.7612\n",
            "41/41 [==============================] - 1s 2ms/step - loss: 0.6441 - accuracy: 0.6628\n",
            "5/5 [==============================] - 0s 3ms/step - loss: 0.5966 - accuracy: 0.6970\n",
            "41/41 [==============================] - 1s 3ms/step - loss: 0.6535 - accuracy: 0.6478\n",
            "5/5 [==============================] - 0s 4ms/step - loss: 0.6132 - accuracy: 0.7273\n",
            "41/41 [==============================] - 1s 4ms/step - loss: 0.6741 - accuracy: 0.6190\n",
            "5/5 [==============================] - 0s 3ms/step - loss: 0.6721 - accuracy: 0.6269\n",
            "41/41 [==============================] - 1s 2ms/step - loss: 0.6833 - accuracy: 0.5957\n",
            "5/5 [==============================] - 0s 3ms/step - loss: 0.5863 - accuracy: 0.7612\n",
            "41/41 [==============================] - 1s 2ms/step - loss: 0.6984 - accuracy: 0.6506\n",
            "5/5 [==============================] - 0s 4ms/step - loss: 0.6539 - accuracy: 0.6567\n",
            "41/41 [==============================] - 1s 2ms/step - loss: 0.6747 - accuracy: 0.6489\n",
            "5/5 [==============================] - 0s 4ms/step - loss: 0.6619 - accuracy: 0.6567\n",
            "41/41 [==============================] - 2s 3ms/step - loss: 0.6333 - accuracy: 0.6656\n",
            "5/5 [==============================] - 0s 3ms/step - loss: 0.7015 - accuracy: 0.5821\n",
            "41/41 [==============================] - 1s 2ms/step - loss: 0.6944 - accuracy: 0.5175\n",
            "5/5 [==============================] - 0s 3ms/step - loss: 0.6595 - accuracy: 0.6119\n",
            "41/41 [==============================] - 1s 2ms/step - loss: 0.6706 - accuracy: 0.6755\n",
            "5/5 [==============================] - 0s 3ms/step - loss: 0.6094 - accuracy: 0.7164\n",
            "41/41 [==============================] - 1s 2ms/step - loss: 0.6944 - accuracy: 0.5408\n",
            "5/5 [==============================] - 0s 5ms/step - loss: 0.6351 - accuracy: 0.7164\n",
            "41/41 [==============================] - 1s 4ms/step - loss: 0.6186 - accuracy: 0.6645\n",
            "5/5 [==============================] - 0s 5ms/step - loss: 0.5499 - accuracy: 0.7273\n",
            "41/41 [==============================] - 1s 2ms/step - loss: 0.6583 - accuracy: 0.6545\n",
            "5/5 [==============================] - 0s 4ms/step - loss: 0.6035 - accuracy: 0.6515\n",
            "41/41 [==============================] - 1s 2ms/step - loss: 0.6946 - accuracy: 0.5824\n",
            "5/5 [==============================] - 0s 4ms/step - loss: 0.6675 - accuracy: 0.5821\n",
            "41/41 [==============================] - 1s 2ms/step - loss: 0.7300 - accuracy: 0.4093\n",
            "5/5 [==============================] - 0s 4ms/step - loss: 0.6910 - accuracy: 0.5373\n",
            "41/41 [==============================] - 1s 2ms/step - loss: 0.6362 - accuracy: 0.6556\n",
            "5/5 [==============================] - 0s 3ms/step - loss: 0.5985 - accuracy: 0.6567\n",
            "41/41 [==============================] - 1s 2ms/step - loss: 0.7011 - accuracy: 0.5574\n",
            "5/5 [==============================] - 0s 3ms/step - loss: 0.6469 - accuracy: 0.6269\n",
            "41/41 [==============================] - 1s 2ms/step - loss: 0.6518 - accuracy: 0.6772\n",
            "5/5 [==============================] - 0s 4ms/step - loss: 0.6526 - accuracy: 0.5970\n",
            "41/41 [==============================] - 1s 2ms/step - loss: 0.6812 - accuracy: 0.5474\n",
            "5/5 [==============================] - 0s 4ms/step - loss: 0.6185 - accuracy: 0.7761\n",
            "41/41 [==============================] - 1s 2ms/step - loss: 0.6636 - accuracy: 0.6090\n",
            "5/5 [==============================] - 0s 3ms/step - loss: 0.6118 - accuracy: 0.6716\n",
            "41/41 [==============================] - 1s 3ms/step - loss: 0.6519 - accuracy: 0.6373\n",
            "5/5 [==============================] - 0s 4ms/step - loss: 0.5719 - accuracy: 0.7910\n",
            "41/41 [==============================] - 2s 2ms/step - loss: 0.6672 - accuracy: 0.5831\n",
            "5/5 [==============================] - 0s 3ms/step - loss: 0.6329 - accuracy: 0.6970\n",
            "41/41 [==============================] - 1s 2ms/step - loss: 0.6843 - accuracy: 0.5864\n",
            "5/5 [==============================] - 0s 3ms/step - loss: 0.6471 - accuracy: 0.6818\n",
            "41/41 [==============================] - 1s 2ms/step - loss: 0.7082 - accuracy: 0.4493\n",
            "5/5 [==============================] - 0s 3ms/step - loss: 0.7144 - accuracy: 0.5672\n",
            "41/41 [==============================] - 1s 2ms/step - loss: 0.6910 - accuracy: 0.5541\n",
            "5/5 [==============================] - 0s 3ms/step - loss: 0.6308 - accuracy: 0.7015\n",
            "41/41 [==============================] - 1s 2ms/step - loss: 0.6230 - accuracy: 0.7121\n",
            "5/5 [==============================] - 0s 4ms/step - loss: 0.5712 - accuracy: 0.7612\n",
            "41/41 [==============================] - 1s 2ms/step - loss: 0.7768 - accuracy: 0.4609\n",
            "5/5 [==============================] - 0s 4ms/step - loss: 0.7162 - accuracy: 0.5373\n",
            "41/41 [==============================] - 1s 2ms/step - loss: 0.6867 - accuracy: 0.5441\n",
            "5/5 [==============================] - 0s 3ms/step - loss: 0.6648 - accuracy: 0.6119\n",
            "41/41 [==============================] - 1s 3ms/step - loss: 0.6830 - accuracy: 0.5890\n",
            "5/5 [==============================] - 0s 4ms/step - loss: 0.6154 - accuracy: 0.6866\n",
            "41/41 [==============================] - 1s 4ms/step - loss: 0.7362 - accuracy: 0.3810\n",
            "5/5 [==============================] - 0s 3ms/step - loss: 0.6916 - accuracy: 0.4776\n",
            "41/41 [==============================] - 1s 2ms/step - loss: 0.6325 - accuracy: 0.6905\n",
            "5/5 [==============================] - 0s 3ms/step - loss: 0.6155 - accuracy: 0.7164\n",
            "41/41 [==============================] - 1s 2ms/step - loss: 0.7499 - accuracy: 0.3422\n",
            "5/5 [==============================] - 0s 3ms/step - loss: 0.6856 - accuracy: 0.5606\n",
            "41/41 [==============================] - 1s 2ms/step - loss: 0.6979 - accuracy: 0.5282\n",
            "5/5 [==============================] - 0s 3ms/step - loss: 0.6439 - accuracy: 0.6515\n",
            "41/41 [==============================] - 1s 2ms/step - loss: 0.7630 - accuracy: 0.4276\n",
            "5/5 [==============================] - 0s 4ms/step - loss: 0.6977 - accuracy: 0.5821\n",
            "41/41 [==============================] - 1s 2ms/step - loss: 0.6602 - accuracy: 0.6306\n",
            "5/5 [==============================] - 0s 3ms/step - loss: 0.6243 - accuracy: 0.7015\n",
            "41/41 [==============================] - 2s 3ms/step - loss: 0.7900 - accuracy: 0.4509\n",
            "5/5 [==============================] - 0s 4ms/step - loss: 0.6802 - accuracy: 0.5821\n",
            "41/41 [==============================] - 1s 2ms/step - loss: 0.6382 - accuracy: 0.6755\n",
            "5/5 [==============================] - 0s 5ms/step - loss: 0.6688 - accuracy: 0.6866\n",
            "41/41 [==============================] - 1s 4ms/step - loss: 0.6332 - accuracy: 0.6639\n",
            "5/5 [==============================] - 0s 5ms/step - loss: 0.6535 - accuracy: 0.6269\n",
            "41/41 [==============================] - 1s 2ms/step - loss: 0.6888 - accuracy: 0.6057\n",
            "5/5 [==============================] - 0s 4ms/step - loss: 0.6617 - accuracy: 0.6119\n",
            "41/41 [==============================] - 1s 2ms/step - loss: 0.8103 - accuracy: 0.3494\n",
            "5/5 [==============================] - 0s 4ms/step - loss: 0.7352 - accuracy: 0.3433\n",
            "41/41 [==============================] - 1s 2ms/step - loss: 0.6989 - accuracy: 0.5807\n",
            "5/5 [==============================] - 0s 3ms/step - loss: 0.6451 - accuracy: 0.6866\n",
            "41/41 [==============================] - 1s 2ms/step - loss: 0.6321 - accuracy: 0.6545\n",
            "5/5 [==============================] - 0s 4ms/step - loss: 0.5596 - accuracy: 0.7424\n",
            "41/41 [==============================] - 1s 2ms/step - loss: 0.6699 - accuracy: 0.6528\n",
            "5/5 [==============================] - 0s 4ms/step - loss: 0.6355 - accuracy: 0.7424\n",
            "41/41 [==============================] - 1s 2ms/step - loss: 0.8010 - accuracy: 0.4143\n",
            "5/5 [==============================] - 0s 4ms/step - loss: 0.7395 - accuracy: 0.4925\n",
            "41/41 [==============================] - 1s 2ms/step - loss: 0.6261 - accuracy: 0.6522\n",
            "5/5 [==============================] - 0s 3ms/step - loss: 0.5606 - accuracy: 0.6716\n",
            "41/41 [==============================] - 1s 2ms/step - loss: 0.6987 - accuracy: 0.5973\n",
            "5/5 [==============================] - 0s 5ms/step - loss: 0.6577 - accuracy: 0.7015\n",
            "41/41 [==============================] - 1s 3ms/step - loss: 0.7031 - accuracy: 0.4759\n",
            "5/5 [==============================] - 0s 5ms/step - loss: 0.6743 - accuracy: 0.5821\n",
            "41/41 [==============================] - 1s 2ms/step - loss: 0.7295 - accuracy: 0.4759\n",
            "5/5 [==============================] - 0s 4ms/step - loss: 0.6751 - accuracy: 0.6119\n",
            "41/41 [==============================] - 1s 2ms/step - loss: 0.6624 - accuracy: 0.6506\n",
            "5/5 [==============================] - 0s 4ms/step - loss: 0.6373 - accuracy: 0.7463\n",
            "41/41 [==============================] - 2s 2ms/step - loss: 0.7229 - accuracy: 0.4559\n",
            "5/5 [==============================] - 0s 3ms/step - loss: 0.6650 - accuracy: 0.6119\n",
            "41/41 [==============================] - 1s 2ms/step - loss: 0.6182 - accuracy: 0.6739\n",
            "5/5 [==============================] - 0s 3ms/step - loss: 0.5377 - accuracy: 0.7313\n",
            "41/41 [==============================] - 1s 2ms/step - loss: 0.7739 - accuracy: 0.3605\n",
            "5/5 [==============================] - 0s 4ms/step - loss: 0.6994 - accuracy: 0.4091\n",
            "41/41 [==============================] - 1s 2ms/step - loss: 0.6773 - accuracy: 0.5864\n",
            "5/5 [==============================] - 0s 4ms/step - loss: 0.6390 - accuracy: 0.7121\n",
            "41/41 [==============================] - 1s 2ms/step - loss: 0.6295 - accuracy: 0.6772\n",
            "5/5 [==============================] - 0s 3ms/step - loss: 0.6388 - accuracy: 0.5672\n",
            "41/41 [==============================] - 1s 3ms/step - loss: 0.6879 - accuracy: 0.5108\n",
            "5/5 [==============================] - 0s 4ms/step - loss: 0.6275 - accuracy: 0.6567\n",
            "41/41 [==============================] - 1s 3ms/step - loss: 0.6547 - accuracy: 0.6339\n",
            "5/5 [==============================] - 0s 3ms/step - loss: 0.6141 - accuracy: 0.7313\n",
            "41/41 [==============================] - 1s 2ms/step - loss: 0.6330 - accuracy: 0.6805\n",
            "5/5 [==============================] - 0s 4ms/step - loss: 0.6211 - accuracy: 0.7313\n",
            "41/41 [==============================] - 1s 2ms/step - loss: 0.7108 - accuracy: 0.4493\n",
            "5/5 [==============================] - 0s 3ms/step - loss: 0.6726 - accuracy: 0.6269\n",
            "41/41 [==============================] - 1s 2ms/step - loss: 0.6710 - accuracy: 0.6656\n",
            "5/5 [==============================] - 0s 4ms/step - loss: 0.6526 - accuracy: 0.7313\n",
            "41/41 [==============================] - 1s 2ms/step - loss: 0.7228 - accuracy: 0.4260\n",
            "5/5 [==============================] - 0s 4ms/step - loss: 0.6983 - accuracy: 0.5522\n",
            "41/41 [==============================] - 1s 2ms/step - loss: 0.6783 - accuracy: 0.5358\n",
            "5/5 [==============================] - 0s 4ms/step - loss: 0.5930 - accuracy: 0.8060\n",
            "41/41 [==============================] - 1s 2ms/step - loss: 0.6860 - accuracy: 0.5399\n",
            "5/5 [==============================] - 0s 4ms/step - loss: 0.6261 - accuracy: 0.8030\n",
            "41/41 [==============================] - 1s 2ms/step - loss: 0.6335 - accuracy: 0.6728\n",
            "5/5 [==============================] - 0s 4ms/step - loss: 0.5681 - accuracy: 0.6970\n",
            "31/31 [==============================] - 2s 5ms/step - loss: 0.6996 - accuracy: 0.6057\n",
            "4/4 [==============================] - 0s 4ms/step - loss: 0.7311 - accuracy: 0.5373\n",
            "31/31 [==============================] - 1s 3ms/step - loss: 0.6812 - accuracy: 0.5790\n",
            "4/4 [==============================] - 0s 5ms/step - loss: 0.6347 - accuracy: 0.6866\n",
            "31/31 [==============================] - 1s 3ms/step - loss: 0.7113 - accuracy: 0.6556\n",
            "4/4 [==============================] - 0s 4ms/step - loss: 0.6738 - accuracy: 0.6567\n",
            "31/31 [==============================] - 1s 2ms/step - loss: 0.6260 - accuracy: 0.6955\n",
            "4/4 [==============================] - 0s 5ms/step - loss: 0.6286 - accuracy: 0.7313\n",
            "31/31 [==============================] - 1s 2ms/step - loss: 0.6383 - accuracy: 0.6839\n",
            "4/4 [==============================] - 0s 5ms/step - loss: 0.6397 - accuracy: 0.5970\n",
            "31/31 [==============================] - 1s 2ms/step - loss: 0.7038 - accuracy: 0.4692\n",
            "4/4 [==============================] - 0s 4ms/step - loss: 0.7149 - accuracy: 0.4179\n",
            "31/31 [==============================] - 1s 2ms/step - loss: 0.6676 - accuracy: 0.6522\n",
            "4/4 [==============================] - 0s 4ms/step - loss: 0.6083 - accuracy: 0.7313\n",
            "31/31 [==============================] - 1s 2ms/step - loss: 0.6903 - accuracy: 0.5923\n",
            "4/4 [==============================] - 0s 4ms/step - loss: 0.7056 - accuracy: 0.6418\n",
            "31/31 [==============================] - 1s 2ms/step - loss: 0.7057 - accuracy: 0.5083\n",
            "4/4 [==============================] - 0s 6ms/step - loss: 0.6956 - accuracy: 0.6061\n",
            "31/31 [==============================] - 1s 3ms/step - loss: 0.6899 - accuracy: 0.5548\n",
            "4/4 [==============================] - 0s 5ms/step - loss: 0.6373 - accuracy: 0.7727\n",
            "31/31 [==============================] - 1s 2ms/step - loss: 0.6821 - accuracy: 0.5807\n",
            "4/4 [==============================] - 0s 5ms/step - loss: 0.6795 - accuracy: 0.5821\n",
            "31/31 [==============================] - 1s 2ms/step - loss: 0.7436 - accuracy: 0.4210\n",
            "4/4 [==============================] - 0s 4ms/step - loss: 0.6705 - accuracy: 0.7015\n",
            "31/31 [==============================] - 1s 2ms/step - loss: 0.6472 - accuracy: 0.6273\n",
            "4/4 [==============================] - 0s 4ms/step - loss: 0.6199 - accuracy: 0.6866\n",
            "31/31 [==============================] - 1s 2ms/step - loss: 0.6583 - accuracy: 0.6755\n",
            "4/4 [==============================] - 0s 4ms/step - loss: 0.6474 - accuracy: 0.6418\n",
            "31/31 [==============================] - 1s 3ms/step - loss: 0.6522 - accuracy: 0.6622\n",
            "4/4 [==============================] - 0s 4ms/step - loss: 0.6891 - accuracy: 0.5821\n",
            "31/31 [==============================] - 1s 2ms/step - loss: 0.6741 - accuracy: 0.6190\n",
            "4/4 [==============================] - 0s 4ms/step - loss: 0.5999 - accuracy: 0.7164\n",
            "31/31 [==============================] - 1s 2ms/step - loss: 0.6125 - accuracy: 0.6988\n",
            "4/4 [==============================] - 0s 4ms/step - loss: 0.5687 - accuracy: 0.7612\n",
            "31/31 [==============================] - 1s 3ms/step - loss: 0.6647 - accuracy: 0.6423\n",
            "4/4 [==============================] - 0s 6ms/step - loss: 0.6714 - accuracy: 0.6269\n",
            "31/31 [==============================] - 1s 4ms/step - loss: 0.7097 - accuracy: 0.4767\n",
            "4/4 [==============================] - 0s 4ms/step - loss: 0.6564 - accuracy: 0.6515\n",
            "31/31 [==============================] - 1s 3ms/step - loss: 0.7654 - accuracy: 0.3455\n",
            "4/4 [==============================] - 0s 4ms/step - loss: 0.7456 - accuracy: 0.3333\n",
            "31/31 [==============================] - 1s 3ms/step - loss: 0.7090 - accuracy: 0.5574\n",
            "4/4 [==============================] - 0s 5ms/step - loss: 0.6817 - accuracy: 0.5522\n",
            "31/31 [==============================] - 1s 2ms/step - loss: 0.7342 - accuracy: 0.4110\n",
            "4/4 [==============================] - 0s 5ms/step - loss: 0.6951 - accuracy: 0.5373\n",
            "31/31 [==============================] - 1s 2ms/step - loss: 0.7276 - accuracy: 0.3943\n",
            "4/4 [==============================] - 0s 5ms/step - loss: 0.6846 - accuracy: 0.5970\n",
            "31/31 [==============================] - 1s 3ms/step - loss: 0.7077 - accuracy: 0.5441\n",
            "4/4 [==============================] - 0s 4ms/step - loss: 0.6742 - accuracy: 0.5970\n",
            "31/31 [==============================] - 1s 2ms/step - loss: 0.6748 - accuracy: 0.6356\n",
            "4/4 [==============================] - 0s 4ms/step - loss: 0.6692 - accuracy: 0.5672\n",
            "31/31 [==============================] - 1s 2ms/step - loss: 0.6184 - accuracy: 0.6556\n",
            "4/4 [==============================] - 0s 5ms/step - loss: 0.6001 - accuracy: 0.6567\n",
            "31/31 [==============================] - 1s 2ms/step - loss: 0.6357 - accuracy: 0.6722\n",
            "4/4 [==============================] - 0s 4ms/step - loss: 0.5979 - accuracy: 0.6716\n",
            "31/31 [==============================] - 1s 3ms/step - loss: 0.6844 - accuracy: 0.5957\n",
            "4/4 [==============================] - 1s 4ms/step - loss: 0.6793 - accuracy: 0.6269\n",
            "31/31 [==============================] - 1s 3ms/step - loss: 0.7161 - accuracy: 0.4419\n",
            "4/4 [==============================] - 0s 5ms/step - loss: 0.6815 - accuracy: 0.6212\n",
            "31/31 [==============================] - 1s 2ms/step - loss: 0.7515 - accuracy: 0.5432\n",
            "4/4 [==============================] - 0s 5ms/step - loss: 0.7367 - accuracy: 0.6515\n",
            "31/31 [==============================] - 1s 3ms/step - loss: 0.6934 - accuracy: 0.5890\n",
            "4/4 [==============================] - 0s 4ms/step - loss: 0.7109 - accuracy: 0.5373\n",
            "31/31 [==============================] - 1s 2ms/step - loss: 0.6755 - accuracy: 0.5923\n",
            "4/4 [==============================] - 0s 4ms/step - loss: 0.6409 - accuracy: 0.6716\n",
            "31/31 [==============================] - 1s 4ms/step - loss: 0.7008 - accuracy: 0.4659\n",
            "4/4 [==============================] - 0s 4ms/step - loss: 0.6595 - accuracy: 0.6866\n",
            "31/31 [==============================] - 1s 3ms/step - loss: 0.6861 - accuracy: 0.6439\n",
            "4/4 [==============================] - 0s 5ms/step - loss: 0.6641 - accuracy: 0.6119\n",
            "31/31 [==============================] - 1s 2ms/step - loss: 0.6745 - accuracy: 0.6506\n",
            "4/4 [==============================] - 0s 4ms/step - loss: 0.6860 - accuracy: 0.6119\n",
            "31/31 [==============================] - 1s 3ms/step - loss: 0.6698 - accuracy: 0.6106\n",
            "4/4 [==============================] - 0s 4ms/step - loss: 0.6407 - accuracy: 0.7015\n",
            "31/31 [==============================] - 1s 4ms/step - loss: 0.7114 - accuracy: 0.4559\n",
            "4/4 [==============================] - 0s 5ms/step - loss: 0.6568 - accuracy: 0.6866\n",
            "31/31 [==============================] - 1s 3ms/step - loss: 0.6560 - accuracy: 0.6406\n",
            "4/4 [==============================] - 0s 4ms/step - loss: 0.6034 - accuracy: 0.7612\n",
            "31/31 [==============================] - 1s 3ms/step - loss: 0.6660 - accuracy: 0.6412\n",
            "4/4 [==============================] - 0s 4ms/step - loss: 0.5848 - accuracy: 0.7424\n",
            "31/31 [==============================] - 1s 2ms/step - loss: 0.6570 - accuracy: 0.6329\n",
            "4/4 [==============================] - 0s 4ms/step - loss: 0.6237 - accuracy: 0.6515\n",
            "31/31 [==============================] - 1s 3ms/step - loss: 0.7002 - accuracy: 0.6456\n",
            "4/4 [==============================] - 0s 4ms/step - loss: 0.7063 - accuracy: 0.5522\n",
            "31/31 [==============================] - 1s 2ms/step - loss: 0.7589 - accuracy: 0.3727\n",
            "4/4 [==============================] - 1s 4ms/step - loss: 0.7231 - accuracy: 0.4478\n",
            "31/31 [==============================] - 1s 2ms/step - loss: 0.6558 - accuracy: 0.6739\n",
            "4/4 [==============================] - 0s 4ms/step - loss: 0.6229 - accuracy: 0.7463\n",
            "31/31 [==============================] - 1s 3ms/step - loss: 0.7020 - accuracy: 0.4759\n",
            "4/4 [==============================] - 0s 5ms/step - loss: 0.6871 - accuracy: 0.6418\n",
            "31/31 [==============================] - 1s 3ms/step - loss: 0.6872 - accuracy: 0.5391\n",
            "4/4 [==============================] - 0s 6ms/step - loss: 0.6810 - accuracy: 0.5522\n",
            "31/31 [==============================] - 1s 2ms/step - loss: 0.6731 - accuracy: 0.5607\n",
            "4/4 [==============================] - 0s 4ms/step - loss: 0.6055 - accuracy: 0.7761\n",
            "31/31 [==============================] - 1s 2ms/step - loss: 0.6327 - accuracy: 0.7321\n",
            "4/4 [==============================] - 0s 4ms/step - loss: 0.6031 - accuracy: 0.7164\n",
            "31/31 [==============================] - 1s 2ms/step - loss: 0.6879 - accuracy: 0.5424\n",
            "4/4 [==============================] - 0s 5ms/step - loss: 0.6298 - accuracy: 0.6716\n",
            "31/31 [==============================] - 1s 3ms/step - loss: 0.6903 - accuracy: 0.5748\n",
            "4/4 [==============================] - 0s 5ms/step - loss: 0.6376 - accuracy: 0.7273\n",
            "31/31 [==============================] - 1s 3ms/step - loss: 0.6196 - accuracy: 0.6528\n",
            "4/4 [==============================] - 0s 5ms/step - loss: 0.5700 - accuracy: 0.7727\n",
            "31/31 [==============================] - 1s 3ms/step - loss: 0.6907 - accuracy: 0.5824\n",
            "4/4 [==============================] - 0s 4ms/step - loss: 0.6674 - accuracy: 0.5821\n",
            "31/31 [==============================] - 1s 3ms/step - loss: 0.6836 - accuracy: 0.5324\n",
            "4/4 [==============================] - 0s 4ms/step - loss: 0.6474 - accuracy: 0.7015\n",
            "31/31 [==============================] - 1s 2ms/step - loss: 0.6779 - accuracy: 0.5641\n",
            "4/4 [==============================] - 0s 5ms/step - loss: 0.6424 - accuracy: 0.6716\n",
            "31/31 [==============================] - 1s 4ms/step - loss: 0.7343 - accuracy: 0.4126\n",
            "4/4 [==============================] - 0s 4ms/step - loss: 0.6779 - accuracy: 0.6716\n",
            "31/31 [==============================] - 1s 4ms/step - loss: 0.6658 - accuracy: 0.6023\n",
            "4/4 [==============================] - 0s 5ms/step - loss: 0.6545 - accuracy: 0.6716\n",
            "31/31 [==============================] - 1s 2ms/step - loss: 0.6818 - accuracy: 0.5674\n",
            "4/4 [==============================] - 0s 4ms/step - loss: 0.6451 - accuracy: 0.6866\n",
            "31/31 [==============================] - 2s 3ms/step - loss: 0.6342 - accuracy: 0.7055\n",
            "4/4 [==============================] - 0s 6ms/step - loss: 0.6077 - accuracy: 0.6418\n",
            "31/31 [==============================] - 1s 2ms/step - loss: 0.6765 - accuracy: 0.6439\n",
            "4/4 [==============================] - 0s 6ms/step - loss: 0.5934 - accuracy: 0.8060\n",
            "31/31 [==============================] - 1s 3ms/step - loss: 0.6150 - accuracy: 0.6412\n",
            "4/4 [==============================] - 0s 5ms/step - loss: 0.5610 - accuracy: 0.7424\n",
            "31/31 [==============================] - 1s 3ms/step - loss: 0.6583 - accuracy: 0.6213\n",
            "4/4 [==============================] - 0s 5ms/step - loss: 0.6185 - accuracy: 0.7121\n",
            "31/31 [==============================] - 1s 3ms/step - loss: 0.6776 - accuracy: 0.6106\n",
            "4/4 [==============================] - 0s 8ms/step - loss: 0.6844 - accuracy: 0.6567\n",
            "31/31 [==============================] - 1s 4ms/step - loss: 0.7146 - accuracy: 0.4842\n",
            "4/4 [==============================] - 0s 4ms/step - loss: 0.6601 - accuracy: 0.7015\n",
            "31/31 [==============================] - 1s 4ms/step - loss: 0.6301 - accuracy: 0.6905\n",
            "4/4 [==============================] - 0s 5ms/step - loss: 0.5916 - accuracy: 0.6567\n",
            "31/31 [==============================] - 1s 3ms/step - loss: 0.7056 - accuracy: 0.4343\n",
            "4/4 [==============================] - 0s 6ms/step - loss: 0.6716 - accuracy: 0.6269\n",
            "31/31 [==============================] - 1s 3ms/step - loss: 0.6980 - accuracy: 0.5075\n",
            "4/4 [==============================] - 0s 5ms/step - loss: 0.6563 - accuracy: 0.7164\n",
            "31/31 [==============================] - 1s 3ms/step - loss: 0.6985 - accuracy: 0.4859\n",
            "4/4 [==============================] - 0s 4ms/step - loss: 0.6663 - accuracy: 0.5970\n",
            "31/31 [==============================] - 1s 3ms/step - loss: 0.6316 - accuracy: 0.6423\n",
            "4/4 [==============================] - 0s 6ms/step - loss: 0.5954 - accuracy: 0.6716\n",
            "31/31 [==============================] - 1s 2ms/step - loss: 0.6691 - accuracy: 0.6639\n",
            "4/4 [==============================] - 0s 4ms/step - loss: 0.6086 - accuracy: 0.8358\n",
            "31/31 [==============================] - 1s 3ms/step - loss: 0.7102 - accuracy: 0.5963\n",
            "4/4 [==============================] - 0s 5ms/step - loss: 0.6893 - accuracy: 0.6212\n",
            "31/31 [==============================] - 1s 2ms/step - loss: 0.6673 - accuracy: 0.6179\n",
            "4/4 [==============================] - 0s 5ms/step - loss: 0.6563 - accuracy: 0.6515\n",
            "31/31 [==============================] - 1s 2ms/step - loss: 0.6513 - accuracy: 0.6656\n",
            "4/4 [==============================] - 0s 7ms/step - loss: 0.7024 - accuracy: 0.5373\n",
            "31/31 [==============================] - 2s 3ms/step - loss: 0.6750 - accuracy: 0.6522\n",
            "4/4 [==============================] - 0s 5ms/step - loss: 0.6193 - accuracy: 0.6567\n",
            "31/31 [==============================] - 1s 3ms/step - loss: 0.5947 - accuracy: 0.6739\n",
            "4/4 [==============================] - 0s 4ms/step - loss: 0.5479 - accuracy: 0.7761\n",
            "31/31 [==============================] - 1s 3ms/step - loss: 0.6780 - accuracy: 0.5657\n",
            "4/4 [==============================] - 0s 5ms/step - loss: 0.6732 - accuracy: 0.6269\n",
            "31/31 [==============================] - 1s 2ms/step - loss: 0.7091 - accuracy: 0.5541\n",
            "4/4 [==============================] - 0s 5ms/step - loss: 0.6868 - accuracy: 0.6269\n",
            "31/31 [==============================] - 1s 3ms/step - loss: 0.7090 - accuracy: 0.5092\n",
            "4/4 [==============================] - 0s 4ms/step - loss: 0.6389 - accuracy: 0.7015\n",
            "31/31 [==============================] - 1s 2ms/step - loss: 0.7119 - accuracy: 0.4825\n",
            "4/4 [==============================] - 0s 5ms/step - loss: 0.6843 - accuracy: 0.6269\n",
            "31/31 [==============================] - 1s 2ms/step - loss: 0.6756 - accuracy: 0.5691\n",
            "4/4 [==============================] - 0s 4ms/step - loss: 0.6538 - accuracy: 0.6716\n",
            "31/31 [==============================] - 1s 3ms/step - loss: 0.6482 - accuracy: 0.6395\n",
            "4/4 [==============================] - 0s 5ms/step - loss: 0.5759 - accuracy: 0.7727\n",
            "31/31 [==============================] - 1s 5ms/step - loss: 0.6350 - accuracy: 0.6744\n",
            "4/4 [==============================] - 0s 5ms/step - loss: 0.5914 - accuracy: 0.6818\n",
            "25/25 [==============================] - 1s 3ms/step - loss: 0.6724 - accuracy: 0.6406\n",
            "3/3 [==============================] - 0s 8ms/step - loss: 0.6633 - accuracy: 0.6418\n",
            "25/25 [==============================] - 1s 3ms/step - loss: 0.6604 - accuracy: 0.6705\n",
            "3/3 [==============================] - 0s 6ms/step - loss: 0.6253 - accuracy: 0.7313\n",
            "25/25 [==============================] - 1s 3ms/step - loss: 0.6752 - accuracy: 0.6057\n",
            "3/3 [==============================] - 0s 9ms/step - loss: 0.6366 - accuracy: 0.6866\n",
            "25/25 [==============================] - 1s 3ms/step - loss: 0.6896 - accuracy: 0.6589\n"
          ]
        },
        {
          "output_type": "stream",
          "name": "stderr",
          "text": [
            "WARNING:tensorflow:5 out of the last 14 calls to <function Model.make_test_function.<locals>.test_function at 0x7f341917a5e0> triggered tf.function retracing. Tracing is expensive and the excessive number of tracings could be due to (1) creating @tf.function repeatedly in a loop, (2) passing tensors with different shapes, (3) passing Python objects instead of tensors. For (1), please define your @tf.function outside of the loop. For (2), @tf.function has reduce_retracing=True option that can avoid unnecessary retracing. For (3), please refer to https://www.tensorflow.org/guide/function#controlling_retracing and https://www.tensorflow.org/api_docs/python/tf/function for  more details.\n"
          ]
        },
        {
          "output_type": "stream",
          "name": "stdout",
          "text": [
            "3/3 [==============================] - 0s 5ms/step - loss: 0.7466 - accuracy: 0.5970\n",
            "25/25 [==============================] - 1s 3ms/step - loss: 0.6871 - accuracy: 0.5358\n"
          ]
        },
        {
          "output_type": "stream",
          "name": "stderr",
          "text": [
            "WARNING:tensorflow:5 out of the last 13 calls to <function Model.make_test_function.<locals>.test_function at 0x7f34288a51f0> triggered tf.function retracing. Tracing is expensive and the excessive number of tracings could be due to (1) creating @tf.function repeatedly in a loop, (2) passing tensors with different shapes, (3) passing Python objects instead of tensors. For (1), please define your @tf.function outside of the loop. For (2), @tf.function has reduce_retracing=True option that can avoid unnecessary retracing. For (3), please refer to https://www.tensorflow.org/guide/function#controlling_retracing and https://www.tensorflow.org/api_docs/python/tf/function for  more details.\n"
          ]
        },
        {
          "output_type": "stream",
          "name": "stdout",
          "text": [
            "3/3 [==============================] - 0s 5ms/step - loss: 0.6681 - accuracy: 0.5821\n",
            "25/25 [==============================] - 2s 2ms/step - loss: 0.6685 - accuracy: 0.5957\n",
            "3/3 [==============================] - 0s 5ms/step - loss: 0.6321 - accuracy: 0.7015\n",
            "25/25 [==============================] - 1s 3ms/step - loss: 0.7291 - accuracy: 0.4459\n",
            "3/3 [==============================] - 0s 6ms/step - loss: 0.6758 - accuracy: 0.6567\n",
            "25/25 [==============================] - 1s 3ms/step - loss: 0.6743 - accuracy: 0.5957\n",
            "3/3 [==============================] - 0s 5ms/step - loss: 0.6505 - accuracy: 0.7164\n",
            "25/25 [==============================] - 1s 4ms/step - loss: 0.6987 - accuracy: 0.5930\n",
            "3/3 [==============================] - 0s 6ms/step - loss: 0.6022 - accuracy: 0.6970\n",
            "25/25 [==============================] - 1s 4ms/step - loss: 0.6506 - accuracy: 0.6711\n",
            "3/3 [==============================] - 0s 5ms/step - loss: 0.6519 - accuracy: 0.6818\n",
            "25/25 [==============================] - 1s 3ms/step - loss: 0.7518 - accuracy: 0.3328\n",
            "3/3 [==============================] - 0s 5ms/step - loss: 0.7041 - accuracy: 0.5522\n",
            "25/25 [==============================] - 1s 2ms/step - loss: 0.5976 - accuracy: 0.6522\n",
            "3/3 [==============================] - 0s 5ms/step - loss: 0.5372 - accuracy: 0.6716\n",
            "25/25 [==============================] - 1s 2ms/step - loss: 0.7043 - accuracy: 0.5291\n",
            "3/3 [==============================] - 0s 6ms/step - loss: 0.6726 - accuracy: 0.5672\n",
            "25/25 [==============================] - 1s 3ms/step - loss: 0.6611 - accuracy: 0.6656\n",
            "3/3 [==============================] - 0s 7ms/step - loss: 0.6379 - accuracy: 0.7463\n",
            "25/25 [==============================] - 1s 2ms/step - loss: 0.6238 - accuracy: 0.6572\n",
            "3/3 [==============================] - 0s 5ms/step - loss: 0.6607 - accuracy: 0.5970\n",
            "25/25 [==============================] - 1s 3ms/step - loss: 0.6621 - accuracy: 0.6456\n",
            "3/3 [==============================] - 0s 5ms/step - loss: 0.6463 - accuracy: 0.6716\n",
            "25/25 [==============================] - 1s 3ms/step - loss: 0.7380 - accuracy: 0.4509\n",
            "3/3 [==============================] - 0s 8ms/step - loss: 0.7117 - accuracy: 0.5672\n",
            "25/25 [==============================] - 1s 4ms/step - loss: 0.7416 - accuracy: 0.4775\n",
            "3/3 [==============================] - 0s 9ms/step - loss: 0.6921 - accuracy: 0.5672\n",
            "25/25 [==============================] - 1s 3ms/step - loss: 0.6928 - accuracy: 0.5565\n",
            "3/3 [==============================] - 0s 7ms/step - loss: 0.6512 - accuracy: 0.7576\n",
            "25/25 [==============================] - 2s 3ms/step - loss: 0.6856 - accuracy: 0.5515\n",
            "3/3 [==============================] - 0s 6ms/step - loss: 0.6955 - accuracy: 0.6667\n",
            "25/25 [==============================] - 1s 3ms/step - loss: 0.6406 - accuracy: 0.6689\n",
            "3/3 [==============================] - 0s 5ms/step - loss: 0.7145 - accuracy: 0.5672\n",
            "25/25 [==============================] - 1s 3ms/step - loss: 0.6859 - accuracy: 0.6439\n",
            "3/3 [==============================] - 0s 7ms/step - loss: 0.6344 - accuracy: 0.6716\n",
            "25/25 [==============================] - 1s 2ms/step - loss: 0.7086 - accuracy: 0.5474\n",
            "3/3 [==============================] - 0s 7ms/step - loss: 0.6833 - accuracy: 0.6567\n",
            "25/25 [==============================] - 1s 2ms/step - loss: 0.6514 - accuracy: 0.6456\n",
            "3/3 [==============================] - 0s 5ms/step - loss: 0.6537 - accuracy: 0.6567\n",
            "25/25 [==============================] - 1s 3ms/step - loss: 0.6809 - accuracy: 0.5374\n",
            "3/3 [==============================] - 0s 6ms/step - loss: 0.6865 - accuracy: 0.5970\n",
            "25/25 [==============================] - 1s 3ms/step - loss: 0.7424 - accuracy: 0.3394\n",
            "3/3 [==============================] - 0s 5ms/step - loss: 0.7014 - accuracy: 0.4478\n",
            "25/25 [==============================] - 1s 2ms/step - loss: 0.6998 - accuracy: 0.5058\n",
            "3/3 [==============================] - 0s 5ms/step - loss: 0.6933 - accuracy: 0.4328\n",
            "25/25 [==============================] - 1s 2ms/step - loss: 0.6729 - accuracy: 0.6190\n",
            "3/3 [==============================] - 0s 5ms/step - loss: 0.6639 - accuracy: 0.6716\n",
            "25/25 [==============================] - 1s 2ms/step - loss: 0.7149 - accuracy: 0.4236\n",
            "3/3 [==============================] - 0s 5ms/step - loss: 0.6797 - accuracy: 0.6061\n",
            "25/25 [==============================] - 1s 2ms/step - loss: 0.6736 - accuracy: 0.6262\n",
            "3/3 [==============================] - 0s 5ms/step - loss: 0.6303 - accuracy: 0.6818\n",
            "25/25 [==============================] - 1s 2ms/step - loss: 0.6853 - accuracy: 0.5225\n",
            "3/3 [==============================] - 0s 6ms/step - loss: 0.6588 - accuracy: 0.5821\n",
            "25/25 [==============================] - 1s 3ms/step - loss: 0.6426 - accuracy: 0.6755\n",
            "3/3 [==============================] - 0s 6ms/step - loss: 0.6137 - accuracy: 0.7015\n",
            "25/25 [==============================] - 1s 2ms/step - loss: 0.7163 - accuracy: 0.5291\n",
            "3/3 [==============================] - 0s 6ms/step - loss: 0.6655 - accuracy: 0.6716\n",
            "25/25 [==============================] - 1s 2ms/step - loss: 0.7626 - accuracy: 0.3461\n",
            "3/3 [==============================] - 0s 8ms/step - loss: 0.7068 - accuracy: 0.3881\n",
            "25/25 [==============================] - 3s 2ms/step - loss: 0.7047 - accuracy: 0.4692\n",
            "3/3 [==============================] - 0s 5ms/step - loss: 0.6772 - accuracy: 0.6269\n",
            "25/25 [==============================] - 1s 3ms/step - loss: 0.6509 - accuracy: 0.6572\n",
            "3/3 [==============================] - 0s 5ms/step - loss: 0.5818 - accuracy: 0.7761\n",
            "25/25 [==============================] - 1s 2ms/step - loss: 0.7162 - accuracy: 0.5175\n",
            "3/3 [==============================] - 0s 5ms/step - loss: 0.6806 - accuracy: 0.6418\n",
            "25/25 [==============================] - 1s 3ms/step - loss: 0.6907 - accuracy: 0.5391\n",
            "3/3 [==============================] - 0s 5ms/step - loss: 0.6788 - accuracy: 0.6269\n",
            "25/25 [==============================] - 1s 2ms/step - loss: 0.6444 - accuracy: 0.6262\n",
            "3/3 [==============================] - 0s 5ms/step - loss: 0.5938 - accuracy: 0.6970\n",
            "25/25 [==============================] - 1s 3ms/step - loss: 0.6775 - accuracy: 0.6130\n",
            "3/3 [==============================] - 0s 7ms/step - loss: 0.6741 - accuracy: 0.6515\n",
            "25/25 [==============================] - 1s 2ms/step - loss: 0.6279 - accuracy: 0.6955\n",
            "3/3 [==============================] - 0s 6ms/step - loss: 0.6284 - accuracy: 0.5970\n",
            "25/25 [==============================] - 1s 2ms/step - loss: 0.7209 - accuracy: 0.6522\n",
            "3/3 [==============================] - 0s 7ms/step - loss: 0.6821 - accuracy: 0.6716\n",
            "25/25 [==============================] - 1s 4ms/step - loss: 0.7074 - accuracy: 0.5491\n",
            "3/3 [==============================] - 0s 7ms/step - loss: 0.6813 - accuracy: 0.6418\n",
            "25/25 [==============================] - 1s 2ms/step - loss: 0.6081 - accuracy: 0.7072\n",
            "3/3 [==============================] - 0s 5ms/step - loss: 0.6160 - accuracy: 0.6567\n",
            "25/25 [==============================] - 1s 2ms/step - loss: 0.6590 - accuracy: 0.6656\n",
            "3/3 [==============================] - 0s 4ms/step - loss: 0.6923 - accuracy: 0.5821\n",
            "25/25 [==============================] - 1s 3ms/step - loss: 0.6585 - accuracy: 0.6240\n",
            "3/3 [==============================] - 0s 6ms/step - loss: 0.6296 - accuracy: 0.6716\n",
            "25/25 [==============================] - 1s 2ms/step - loss: 0.6594 - accuracy: 0.6622\n",
            "3/3 [==============================] - 0s 7ms/step - loss: 0.6207 - accuracy: 0.7015\n",
            "25/25 [==============================] - 1s 2ms/step - loss: 0.7183 - accuracy: 0.5008\n",
            "3/3 [==============================] - 0s 5ms/step - loss: 0.6525 - accuracy: 0.6716\n",
            "25/25 [==============================] - 2s 3ms/step - loss: 0.5802 - accuracy: 0.7342\n",
            "3/3 [==============================] - 0s 6ms/step - loss: 0.5101 - accuracy: 0.8636\n",
            "25/25 [==============================] - 1s 3ms/step - loss: 0.6563 - accuracy: 0.6395\n",
            "3/3 [==============================] - 0s 6ms/step - loss: 0.6621 - accuracy: 0.6970\n",
            "25/25 [==============================] - 1s 4ms/step - loss: 0.7366 - accuracy: 0.4409\n",
            "3/3 [==============================] - 0s 7ms/step - loss: 0.6809 - accuracy: 0.4925\n",
            "25/25 [==============================] - 1s 2ms/step - loss: 0.7334 - accuracy: 0.4859\n",
            "3/3 [==============================] - 0s 5ms/step - loss: 0.6464 - accuracy: 0.6119\n",
            "25/25 [==============================] - 1s 2ms/step - loss: 0.7196 - accuracy: 0.5474\n",
            "3/3 [==============================] - 0s 5ms/step - loss: 0.6707 - accuracy: 0.6567\n",
            "25/25 [==============================] - 1s 3ms/step - loss: 0.6958 - accuracy: 0.5391\n",
            "3/3 [==============================] - 0s 5ms/step - loss: 0.7045 - accuracy: 0.5373\n",
            "25/25 [==============================] - 1s 2ms/step - loss: 0.7088 - accuracy: 0.3860\n",
            "3/3 [==============================] - 0s 5ms/step - loss: 0.6920 - accuracy: 0.5522\n",
            "25/25 [==============================] - 1s 4ms/step - loss: 0.6975 - accuracy: 0.6140\n",
            "3/3 [==============================] - 0s 5ms/step - loss: 0.6670 - accuracy: 0.6269\n",
            "25/25 [==============================] - 1s 3ms/step - loss: 0.6743 - accuracy: 0.6123\n",
            "3/3 [==============================] - 0s 5ms/step - loss: 0.6235 - accuracy: 0.7612\n",
            "25/25 [==============================] - 1s 3ms/step - loss: 0.6605 - accuracy: 0.6323\n",
            "3/3 [==============================] - 0s 5ms/step - loss: 0.5724 - accuracy: 0.8060\n",
            "25/25 [==============================] - 1s 2ms/step - loss: 0.6739 - accuracy: 0.6213\n",
            "3/3 [==============================] - 0s 5ms/step - loss: 0.6192 - accuracy: 0.8182\n",
            "25/25 [==============================] - 1s 4ms/step - loss: 0.5987 - accuracy: 0.7143\n",
            "3/3 [==============================] - 0s 7ms/step - loss: 0.5509 - accuracy: 0.7424\n",
            "25/25 [==============================] - 1s 3ms/step - loss: 0.6244 - accuracy: 0.6938\n",
            "3/3 [==============================] - 0s 6ms/step - loss: 0.6372 - accuracy: 0.6269\n",
            "25/25 [==============================] - 1s 2ms/step - loss: 0.6503 - accuracy: 0.6855\n",
            "3/3 [==============================] - 0s 5ms/step - loss: 0.5940 - accuracy: 0.7910\n",
            "25/25 [==============================] - 1s 2ms/step - loss: 0.6931 - accuracy: 0.6156\n",
            "3/3 [==============================] - 0s 5ms/step - loss: 0.6951 - accuracy: 0.5970\n",
            "25/25 [==============================] - 2s 2ms/step - loss: 0.6651 - accuracy: 0.6406\n",
            "3/3 [==============================] - 0s 5ms/step - loss: 0.6759 - accuracy: 0.6119\n",
            "25/25 [==============================] - 1s 2ms/step - loss: 0.7241 - accuracy: 0.4160\n",
            "3/3 [==============================] - 0s 5ms/step - loss: 0.6724 - accuracy: 0.6119\n",
            "25/25 [==============================] - 1s 2ms/step - loss: 0.7549 - accuracy: 0.4226\n",
            "3/3 [==============================] - 0s 5ms/step - loss: 0.7257 - accuracy: 0.4627\n",
            "25/25 [==============================] - 1s 2ms/step - loss: 0.6701 - accuracy: 0.5557\n",
            "3/3 [==============================] - 0s 6ms/step - loss: 0.6602 - accuracy: 0.6269\n",
            "25/25 [==============================] - 1s 3ms/step - loss: 0.7130 - accuracy: 0.4343\n",
            "3/3 [==============================] - 0s 5ms/step - loss: 0.7093 - accuracy: 0.3881\n",
            "25/25 [==============================] - 1s 4ms/step - loss: 0.6954 - accuracy: 0.6296\n",
            "3/3 [==============================] - 0s 6ms/step - loss: 0.6842 - accuracy: 0.5909\n",
            "25/25 [==============================] - 1s 3ms/step - loss: 0.7313 - accuracy: 0.5116\n",
            "3/3 [==============================] - 0s 5ms/step - loss: 0.7205 - accuracy: 0.5758\n",
            "25/25 [==============================] - 1s 3ms/step - loss: 0.7060 - accuracy: 0.4825\n",
            "3/3 [==============================] - 0s 6ms/step - loss: 0.6958 - accuracy: 0.5224\n",
            "25/25 [==============================] - 1s 2ms/step - loss: 0.7473 - accuracy: 0.3927\n",
            "3/3 [==============================] - 0s 6ms/step - loss: 0.6893 - accuracy: 0.4925\n",
            "25/25 [==============================] - 1s 2ms/step - loss: 0.7426 - accuracy: 0.3577\n",
            "3/3 [==============================] - 0s 6ms/step - loss: 0.7308 - accuracy: 0.3582\n",
            "25/25 [==============================] - 1s 2ms/step - loss: 0.7106 - accuracy: 0.6290\n",
            "3/3 [==============================] - 0s 6ms/step - loss: 0.7002 - accuracy: 0.6269\n",
            "25/25 [==============================] - 1s 2ms/step - loss: 0.6405 - accuracy: 0.6473\n",
            "3/3 [==============================] - 0s 5ms/step - loss: 0.6838 - accuracy: 0.5821\n",
            "25/25 [==============================] - 1s 2ms/step - loss: 0.7125 - accuracy: 0.5058\n",
            "3/3 [==============================] - 0s 5ms/step - loss: 0.6660 - accuracy: 0.6418\n",
            "25/25 [==============================] - 1s 2ms/step - loss: 0.6316 - accuracy: 0.7055\n",
            "3/3 [==============================] - 0s 5ms/step - loss: 0.5910 - accuracy: 0.7761\n",
            "25/25 [==============================] - 2s 5ms/step - loss: 0.6760 - accuracy: 0.5591\n",
            "3/3 [==============================] - 0s 5ms/step - loss: 0.6463 - accuracy: 0.6269\n",
            "25/25 [==============================] - 1s 3ms/step - loss: 0.6560 - accuracy: 0.6429\n",
            "3/3 [==============================] - 0s 5ms/step - loss: 0.5953 - accuracy: 0.7727\n",
            "25/25 [==============================] - 1s 3ms/step - loss: 0.6409 - accuracy: 0.6462\n",
            "3/3 [==============================] - 0s 6ms/step - loss: 0.6213 - accuracy: 0.6515\n",
            "67/67 [==============================] - 1s 3ms/step - loss: 0.6743 - accuracy: 0.5719\n"
          ]
        }
      ]
    },
    {
      "cell_type": "code",
      "source": [
        "\n",
        "best_params=gs.best_params_\n",
        "accuracy=gs.best_score_\n",
        "\n",
        "print(best_params)\n",
        "print(accuracy)"
      ],
      "metadata": {
        "colab": {
          "base_uri": "https://localhost:8080/"
        },
        "id": "ZsHFf9rM0WAY",
        "outputId": "896873cc-2e50-44c7-eab1-72bbdff4edcc"
      },
      "execution_count": 166,
      "outputs": [
        {
          "output_type": "stream",
          "name": "stdout",
          "text": [
            "{'batch_size': 10, 'nb_epoch': 200, 'unit': 24}\n",
            "0.702125746011734\n"
          ]
        }
      ]
    },
    {
      "cell_type": "code",
      "source": [
        "ann = keras.Sequential()\n",
        "ann.add(layers.Dense(12, input_dim=6, activation='relu'))\n",
        "ann.add(layers.Dense(units=24, activation='relu'))\n",
        "ann.add(layers.Dense(units=1, activation='sigmoid'))\n",
        "ann.compile(optimizer = 'adam', loss = 'binary_crossentropy', metrics = ['accuracy'])\n",
        "\n",
        "\n",
        "# Compiling the keras model\n",
        "ann.compile(loss='binary_crossentropy', optimizer='adam', metrics=['accuracy'])\n",
        "\n",
        "# Fitting the model\n",
        "an = ann.fit(X_train, Y_train, batch_size=10, epochs=125, \n",
        "           validation_data=(X_test, Y_test))\n",
        "     \n",
        "ann_scores = ann.evaluate(X_test, Y_test, verbose=0)\n",
        "print('\\n')\n",
        "print(\"Accuracy: %.2f%%\" % (ann_scores[1]*100))\n",
        "\n",
        "\n",
        "ann_scores_val_accuracy = an.history['val_accuracy'][-1] * 100\n",
        "print('\\n')\n",
        "print(\"Validation Score: %.2f%%\" % (ann_scores_val_accuracy))\n"
      ],
      "metadata": {
        "colab": {
          "base_uri": "https://localhost:8080/"
        },
        "id": "GLXzCbRJ50Op",
        "outputId": "a1186b55-066c-4a09-fb2a-2c0eba7a399e"
      },
      "execution_count": 167,
      "outputs": [
        {
          "output_type": "stream",
          "name": "stdout",
          "text": [
            "Epoch 1/125\n",
            "47/47 [==============================] - 1s 8ms/step - loss: 0.6441 - accuracy: 0.6296 - val_loss: 0.6137 - val_accuracy: 0.6965\n",
            "Epoch 2/125\n",
            "47/47 [==============================] - 0s 3ms/step - loss: 0.5875 - accuracy: 0.6938 - val_loss: 0.5633 - val_accuracy: 0.7313\n",
            "Epoch 3/125\n",
            "47/47 [==============================] - 0s 4ms/step - loss: 0.5429 - accuracy: 0.7388 - val_loss: 0.5224 - val_accuracy: 0.7612\n",
            "Epoch 4/125\n",
            "47/47 [==============================] - 0s 4ms/step - loss: 0.5133 - accuracy: 0.7645 - val_loss: 0.4949 - val_accuracy: 0.7861\n",
            "Epoch 5/125\n",
            "47/47 [==============================] - 0s 3ms/step - loss: 0.4977 - accuracy: 0.7645 - val_loss: 0.4797 - val_accuracy: 0.7711\n",
            "Epoch 6/125\n",
            "47/47 [==============================] - 0s 4ms/step - loss: 0.4881 - accuracy: 0.7687 - val_loss: 0.4718 - val_accuracy: 0.7711\n",
            "Epoch 7/125\n",
            "47/47 [==============================] - 0s 3ms/step - loss: 0.4828 - accuracy: 0.7687 - val_loss: 0.4678 - val_accuracy: 0.7811\n",
            "Epoch 8/125\n",
            "47/47 [==============================] - 0s 4ms/step - loss: 0.4798 - accuracy: 0.7666 - val_loss: 0.4636 - val_accuracy: 0.7811\n",
            "Epoch 9/125\n",
            "47/47 [==============================] - 0s 4ms/step - loss: 0.4754 - accuracy: 0.7709 - val_loss: 0.4619 - val_accuracy: 0.7811\n",
            "Epoch 10/125\n",
            "47/47 [==============================] - 0s 3ms/step - loss: 0.4738 - accuracy: 0.7709 - val_loss: 0.4588 - val_accuracy: 0.7811\n",
            "Epoch 11/125\n",
            "47/47 [==============================] - 0s 3ms/step - loss: 0.4710 - accuracy: 0.7730 - val_loss: 0.4588 - val_accuracy: 0.7811\n",
            "Epoch 12/125\n",
            "47/47 [==============================] - 0s 4ms/step - loss: 0.4685 - accuracy: 0.7752 - val_loss: 0.4576 - val_accuracy: 0.7811\n",
            "Epoch 13/125\n",
            "47/47 [==============================] - 0s 4ms/step - loss: 0.4674 - accuracy: 0.7709 - val_loss: 0.4580 - val_accuracy: 0.7811\n",
            "Epoch 14/125\n",
            "47/47 [==============================] - 0s 3ms/step - loss: 0.4646 - accuracy: 0.7752 - val_loss: 0.4573 - val_accuracy: 0.7811\n",
            "Epoch 15/125\n",
            "47/47 [==============================] - 0s 5ms/step - loss: 0.4632 - accuracy: 0.7816 - val_loss: 0.4597 - val_accuracy: 0.7811\n",
            "Epoch 16/125\n",
            "47/47 [==============================] - 0s 5ms/step - loss: 0.4614 - accuracy: 0.7837 - val_loss: 0.4574 - val_accuracy: 0.7811\n",
            "Epoch 17/125\n",
            "47/47 [==============================] - 0s 4ms/step - loss: 0.4599 - accuracy: 0.7859 - val_loss: 0.4577 - val_accuracy: 0.7811\n",
            "Epoch 18/125\n",
            "47/47 [==============================] - 0s 4ms/step - loss: 0.4600 - accuracy: 0.7859 - val_loss: 0.4578 - val_accuracy: 0.7761\n",
            "Epoch 19/125\n",
            "47/47 [==============================] - 0s 4ms/step - loss: 0.4575 - accuracy: 0.7816 - val_loss: 0.4564 - val_accuracy: 0.7811\n",
            "Epoch 20/125\n",
            "47/47 [==============================] - 0s 4ms/step - loss: 0.4553 - accuracy: 0.7837 - val_loss: 0.4610 - val_accuracy: 0.7711\n",
            "Epoch 21/125\n",
            "47/47 [==============================] - 0s 4ms/step - loss: 0.4553 - accuracy: 0.7901 - val_loss: 0.4593 - val_accuracy: 0.7811\n",
            "Epoch 22/125\n",
            "47/47 [==============================] - 0s 3ms/step - loss: 0.4535 - accuracy: 0.7837 - val_loss: 0.4595 - val_accuracy: 0.7662\n",
            "Epoch 23/125\n",
            "47/47 [==============================] - 0s 3ms/step - loss: 0.4516 - accuracy: 0.7837 - val_loss: 0.4581 - val_accuracy: 0.7761\n",
            "Epoch 24/125\n",
            "47/47 [==============================] - 0s 3ms/step - loss: 0.4501 - accuracy: 0.7837 - val_loss: 0.4614 - val_accuracy: 0.7761\n",
            "Epoch 25/125\n",
            "47/47 [==============================] - 0s 4ms/step - loss: 0.4494 - accuracy: 0.7880 - val_loss: 0.4582 - val_accuracy: 0.7761\n",
            "Epoch 26/125\n",
            "47/47 [==============================] - 0s 3ms/step - loss: 0.4487 - accuracy: 0.7901 - val_loss: 0.4625 - val_accuracy: 0.7662\n",
            "Epoch 27/125\n",
            "47/47 [==============================] - 0s 4ms/step - loss: 0.4476 - accuracy: 0.7923 - val_loss: 0.4582 - val_accuracy: 0.7761\n",
            "Epoch 28/125\n",
            "47/47 [==============================] - 0s 5ms/step - loss: 0.4459 - accuracy: 0.7859 - val_loss: 0.4601 - val_accuracy: 0.7711\n",
            "Epoch 29/125\n",
            "47/47 [==============================] - 0s 6ms/step - loss: 0.4458 - accuracy: 0.7880 - val_loss: 0.4615 - val_accuracy: 0.7662\n",
            "Epoch 30/125\n",
            "47/47 [==============================] - 0s 6ms/step - loss: 0.4443 - accuracy: 0.7944 - val_loss: 0.4595 - val_accuracy: 0.7662\n",
            "Epoch 31/125\n",
            "47/47 [==============================] - 0s 5ms/step - loss: 0.4427 - accuracy: 0.7944 - val_loss: 0.4606 - val_accuracy: 0.7711\n",
            "Epoch 32/125\n",
            "47/47 [==============================] - 0s 5ms/step - loss: 0.4435 - accuracy: 0.7923 - val_loss: 0.4638 - val_accuracy: 0.7612\n",
            "Epoch 33/125\n",
            "47/47 [==============================] - 0s 5ms/step - loss: 0.4413 - accuracy: 0.7966 - val_loss: 0.4648 - val_accuracy: 0.7711\n",
            "Epoch 34/125\n",
            "47/47 [==============================] - 0s 6ms/step - loss: 0.4414 - accuracy: 0.7966 - val_loss: 0.4660 - val_accuracy: 0.7662\n",
            "Epoch 35/125\n",
            "47/47 [==============================] - 0s 6ms/step - loss: 0.4400 - accuracy: 0.7944 - val_loss: 0.4651 - val_accuracy: 0.7711\n",
            "Epoch 36/125\n",
            "47/47 [==============================] - 0s 6ms/step - loss: 0.4388 - accuracy: 0.7987 - val_loss: 0.4663 - val_accuracy: 0.7761\n",
            "Epoch 37/125\n",
            "47/47 [==============================] - 0s 6ms/step - loss: 0.4390 - accuracy: 0.7987 - val_loss: 0.4649 - val_accuracy: 0.7711\n",
            "Epoch 38/125\n",
            "47/47 [==============================] - 0s 6ms/step - loss: 0.4379 - accuracy: 0.8030 - val_loss: 0.4669 - val_accuracy: 0.7662\n",
            "Epoch 39/125\n",
            "47/47 [==============================] - 0s 5ms/step - loss: 0.4369 - accuracy: 0.8051 - val_loss: 0.4654 - val_accuracy: 0.7761\n",
            "Epoch 40/125\n",
            "47/47 [==============================] - 0s 3ms/step - loss: 0.4364 - accuracy: 0.8030 - val_loss: 0.4663 - val_accuracy: 0.7711\n",
            "Epoch 41/125\n",
            "47/47 [==============================] - 0s 3ms/step - loss: 0.4344 - accuracy: 0.8009 - val_loss: 0.4692 - val_accuracy: 0.7612\n",
            "Epoch 42/125\n",
            "47/47 [==============================] - 0s 4ms/step - loss: 0.4340 - accuracy: 0.8051 - val_loss: 0.4684 - val_accuracy: 0.7662\n",
            "Epoch 43/125\n",
            "47/47 [==============================] - 0s 3ms/step - loss: 0.4329 - accuracy: 0.8030 - val_loss: 0.4696 - val_accuracy: 0.7612\n",
            "Epoch 44/125\n",
            "47/47 [==============================] - 0s 4ms/step - loss: 0.4322 - accuracy: 0.8051 - val_loss: 0.4692 - val_accuracy: 0.7662\n",
            "Epoch 45/125\n",
            "47/47 [==============================] - 0s 4ms/step - loss: 0.4330 - accuracy: 0.8073 - val_loss: 0.4689 - val_accuracy: 0.7662\n",
            "Epoch 46/125\n",
            "47/47 [==============================] - 0s 3ms/step - loss: 0.4306 - accuracy: 0.8051 - val_loss: 0.4682 - val_accuracy: 0.7562\n",
            "Epoch 47/125\n",
            "47/47 [==============================] - 0s 3ms/step - loss: 0.4304 - accuracy: 0.8073 - val_loss: 0.4724 - val_accuracy: 0.7612\n",
            "Epoch 48/125\n",
            "47/47 [==============================] - 0s 5ms/step - loss: 0.4281 - accuracy: 0.8094 - val_loss: 0.4710 - val_accuracy: 0.7512\n",
            "Epoch 49/125\n",
            "47/47 [==============================] - 0s 3ms/step - loss: 0.4281 - accuracy: 0.8073 - val_loss: 0.4691 - val_accuracy: 0.7662\n",
            "Epoch 50/125\n",
            "47/47 [==============================] - 0s 4ms/step - loss: 0.4268 - accuracy: 0.8158 - val_loss: 0.4757 - val_accuracy: 0.7413\n",
            "Epoch 51/125\n",
            "47/47 [==============================] - 0s 4ms/step - loss: 0.4252 - accuracy: 0.8051 - val_loss: 0.4724 - val_accuracy: 0.7612\n",
            "Epoch 52/125\n",
            "47/47 [==============================] - 0s 4ms/step - loss: 0.4245 - accuracy: 0.8116 - val_loss: 0.4733 - val_accuracy: 0.7612\n",
            "Epoch 53/125\n",
            "47/47 [==============================] - 0s 4ms/step - loss: 0.4237 - accuracy: 0.8073 - val_loss: 0.4741 - val_accuracy: 0.7662\n",
            "Epoch 54/125\n",
            "47/47 [==============================] - 0s 3ms/step - loss: 0.4231 - accuracy: 0.8094 - val_loss: 0.4752 - val_accuracy: 0.7562\n",
            "Epoch 55/125\n",
            "47/47 [==============================] - 0s 4ms/step - loss: 0.4217 - accuracy: 0.8094 - val_loss: 0.4745 - val_accuracy: 0.7612\n",
            "Epoch 56/125\n",
            "47/47 [==============================] - 0s 5ms/step - loss: 0.4224 - accuracy: 0.8116 - val_loss: 0.4756 - val_accuracy: 0.7662\n",
            "Epoch 57/125\n",
            "47/47 [==============================] - 0s 5ms/step - loss: 0.4197 - accuracy: 0.8073 - val_loss: 0.4778 - val_accuracy: 0.7463\n",
            "Epoch 58/125\n",
            "47/47 [==============================] - 0s 5ms/step - loss: 0.4197 - accuracy: 0.8094 - val_loss: 0.4800 - val_accuracy: 0.7512\n",
            "Epoch 59/125\n",
            "47/47 [==============================] - 0s 3ms/step - loss: 0.4182 - accuracy: 0.8137 - val_loss: 0.4805 - val_accuracy: 0.7562\n",
            "Epoch 60/125\n",
            "47/47 [==============================] - 0s 4ms/step - loss: 0.4177 - accuracy: 0.8180 - val_loss: 0.4801 - val_accuracy: 0.7662\n",
            "Epoch 61/125\n",
            "47/47 [==============================] - 0s 5ms/step - loss: 0.4174 - accuracy: 0.8073 - val_loss: 0.4816 - val_accuracy: 0.7612\n",
            "Epoch 62/125\n",
            "47/47 [==============================] - 0s 4ms/step - loss: 0.4145 - accuracy: 0.8158 - val_loss: 0.4789 - val_accuracy: 0.7612\n",
            "Epoch 63/125\n",
            "47/47 [==============================] - 0s 4ms/step - loss: 0.4155 - accuracy: 0.8180 - val_loss: 0.4853 - val_accuracy: 0.7612\n",
            "Epoch 64/125\n",
            "47/47 [==============================] - 0s 4ms/step - loss: 0.4125 - accuracy: 0.8201 - val_loss: 0.4858 - val_accuracy: 0.7612\n",
            "Epoch 65/125\n",
            "47/47 [==============================] - 0s 4ms/step - loss: 0.4114 - accuracy: 0.8180 - val_loss: 0.4846 - val_accuracy: 0.7612\n",
            "Epoch 66/125\n",
            "47/47 [==============================] - 0s 4ms/step - loss: 0.4112 - accuracy: 0.8180 - val_loss: 0.4833 - val_accuracy: 0.7612\n",
            "Epoch 67/125\n",
            "47/47 [==============================] - 0s 4ms/step - loss: 0.4094 - accuracy: 0.8180 - val_loss: 0.4861 - val_accuracy: 0.7612\n",
            "Epoch 68/125\n",
            "47/47 [==============================] - 0s 5ms/step - loss: 0.4091 - accuracy: 0.8223 - val_loss: 0.4866 - val_accuracy: 0.7711\n",
            "Epoch 69/125\n",
            "47/47 [==============================] - 0s 3ms/step - loss: 0.4081 - accuracy: 0.8201 - val_loss: 0.4887 - val_accuracy: 0.7612\n",
            "Epoch 70/125\n",
            "47/47 [==============================] - 0s 4ms/step - loss: 0.4087 - accuracy: 0.8244 - val_loss: 0.4882 - val_accuracy: 0.7662\n",
            "Epoch 71/125\n",
            "47/47 [==============================] - 0s 5ms/step - loss: 0.4059 - accuracy: 0.8158 - val_loss: 0.4923 - val_accuracy: 0.7612\n",
            "Epoch 72/125\n",
            "47/47 [==============================] - 0s 4ms/step - loss: 0.4052 - accuracy: 0.8244 - val_loss: 0.4879 - val_accuracy: 0.7711\n",
            "Epoch 73/125\n",
            "47/47 [==============================] - 0s 4ms/step - loss: 0.4042 - accuracy: 0.8180 - val_loss: 0.4894 - val_accuracy: 0.7711\n",
            "Epoch 74/125\n",
            "47/47 [==============================] - 0s 4ms/step - loss: 0.4016 - accuracy: 0.8180 - val_loss: 0.4907 - val_accuracy: 0.7662\n",
            "Epoch 75/125\n",
            "47/47 [==============================] - 0s 3ms/step - loss: 0.4021 - accuracy: 0.8244 - val_loss: 0.4931 - val_accuracy: 0.7761\n",
            "Epoch 76/125\n",
            "47/47 [==============================] - 0s 4ms/step - loss: 0.3992 - accuracy: 0.8223 - val_loss: 0.4927 - val_accuracy: 0.7662\n",
            "Epoch 77/125\n",
            "47/47 [==============================] - 0s 4ms/step - loss: 0.3992 - accuracy: 0.8180 - val_loss: 0.4934 - val_accuracy: 0.7811\n",
            "Epoch 78/125\n",
            "47/47 [==============================] - 0s 4ms/step - loss: 0.3984 - accuracy: 0.8223 - val_loss: 0.4964 - val_accuracy: 0.7711\n",
            "Epoch 79/125\n",
            "47/47 [==============================] - 0s 4ms/step - loss: 0.3963 - accuracy: 0.8223 - val_loss: 0.4981 - val_accuracy: 0.7711\n",
            "Epoch 80/125\n",
            "47/47 [==============================] - 0s 5ms/step - loss: 0.3952 - accuracy: 0.8223 - val_loss: 0.5011 - val_accuracy: 0.7612\n",
            "Epoch 81/125\n",
            "47/47 [==============================] - 0s 4ms/step - loss: 0.3923 - accuracy: 0.8201 - val_loss: 0.4956 - val_accuracy: 0.7711\n",
            "Epoch 82/125\n",
            "47/47 [==============================] - 0s 4ms/step - loss: 0.3924 - accuracy: 0.8244 - val_loss: 0.5035 - val_accuracy: 0.7662\n",
            "Epoch 83/125\n",
            "47/47 [==============================] - 0s 4ms/step - loss: 0.3908 - accuracy: 0.8244 - val_loss: 0.5068 - val_accuracy: 0.7612\n",
            "Epoch 84/125\n",
            "47/47 [==============================] - 0s 4ms/step - loss: 0.3901 - accuracy: 0.8287 - val_loss: 0.5082 - val_accuracy: 0.7562\n",
            "Epoch 85/125\n",
            "47/47 [==============================] - 0s 4ms/step - loss: 0.3895 - accuracy: 0.8287 - val_loss: 0.5119 - val_accuracy: 0.7711\n",
            "Epoch 86/125\n",
            "47/47 [==============================] - 0s 4ms/step - loss: 0.3872 - accuracy: 0.8266 - val_loss: 0.5093 - val_accuracy: 0.7662\n",
            "Epoch 87/125\n",
            "47/47 [==============================] - 0s 3ms/step - loss: 0.3856 - accuracy: 0.8287 - val_loss: 0.5172 - val_accuracy: 0.7562\n",
            "Epoch 88/125\n",
            "47/47 [==============================] - 0s 4ms/step - loss: 0.3841 - accuracy: 0.8266 - val_loss: 0.5193 - val_accuracy: 0.7562\n",
            "Epoch 89/125\n",
            "47/47 [==============================] - 0s 4ms/step - loss: 0.3834 - accuracy: 0.8308 - val_loss: 0.5200 - val_accuracy: 0.7562\n",
            "Epoch 90/125\n",
            "47/47 [==============================] - 0s 6ms/step - loss: 0.3826 - accuracy: 0.8244 - val_loss: 0.5215 - val_accuracy: 0.7612\n",
            "Epoch 91/125\n",
            "47/47 [==============================] - 0s 6ms/step - loss: 0.3806 - accuracy: 0.8330 - val_loss: 0.5254 - val_accuracy: 0.7562\n",
            "Epoch 92/125\n",
            "47/47 [==============================] - 0s 6ms/step - loss: 0.3800 - accuracy: 0.8287 - val_loss: 0.5257 - val_accuracy: 0.7413\n",
            "Epoch 93/125\n",
            "47/47 [==============================] - 0s 6ms/step - loss: 0.3803 - accuracy: 0.8266 - val_loss: 0.5316 - val_accuracy: 0.7463\n",
            "Epoch 94/125\n",
            "47/47 [==============================] - 0s 6ms/step - loss: 0.3776 - accuracy: 0.8308 - val_loss: 0.5280 - val_accuracy: 0.7463\n",
            "Epoch 95/125\n",
            "47/47 [==============================] - 0s 5ms/step - loss: 0.3757 - accuracy: 0.8308 - val_loss: 0.5310 - val_accuracy: 0.7463\n",
            "Epoch 96/125\n",
            "47/47 [==============================] - 0s 5ms/step - loss: 0.3753 - accuracy: 0.8308 - val_loss: 0.5364 - val_accuracy: 0.7512\n",
            "Epoch 97/125\n",
            "47/47 [==============================] - 0s 5ms/step - loss: 0.3768 - accuracy: 0.8308 - val_loss: 0.5372 - val_accuracy: 0.7463\n",
            "Epoch 98/125\n",
            "47/47 [==============================] - 0s 5ms/step - loss: 0.3731 - accuracy: 0.8330 - val_loss: 0.5354 - val_accuracy: 0.7512\n",
            "Epoch 99/125\n",
            "47/47 [==============================] - 0s 6ms/step - loss: 0.3716 - accuracy: 0.8330 - val_loss: 0.5421 - val_accuracy: 0.7512\n",
            "Epoch 100/125\n",
            "47/47 [==============================] - 0s 5ms/step - loss: 0.3700 - accuracy: 0.8287 - val_loss: 0.5445 - val_accuracy: 0.7463\n",
            "Epoch 101/125\n",
            "47/47 [==============================] - 0s 4ms/step - loss: 0.3691 - accuracy: 0.8308 - val_loss: 0.5486 - val_accuracy: 0.7463\n",
            "Epoch 102/125\n",
            "47/47 [==============================] - 0s 4ms/step - loss: 0.3686 - accuracy: 0.8351 - val_loss: 0.5462 - val_accuracy: 0.7413\n",
            "Epoch 103/125\n",
            "47/47 [==============================] - 0s 4ms/step - loss: 0.3667 - accuracy: 0.8308 - val_loss: 0.5442 - val_accuracy: 0.7512\n",
            "Epoch 104/125\n",
            "47/47 [==============================] - 0s 4ms/step - loss: 0.3711 - accuracy: 0.8330 - val_loss: 0.5508 - val_accuracy: 0.7463\n",
            "Epoch 105/125\n",
            "47/47 [==============================] - 0s 4ms/step - loss: 0.3660 - accuracy: 0.8287 - val_loss: 0.5532 - val_accuracy: 0.7463\n",
            "Epoch 106/125\n",
            "47/47 [==============================] - 0s 5ms/step - loss: 0.3642 - accuracy: 0.8373 - val_loss: 0.5581 - val_accuracy: 0.7413\n",
            "Epoch 107/125\n",
            "47/47 [==============================] - 0s 5ms/step - loss: 0.3632 - accuracy: 0.8351 - val_loss: 0.5556 - val_accuracy: 0.7413\n",
            "Epoch 108/125\n",
            "47/47 [==============================] - 0s 5ms/step - loss: 0.3622 - accuracy: 0.8394 - val_loss: 0.5574 - val_accuracy: 0.7413\n",
            "Epoch 109/125\n",
            "47/47 [==============================] - 0s 5ms/step - loss: 0.3614 - accuracy: 0.8394 - val_loss: 0.5556 - val_accuracy: 0.7463\n",
            "Epoch 110/125\n",
            "47/47 [==============================] - 0s 4ms/step - loss: 0.3604 - accuracy: 0.8437 - val_loss: 0.5585 - val_accuracy: 0.7363\n",
            "Epoch 111/125\n",
            "47/47 [==============================] - 0s 4ms/step - loss: 0.3608 - accuracy: 0.8458 - val_loss: 0.5655 - val_accuracy: 0.7463\n",
            "Epoch 112/125\n",
            "47/47 [==============================] - 0s 4ms/step - loss: 0.3576 - accuracy: 0.8415 - val_loss: 0.5672 - val_accuracy: 0.7363\n",
            "Epoch 113/125\n",
            "47/47 [==============================] - 0s 5ms/step - loss: 0.3574 - accuracy: 0.8394 - val_loss: 0.5739 - val_accuracy: 0.7413\n",
            "Epoch 114/125\n",
            "47/47 [==============================] - 0s 4ms/step - loss: 0.3565 - accuracy: 0.8458 - val_loss: 0.5696 - val_accuracy: 0.7413\n",
            "Epoch 115/125\n",
            "47/47 [==============================] - 0s 4ms/step - loss: 0.3546 - accuracy: 0.8501 - val_loss: 0.5755 - val_accuracy: 0.7313\n",
            "Epoch 116/125\n",
            "47/47 [==============================] - 0s 4ms/step - loss: 0.3552 - accuracy: 0.8458 - val_loss: 0.5764 - val_accuracy: 0.7363\n",
            "Epoch 117/125\n",
            "47/47 [==============================] - 0s 4ms/step - loss: 0.3535 - accuracy: 0.8437 - val_loss: 0.5745 - val_accuracy: 0.7413\n",
            "Epoch 118/125\n",
            "47/47 [==============================] - 0s 4ms/step - loss: 0.3520 - accuracy: 0.8501 - val_loss: 0.5795 - val_accuracy: 0.7313\n",
            "Epoch 119/125\n",
            "47/47 [==============================] - 0s 4ms/step - loss: 0.3511 - accuracy: 0.8458 - val_loss: 0.5799 - val_accuracy: 0.7313\n",
            "Epoch 120/125\n",
            "47/47 [==============================] - 0s 4ms/step - loss: 0.3520 - accuracy: 0.8480 - val_loss: 0.5825 - val_accuracy: 0.7313\n",
            "Epoch 121/125\n",
            "47/47 [==============================] - 0s 4ms/step - loss: 0.3498 - accuracy: 0.8522 - val_loss: 0.5888 - val_accuracy: 0.7363\n",
            "Epoch 122/125\n",
            "47/47 [==============================] - 0s 4ms/step - loss: 0.3493 - accuracy: 0.8480 - val_loss: 0.5879 - val_accuracy: 0.7413\n",
            "Epoch 123/125\n",
            "47/47 [==============================] - 0s 5ms/step - loss: 0.3502 - accuracy: 0.8437 - val_loss: 0.5911 - val_accuracy: 0.7313\n",
            "Epoch 124/125\n",
            "47/47 [==============================] - 0s 4ms/step - loss: 0.3467 - accuracy: 0.8501 - val_loss: 0.5969 - val_accuracy: 0.7413\n",
            "Epoch 125/125\n",
            "47/47 [==============================] - 0s 4ms/step - loss: 0.3489 - accuracy: 0.8480 - val_loss: 0.5902 - val_accuracy: 0.7363\n",
            "\n",
            "\n",
            "Accuracy: 73.63%\n",
            "\n",
            "\n",
            "Validation Score: 73.63%\n"
          ]
        }
      ]
    },
    {
      "cell_type": "markdown",
      "source": [
        "# Prediction of Test Dataset\n"
      ],
      "metadata": {
        "id": "1Vf79FXkg_4x"
      }
    },
    {
      "cell_type": "markdown",
      "source": [
        "## M3\n"
      ],
      "metadata": {
        "id": "7Xsz6uwoFTzn"
      }
    },
    {
      "cell_type": "code",
      "source": [
        "# Loading of Test Dataset and displaying the first 5 rows\n",
        "\n",
        "df_Test = pd.read_csv('https://raw.githubusercontent.com/harishahamed26/Diabetes_Prediction_Using_Neural_Network/main/data/test.csv')\n",
        "df_Test.head(5)"
      ],
      "metadata": {
        "colab": {
          "base_uri": "https://localhost:8080/",
          "height": 206
        },
        "id": "aA-Bg94IhEXv",
        "outputId": "df561799-27af-435f-8662-d93a5ebe0748"
      },
      "execution_count": 143,
      "outputs": [
        {
          "output_type": "execute_result",
          "data": {
            "text/plain": [
              "   id  A1   A2   A3  A4   A5    A6     A7  A8\n",
              "0   1   6   98   58  33  190  34.0  0.430  43\n",
              "1   2   9  154   78  30  100  30.9  0.164  45\n",
              "2   3   6  165   68  26  168  33.6  0.631  49\n",
              "3   4   1   99   58  10    0  25.4  0.551  21\n",
              "4   5  10   68  106  23   49  35.5  0.285  47"
            ],
            "text/html": [
              "\n",
              "  <div id=\"df-8a68243b-7efe-4656-9fb1-59d192024e49\">\n",
              "    <div class=\"colab-df-container\">\n",
              "      <div>\n",
              "<style scoped>\n",
              "    .dataframe tbody tr th:only-of-type {\n",
              "        vertical-align: middle;\n",
              "    }\n",
              "\n",
              "    .dataframe tbody tr th {\n",
              "        vertical-align: top;\n",
              "    }\n",
              "\n",
              "    .dataframe thead th {\n",
              "        text-align: right;\n",
              "    }\n",
              "</style>\n",
              "<table border=\"1\" class=\"dataframe\">\n",
              "  <thead>\n",
              "    <tr style=\"text-align: right;\">\n",
              "      <th></th>\n",
              "      <th>id</th>\n",
              "      <th>A1</th>\n",
              "      <th>A2</th>\n",
              "      <th>A3</th>\n",
              "      <th>A4</th>\n",
              "      <th>A5</th>\n",
              "      <th>A6</th>\n",
              "      <th>A7</th>\n",
              "      <th>A8</th>\n",
              "    </tr>\n",
              "  </thead>\n",
              "  <tbody>\n",
              "    <tr>\n",
              "      <th>0</th>\n",
              "      <td>1</td>\n",
              "      <td>6</td>\n",
              "      <td>98</td>\n",
              "      <td>58</td>\n",
              "      <td>33</td>\n",
              "      <td>190</td>\n",
              "      <td>34.0</td>\n",
              "      <td>0.430</td>\n",
              "      <td>43</td>\n",
              "    </tr>\n",
              "    <tr>\n",
              "      <th>1</th>\n",
              "      <td>2</td>\n",
              "      <td>9</td>\n",
              "      <td>154</td>\n",
              "      <td>78</td>\n",
              "      <td>30</td>\n",
              "      <td>100</td>\n",
              "      <td>30.9</td>\n",
              "      <td>0.164</td>\n",
              "      <td>45</td>\n",
              "    </tr>\n",
              "    <tr>\n",
              "      <th>2</th>\n",
              "      <td>3</td>\n",
              "      <td>6</td>\n",
              "      <td>165</td>\n",
              "      <td>68</td>\n",
              "      <td>26</td>\n",
              "      <td>168</td>\n",
              "      <td>33.6</td>\n",
              "      <td>0.631</td>\n",
              "      <td>49</td>\n",
              "    </tr>\n",
              "    <tr>\n",
              "      <th>3</th>\n",
              "      <td>4</td>\n",
              "      <td>1</td>\n",
              "      <td>99</td>\n",
              "      <td>58</td>\n",
              "      <td>10</td>\n",
              "      <td>0</td>\n",
              "      <td>25.4</td>\n",
              "      <td>0.551</td>\n",
              "      <td>21</td>\n",
              "    </tr>\n",
              "    <tr>\n",
              "      <th>4</th>\n",
              "      <td>5</td>\n",
              "      <td>10</td>\n",
              "      <td>68</td>\n",
              "      <td>106</td>\n",
              "      <td>23</td>\n",
              "      <td>49</td>\n",
              "      <td>35.5</td>\n",
              "      <td>0.285</td>\n",
              "      <td>47</td>\n",
              "    </tr>\n",
              "  </tbody>\n",
              "</table>\n",
              "</div>\n",
              "      <button class=\"colab-df-convert\" onclick=\"convertToInteractive('df-8a68243b-7efe-4656-9fb1-59d192024e49')\"\n",
              "              title=\"Convert this dataframe to an interactive table.\"\n",
              "              style=\"display:none;\">\n",
              "        \n",
              "  <svg xmlns=\"http://www.w3.org/2000/svg\" height=\"24px\"viewBox=\"0 0 24 24\"\n",
              "       width=\"24px\">\n",
              "    <path d=\"M0 0h24v24H0V0z\" fill=\"none\"/>\n",
              "    <path d=\"M18.56 5.44l.94 2.06.94-2.06 2.06-.94-2.06-.94-.94-2.06-.94 2.06-2.06.94zm-11 1L8.5 8.5l.94-2.06 2.06-.94-2.06-.94L8.5 2.5l-.94 2.06-2.06.94zm10 10l.94 2.06.94-2.06 2.06-.94-2.06-.94-.94-2.06-.94 2.06-2.06.94z\"/><path d=\"M17.41 7.96l-1.37-1.37c-.4-.4-.92-.59-1.43-.59-.52 0-1.04.2-1.43.59L10.3 9.45l-7.72 7.72c-.78.78-.78 2.05 0 2.83L4 21.41c.39.39.9.59 1.41.59.51 0 1.02-.2 1.41-.59l7.78-7.78 2.81-2.81c.8-.78.8-2.07 0-2.86zM5.41 20L4 18.59l7.72-7.72 1.47 1.35L5.41 20z\"/>\n",
              "  </svg>\n",
              "      </button>\n",
              "      \n",
              "  <style>\n",
              "    .colab-df-container {\n",
              "      display:flex;\n",
              "      flex-wrap:wrap;\n",
              "      gap: 12px;\n",
              "    }\n",
              "\n",
              "    .colab-df-convert {\n",
              "      background-color: #E8F0FE;\n",
              "      border: none;\n",
              "      border-radius: 50%;\n",
              "      cursor: pointer;\n",
              "      display: none;\n",
              "      fill: #1967D2;\n",
              "      height: 32px;\n",
              "      padding: 0 0 0 0;\n",
              "      width: 32px;\n",
              "    }\n",
              "\n",
              "    .colab-df-convert:hover {\n",
              "      background-color: #E2EBFA;\n",
              "      box-shadow: 0px 1px 2px rgba(60, 64, 67, 0.3), 0px 1px 3px 1px rgba(60, 64, 67, 0.15);\n",
              "      fill: #174EA6;\n",
              "    }\n",
              "\n",
              "    [theme=dark] .colab-df-convert {\n",
              "      background-color: #3B4455;\n",
              "      fill: #D2E3FC;\n",
              "    }\n",
              "\n",
              "    [theme=dark] .colab-df-convert:hover {\n",
              "      background-color: #434B5C;\n",
              "      box-shadow: 0px 1px 3px 1px rgba(0, 0, 0, 0.15);\n",
              "      filter: drop-shadow(0px 1px 2px rgba(0, 0, 0, 0.3));\n",
              "      fill: #FFFFFF;\n",
              "    }\n",
              "  </style>\n",
              "\n",
              "      <script>\n",
              "        const buttonEl =\n",
              "          document.querySelector('#df-8a68243b-7efe-4656-9fb1-59d192024e49 button.colab-df-convert');\n",
              "        buttonEl.style.display =\n",
              "          google.colab.kernel.accessAllowed ? 'block' : 'none';\n",
              "\n",
              "        async function convertToInteractive(key) {\n",
              "          const element = document.querySelector('#df-8a68243b-7efe-4656-9fb1-59d192024e49');\n",
              "          const dataTable =\n",
              "            await google.colab.kernel.invokeFunction('convertToInteractive',\n",
              "                                                     [key], {});\n",
              "          if (!dataTable) return;\n",
              "\n",
              "          const docLinkHtml = 'Like what you see? Visit the ' +\n",
              "            '<a target=\"_blank\" href=https://colab.research.google.com/notebooks/data_table.ipynb>data table notebook</a>'\n",
              "            + ' to learn more about interactive tables.';\n",
              "          element.innerHTML = '';\n",
              "          dataTable['output_type'] = 'display_data';\n",
              "          await google.colab.output.renderOutput(dataTable, element);\n",
              "          const docLink = document.createElement('div');\n",
              "          docLink.innerHTML = docLinkHtml;\n",
              "          element.appendChild(docLink);\n",
              "        }\n",
              "      </script>\n",
              "    </div>\n",
              "  </div>\n",
              "  "
            ]
          },
          "metadata": {},
          "execution_count": 143
        }
      ]
    },
    {
      "cell_type": "code",
      "source": [
        "m3_predict = df_Test.copy()\n",
        "m3_predict.drop(['A1', 'A2', 'A3', 'A4', 'A5', 'A6', 'A7', 'A8'], axis = 1, inplace = True  )\n",
        "df_Test.drop('id', axis = 1, inplace = True)"
      ],
      "metadata": {
        "id": "YBdysf70F6SL"
      },
      "execution_count": 144,
      "outputs": []
    },
    {
      "cell_type": "code",
      "source": [
        "x = df_Test.iloc[:,  [1,5,7,6,0,2]]\n",
        "scaler = StandardScaler()\n",
        "x =  scaler.fit_transform(x)\n",
        "\n",
        "predict = model3.predict(x)\n"
      ],
      "metadata": {
        "colab": {
          "base_uri": "https://localhost:8080/"
        },
        "id": "5foP6KO2FuaT",
        "outputId": "b2745603-629a-432c-ab8e-61caef3b14e1"
      },
      "execution_count": 145,
      "outputs": [
        {
          "output_type": "stream",
          "name": "stdout",
          "text": [
            "4/4 [==============================] - 0s 3ms/step\n"
          ]
        }
      ]
    },
    {
      "cell_type": "code",
      "source": [
        "m3_predict['prediction'] = [1 if pred > 0.5 else 0 for pred in predict]\n",
        "print(m3_predict['prediction'])"
      ],
      "metadata": {
        "colab": {
          "base_uri": "https://localhost:8080/"
        },
        "id": "9qLxwCERGON9",
        "outputId": "862cbc0a-8e7a-45db-bc1f-f5fe72cdbd23"
      },
      "execution_count": 146,
      "outputs": [
        {
          "output_type": "stream",
          "name": "stdout",
          "text": [
            "0     0\n",
            "1     1\n",
            "2     1\n",
            "3     0\n",
            "4     0\n",
            "     ..\n",
            "95    0\n",
            "96    0\n",
            "97    0\n",
            "98    0\n",
            "99    0\n",
            "Name: prediction, Length: 100, dtype: int64\n"
          ]
        }
      ]
    },
    {
      "cell_type": "code",
      "source": [
        "# To convert the prediction values into Json file\n",
        "\n",
        "data = []\n",
        "for index, row in m3_predict.iterrows():\n",
        "    data.append({'id': int(row['id']), 'prediction': int(row['prediction'])})\n",
        "\n",
        "submission_file_path = \"submission_m3.json\"\n",
        "with open(submission_file_path, 'w') as fp:\n",
        "    fp.write('\\n'.join(json.dumps(i) for i in data))"
      ],
      "metadata": {
        "id": "aZwJ59ZNGlf3"
      },
      "execution_count": 147,
      "outputs": []
    },
    {
      "cell_type": "markdown",
      "source": [
        "# Cross validation"
      ],
      "metadata": {
        "id": "jBIe8wkak2LG"
      }
    },
    {
      "cell_type": "markdown",
      "source": [
        "## M3\n"
      ],
      "metadata": {
        "id": "zCz3K3_t-6bK"
      }
    },
    {
      "cell_type": "code",
      "source": [
        "x = df_Train.iloc[:,  [1,5,7,6,0,2]]\n",
        "scaler = StandardScaler()\n",
        "x =  scaler.fit_transform(x)\n",
        "\n",
        "\n",
        "predict_Test = model3.predict(x)\n"
      ],
      "metadata": {
        "colab": {
          "base_uri": "https://localhost:8080/"
        },
        "id": "sSIrFhMek9yj",
        "outputId": "a9767903-ac77-438b-c281-0aa2c478262c"
      },
      "execution_count": 110,
      "outputs": [
        {
          "output_type": "stream",
          "name": "stdout",
          "text": [
            "21/21 [==============================] - 0s 1ms/step\n"
          ]
        }
      ]
    },
    {
      "cell_type": "code",
      "source": [
        "test = [1 if pred > 0.5 else 0 for pred in predict_Test]\n",
        "test[0:10]"
      ],
      "metadata": {
        "colab": {
          "base_uri": "https://localhost:8080/"
        },
        "id": "KCjIDjRYlCWd",
        "outputId": "a20a9d69-2ae3-4055-bc44-6af820123314"
      },
      "execution_count": 111,
      "outputs": [
        {
          "output_type": "execute_result",
          "data": {
            "text/plain": [
              "[1, 0, 1, 0, 1, 0, 0, 1, 1, 0]"
            ]
          },
          "metadata": {},
          "execution_count": 111
        }
      ]
    },
    {
      "cell_type": "code",
      "source": [
        "test1 = df_Train['class']\n",
        "test1[0:10]"
      ],
      "metadata": {
        "colab": {
          "base_uri": "https://localhost:8080/"
        },
        "id": "1vInInCklObG",
        "outputId": "9bbb27a9-7aec-4796-fdbd-e0f029c6642e"
      },
      "execution_count": 112,
      "outputs": [
        {
          "output_type": "execute_result",
          "data": {
            "text/plain": [
              "0    1\n",
              "1    0\n",
              "2    1\n",
              "3    0\n",
              "4    1\n",
              "5    0\n",
              "6    1\n",
              "7    0\n",
              "8    1\n",
              "9    1\n",
              "Name: class, dtype: int64"
            ]
          },
          "metadata": {},
          "execution_count": 112
        }
      ]
    },
    {
      "cell_type": "code",
      "source": [
        "\n",
        "from math import sqrt\n",
        "from sklearn.metrics import mean_squared_error\n",
        "\n",
        " \n",
        "MSE = np.square(np.subtract(test1,test)).mean() \n",
        " \n",
        "RMSE = sqrt(MSE)\n",
        "print(MSE, RMSE)\n",
        "from sklearn.metrics import accuracy_score\n",
        "print(f'accuracy {accuracy_score(test1,test)}') "
      ],
      "metadata": {
        "colab": {
          "base_uri": "https://localhost:8080/"
        },
        "id": "h-vE4MvQl-44",
        "outputId": "2fa235cc-26b7-4b33-8d07-2edea5f3f5d1"
      },
      "execution_count": 113,
      "outputs": [
        {
          "output_type": "stream",
          "name": "stdout",
          "text": [
            "0.2275449101796407 0.4770166770456152\n",
            "accuracy 0.7724550898203593\n"
          ]
        }
      ]
    },
    {
      "cell_type": "markdown",
      "source": [
        "## M4\n"
      ],
      "metadata": {
        "id": "de3ZHDFn_AhQ"
      }
    },
    {
      "cell_type": "code",
      "source": [
        "x_m4 = df_Train.iloc[:,  0:8]\n",
        "scaler = StandardScaler()\n",
        "x_m4 =  scaler.fit_transform(x)\n",
        "\n",
        "\n",
        "predict_Test_m4 = model4.predict(x)\n"
      ],
      "metadata": {
        "colab": {
          "base_uri": "https://localhost:8080/"
        },
        "id": "Ngj8CFjM_Du8",
        "outputId": "cbf87665-2a1b-4a6f-fbd0-fabdaee32845"
      },
      "execution_count": 118,
      "outputs": [
        {
          "output_type": "stream",
          "name": "stdout",
          "text": [
            "21/21 [==============================] - 0s 2ms/step\n"
          ]
        }
      ]
    },
    {
      "cell_type": "code",
      "source": [
        "test_m4 = [1 if pred > 0.5 else 0 for pred in predict_Test_m4]\n",
        "test_m4[0:10]"
      ],
      "metadata": {
        "colab": {
          "base_uri": "https://localhost:8080/"
        },
        "id": "iOd6Yd5f_MRz",
        "outputId": "c454db77-a4c8-44b1-d202-8e77b4eaa7d8"
      },
      "execution_count": 119,
      "outputs": [
        {
          "output_type": "execute_result",
          "data": {
            "text/plain": [
              "[1, 0, 1, 0, 1, 0, 0, 0, 1, 0]"
            ]
          },
          "metadata": {},
          "execution_count": 119
        }
      ]
    },
    {
      "cell_type": "code",
      "source": [
        "test1_m4 = df_Train['class']\n",
        "test1_m4[0:10]"
      ],
      "metadata": {
        "colab": {
          "base_uri": "https://localhost:8080/"
        },
        "id": "XQNtPnIM_N0P",
        "outputId": "84861ea2-685f-4422-9408-af817717aa54"
      },
      "execution_count": 120,
      "outputs": [
        {
          "output_type": "execute_result",
          "data": {
            "text/plain": [
              "0    1\n",
              "1    0\n",
              "2    1\n",
              "3    0\n",
              "4    1\n",
              "5    0\n",
              "6    1\n",
              "7    0\n",
              "8    1\n",
              "9    1\n",
              "Name: class, dtype: int64"
            ]
          },
          "metadata": {},
          "execution_count": 120
        }
      ]
    },
    {
      "cell_type": "code",
      "source": [
        "\n",
        "from math import sqrt\n",
        "from sklearn.metrics import mean_squared_error\n",
        "\n",
        " \n",
        "MSE = np.square(np.subtract(test1_m4,test_m4)).mean() \n",
        " \n",
        "RMSE = sqrt(MSE)\n",
        "print(MSE, RMSE)\n",
        "from sklearn.metrics import accuracy_score\n",
        "print(f'accuracy {accuracy_score(test1_m4,test_m4)}') "
      ],
      "metadata": {
        "colab": {
          "base_uri": "https://localhost:8080/"
        },
        "id": "mzyW1GLc_QpP",
        "outputId": "9b7b0067-60e0-45dc-b4d7-c503d4117f31"
      },
      "execution_count": 121,
      "outputs": [
        {
          "output_type": "stream",
          "name": "stdout",
          "text": [
            "0.3398203592814371 0.582941128486777\n",
            "accuracy 0.6601796407185628\n"
          ]
        }
      ]
    }
  ]
}